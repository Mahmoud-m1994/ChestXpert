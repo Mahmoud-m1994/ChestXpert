{
 "cells": [
  {
   "cell_type": "markdown",
   "id": "c6f871d393e2c072",
   "metadata": {},
   "source": [
    "### Step 1: Load data"
   ]
  },
  {
   "cell_type": "code",
   "execution_count": 1,
   "id": "initial_id",
   "metadata": {
    "ExecuteTime": {
     "end_time": "2024-11-10T15:03:30.327388Z",
     "start_time": "2024-11-10T15:03:30.057782Z"
    }
   },
   "outputs": [],
   "source": [
    "import os\n",
    "import torch\n",
    "import torch.nn as nn\n",
    "import numpy as np\n",
    "import pandas as pd\n",
    "from matplotlib import pyplot as plt\n",
    "from torchvision import transforms, models\n",
    "from torch.utils.data import DataLoader\n",
    "from ChestXRayDataset import ChestXRayDataset\n",
    "from skmultilearn.model_selection import IterativeStratification\n",
    "from sklearn.metrics import classification_report, precision_recall_curve\n",
    "from tqdm import tqdm\n",
    "import torch_optimizer as optim_mod\n",
    "from torch.optim.lr_scheduler import ReduceLROnPlateau"
   ]
  },
  {
   "cell_type": "code",
   "execution_count": 2,
   "id": "401d32cc3ee88c8e",
   "metadata": {
    "ExecuteTime": {
     "end_time": "2024-11-10T14:51:16.469551Z",
     "start_time": "2024-11-10T14:51:16.383213Z"
    }
   },
   "outputs": [],
   "source": [
    "df_train = pd.read_csv('../data/data_entries/miccai2023_nih-cxr-lt_labels_train.csv')\n",
    "df_val = pd.read_csv('../data/data_entries/miccai2023_nih-cxr-lt_labels_val.csv')\n",
    "df_test = pd.read_csv('../data/data_entries/miccai2023_nih-cxr-lt_labels_test.csv')"
   ]
  },
  {
   "cell_type": "code",
   "execution_count": 3,
   "id": "e064940c88cd6388",
   "metadata": {
    "ExecuteTime": {
     "end_time": "2024-11-10T14:51:16.603077Z",
     "start_time": "2024-11-10T14:51:16.598772Z"
    }
   },
   "outputs": [
    {
     "data": {
      "text/plain": [
       "((78506, 22), (12533, 22), (21081, 22))"
      ]
     },
     "execution_count": 3,
     "metadata": {},
     "output_type": "execute_result"
    }
   ],
   "source": [
    "df_train.shape, df_val.shape, df_test.shape"
   ]
  },
  {
   "cell_type": "markdown",
   "id": "5f8bdaf8-9e2d-4af5-9b4d-6668462f1d74",
   "metadata": {},
   "source": [
    "### Down sampling 'No Finding', 'Atelectasis', 'Effusion' and 'Infiltration'"
   ]
  },
  {
   "cell_type": "code",
   "execution_count": 4,
   "id": "eaab45be-5b6f-4c30-a5ec-2b301e75bf0f",
   "metadata": {},
   "outputs": [],
   "source": [
    "categories_to_down_sample = {\n",
    "    'Infiltration': 0.63,\n",
    "    'Effusion': 0.4,\n",
    "    'Atelectasis': 0.4,\n",
    "    'No Finding': 0.95\n",
    "}"
   ]
  },
  {
   "cell_type": "code",
   "execution_count": 5,
   "id": "cb7f3750-66f8-447a-a58d-37e044c9a4c1",
   "metadata": {},
   "outputs": [
    {
     "name": "stdout",
     "output_type": "stream",
     "text": [
      "Rows before down sampling for Infiltration: 12739\n",
      "Rows before down sampling for Effusion: 7919\n",
      "Rows before down sampling for Atelectasis: 7587\n",
      "Rows before down sampling for No Finding: 44625\n"
     ]
    }
   ],
   "source": [
    "# Before down sampling\n",
    "for category in categories_to_down_sample.keys():\n",
    "    print(f\"Rows before down sampling for {category}: {df_train[category].sum()}\")"
   ]
  },
  {
   "cell_type": "code",
   "execution_count": 6,
   "id": "ddb9e3b2-5e21-4700-b2dd-dc725fda3b78",
   "metadata": {},
   "outputs": [],
   "source": [
    "for category, frac in categories_to_down_sample.items():\n",
    "    # Filter rows where the category has value 1\n",
    "    rows_with_category = df_train[df_train[category] == 1]\n",
    "\n",
    "    # Randomly select the specified fraction of those rows\n",
    "    rows_to_drop = rows_with_category.sample(frac=frac, random_state=42)\n",
    "\n",
    "    # Drop those rows from the original DataFrame\n",
    "    df_train = df_train.drop(rows_to_drop.index)"
   ]
  },
  {
   "cell_type": "code",
   "execution_count": 7,
   "id": "8be0248b-f312-47d4-b349-de39bc13b8c2",
   "metadata": {},
   "outputs": [
    {
     "name": "stdout",
     "output_type": "stream",
     "text": [
      "Remaining rows for Infiltration: 4155\n",
      "Remaining rows for Effusion: 3545\n",
      "Remaining rows for Atelectasis: 3475\n",
      "Remaining rows for No Finding: 2231\n"
     ]
    }
   ],
   "source": [
    "# Remaining rows after down sampling\n",
    "for category in categories_to_down_sample.keys():\n",
    "    print(f\"Remaining rows for {category}: {df_train[category].sum()}\")"
   ]
  },
  {
   "cell_type": "code",
   "execution_count": null,
   "id": "5672ae48-01a7-4108-8696-4cf5fd4e4134",
   "metadata": {},
   "outputs": [],
   "source": []
  },
  {
   "cell_type": "markdown",
   "id": "197ef722b6d5bddb",
   "metadata": {},
   "source": [
    "Some images exist in images folder, but not in miccai labels and opposite\n",
    "\n",
    "To fix this problem We create list of all image IDs in both train and test _images folder\n",
    "then ensure that only images withing this list are loaded to dataset"
   ]
  },
  {
   "cell_type": "code",
   "execution_count": 8,
   "id": "3b83bbd4dfc8674d",
   "metadata": {
    "ExecuteTime": {
     "end_time": "2024-11-10T14:51:16.704227Z",
     "start_time": "2024-11-10T14:51:16.700688Z"
    }
   },
   "outputs": [],
   "source": [
    "image_dir_train = '../data/train_images'\n",
    "image_dir_test = '../data/test_images'\n",
    "# Define function to get valid image ids that exist in the image directory\n",
    "def get_valid_image_ids(df, image_dir):\n",
    "    # Get the set of image IDs that exist in the image directory\n",
    "    image_files = set(os.listdir(image_dir))  # List of all files in the image directory\n",
    "    # Check if image id exists in the image directory\n",
    "    valid_ids = df[df['id'].isin(image_files)]['id']\n",
    "    return valid_ids"
   ]
  },
  {
   "cell_type": "code",
   "execution_count": 9,
   "id": "b23bdd75f36a256e",
   "metadata": {
    "ExecuteTime": {
     "end_time": "2024-11-10T14:51:16.744561Z",
     "start_time": "2024-11-10T14:51:16.716264Z"
    }
   },
   "outputs": [],
   "source": [
    "# Get valid image ids for train and test datasets\n",
    "valid_train_ids = get_valid_image_ids(df_train, image_dir_train)\n",
    "valid_val_ids = get_valid_image_ids(df_val, image_dir_train)\n",
    "valid_test_ids = get_valid_image_ids(df_test, image_dir_test)"
   ]
  },
  {
   "cell_type": "code",
   "execution_count": 10,
   "id": "1f6a294e2f064fbd",
   "metadata": {
    "ExecuteTime": {
     "end_time": "2024-11-10T14:51:16.764801Z",
     "start_time": "2024-11-10T14:51:16.755889Z"
    }
   },
   "outputs": [
    {
     "data": {
      "text/plain": [
       "((23164, 22), (8018, 22), (21081, 22))"
      ]
     },
     "execution_count": 10,
     "metadata": {},
     "output_type": "execute_result"
    }
   ],
   "source": [
    "# Filter the DataFrames to include only the valid image IDs\n",
    "df_train_valid = df_train[df_train['id'].isin(valid_train_ids)]\n",
    "df_val_valid = df_val[df_val['id'].isin(valid_val_ids)]\n",
    "df_test_valid = df_test[df_test['id'].isin(valid_test_ids)]\n",
    "\n",
    "df_train_valid.shape, df_val_valid.shape, df_test_valid.shape"
   ]
  },
  {
   "cell_type": "code",
   "execution_count": 11,
   "id": "aa7554c8d5ef5eca",
   "metadata": {
    "ExecuteTime": {
     "end_time": "2024-11-10T14:51:16.786894Z",
     "start_time": "2024-11-10T14:51:16.782623Z"
    }
   },
   "outputs": [],
   "source": [
    "df_train_val = pd.concat([df_train_valid, df_val_valid], ignore_index=True)\n",
    "assert df_train_val.shape[0] == df_train_valid.shape[0] + df_val_valid.shape[0]"
   ]
  },
  {
   "cell_type": "code",
   "execution_count": 12,
   "id": "3e0686f621c6b3e",
   "metadata": {
    "ExecuteTime": {
     "end_time": "2024-11-10T14:51:16.844212Z",
     "start_time": "2024-11-10T14:51:16.839329Z"
    }
   },
   "outputs": [
    {
     "data": {
      "text/plain": [
       "(31182, 21)"
      ]
     },
     "execution_count": 12,
     "metadata": {},
     "output_type": "execute_result"
    }
   ],
   "source": [
    "df_train_val = df_train_val.copy()\n",
    "#df_train_val.drop(columns=['Pneumomediastinum', 'subj_id'], inplace=True)\n",
    "# Labels such Pneumomediastinum and Hernia rarely appears, but we keep them to generlize the model\n",
    "df_train_val.drop(columns=['subj_id'], inplace=True)\n",
    "df_train_val.shape"
   ]
  },
  {
   "cell_type": "code",
   "execution_count": 13,
   "id": "21ca2ca48ff9f98f",
   "metadata": {
    "ExecuteTime": {
     "end_time": "2024-11-10T14:51:16.880223Z",
     "start_time": "2024-11-10T14:51:16.876337Z"
    }
   },
   "outputs": [
    {
     "data": {
      "text/plain": [
       "(21081, 21)"
      ]
     },
     "execution_count": 13,
     "metadata": {},
     "output_type": "execute_result"
    }
   ],
   "source": [
    "## Do same for testing\n",
    "df_test_valid = df_test_valid.copy()\n",
    "df_test_valid.drop(columns=['subj_id'], inplace=True)\n",
    "df_test_valid.shape"
   ]
  },
  {
   "cell_type": "markdown",
   "id": "cdbb271b83551522",
   "metadata": {},
   "source": [
    "### Step 2: Label encoding and create target column \n",
    "\n",
    "#### Step 2.1: Check for Inconsistent Rows\n",
    "\n",
    "First, we’ll check if any rows violate the condition: if No Finding is 1, then all other categories should be 0."
   ]
  },
  {
   "cell_type": "code",
   "execution_count": 14,
   "id": "2ffa7c6aa03915a6",
   "metadata": {
    "ExecuteTime": {
     "end_time": "2024-11-10T14:51:16.915785Z",
     "start_time": "2024-11-10T14:51:16.911387Z"
    }
   },
   "outputs": [
    {
     "name": "stdout",
     "output_type": "stream",
     "text": [
      "Empty DataFrame\n",
      "Columns: [id, Atelectasis, Cardiomegaly, Consolidation, Edema, Effusion, Emphysema, Fibrosis, Hernia, Infiltration, Mass, Nodule, Pleural Thickening, Pneumonia, Pneumothorax, Pneumoperitoneum, Pneumomediastinum, Subcutaneous Emphysema, Tortuous Aorta, Calcification of the Aorta, No Finding]\n",
      "Index: []\n",
      "\n",
      "[0 rows x 21 columns]\n"
     ]
    }
   ],
   "source": [
    "# For train data\n",
    "inconsistent_rows = df_train_val[(df_train_val['No Finding'] == 1) & (df_train_val.iloc[:, 1:-1].sum(axis=1) > 0)]\n",
    "\n",
    "print(inconsistent_rows)"
   ]
  },
  {
   "cell_type": "markdown",
   "id": "2b6570a581d8f436",
   "metadata": {},
   "source": [
    "#### Step 2.2: create mappings variable for all categories we have"
   ]
  },
  {
   "cell_type": "code",
   "execution_count": 15,
   "id": "89181548de9fd7d6",
   "metadata": {
    "ExecuteTime": {
     "end_time": "2024-11-10T14:51:16.981160Z",
     "start_time": "2024-11-10T14:51:16.978297Z"
    }
   },
   "outputs": [
    {
     "name": "stdout",
     "output_type": "stream",
     "text": [
      "Category Mapping:\n",
      "{'Atelectasis': 0, 'Cardiomegaly': 1, 'Consolidation': 2, 'Edema': 3, 'Effusion': 4, 'Emphysema': 5, 'Fibrosis': 6, 'Hernia': 7, 'Infiltration': 8, 'Mass': 9, 'Nodule': 10, 'Pleural Thickening': 11, 'Pneumonia': 12, 'Pneumothorax': 13, 'Pneumoperitoneum': 14, 'Pneumomediastinum': 15, 'Subcutaneous Emphysema': 16, 'Tortuous Aorta': 17, 'Calcification of the Aorta': 18, 'No Finding': 19}\n"
     ]
    }
   ],
   "source": [
    "# Extract all categories (exclude 'id')\n",
    "categories = df_train_val.columns[1:]\n",
    "\n",
    "# Create a mapping dictionary for categories to numbers\n",
    "category_mapping = {category: idx for idx, category in enumerate(categories)}\n",
    "\n",
    "print(\"Category Mapping:\")\n",
    "print(category_mapping)"
   ]
  },
  {
   "cell_type": "markdown",
   "id": "6ed974c46c22bd9b",
   "metadata": {},
   "source": [
    "### Step 2.3: Create finding column\n",
    "\n",
    "This column will contain list of all finding categories for each image, and we have the following scenarios\n",
    "1. The image has no sickness ==> finding column is a list with only one item 'No Finding'\n",
    "2. The image contains only one category i.g 'Hernia' ==> finding column is a list with only one item 'Hernia'\n",
    "3. The image contains more than one category i.g 'Hernia' and 'Edema'...etc. ==> finding column is a list finding items 'Hernia' and 'Edema'"
   ]
  },
  {
   "cell_type": "code",
   "execution_count": 16,
   "id": "107bc595a018ba1e",
   "metadata": {
    "ExecuteTime": {
     "end_time": "2024-11-10T14:51:16.997198Z",
     "start_time": "2024-11-10T14:51:16.994166Z"
    }
   },
   "outputs": [],
   "source": [
    "# Function to create 'finding' and 'finding_encoded' as a string based on category values\n",
    "def create_finding(row):\n",
    "    # Check if 'No Finding' is 1, indicating no other categories are marked\n",
    "    if row['No Finding'] == 1:\n",
    "        return ['No Finding'], str(category_mapping['No Finding'])  # Return encoded as a string\n",
    "    \n",
    "    else:\n",
    "        # Generate lists of findings and their encoded values\n",
    "        findings = [category for category in categories if row[category] == 1]\n",
    "        encoded_findings = [str(category_mapping[category]) for category in findings]\n",
    "        \n",
    "        # Join encoded findings as a single string for stratification\n",
    "        return findings, ','.join(encoded_findings)\n"
   ]
  },
  {
   "cell_type": "code",
   "execution_count": 17,
   "id": "c4881a0ea80d8958",
   "metadata": {
    "ExecuteTime": {
     "end_time": "2024-11-10T14:51:17.280554Z",
     "start_time": "2024-11-10T14:51:17.012610Z"
    }
   },
   "outputs": [
    {
     "data": {
      "text/html": [
       "<div>\n",
       "<style scoped>\n",
       "    .dataframe tbody tr th:only-of-type {\n",
       "        vertical-align: middle;\n",
       "    }\n",
       "\n",
       "    .dataframe tbody tr th {\n",
       "        vertical-align: top;\n",
       "    }\n",
       "\n",
       "    .dataframe thead th {\n",
       "        text-align: right;\n",
       "    }\n",
       "</style>\n",
       "<table border=\"1\" class=\"dataframe\">\n",
       "  <thead>\n",
       "    <tr style=\"text-align: right;\">\n",
       "      <th></th>\n",
       "      <th>id</th>\n",
       "      <th>finding</th>\n",
       "      <th>finding_encoded</th>\n",
       "    </tr>\n",
       "  </thead>\n",
       "  <tbody>\n",
       "    <tr>\n",
       "      <th>0</th>\n",
       "      <td>00000001_000.png</td>\n",
       "      <td>[Cardiomegaly]</td>\n",
       "      <td>1</td>\n",
       "    </tr>\n",
       "    <tr>\n",
       "      <th>1</th>\n",
       "      <td>00000001_001.png</td>\n",
       "      <td>[Cardiomegaly, Emphysema]</td>\n",
       "      <td>1,5</td>\n",
       "    </tr>\n",
       "    <tr>\n",
       "      <th>2</th>\n",
       "      <td>00000001_002.png</td>\n",
       "      <td>[Cardiomegaly, Effusion]</td>\n",
       "      <td>1,4</td>\n",
       "    </tr>\n",
       "    <tr>\n",
       "      <th>3</th>\n",
       "      <td>00000004_000.png</td>\n",
       "      <td>[Mass, Nodule]</td>\n",
       "      <td>9,10</td>\n",
       "    </tr>\n",
       "    <tr>\n",
       "      <th>4</th>\n",
       "      <td>00000005_007.png</td>\n",
       "      <td>[Effusion, Infiltration]</td>\n",
       "      <td>4,8</td>\n",
       "    </tr>\n",
       "    <tr>\n",
       "      <th>...</th>\n",
       "      <td>...</td>\n",
       "      <td>...</td>\n",
       "      <td>...</td>\n",
       "    </tr>\n",
       "    <tr>\n",
       "      <th>31177</th>\n",
       "      <td>00030601_000.png</td>\n",
       "      <td>[Atelectasis]</td>\n",
       "      <td>0</td>\n",
       "    </tr>\n",
       "    <tr>\n",
       "      <th>31178</th>\n",
       "      <td>00030661_000.png</td>\n",
       "      <td>[Atelectasis]</td>\n",
       "      <td>0</td>\n",
       "    </tr>\n",
       "    <tr>\n",
       "      <th>31179</th>\n",
       "      <td>00030703_000.png</td>\n",
       "      <td>[Nodule]</td>\n",
       "      <td>10</td>\n",
       "    </tr>\n",
       "    <tr>\n",
       "      <th>31180</th>\n",
       "      <td>00030703_001.png</td>\n",
       "      <td>[Nodule]</td>\n",
       "      <td>10</td>\n",
       "    </tr>\n",
       "    <tr>\n",
       "      <th>31181</th>\n",
       "      <td>00030711_000.png</td>\n",
       "      <td>[Infiltration, Mass]</td>\n",
       "      <td>8,9</td>\n",
       "    </tr>\n",
       "  </tbody>\n",
       "</table>\n",
       "<p>31182 rows × 3 columns</p>\n",
       "</div>"
      ],
      "text/plain": [
       "                     id                    finding finding_encoded\n",
       "0      00000001_000.png             [Cardiomegaly]               1\n",
       "1      00000001_001.png  [Cardiomegaly, Emphysema]             1,5\n",
       "2      00000001_002.png   [Cardiomegaly, Effusion]             1,4\n",
       "3      00000004_000.png             [Mass, Nodule]            9,10\n",
       "4      00000005_007.png   [Effusion, Infiltration]             4,8\n",
       "...                 ...                        ...             ...\n",
       "31177  00030601_000.png              [Atelectasis]               0\n",
       "31178  00030661_000.png              [Atelectasis]               0\n",
       "31179  00030703_000.png                   [Nodule]              10\n",
       "31180  00030703_001.png                   [Nodule]              10\n",
       "31181  00030711_000.png       [Infiltration, Mass]             8,9\n",
       "\n",
       "[31182 rows x 3 columns]"
      ]
     },
     "execution_count": 17,
     "metadata": {},
     "output_type": "execute_result"
    }
   ],
   "source": [
    "# Apply function to create 'finding' and 'finding_encoded' columns in train_val data\n",
    "df_train_val[['finding', 'finding_encoded']] = df_train_val.apply(\n",
    "    lambda row: pd.Series(create_finding(row)), axis=1\n",
    ")\n",
    "\n",
    "df_train_val[['id', 'finding', 'finding_encoded']]"
   ]
  },
  {
   "cell_type": "code",
   "execution_count": 18,
   "id": "606b654b434d8b78",
   "metadata": {
    "ExecuteTime": {
     "end_time": "2024-11-10T14:51:17.366409Z",
     "start_time": "2024-11-10T14:51:17.313012Z"
    }
   },
   "outputs": [
    {
     "data": {
      "text/html": [
       "<div>\n",
       "<style scoped>\n",
       "    .dataframe tbody tr th:only-of-type {\n",
       "        vertical-align: middle;\n",
       "    }\n",
       "\n",
       "    .dataframe tbody tr th {\n",
       "        vertical-align: top;\n",
       "    }\n",
       "\n",
       "    .dataframe thead th {\n",
       "        text-align: right;\n",
       "    }\n",
       "</style>\n",
       "<table border=\"1\" class=\"dataframe\">\n",
       "  <thead>\n",
       "    <tr style=\"text-align: right;\">\n",
       "      <th></th>\n",
       "      <th>id</th>\n",
       "      <th>finding</th>\n",
       "      <th>finding_encoded</th>\n",
       "    </tr>\n",
       "  </thead>\n",
       "  <tbody>\n",
       "    <tr>\n",
       "      <th>0</th>\n",
       "      <td>00000013_000.png</td>\n",
       "      <td>[No Finding]</td>\n",
       "      <td>19</td>\n",
       "    </tr>\n",
       "    <tr>\n",
       "      <th>1</th>\n",
       "      <td>00000013_001.png</td>\n",
       "      <td>[Emphysema, Pneumothorax, Subcutaneous Emphysema]</td>\n",
       "      <td>5,13,16</td>\n",
       "    </tr>\n",
       "    <tr>\n",
       "      <th>2</th>\n",
       "      <td>00000013_002.png</td>\n",
       "      <td>[Emphysema, Pneumothorax, Subcutaneous Emphysema]</td>\n",
       "      <td>5,13,16</td>\n",
       "    </tr>\n",
       "    <tr>\n",
       "      <th>3</th>\n",
       "      <td>00000013_003.png</td>\n",
       "      <td>[Pleural Thickening]</td>\n",
       "      <td>11</td>\n",
       "    </tr>\n",
       "    <tr>\n",
       "      <th>4</th>\n",
       "      <td>00000013_004.png</td>\n",
       "      <td>[Effusion, Emphysema, Infiltration, Pneumothor...</td>\n",
       "      <td>4,5,8,13,16</td>\n",
       "    </tr>\n",
       "    <tr>\n",
       "      <th>...</th>\n",
       "      <td>...</td>\n",
       "      <td>...</td>\n",
       "      <td>...</td>\n",
       "    </tr>\n",
       "    <tr>\n",
       "      <th>21076</th>\n",
       "      <td>00030800_000.png</td>\n",
       "      <td>[No Finding]</td>\n",
       "      <td>19</td>\n",
       "    </tr>\n",
       "    <tr>\n",
       "      <th>21077</th>\n",
       "      <td>00030802_000.png</td>\n",
       "      <td>[No Finding]</td>\n",
       "      <td>19</td>\n",
       "    </tr>\n",
       "    <tr>\n",
       "      <th>21078</th>\n",
       "      <td>00030803_000.png</td>\n",
       "      <td>[No Finding]</td>\n",
       "      <td>19</td>\n",
       "    </tr>\n",
       "    <tr>\n",
       "      <th>21079</th>\n",
       "      <td>00030804_000.png</td>\n",
       "      <td>[No Finding]</td>\n",
       "      <td>19</td>\n",
       "    </tr>\n",
       "    <tr>\n",
       "      <th>21080</th>\n",
       "      <td>00030805_000.png</td>\n",
       "      <td>[No Finding]</td>\n",
       "      <td>19</td>\n",
       "    </tr>\n",
       "  </tbody>\n",
       "</table>\n",
       "<p>21081 rows × 3 columns</p>\n",
       "</div>"
      ],
      "text/plain": [
       "                     id                                            finding  \\\n",
       "0      00000013_000.png                                       [No Finding]   \n",
       "1      00000013_001.png  [Emphysema, Pneumothorax, Subcutaneous Emphysema]   \n",
       "2      00000013_002.png  [Emphysema, Pneumothorax, Subcutaneous Emphysema]   \n",
       "3      00000013_003.png                               [Pleural Thickening]   \n",
       "4      00000013_004.png  [Effusion, Emphysema, Infiltration, Pneumothor...   \n",
       "...                 ...                                                ...   \n",
       "21076  00030800_000.png                                       [No Finding]   \n",
       "21077  00030802_000.png                                       [No Finding]   \n",
       "21078  00030803_000.png                                       [No Finding]   \n",
       "21079  00030804_000.png                                       [No Finding]   \n",
       "21080  00030805_000.png                                       [No Finding]   \n",
       "\n",
       "      finding_encoded  \n",
       "0                  19  \n",
       "1             5,13,16  \n",
       "2             5,13,16  \n",
       "3                  11  \n",
       "4         4,5,8,13,16  \n",
       "...               ...  \n",
       "21076              19  \n",
       "21077              19  \n",
       "21078              19  \n",
       "21079              19  \n",
       "21080              19  \n",
       "\n",
       "[21081 rows x 3 columns]"
      ]
     },
     "execution_count": 18,
     "metadata": {},
     "output_type": "execute_result"
    }
   ],
   "source": [
    "# Apply function to create 'finding' and 'finding_encoded' columns in test data\n",
    "df_test_valid[['finding', 'finding_encoded']] = df_test_valid.apply(\n",
    "    lambda row: pd.Series(create_finding(row)), axis=1\n",
    ")\n",
    "\n",
    "df_test_valid[['id', 'finding', 'finding_encoded']]"
   ]
  },
  {
   "cell_type": "code",
   "execution_count": 19,
   "id": "667e49a8-2cb9-4a70-9ee9-ee5ddd298d9c",
   "metadata": {},
   "outputs": [
    {
     "data": {
      "text/plain": [
       "id                            00000001_000.png00000001_001.png00000001_002.p...\n",
       "Atelectasis                                                                4168\n",
       "Cardiomegaly                                                               1299\n",
       "Consolidation                                                              1998\n",
       "Edema                                                                       884\n",
       "Effusion                                                                   4285\n",
       "Emphysema                                                                  1151\n",
       "Fibrosis                                                                   1001\n",
       "Hernia                                                                      114\n",
       "Infiltration                                                               5198\n",
       "Mass                                                                       3250\n",
       "Nodule                                                                     3817\n",
       "Pleural Thickening                                                         1753\n",
       "Pneumonia                                                                   575\n",
       "Pneumothorax                                                               2152\n",
       "Pneumoperitoneum                                                            172\n",
       "Pneumomediastinum                                                            73\n",
       "Subcutaneous Emphysema                                                      790\n",
       "Tortuous Aorta                                                              576\n",
       "Calcification of the Aorta                                                  330\n",
       "No Finding                                                                 7352\n",
       "finding                       [Cardiomegaly, Cardiomegaly, Emphysema, Cardio...\n",
       "finding_encoded               11,51,49,104,811910,1884084,8,100,4,11116,86,8...\n",
       "dtype: object"
      ]
     },
     "execution_count": 19,
     "metadata": {},
     "output_type": "execute_result"
    }
   ],
   "source": [
    "class_counts_train = df_train_val.sum(axis=0)\n",
    "class_counts_train"
   ]
  },
  {
   "cell_type": "code",
   "execution_count": 20,
   "id": "e2316d09-047e-4d1f-9a0e-2d62cca6e4a5",
   "metadata": {},
   "outputs": [
    {
     "data": {
      "text/plain": [
       "id                            00000013_000.png00000013_001.png00000013_002.p...\n",
       "Atelectasis                                                                2700\n",
       "Cardiomegaly                                                                868\n",
       "Consolidation                                                              1497\n",
       "Edema                                                                       751\n",
       "Effusion                                                                   3735\n",
       "Emphysema                                                                   917\n",
       "Fibrosis                                                                    365\n",
       "Hernia                                                                       62\n",
       "Infiltration                                                               5159\n",
       "Mass                                                                       1329\n",
       "Nodule                                                                     1305\n",
       "Pleural Thickening                                                          902\n",
       "Pneumonia                                                                   452\n",
       "Pneumothorax                                                               2106\n",
       "Pneumoperitoneum                                                             69\n",
       "Pneumomediastinum                                                           143\n",
       "Subcutaneous Emphysema                                                      813\n",
       "Tortuous Aorta                                                               95\n",
       "Calcification of the Aorta                                                   55\n",
       "No Finding                                                                 8015\n",
       "finding                       [No Finding, Emphysema, Pneumothorax, Subcutan...\n",
       "finding_encoded               195,13,165,13,16114,5,8,13,165,8,11,13,164,881...\n",
       "dtype: object"
      ]
     },
     "execution_count": 20,
     "metadata": {},
     "output_type": "execute_result"
    }
   ],
   "source": [
    "class_counts_test = df_test_valid.sum(axis=0)\n",
    "class_counts_test"
   ]
  },
  {
   "cell_type": "code",
   "execution_count": null,
   "id": "815b55b9-8e63-45cc-92b6-34583a9285fd",
   "metadata": {},
   "outputs": [],
   "source": []
  },
  {
   "cell_type": "markdown",
   "id": "f8dfb5268ac40d9e",
   "metadata": {},
   "source": [
    "### Step 3: Create subsets and DataLoaders for the training, validation, and test sets"
   ]
  },
  {
   "cell_type": "code",
   "execution_count": 21,
   "id": "4b2d115fab3676d8",
   "metadata": {
    "ExecuteTime": {
     "end_time": "2024-11-10T14:51:17.386058Z",
     "start_time": "2024-11-10T14:51:17.383069Z"
    }
   },
   "outputs": [],
   "source": [
    "# Image transformation for training and validation\n",
    "train_transform = transforms.Compose([\n",
    "    transforms.Resize((224, 224)),\n",
    "    transforms.RandomHorizontalFlip(),\n",
    "    transforms.RandomVerticalFlip(),\n",
    "    transforms.ToTensor(),\n",
    "    transforms.Normalize(mean=[0.485, 0.456, 0.406], std=[0.229, 0.224, 0.225])\n",
    "])\n",
    "\n",
    "val_transform = transforms.Compose([\n",
    "    transforms.Resize((224, 224)),\n",
    "    transforms.ToTensor(),\n",
    "    transforms.Normalize(mean=[0.485, 0.456, 0.406], std=[0.229, 0.224, 0.225])\n",
    "])"
   ]
  },
  {
   "cell_type": "code",
   "execution_count": 22,
   "id": "c1afaca69abb2753",
   "metadata": {
    "ExecuteTime": {
     "end_time": "2024-11-10T14:51:17.453755Z",
     "start_time": "2024-11-10T14:51:17.450933Z"
    }
   },
   "outputs": [],
   "source": [
    "subset_ratio = 0.99 # start with 30% of data\n",
    "train_val_ratio = 0.8 # For train, val ratio"
   ]
  },
  {
   "cell_type": "markdown",
   "id": "e6eed4a8580d2f91",
   "metadata": {},
   "source": [
    "#### Step 3.1 Take a Stratified Subset Based on finding_encoded\n",
    "\n",
    "We use: **from skmultilearn.model_selection import IterativeStratification**\n",
    "For multi-label classification (where each image can belong to one or more categories), the best choice would be:\n",
    "\n",
    "from skmultilearn.model_selection import IterativeStratification since it is specifically tailored for multi-label classification tasks and will ensure proper stratified splitting with regard to your multiple sickness categories.\n",
    "\n",
    "[Reference about iterstrat.ml_stratifiers](https://medium.com/gumgum-tech/creating-balanced-multi-label-datasets-for-model-training-and-evaluation-16b6a3a2d912)"
   ]
  },
  {
   "cell_type": "markdown",
   "id": "bf5139799d508b7f",
   "metadata": {},
   "source": [
    "**First: create the subset**"
   ]
  },
  {
   "cell_type": "code",
   "execution_count": 23,
   "id": "b8f38285699dcfa",
   "metadata": {
    "ExecuteTime": {
     "end_time": "2024-11-10T14:51:17.558175Z",
     "start_time": "2024-11-10T14:51:17.493286Z"
    }
   },
   "outputs": [],
   "source": [
    "label_matrix = df_train_val['finding_encoded'].str.get_dummies(sep=',')\n",
    "\n",
    "# Initialize IterativeStratification\n",
    "stratifier = IterativeStratification(n_splits=2, order=1, sample_distribution_per_fold=[subset_ratio, 1 - subset_ratio]) # 1 - 0.3 = 0.7\n",
    "\n",
    "# Perform the stratified split\n",
    "train_indices, subset_indices = next(stratifier.split(df_train_val, label_matrix))\n",
    "\n",
    "# Create the subset and remaining dataframes\n",
    "subset_df_train_val = df_train_val.iloc[subset_indices].reset_index(drop=True)\n",
    "remaining_df_train_val = df_train_val.iloc[train_indices].reset_index(drop=True)"
   ]
  },
  {
   "cell_type": "code",
   "execution_count": 24,
   "id": "e3d1b5c6e52d2a37",
   "metadata": {
    "ExecuteTime": {
     "end_time": "2024-11-10T14:51:17.581218Z",
     "start_time": "2024-11-10T14:51:17.577475Z"
    }
   },
   "outputs": [
    {
     "name": "stdout",
     "output_type": "stream",
     "text": [
      "Initial size of df_train_val: 31182 rows\n",
      "Subset size for training (80%): 30849 rows\n",
      "Remaining size not used (20%): 333 rows\n"
     ]
    }
   ],
   "source": [
    "# After the first stratified split (Subset and Remaining)\n",
    "initial_size = len(df_train_val)\n",
    "print(f\"Initial size of df_train_val: {initial_size} rows\")\n",
    "\n",
    "subset_size = len(subset_df_train_val)\n",
    "remaining_size = len(remaining_df_train_val)\n",
    "print(f\"Subset size for training (80%): {subset_size} rows\")\n",
    "print(f\"Remaining size not used (20%): {remaining_size} rows\")"
   ]
  },
  {
   "cell_type": "code",
   "execution_count": 25,
   "id": "e1afcc2631c3ca09",
   "metadata": {
    "ExecuteTime": {
     "end_time": "2024-11-10T14:51:17.599817Z",
     "start_time": "2024-11-10T14:51:17.589223Z"
    }
   },
   "outputs": [],
   "source": [
    "assert initial_size == subset_size + remaining_size"
   ]
  },
  {
   "cell_type": "code",
   "execution_count": 26,
   "id": "a1d3031b-6358-44e3-a30b-5ff51c7c100c",
   "metadata": {},
   "outputs": [
    {
     "data": {
      "text/plain": [
       "(30849, 23)"
      ]
     },
     "execution_count": 26,
     "metadata": {},
     "output_type": "execute_result"
    }
   ],
   "source": [
    "subset_df_train_val.shape"
   ]
  },
  {
   "cell_type": "markdown",
   "id": "2f527ed90428ef0a",
   "metadata": {},
   "source": [
    "**Then: split to train, val**"
   ]
  },
  {
   "cell_type": "code",
   "execution_count": 27,
   "id": "9a732ae93903a12",
   "metadata": {
    "ExecuteTime": {
     "end_time": "2024-11-10T14:51:17.658671Z",
     "start_time": "2024-11-10T14:51:17.645844Z"
    }
   },
   "outputs": [
    {
     "name": "stdout",
     "output_type": "stream",
     "text": [
      "Train size (80% of subset): 24520 rows\n",
      "Val size (20% of subset): 6329 rows\n"
     ]
    }
   ],
   "source": [
    "# Perform the stratified split\n",
    "label_matrix_2 = subset_df_train_val['finding_encoded'].str.get_dummies(sep=',')\n",
    "stratifier_2 = IterativeStratification(n_splits=2, order=1, sample_distribution_per_fold=[train_val_ratio, 1 - train_val_ratio]) \n",
    "val_indices, train_indices = next(stratifier_2.split(subset_df_train_val, label_matrix_2))\n",
    "\n",
    "train_df = subset_df_train_val.iloc[train_indices].reset_index(drop=True)\n",
    "val_df = subset_df_train_val.iloc[val_indices].reset_index(drop=True)\n",
    "\n",
    "# Verify the sizes\n",
    "print(f\"Train size (80% of subset): {len(train_df)} rows\")\n",
    "print(f\"Val size (20% of subset): {len(val_df)} rows\")"
   ]
  },
  {
   "cell_type": "markdown",
   "id": "ac335e9f-7b24-425a-89c7-2266ab9dd441",
   "metadata": {},
   "source": [
    "#### Step 3.2: Create dataset objects\n"
   ]
  },
  {
   "cell_type": "code",
   "execution_count": 28,
   "id": "7e40dc70503bcdbc",
   "metadata": {
    "ExecuteTime": {
     "end_time": "2024-11-10T14:51:17.695332Z",
     "start_time": "2024-11-10T14:51:17.691099Z"
    }
   },
   "outputs": [],
   "source": [
    "train_dataset = ChestXRayDataset(dataframe=train_df, image_dir=image_dir_train, category_mapping=category_mapping, transform=train_transform)\n",
    "\n",
    "val_dataset = ChestXRayDataset(dataframe=val_df, image_dir=image_dir_train, category_mapping=category_mapping, transform=val_transform)\n",
    "\n",
    "test_dataset = ChestXRayDataset(dataframe=df_test_valid, image_dir=image_dir_test, category_mapping=category_mapping, transform=val_transform)"
   ]
  },
  {
   "cell_type": "markdown",
   "id": "9863c9c6b857131b",
   "metadata": {},
   "source": [
    "#### Step 3.3: Create dataloaders"
   ]
  },
  {
   "cell_type": "code",
   "execution_count": 29,
   "id": "df5bf589c2bf6208",
   "metadata": {
    "ExecuteTime": {
     "end_time": "2024-11-10T14:51:17.739788Z",
     "start_time": "2024-11-10T14:51:17.736347Z"
    }
   },
   "outputs": [],
   "source": [
    "# Create Dataloaders\n",
    "batch_size = 32\n",
    "\n",
    "train_loader = DataLoader(train_dataset, batch_size=batch_size, shuffle=True, num_workers=4)\n",
    "val_loader = DataLoader(val_dataset, batch_size=batch_size, shuffle=False, num_workers=4)\n",
    "test_loader = DataLoader(test_dataset, batch_size=batch_size, shuffle=False, num_workers=4)"
   ]
  },
  {
   "cell_type": "code",
   "execution_count": 30,
   "id": "ba1c0b0048dc8cd9",
   "metadata": {
    "ExecuteTime": {
     "end_time": "2024-11-10T14:51:17.769415Z",
     "start_time": "2024-11-10T14:51:17.766407Z"
    }
   },
   "outputs": [
    {
     "name": "stdout",
     "output_type": "stream",
     "text": [
      "Training DataLoader: 384 batches\n",
      "Validation DataLoader: 99 batches\n",
      "Testing DataLoader: 330 batches\n"
     ]
    }
   ],
   "source": [
    "print(f\"Training DataLoader: {len(train_loader)} batches\")\n",
    "print(f\"Validation DataLoader: {len(val_loader)} batches\")\n",
    "print(f\"Testing DataLoader: {len(test_loader)} batches\")"
   ]
  },
  {
   "cell_type": "code",
   "execution_count": null,
   "id": "11d38f82-08a5-432e-857c-f95ea6494ef3",
   "metadata": {},
   "outputs": [],
   "source": []
  },
  {
   "cell_type": "markdown",
   "id": "d9d374bdb477980c",
   "metadata": {},
   "source": [
    "### Step 4: Define the model\n",
    "We use pretrained ResNet\n",
    "- We add linear layer to predict multi-label ( more than one category per image)\n",
    "- ResNet-50 designed to output 2048 features\n",
    "- We add two Linear layer to avoid going down from 2048 features to only 20 which may cause instability and overfitting\n",
    "\n",
    "**Note**: Different additional params/functionality to the network i.g Dropout, normalization...etc. have been tested"
   ]
  },
  {
   "cell_type": "code",
   "execution_count": 31,
   "id": "bd0ae5b8bdfccf20",
   "metadata": {
    "ExecuteTime": {
     "end_time": "2024-11-10T14:51:17.892893Z",
     "start_time": "2024-11-10T14:51:17.801419Z"
    }
   },
   "outputs": [
    {
     "name": "stdout",
     "output_type": "stream",
     "text": [
      "20\n"
     ]
    }
   ],
   "source": [
    "# Number of unique categories (labels) in the 'finding_encoded' column\n",
    "num_classes = len(df_train_val['finding_encoded'].str.get_dummies(sep=',').columns)\n",
    "print(num_classes)"
   ]
  },
  {
   "cell_type": "code",
   "execution_count": 32,
   "id": "a937808d-63bc-4296-98d3-9bede88bd856",
   "metadata": {},
   "outputs": [
    {
     "name": "stdout",
     "output_type": "stream",
     "text": [
      "cuda\n"
     ]
    },
    {
     "data": {
      "text/plain": [
       "ResNet(\n",
       "  (conv1): Conv2d(3, 64, kernel_size=(7, 7), stride=(2, 2), padding=(3, 3), bias=False)\n",
       "  (bn1): BatchNorm2d(64, eps=1e-05, momentum=0.1, affine=True, track_running_stats=True)\n",
       "  (relu): ReLU(inplace=True)\n",
       "  (maxpool): MaxPool2d(kernel_size=3, stride=2, padding=1, dilation=1, ceil_mode=False)\n",
       "  (layer1): Sequential(\n",
       "    (0): Bottleneck(\n",
       "      (conv1): Conv2d(64, 64, kernel_size=(1, 1), stride=(1, 1), bias=False)\n",
       "      (bn1): BatchNorm2d(64, eps=1e-05, momentum=0.1, affine=True, track_running_stats=True)\n",
       "      (conv2): Conv2d(64, 64, kernel_size=(3, 3), stride=(1, 1), padding=(1, 1), bias=False)\n",
       "      (bn2): BatchNorm2d(64, eps=1e-05, momentum=0.1, affine=True, track_running_stats=True)\n",
       "      (conv3): Conv2d(64, 256, kernel_size=(1, 1), stride=(1, 1), bias=False)\n",
       "      (bn3): BatchNorm2d(256, eps=1e-05, momentum=0.1, affine=True, track_running_stats=True)\n",
       "      (relu): ReLU(inplace=True)\n",
       "      (downsample): Sequential(\n",
       "        (0): Conv2d(64, 256, kernel_size=(1, 1), stride=(1, 1), bias=False)\n",
       "        (1): BatchNorm2d(256, eps=1e-05, momentum=0.1, affine=True, track_running_stats=True)\n",
       "      )\n",
       "    )\n",
       "    (1): Bottleneck(\n",
       "      (conv1): Conv2d(256, 64, kernel_size=(1, 1), stride=(1, 1), bias=False)\n",
       "      (bn1): BatchNorm2d(64, eps=1e-05, momentum=0.1, affine=True, track_running_stats=True)\n",
       "      (conv2): Conv2d(64, 64, kernel_size=(3, 3), stride=(1, 1), padding=(1, 1), bias=False)\n",
       "      (bn2): BatchNorm2d(64, eps=1e-05, momentum=0.1, affine=True, track_running_stats=True)\n",
       "      (conv3): Conv2d(64, 256, kernel_size=(1, 1), stride=(1, 1), bias=False)\n",
       "      (bn3): BatchNorm2d(256, eps=1e-05, momentum=0.1, affine=True, track_running_stats=True)\n",
       "      (relu): ReLU(inplace=True)\n",
       "    )\n",
       "    (2): Bottleneck(\n",
       "      (conv1): Conv2d(256, 64, kernel_size=(1, 1), stride=(1, 1), bias=False)\n",
       "      (bn1): BatchNorm2d(64, eps=1e-05, momentum=0.1, affine=True, track_running_stats=True)\n",
       "      (conv2): Conv2d(64, 64, kernel_size=(3, 3), stride=(1, 1), padding=(1, 1), bias=False)\n",
       "      (bn2): BatchNorm2d(64, eps=1e-05, momentum=0.1, affine=True, track_running_stats=True)\n",
       "      (conv3): Conv2d(64, 256, kernel_size=(1, 1), stride=(1, 1), bias=False)\n",
       "      (bn3): BatchNorm2d(256, eps=1e-05, momentum=0.1, affine=True, track_running_stats=True)\n",
       "      (relu): ReLU(inplace=True)\n",
       "    )\n",
       "  )\n",
       "  (layer2): Sequential(\n",
       "    (0): Bottleneck(\n",
       "      (conv1): Conv2d(256, 128, kernel_size=(1, 1), stride=(1, 1), bias=False)\n",
       "      (bn1): BatchNorm2d(128, eps=1e-05, momentum=0.1, affine=True, track_running_stats=True)\n",
       "      (conv2): Conv2d(128, 128, kernel_size=(3, 3), stride=(2, 2), padding=(1, 1), bias=False)\n",
       "      (bn2): BatchNorm2d(128, eps=1e-05, momentum=0.1, affine=True, track_running_stats=True)\n",
       "      (conv3): Conv2d(128, 512, kernel_size=(1, 1), stride=(1, 1), bias=False)\n",
       "      (bn3): BatchNorm2d(512, eps=1e-05, momentum=0.1, affine=True, track_running_stats=True)\n",
       "      (relu): ReLU(inplace=True)\n",
       "      (downsample): Sequential(\n",
       "        (0): Conv2d(256, 512, kernel_size=(1, 1), stride=(2, 2), bias=False)\n",
       "        (1): BatchNorm2d(512, eps=1e-05, momentum=0.1, affine=True, track_running_stats=True)\n",
       "      )\n",
       "    )\n",
       "    (1): Bottleneck(\n",
       "      (conv1): Conv2d(512, 128, kernel_size=(1, 1), stride=(1, 1), bias=False)\n",
       "      (bn1): BatchNorm2d(128, eps=1e-05, momentum=0.1, affine=True, track_running_stats=True)\n",
       "      (conv2): Conv2d(128, 128, kernel_size=(3, 3), stride=(1, 1), padding=(1, 1), bias=False)\n",
       "      (bn2): BatchNorm2d(128, eps=1e-05, momentum=0.1, affine=True, track_running_stats=True)\n",
       "      (conv3): Conv2d(128, 512, kernel_size=(1, 1), stride=(1, 1), bias=False)\n",
       "      (bn3): BatchNorm2d(512, eps=1e-05, momentum=0.1, affine=True, track_running_stats=True)\n",
       "      (relu): ReLU(inplace=True)\n",
       "    )\n",
       "    (2): Bottleneck(\n",
       "      (conv1): Conv2d(512, 128, kernel_size=(1, 1), stride=(1, 1), bias=False)\n",
       "      (bn1): BatchNorm2d(128, eps=1e-05, momentum=0.1, affine=True, track_running_stats=True)\n",
       "      (conv2): Conv2d(128, 128, kernel_size=(3, 3), stride=(1, 1), padding=(1, 1), bias=False)\n",
       "      (bn2): BatchNorm2d(128, eps=1e-05, momentum=0.1, affine=True, track_running_stats=True)\n",
       "      (conv3): Conv2d(128, 512, kernel_size=(1, 1), stride=(1, 1), bias=False)\n",
       "      (bn3): BatchNorm2d(512, eps=1e-05, momentum=0.1, affine=True, track_running_stats=True)\n",
       "      (relu): ReLU(inplace=True)\n",
       "    )\n",
       "    (3): Bottleneck(\n",
       "      (conv1): Conv2d(512, 128, kernel_size=(1, 1), stride=(1, 1), bias=False)\n",
       "      (bn1): BatchNorm2d(128, eps=1e-05, momentum=0.1, affine=True, track_running_stats=True)\n",
       "      (conv2): Conv2d(128, 128, kernel_size=(3, 3), stride=(1, 1), padding=(1, 1), bias=False)\n",
       "      (bn2): BatchNorm2d(128, eps=1e-05, momentum=0.1, affine=True, track_running_stats=True)\n",
       "      (conv3): Conv2d(128, 512, kernel_size=(1, 1), stride=(1, 1), bias=False)\n",
       "      (bn3): BatchNorm2d(512, eps=1e-05, momentum=0.1, affine=True, track_running_stats=True)\n",
       "      (relu): ReLU(inplace=True)\n",
       "    )\n",
       "  )\n",
       "  (layer3): Sequential(\n",
       "    (0): Bottleneck(\n",
       "      (conv1): Conv2d(512, 256, kernel_size=(1, 1), stride=(1, 1), bias=False)\n",
       "      (bn1): BatchNorm2d(256, eps=1e-05, momentum=0.1, affine=True, track_running_stats=True)\n",
       "      (conv2): Conv2d(256, 256, kernel_size=(3, 3), stride=(2, 2), padding=(1, 1), bias=False)\n",
       "      (bn2): BatchNorm2d(256, eps=1e-05, momentum=0.1, affine=True, track_running_stats=True)\n",
       "      (conv3): Conv2d(256, 1024, kernel_size=(1, 1), stride=(1, 1), bias=False)\n",
       "      (bn3): BatchNorm2d(1024, eps=1e-05, momentum=0.1, affine=True, track_running_stats=True)\n",
       "      (relu): ReLU(inplace=True)\n",
       "      (downsample): Sequential(\n",
       "        (0): Conv2d(512, 1024, kernel_size=(1, 1), stride=(2, 2), bias=False)\n",
       "        (1): BatchNorm2d(1024, eps=1e-05, momentum=0.1, affine=True, track_running_stats=True)\n",
       "      )\n",
       "    )\n",
       "    (1): Bottleneck(\n",
       "      (conv1): Conv2d(1024, 256, kernel_size=(1, 1), stride=(1, 1), bias=False)\n",
       "      (bn1): BatchNorm2d(256, eps=1e-05, momentum=0.1, affine=True, track_running_stats=True)\n",
       "      (conv2): Conv2d(256, 256, kernel_size=(3, 3), stride=(1, 1), padding=(1, 1), bias=False)\n",
       "      (bn2): BatchNorm2d(256, eps=1e-05, momentum=0.1, affine=True, track_running_stats=True)\n",
       "      (conv3): Conv2d(256, 1024, kernel_size=(1, 1), stride=(1, 1), bias=False)\n",
       "      (bn3): BatchNorm2d(1024, eps=1e-05, momentum=0.1, affine=True, track_running_stats=True)\n",
       "      (relu): ReLU(inplace=True)\n",
       "    )\n",
       "    (2): Bottleneck(\n",
       "      (conv1): Conv2d(1024, 256, kernel_size=(1, 1), stride=(1, 1), bias=False)\n",
       "      (bn1): BatchNorm2d(256, eps=1e-05, momentum=0.1, affine=True, track_running_stats=True)\n",
       "      (conv2): Conv2d(256, 256, kernel_size=(3, 3), stride=(1, 1), padding=(1, 1), bias=False)\n",
       "      (bn2): BatchNorm2d(256, eps=1e-05, momentum=0.1, affine=True, track_running_stats=True)\n",
       "      (conv3): Conv2d(256, 1024, kernel_size=(1, 1), stride=(1, 1), bias=False)\n",
       "      (bn3): BatchNorm2d(1024, eps=1e-05, momentum=0.1, affine=True, track_running_stats=True)\n",
       "      (relu): ReLU(inplace=True)\n",
       "    )\n",
       "    (3): Bottleneck(\n",
       "      (conv1): Conv2d(1024, 256, kernel_size=(1, 1), stride=(1, 1), bias=False)\n",
       "      (bn1): BatchNorm2d(256, eps=1e-05, momentum=0.1, affine=True, track_running_stats=True)\n",
       "      (conv2): Conv2d(256, 256, kernel_size=(3, 3), stride=(1, 1), padding=(1, 1), bias=False)\n",
       "      (bn2): BatchNorm2d(256, eps=1e-05, momentum=0.1, affine=True, track_running_stats=True)\n",
       "      (conv3): Conv2d(256, 1024, kernel_size=(1, 1), stride=(1, 1), bias=False)\n",
       "      (bn3): BatchNorm2d(1024, eps=1e-05, momentum=0.1, affine=True, track_running_stats=True)\n",
       "      (relu): ReLU(inplace=True)\n",
       "    )\n",
       "    (4): Bottleneck(\n",
       "      (conv1): Conv2d(1024, 256, kernel_size=(1, 1), stride=(1, 1), bias=False)\n",
       "      (bn1): BatchNorm2d(256, eps=1e-05, momentum=0.1, affine=True, track_running_stats=True)\n",
       "      (conv2): Conv2d(256, 256, kernel_size=(3, 3), stride=(1, 1), padding=(1, 1), bias=False)\n",
       "      (bn2): BatchNorm2d(256, eps=1e-05, momentum=0.1, affine=True, track_running_stats=True)\n",
       "      (conv3): Conv2d(256, 1024, kernel_size=(1, 1), stride=(1, 1), bias=False)\n",
       "      (bn3): BatchNorm2d(1024, eps=1e-05, momentum=0.1, affine=True, track_running_stats=True)\n",
       "      (relu): ReLU(inplace=True)\n",
       "    )\n",
       "    (5): Bottleneck(\n",
       "      (conv1): Conv2d(1024, 256, kernel_size=(1, 1), stride=(1, 1), bias=False)\n",
       "      (bn1): BatchNorm2d(256, eps=1e-05, momentum=0.1, affine=True, track_running_stats=True)\n",
       "      (conv2): Conv2d(256, 256, kernel_size=(3, 3), stride=(1, 1), padding=(1, 1), bias=False)\n",
       "      (bn2): BatchNorm2d(256, eps=1e-05, momentum=0.1, affine=True, track_running_stats=True)\n",
       "      (conv3): Conv2d(256, 1024, kernel_size=(1, 1), stride=(1, 1), bias=False)\n",
       "      (bn3): BatchNorm2d(1024, eps=1e-05, momentum=0.1, affine=True, track_running_stats=True)\n",
       "      (relu): ReLU(inplace=True)\n",
       "    )\n",
       "  )\n",
       "  (layer4): Sequential(\n",
       "    (0): Bottleneck(\n",
       "      (conv1): Conv2d(1024, 512, kernel_size=(1, 1), stride=(1, 1), bias=False)\n",
       "      (bn1): BatchNorm2d(512, eps=1e-05, momentum=0.1, affine=True, track_running_stats=True)\n",
       "      (conv2): Conv2d(512, 512, kernel_size=(3, 3), stride=(2, 2), padding=(1, 1), bias=False)\n",
       "      (bn2): BatchNorm2d(512, eps=1e-05, momentum=0.1, affine=True, track_running_stats=True)\n",
       "      (conv3): Conv2d(512, 2048, kernel_size=(1, 1), stride=(1, 1), bias=False)\n",
       "      (bn3): BatchNorm2d(2048, eps=1e-05, momentum=0.1, affine=True, track_running_stats=True)\n",
       "      (relu): ReLU(inplace=True)\n",
       "      (downsample): Sequential(\n",
       "        (0): Conv2d(1024, 2048, kernel_size=(1, 1), stride=(2, 2), bias=False)\n",
       "        (1): BatchNorm2d(2048, eps=1e-05, momentum=0.1, affine=True, track_running_stats=True)\n",
       "      )\n",
       "    )\n",
       "    (1): Bottleneck(\n",
       "      (conv1): Conv2d(2048, 512, kernel_size=(1, 1), stride=(1, 1), bias=False)\n",
       "      (bn1): BatchNorm2d(512, eps=1e-05, momentum=0.1, affine=True, track_running_stats=True)\n",
       "      (conv2): Conv2d(512, 512, kernel_size=(3, 3), stride=(1, 1), padding=(1, 1), bias=False)\n",
       "      (bn2): BatchNorm2d(512, eps=1e-05, momentum=0.1, affine=True, track_running_stats=True)\n",
       "      (conv3): Conv2d(512, 2048, kernel_size=(1, 1), stride=(1, 1), bias=False)\n",
       "      (bn3): BatchNorm2d(2048, eps=1e-05, momentum=0.1, affine=True, track_running_stats=True)\n",
       "      (relu): ReLU(inplace=True)\n",
       "    )\n",
       "    (2): Bottleneck(\n",
       "      (conv1): Conv2d(2048, 512, kernel_size=(1, 1), stride=(1, 1), bias=False)\n",
       "      (bn1): BatchNorm2d(512, eps=1e-05, momentum=0.1, affine=True, track_running_stats=True)\n",
       "      (conv2): Conv2d(512, 512, kernel_size=(3, 3), stride=(1, 1), padding=(1, 1), bias=False)\n",
       "      (bn2): BatchNorm2d(512, eps=1e-05, momentum=0.1, affine=True, track_running_stats=True)\n",
       "      (conv3): Conv2d(512, 2048, kernel_size=(1, 1), stride=(1, 1), bias=False)\n",
       "      (bn3): BatchNorm2d(2048, eps=1e-05, momentum=0.1, affine=True, track_running_stats=True)\n",
       "      (relu): ReLU(inplace=True)\n",
       "    )\n",
       "  )\n",
       "  (avgpool): AdaptiveAvgPool2d(output_size=(1, 1))\n",
       "  (fc): Sequential(\n",
       "    (0): Linear(in_features=2048, out_features=512, bias=True)\n",
       "    (1): BatchNorm1d(512, eps=1e-05, momentum=0.1, affine=True, track_running_stats=True)\n",
       "    (2): ReLU()\n",
       "    (3): Dropout(p=0.4, inplace=False)\n",
       "    (4): Linear(in_features=512, out_features=256, bias=True)\n",
       "    (5): BatchNorm1d(256, eps=1e-05, momentum=0.1, affine=True, track_running_stats=True)\n",
       "    (6): ReLU()\n",
       "    (7): Dropout(p=0.4, inplace=False)\n",
       "    (8): Linear(in_features=256, out_features=20, bias=True)\n",
       "    (9): Sigmoid()\n",
       "  )\n",
       ")"
      ]
     },
     "execution_count": 32,
     "metadata": {},
     "output_type": "execute_result"
    }
   ],
   "source": [
    "model = models.resnet50(weights='IMAGENET1K_V2') \n",
    "model.fc = nn.Sequential(\n",
    "    nn.Linear(model.fc.in_features, 512),  # to reduce complexity gradually (2048, 512)\n",
    "    nn.BatchNorm1d(512),\n",
    "    nn.ReLU(), \n",
    "    nn.Dropout(0.4),\n",
    "    nn.Linear(512, 256), \n",
    "    nn.BatchNorm1d(256),\n",
    "    nn.ReLU(), \n",
    "    nn.Dropout(0.4),\n",
    "    nn.Linear(256, num_classes),  # Exclude 'id', 20 different categories\n",
    "    nn.Sigmoid()  # Sigmoid for multi-label classification\n",
    ")\n",
    "\n",
    "device = torch.device('cuda' if torch.cuda.is_available() else 'cpu')\n",
    "print(device)\n",
    "\n",
    "model.to(device)"
   ]
  },
  {
   "cell_type": "markdown",
   "id": "ebd5888561ce6ee3",
   "metadata": {},
   "source": [
    "### Step 5: Train, Validate and test the model"
   ]
  },
  {
   "cell_type": "markdown",
   "id": "1c917d6089b26bca",
   "metadata": {},
   "source": [
    "[Referance about BCEWithLogitsLoss()](https://medium.com/@sahilcarterr/why-nn-bcewithlogitsloss-numerically-stable-6a04f3052967)\n",
    "\n",
    "nn.BCEWithLogitsLoss():\n",
    "\n",
    "1. This loss function is more efficient because it combines the sigmoid activation and binary cross-entropy loss into a single function.\n",
    "2. It expects the raw logits (not passed through sigmoid) as input and applies the sigmoid internally.\n",
    "3. It's numerically more stable and faster than using nn.BCELoss() with a separate sigmoid.\n",
    "\n",
    "nn.BCELoss():\n",
    "\n",
    "1. This loss function expects the model's output to be probabilities in the range [0, 1], so it requires you to apply a sigmoid activation to the model's output beforehand.\n",
    "2. The formula for binary cross-entropy is applied after transforming the raw logits into probabilities using the sigmoid function."
   ]
  },
  {
   "cell_type": "markdown",
   "id": "d3224a10-8a9b-46c7-a6dc-efae37187e01",
   "metadata": {},
   "source": [
    "***Define weighted classes***"
   ]
  },
  {
   "cell_type": "code",
   "execution_count": 33,
   "id": "f9e96f0a-d427-4a64-af7e-9524f41c7c88",
   "metadata": {},
   "outputs": [
    {
     "data": {
      "text/plain": [
       "finding_encoded\n",
       "0     3301\n",
       "1     1029\n",
       "2     1582\n",
       "3      700\n",
       "4     3394\n",
       "5      911\n",
       "6      793\n",
       "7       90\n",
       "8     4117\n",
       "9     2574\n",
       "10    3023\n",
       "11    1388\n",
       "12     455\n",
       "13    1704\n",
       "14     136\n",
       "15      58\n",
       "16     626\n",
       "17     456\n",
       "18     262\n",
       "19    5822\n",
       "Name: count, dtype: int64"
      ]
     },
     "execution_count": 33,
     "metadata": {},
     "output_type": "execute_result"
    }
   ],
   "source": [
    "categories  = train_df['finding_encoded'].str.split(',').explode().value_counts()\n",
    "categories.index = categories.index.astype(int)\n",
    "categories = categories.sort_index()\n",
    "categories"
   ]
  },
  {
   "cell_type": "code",
   "execution_count": 34,
   "id": "c14fc83c-6561-4ed7-a9cb-7809d78ce2be",
   "metadata": {},
   "outputs": [
    {
     "data": {
      "text/plain": [
       "24520"
      ]
     },
     "execution_count": 34,
     "metadata": {},
     "output_type": "execute_result"
    }
   ],
   "source": [
    "total = len(train_df)\n",
    "total"
   ]
  },
  {
   "cell_type": "code",
   "execution_count": 35,
   "id": "d55a88c7-0fae-44db-90c0-ab2bc3e2585f",
   "metadata": {},
   "outputs": [
    {
     "data": {
      "text/plain": [
       "finding_encoded\n",
       "0     0.134625\n",
       "1     0.041966\n",
       "2     0.064519\n",
       "3     0.028548\n",
       "4     0.138418\n",
       "5     0.037153\n",
       "6     0.032341\n",
       "7     0.003670\n",
       "8     0.167904\n",
       "9     0.104976\n",
       "10    0.123287\n",
       "11    0.056607\n",
       "12    0.018556\n",
       "13    0.069494\n",
       "14    0.005546\n",
       "15    0.002365\n",
       "16    0.025530\n",
       "17    0.018597\n",
       "18    0.010685\n",
       "19    0.237439\n",
       "Name: count, dtype: float64"
      ]
     },
     "execution_count": 35,
     "metadata": {},
     "output_type": "execute_result"
    }
   ],
   "source": [
    "proportions =  categories / total\n",
    "proportions"
   ]
  },
  {
   "cell_type": "code",
   "execution_count": 36,
   "id": "442e7257-b678-4455-a8c0-415f2302742a",
   "metadata": {},
   "outputs": [
    {
     "data": {
      "text/plain": [
       "finding_encoded\n",
       "0       7.428052\n",
       "1      23.828960\n",
       "2      15.499368\n",
       "3      35.028571\n",
       "4       7.224514\n",
       "5      26.915477\n",
       "6      30.920555\n",
       "7     272.444444\n",
       "8       5.955793\n",
       "9       9.526030\n",
       "10      8.111148\n",
       "11     17.665706\n",
       "12     53.890110\n",
       "13     14.389671\n",
       "14    180.294118\n",
       "15    422.758621\n",
       "16     39.169329\n",
       "17     53.771930\n",
       "18     93.587786\n",
       "19      4.211611\n",
       "Name: count, dtype: float64"
      ]
     },
     "execution_count": 36,
     "metadata": {},
     "output_type": "execute_result"
    }
   ],
   "source": [
    "weights = 1 / proportions\n",
    "weights"
   ]
  },
  {
   "cell_type": "code",
   "execution_count": 37,
   "id": "b3b2a6c1-fac3-4ec1-94e6-d3232b122c73",
   "metadata": {},
   "outputs": [
    {
     "data": {
      "text/plain": [
       "finding_encoded\n",
       "0     0.005616\n",
       "1     0.018016\n",
       "2     0.011719\n",
       "3     0.026484\n",
       "4     0.005462\n",
       "5     0.020350\n",
       "6     0.023378\n",
       "7     0.205988\n",
       "8     0.004503\n",
       "9     0.007202\n",
       "10    0.006133\n",
       "11    0.013357\n",
       "12    0.040745\n",
       "13    0.010880\n",
       "14    0.136316\n",
       "15    0.319637\n",
       "16    0.029615\n",
       "17    0.040656\n",
       "18    0.070759\n",
       "19    0.003184\n",
       "Name: count, dtype: float64"
      ]
     },
     "execution_count": 37,
     "metadata": {},
     "output_type": "execute_result"
    }
   ],
   "source": [
    "normalized_weights = weights / weights.sum()\n",
    "normalized_weights"
   ]
  },
  {
   "cell_type": "code",
   "execution_count": 38,
   "id": "e6df1375-d117-4e36-a20a-8a73084cf8b5",
   "metadata": {},
   "outputs": [
    {
     "data": {
      "text/plain": [
       "tensor([  7.4281,  23.8290,  15.4994,  35.0286,   7.2245,  26.9155,  30.9206,\n",
       "        272.4445,   5.9558,   9.5260,   8.1111,  17.6657,  53.8901,  14.3897,\n",
       "        180.2941, 422.7586,  39.1693,  53.7719,  93.5878,   4.2116],\n",
       "       device='cuda:0')"
      ]
     },
     "execution_count": 38,
     "metadata": {},
     "output_type": "execute_result"
    }
   ],
   "source": [
    "weights_tensor = torch.tensor(weights.values, dtype=torch.float32).to(device)\n",
    "weights_tensor"
   ]
  },
  {
   "cell_type": "code",
   "execution_count": 39,
   "id": "67cf52d58324dd99",
   "metadata": {
    "ExecuteTime": {
     "end_time": "2024-11-10T14:51:18.265595Z",
     "start_time": "2024-11-10T14:51:18.263226Z"
    }
   },
   "outputs": [],
   "source": [
    "# Use BCEWithLogitsLoss for multi-label classification\n",
    "criterion = nn.BCEWithLogitsLoss(pos_weight=weights_tensor)   # Combined Sigmoid + Binary Cross-Entropy Loss"
   ]
  },
  {
   "cell_type": "code",
   "execution_count": 40,
   "id": "19d9bd214485c5db",
   "metadata": {
    "ExecuteTime": {
     "end_time": "2024-11-10T14:51:18.295497Z",
     "start_time": "2024-11-10T14:51:18.292609Z"
    }
   },
   "outputs": [],
   "source": [
    "#optimizer = torch.optim.Adam(model.parameters(), lr=0.001)\n",
    "\n",
    "#scheduler = torch.optim.lr_scheduler.StepLR(optimizer, step_size=5, gamma=0.9) "
   ]
  },
  {
   "cell_type": "code",
   "execution_count": 41,
   "id": "3fb0c7c5-049b-4795-a80c-31faa2444d09",
   "metadata": {},
   "outputs": [],
   "source": [
    "optimizer = torch.optim.AdamW(model.parameters(), lr=0.001, weight_decay=1e-7)\n",
    "#optimizer = optim.SGD(model.parameters(), lr=0.0001, momentum=0.85)\n",
    "lookahead_optimizer = optim_mod.Lookahead(optimizer, k=5, alpha=0.5)\n",
    "\n",
    "scheduler = ReduceLROnPlateau(optimizer, mode='min', patience=5, factor=0.7)"
   ]
  },
  {
   "cell_type": "code",
   "execution_count": 42,
   "id": "e186b7feb8fd449b",
   "metadata": {
    "ExecuteTime": {
     "end_time": "2024-11-10T16:19:46.917355Z",
     "start_time": "2024-11-10T16:19:46.913493Z"
    }
   },
   "outputs": [],
   "source": [
    "# Initialize lists to store loss and accuracy per epoch\n",
    "train_losses = []\n",
    "val_losses = []\n",
    "train_accuracies = []\n",
    "val_accuracies = []\n",
    "\n",
    "threshold = 0.5"
   ]
  },
  {
   "cell_type": "code",
   "execution_count": 43,
   "id": "f1d71fdcda40f48",
   "metadata": {
    "ExecuteTime": {
     "end_time": "2024-11-10T16:20:56.440991Z",
     "start_time": "2024-11-10T16:20:56.436097Z"
    }
   },
   "outputs": [],
   "source": [
    "def train(model, dataloader, criterion, optimizer, device):\n",
    "    model.train()\n",
    "    running_loss = 0.0\n",
    "    all_preds = []\n",
    "    all_labels = []\n",
    "\n",
    "    for images, labels, _ in tqdm(dataloader, desc=\"Training\"):\n",
    "        images, labels = images.to(device), labels.to(device)\n",
    "        optimizer.zero_grad()\n",
    "\n",
    "        outputs = model(images)\n",
    "        loss = criterion(outputs, labels.float())\n",
    "        running_loss += loss.item()\n",
    "\n",
    "        loss.backward()\n",
    "        optimizer.step()\n",
    "\n",
    "        all_preds.append(torch.sigmoid(outputs).detach().cpu())\n",
    "        all_labels.append(labels.cpu())\n",
    "\n",
    "    all_preds = torch.cat(all_preds).numpy()\n",
    "    all_labels = torch.cat(all_labels).numpy()\n",
    "    \n",
    "    # Print each label, prediction, and corresponding pos_weight (for debug and ensure everything as excepted)\n",
    "        #preds = torch.sigmoid(outputs).detach().cpu()\n",
    "        #for i in range(len(labels)):  # Loop through each image in the batch\n",
    "            #label = labels[i].cpu().numpy()\n",
    "            #pred = preds[i].numpy()\n",
    "            #print(f\"Label: {label}, Prediction: {pred}, Pos_Weight: {weights_tensor.cpu().numpy()}\")\n",
    "\n",
    "    # Calculate F1 scores and thresholds for each class\n",
    "    best_thresholds = []\n",
    "    for i in range(all_labels.shape[1]):\n",
    "        precision, recall, thresholds = precision_recall_curve(all_labels[:, i], all_preds[:, i])\n",
    "        f1_scores = 2 * (precision * recall) / (precision + recall + 1e-8)\n",
    "        best_threshold = thresholds[np.argmax(f1_scores)]\n",
    "        best_thresholds.append(best_threshold)\n",
    "\n",
    "    # Apply class-specific thresholds\n",
    "    thresholded_preds = np.column_stack([(all_preds[:, i] > best_thresholds[i]).astype(float) for i in range(all_labels.shape[1])])\n",
    "\n",
    "    correct_predictions = (thresholded_preds == all_labels).all(axis=1).sum()\n",
    "    avg_loss = running_loss / len(dataloader)\n",
    "    avg_accuracy = (correct_predictions / all_labels.shape[0]) * 100\n",
    "\n",
    "    report = classification_report(all_labels, thresholded_preds, zero_division=0, output_dict=True)\n",
    "    precision, recall, f1 = report['macro avg']['precision'], report['macro avg']['recall'], report['macro avg']['f1-score']\n",
    "\n",
    "    return avg_loss, avg_accuracy, precision, recall, f1, best_thresholds, correct_predictions\n"
   ]
  },
  {
   "cell_type": "code",
   "execution_count": 44,
   "id": "cfe66ca8682a5d2d",
   "metadata": {
    "ExecuteTime": {
     "end_time": "2024-11-10T16:21:01.873748Z",
     "start_time": "2024-11-10T16:21:01.868748Z"
    }
   },
   "outputs": [],
   "source": [
    "def validate(model, dataloader, criterion, device, best_thresholds):\n",
    "    model.eval()\n",
    "    running_loss = 0.0\n",
    "    all_preds = []\n",
    "    all_labels = []\n",
    "\n",
    "    with torch.no_grad():\n",
    "        for images, labels, _ in tqdm(dataloader, desc=\"Validating\"):\n",
    "            images, labels = images.to(device), labels.to(device)\n",
    "            outputs = model(images)\n",
    "            loss = criterion(outputs, labels.float())\n",
    "            running_loss += loss.item()\n",
    "\n",
    "            all_preds.append(torch.sigmoid(outputs).cpu())\n",
    "            all_labels.append(labels.cpu())\n",
    "\n",
    "    all_preds = torch.cat(all_preds).numpy()\n",
    "    all_labels = torch.cat(all_labels).numpy()\n",
    "\n",
    "    # Apply class-specific thresholds\n",
    "    thresholded_preds = np.column_stack([(all_preds[:, i] > best_thresholds[i]).astype(float) for i in range(all_labels.shape[1])])\n",
    "\n",
    "    correct_predictions = (thresholded_preds == all_labels).all(axis=1).sum()\n",
    "    avg_loss = running_loss / len(dataloader)\n",
    "    avg_accuracy = (correct_predictions / all_labels.shape[0]) * 100\n",
    "\n",
    "    report = classification_report(all_labels, thresholded_preds, zero_division=0, output_dict=True)\n",
    "    precision, recall, f1 = report['macro avg']['precision'], report['macro avg']['recall'], report['macro avg']['f1-score']\n",
    "\n",
    "    return avg_loss, avg_accuracy, precision, recall, f1, correct_predictions"
   ]
  },
  {
   "cell_type": "code",
   "execution_count": 45,
   "id": "10426519-66bd-4eaf-a044-d0326ccace57",
   "metadata": {},
   "outputs": [],
   "source": [
    "def test(model, dataloader, criterion, device, label_names, best_thresholds):\n",
    "    model.eval()\n",
    "    running_loss = 0.0\n",
    "    all_preds = []\n",
    "    all_labels = []\n",
    "\n",
    "    with torch.no_grad():\n",
    "        for images, labels, _ in tqdm(dataloader, desc=\"Testing\"):\n",
    "            images, labels = images.to(device), labels.to(device)\n",
    "            outputs = model(images)\n",
    "            loss = criterion(outputs, labels.float())\n",
    "            running_loss += loss.item()\n",
    "\n",
    "            all_preds.append(torch.sigmoid(outputs).cpu())\n",
    "            all_labels.append(labels.cpu())\n",
    "\n",
    "    all_preds = torch.cat(all_preds).numpy()\n",
    "    all_labels = torch.cat(all_labels).numpy()\n",
    "\n",
    "    # Dynamic threshold for each label based on train data\n",
    "    thresholded_preds = np.column_stack([(all_preds[:, i] > best_thresholds[i]).astype(float) for i in range(all_labels.shape[1])])\n",
    "\n",
    "    print(\"\\nFinding Best Thresholds for Each Class (Reported Only):\")\n",
    "    for i, threshold in enumerate(best_thresholds):\n",
    "        print(f\"Class '{label_names[i]}': Best Threshold = {threshold:.4f}\")\n",
    "\n",
    "    default_preds = (all_preds > 0.5).astype(float)\n",
    "\n",
    "    print(\"\\nClassification Report with Best Thresholds:\")\n",
    "    report_best = classification_report(all_labels, thresholded_preds, target_names=label_names, zero_division=0)\n",
    "    print(report_best)\n",
    "\n",
    "    print(\"\\nClassification Report with Default Threshold (0.5):\")\n",
    "    report_default = classification_report(all_labels, default_preds, target_names=label_names, zero_division=0)\n",
    "    print(report_default)\n",
    "\n",
    "    avg_loss = running_loss / len(dataloader)\n",
    "\n",
    "    return avg_loss, report_best, report_default, best_thresholds"
   ]
  },
  {
   "cell_type": "code",
   "execution_count": 46,
   "id": "c94a5ce0-1b90-4c7c-ae11-628973243d3e",
   "metadata": {
    "ExecuteTime": {
     "end_time": "2024-11-10T14:52:46.171949Z",
     "start_time": "2024-11-10T14:51:18.452045Z"
    }
   },
   "outputs": [],
   "source": [
    "num_epochs = 100\n",
    "\n",
    "# Early stopping parameters\n",
    "patience = 7 # wait \n",
    "best_val = float(\"inf\")\n",
    "epochs_no_improve = 0\n",
    "\n",
    "# for plotting\n",
    "num_epochs_runned = 0"
   ]
  },
  {
   "cell_type": "code",
   "execution_count": 47,
   "id": "3f35e36e-0752-4172-b86f-a6a713b9b3ab",
   "metadata": {
    "ExecuteTime": {
     "end_time": "2024-11-10T14:52:46.171949Z",
     "start_time": "2024-11-10T14:51:18.452045Z"
    }
   },
   "outputs": [
    {
     "name": "stdout",
     "output_type": "stream",
     "text": [
      "Epoch [1/100]\n"
     ]
    },
    {
     "name": "stderr",
     "output_type": "stream",
     "text": [
      "Training: 100%|██████████| 384/384 [01:53<00:00,  3.39it/s]\n"
     ]
    },
    {
     "name": "stdout",
     "output_type": "stream",
     "text": [
      "Train Loss: 1.3137, Train Accuracy: 10.5873, Train Precision: 0.0937, Train Recall: 0.2750, Train F1: 0.1177, Train Best Threshold: 0.5989, Train correct predictions: 2596\n"
     ]
    },
    {
     "name": "stderr",
     "output_type": "stream",
     "text": [
      "Validating: 100%|██████████| 99/99 [00:31<00:00,  3.18it/s]\n"
     ]
    },
    {
     "name": "stdout",
     "output_type": "stream",
     "text": [
      "Total prediction: 6329  Correct preds: 791  all labels size: (6329, 20)\n",
      "Val Loss: 1.2911, Val Accuracy: 12.4980, Val Precision: 0.0945, Val Recall: 0.2704, Val F1: 0.1253, Val correct predictions: 791\n",
      "Epoch 1: Learning rate = 0.001\n",
      "Model improved and saved.\n",
      "------------------------------------------------------------\n",
      "Epoch [2/100]\n"
     ]
    },
    {
     "name": "stderr",
     "output_type": "stream",
     "text": [
      "Training: 100%|██████████| 384/384 [01:54<00:00,  3.35it/s]\n"
     ]
    },
    {
     "name": "stdout",
     "output_type": "stream",
     "text": [
      "Train Loss: 1.3037, Train Accuracy: 9.6003, Train Precision: 0.1018, Train Recall: 0.3150, Train F1: 0.1303, Train Best Threshold: 0.5964, Train correct predictions: 2354\n"
     ]
    },
    {
     "name": "stderr",
     "output_type": "stream",
     "text": [
      "Validating: 100%|██████████| 99/99 [00:31<00:00,  3.16it/s]\n"
     ]
    },
    {
     "name": "stdout",
     "output_type": "stream",
     "text": [
      "Total prediction: 6329  Correct preds: 317  all labels size: (6329, 20)\n",
      "Val Loss: 1.3195, Val Accuracy: 5.0087, Val Precision: 0.0782, Val Recall: 0.3380, Val F1: 0.0977, Val correct predictions: 317\n",
      "Epoch 2: Learning rate = 0.001\n",
      "Model did not improved\n",
      "------------------------------------------------------------\n",
      "Epoch [3/100]\n"
     ]
    },
    {
     "name": "stderr",
     "output_type": "stream",
     "text": [
      "Training: 100%|██████████| 384/384 [01:54<00:00,  3.34it/s]\n"
     ]
    },
    {
     "name": "stdout",
     "output_type": "stream",
     "text": [
      "Train Loss: 1.3030, Train Accuracy: 9.0008, Train Precision: 0.0967, Train Recall: 0.3792, Train F1: 0.1350, Train Best Threshold: 0.5679, Train correct predictions: 2207\n"
     ]
    },
    {
     "name": "stderr",
     "output_type": "stream",
     "text": [
      "Validating: 100%|██████████| 99/99 [00:31<00:00,  3.17it/s]\n"
     ]
    },
    {
     "name": "stdout",
     "output_type": "stream",
     "text": [
      "Total prediction: 6329  Correct preds: 546  all labels size: (6329, 20)\n",
      "Val Loss: 1.2865, Val Accuracy: 8.6270, Val Precision: 0.0913, Val Recall: 0.4296, Val F1: 0.1354, Val correct predictions: 546\n",
      "Epoch 3: Learning rate = 0.001\n",
      "Model improved and saved.\n",
      "------------------------------------------------------------\n",
      "Epoch [4/100]\n"
     ]
    },
    {
     "name": "stderr",
     "output_type": "stream",
     "text": [
      "Training: 100%|██████████| 384/384 [01:54<00:00,  3.34it/s]\n"
     ]
    },
    {
     "name": "stdout",
     "output_type": "stream",
     "text": [
      "Train Loss: 1.3051, Train Accuracy: 10.0000, Train Precision: 0.0991, Train Recall: 0.3077, Train F1: 0.1280, Train Best Threshold: 0.5949, Train correct predictions: 2452\n"
     ]
    },
    {
     "name": "stderr",
     "output_type": "stream",
     "text": [
      "Validating: 100%|██████████| 99/99 [00:31<00:00,  3.16it/s]\n"
     ]
    },
    {
     "name": "stdout",
     "output_type": "stream",
     "text": [
      "Total prediction: 6329  Correct preds: 903  all labels size: (6329, 20)\n",
      "Val Loss: 1.2966, Val Accuracy: 14.2677, Val Precision: 0.0957, Val Recall: 0.2166, Val F1: 0.1107, Val correct predictions: 903\n",
      "Epoch 4: Learning rate = 0.001\n",
      "Model did not improved\n",
      "------------------------------------------------------------\n",
      "Epoch [5/100]\n"
     ]
    },
    {
     "name": "stderr",
     "output_type": "stream",
     "text": [
      "Training: 100%|██████████| 384/384 [01:54<00:00,  3.35it/s]\n"
     ]
    },
    {
     "name": "stdout",
     "output_type": "stream",
     "text": [
      "Train Loss: 1.2962, Train Accuracy: 8.1240, Train Precision: 0.1030, Train Recall: 0.4065, Train F1: 0.1448, Train Best Threshold: 0.5753, Train correct predictions: 1992\n"
     ]
    },
    {
     "name": "stderr",
     "output_type": "stream",
     "text": [
      "Validating: 100%|██████████| 99/99 [00:31<00:00,  3.10it/s]\n"
     ]
    },
    {
     "name": "stdout",
     "output_type": "stream",
     "text": [
      "Total prediction: 6329  Correct preds: 128  all labels size: (6329, 20)\n",
      "Val Loss: 1.3187, Val Accuracy: 2.0224, Val Precision: 0.0895, Val Recall: 0.4596, Val F1: 0.1147, Val correct predictions: 128\n",
      "Epoch 5: Learning rate = 0.001\n",
      "Model did not improved\n",
      "------------------------------------------------------------\n",
      "Epoch [6/100]\n"
     ]
    },
    {
     "name": "stderr",
     "output_type": "stream",
     "text": [
      "Training: 100%|██████████| 384/384 [01:54<00:00,  3.35it/s]\n"
     ]
    },
    {
     "name": "stdout",
     "output_type": "stream",
     "text": [
      "Train Loss: 1.2910, Train Accuracy: 9.1272, Train Precision: 0.1072, Train Recall: 0.4115, Train F1: 0.1507, Train Best Threshold: 0.5847, Train correct predictions: 2238\n"
     ]
    },
    {
     "name": "stderr",
     "output_type": "stream",
     "text": [
      "Validating: 100%|██████████| 99/99 [00:31<00:00,  3.16it/s]\n"
     ]
    },
    {
     "name": "stdout",
     "output_type": "stream",
     "text": [
      "Total prediction: 6329  Correct preds: 766  all labels size: (6329, 20)\n",
      "Val Loss: 1.2815, Val Accuracy: 12.1030, Val Precision: 0.1028, Val Recall: 0.3363, Val F1: 0.1353, Val correct predictions: 766\n",
      "Epoch 6: Learning rate = 0.001\n",
      "Model improved and saved.\n",
      "------------------------------------------------------------\n",
      "Epoch [7/100]\n"
     ]
    },
    {
     "name": "stderr",
     "output_type": "stream",
     "text": [
      "Training: 100%|██████████| 384/384 [01:54<00:00,  3.35it/s]\n"
     ]
    },
    {
     "name": "stdout",
     "output_type": "stream",
     "text": [
      "Train Loss: 1.3031, Train Accuracy: 8.7928, Train Precision: 0.0963, Train Recall: 0.4104, Train F1: 0.1382, Train Best Threshold: 0.5652, Train correct predictions: 2156\n"
     ]
    },
    {
     "name": "stderr",
     "output_type": "stream",
     "text": [
      "Validating: 100%|██████████| 99/99 [00:31<00:00,  3.13it/s]\n"
     ]
    },
    {
     "name": "stdout",
     "output_type": "stream",
     "text": [
      "Total prediction: 6329  Correct preds: 8  all labels size: (6329, 20)\n",
      "Val Loss: 1.3435, Val Accuracy: 0.1264, Val Precision: 0.1011, Val Recall: 0.3231, Val F1: 0.0773, Val correct predictions: 8\n",
      "Epoch 7: Learning rate = 0.001\n",
      "Model did not improved\n",
      "------------------------------------------------------------\n",
      "Epoch [8/100]\n"
     ]
    },
    {
     "name": "stderr",
     "output_type": "stream",
     "text": [
      "Training: 100%|██████████| 384/384 [01:54<00:00,  3.36it/s]\n"
     ]
    },
    {
     "name": "stdout",
     "output_type": "stream",
     "text": [
      "Train Loss: 1.3015, Train Accuracy: 7.0473, Train Precision: 0.0979, Train Recall: 0.4118, Train F1: 0.1421, Train Best Threshold: 0.5661, Train correct predictions: 1728\n"
     ]
    },
    {
     "name": "stderr",
     "output_type": "stream",
     "text": [
      "Validating: 100%|██████████| 99/99 [00:31<00:00,  3.16it/s]\n"
     ]
    },
    {
     "name": "stdout",
     "output_type": "stream",
     "text": [
      "Total prediction: 6329  Correct preds: 62  all labels size: (6329, 20)\n",
      "Val Loss: 1.3190, Val Accuracy: 0.9796, Val Precision: 0.0794, Val Recall: 0.3838, Val F1: 0.1124, Val correct predictions: 62\n",
      "Epoch 8: Learning rate = 0.001\n",
      "Model did not improved\n",
      "------------------------------------------------------------\n",
      "Epoch [9/100]\n"
     ]
    },
    {
     "name": "stderr",
     "output_type": "stream",
     "text": [
      "Training: 100%|██████████| 384/384 [01:53<00:00,  3.37it/s]\n"
     ]
    },
    {
     "name": "stdout",
     "output_type": "stream",
     "text": [
      "Train Loss: 1.3036, Train Accuracy: 7.0432, Train Precision: 0.0954, Train Recall: 0.4260, Train F1: 0.1409, Train Best Threshold: 0.5578, Train correct predictions: 1727\n"
     ]
    },
    {
     "name": "stderr",
     "output_type": "stream",
     "text": [
      "Validating: 100%|██████████| 99/99 [00:31<00:00,  3.15it/s]\n"
     ]
    },
    {
     "name": "stdout",
     "output_type": "stream",
     "text": [
      "Total prediction: 6329  Correct preds: 699  all labels size: (6329, 20)\n",
      "Val Loss: 1.2970, Val Accuracy: 11.0444, Val Precision: 0.0877, Val Recall: 0.3562, Val F1: 0.1227, Val correct predictions: 699\n",
      "Epoch 9: Learning rate = 0.001\n",
      "Model did not improved\n",
      "------------------------------------------------------------\n",
      "Epoch [10/100]\n"
     ]
    },
    {
     "name": "stderr",
     "output_type": "stream",
     "text": [
      "Training: 100%|██████████| 384/384 [01:54<00:00,  3.35it/s]\n"
     ]
    },
    {
     "name": "stdout",
     "output_type": "stream",
     "text": [
      "Train Loss: 1.2933, Train Accuracy: 9.0294, Train Precision: 0.1041, Train Recall: 0.4204, Train F1: 0.1477, Train Best Threshold: 0.5783, Train correct predictions: 2214\n"
     ]
    },
    {
     "name": "stderr",
     "output_type": "stream",
     "text": [
      "Validating: 100%|██████████| 99/99 [00:31<00:00,  3.18it/s]\n"
     ]
    },
    {
     "name": "stdout",
     "output_type": "stream",
     "text": [
      "Total prediction: 6329  Correct preds: 384  all labels size: (6329, 20)\n",
      "Val Loss: 1.2785, Val Accuracy: 6.0673, Val Precision: 0.1022, Val Recall: 0.4132, Val F1: 0.1430, Val correct predictions: 384\n",
      "Epoch 10: Learning rate = 0.001\n",
      "Model improved and saved.\n",
      "------------------------------------------------------------\n",
      "Epoch [11/100]\n"
     ]
    },
    {
     "name": "stderr",
     "output_type": "stream",
     "text": [
      "Training: 100%|██████████| 384/384 [01:55<00:00,  3.34it/s]\n"
     ]
    },
    {
     "name": "stdout",
     "output_type": "stream",
     "text": [
      "Train Loss: 1.2842, Train Accuracy: 10.3140, Train Precision: 0.1093, Train Recall: 0.3939, Train F1: 0.1471, Train Best Threshold: 0.5958, Train correct predictions: 2529\n"
     ]
    },
    {
     "name": "stderr",
     "output_type": "stream",
     "text": [
      "Validating: 100%|██████████| 99/99 [00:31<00:00,  3.18it/s]\n"
     ]
    },
    {
     "name": "stdout",
     "output_type": "stream",
     "text": [
      "Total prediction: 6329  Correct preds: 152  all labels size: (6329, 20)\n",
      "Val Loss: 1.2877, Val Accuracy: 2.4016, Val Precision: 0.0995, Val Recall: 0.4776, Val F1: 0.1277, Val correct predictions: 152\n",
      "Epoch 11: Learning rate = 0.001\n",
      "Model did not improved\n",
      "------------------------------------------------------------\n",
      "Epoch [12/100]\n"
     ]
    },
    {
     "name": "stderr",
     "output_type": "stream",
     "text": [
      "Training: 100%|██████████| 384/384 [01:54<00:00,  3.35it/s]\n"
     ]
    },
    {
     "name": "stdout",
     "output_type": "stream",
     "text": [
      "Train Loss: 1.3095, Train Accuracy: 6.1542, Train Precision: 0.0956, Train Recall: 0.3323, Train F1: 0.1300, Train Best Threshold: 0.5748, Train correct predictions: 1509\n"
     ]
    },
    {
     "name": "stderr",
     "output_type": "stream",
     "text": [
      "Validating: 100%|██████████| 99/99 [00:31<00:00,  3.14it/s]\n"
     ]
    },
    {
     "name": "stdout",
     "output_type": "stream",
     "text": [
      "Total prediction: 6329  Correct preds: 334  all labels size: (6329, 20)\n",
      "Val Loss: 1.3208, Val Accuracy: 5.2773, Val Precision: 0.0760, Val Recall: 0.2395, Val F1: 0.0867, Val correct predictions: 334\n",
      "Epoch 12: Learning rate = 0.001\n",
      "Model did not improved\n",
      "------------------------------------------------------------\n",
      "Epoch [13/100]\n"
     ]
    },
    {
     "name": "stderr",
     "output_type": "stream",
     "text": [
      "Training: 100%|██████████| 384/384 [01:55<00:00,  3.34it/s]\n"
     ]
    },
    {
     "name": "stdout",
     "output_type": "stream",
     "text": [
      "Train Loss: 1.3038, Train Accuracy: 4.1721, Train Precision: 0.0947, Train Recall: 0.3764, Train F1: 0.1331, Train Best Threshold: 0.5655, Train correct predictions: 1023\n"
     ]
    },
    {
     "name": "stderr",
     "output_type": "stream",
     "text": [
      "Validating: 100%|██████████| 99/99 [00:31<00:00,  3.19it/s]\n"
     ]
    },
    {
     "name": "stdout",
     "output_type": "stream",
     "text": [
      "Total prediction: 6329  Correct preds: 395  all labels size: (6329, 20)\n",
      "Val Loss: 1.2880, Val Accuracy: 6.2411, Val Precision: 0.0977, Val Recall: 0.3043, Val F1: 0.1249, Val correct predictions: 395\n",
      "Epoch 13: Learning rate = 0.001\n",
      "Model did not improved\n",
      "------------------------------------------------------------\n",
      "Epoch [14/100]\n"
     ]
    },
    {
     "name": "stderr",
     "output_type": "stream",
     "text": [
      "Training: 100%|██████████| 384/384 [01:55<00:00,  3.33it/s]\n"
     ]
    },
    {
     "name": "stdout",
     "output_type": "stream",
     "text": [
      "Train Loss: 1.2902, Train Accuracy: 8.8214, Train Precision: 0.1060, Train Recall: 0.3728, Train F1: 0.1432, Train Best Threshold: 0.5913, Train correct predictions: 2163\n"
     ]
    },
    {
     "name": "stderr",
     "output_type": "stream",
     "text": [
      "Validating: 100%|██████████| 99/99 [00:31<00:00,  3.15it/s]\n"
     ]
    },
    {
     "name": "stdout",
     "output_type": "stream",
     "text": [
      "Total prediction: 6329  Correct preds: 545  all labels size: (6329, 20)\n",
      "Val Loss: 1.2954, Val Accuracy: 8.6112, Val Precision: 0.0949, Val Recall: 0.3058, Val F1: 0.1179, Val correct predictions: 545\n",
      "Epoch 14: Learning rate = 0.001\n",
      "Model did not improved\n",
      "------------------------------------------------------------\n",
      "Epoch [15/100]\n"
     ]
    },
    {
     "name": "stderr",
     "output_type": "stream",
     "text": [
      "Training: 100%|██████████| 384/384 [01:54<00:00,  3.35it/s]\n"
     ]
    },
    {
     "name": "stdout",
     "output_type": "stream",
     "text": [
      "Train Loss: 1.2870, Train Accuracy: 5.6566, Train Precision: 0.1053, Train Recall: 0.4831, Train F1: 0.1544, Train Best Threshold: 0.5668, Train correct predictions: 1387\n"
     ]
    },
    {
     "name": "stderr",
     "output_type": "stream",
     "text": [
      "Validating: 100%|██████████| 99/99 [00:31<00:00,  3.12it/s]\n"
     ]
    },
    {
     "name": "stdout",
     "output_type": "stream",
     "text": [
      "Total prediction: 6329  Correct preds: 3  all labels size: (6329, 20)\n",
      "Val Loss: 1.3808, Val Accuracy: 0.0474, Val Precision: 0.0675, Val Recall: 0.3637, Val F1: 0.0412, Val correct predictions: 3\n",
      "Epoch 15: Learning rate = 0.001\n",
      "Model did not improved\n",
      "------------------------------------------------------------\n",
      "Epoch [16/100]\n"
     ]
    },
    {
     "name": "stderr",
     "output_type": "stream",
     "text": [
      "Training: 100%|██████████| 384/384 [01:55<00:00,  3.33it/s]\n"
     ]
    },
    {
     "name": "stdout",
     "output_type": "stream",
     "text": [
      "Train Loss: 1.2847, Train Accuracy: 10.0938, Train Precision: 0.1116, Train Recall: 0.4011, Train F1: 0.1512, Train Best Threshold: 0.5993, Train correct predictions: 2475\n"
     ]
    },
    {
     "name": "stderr",
     "output_type": "stream",
     "text": [
      "Validating: 100%|██████████| 99/99 [00:31<00:00,  3.16it/s]\n"
     ]
    },
    {
     "name": "stdout",
     "output_type": "stream",
     "text": [
      "Total prediction: 6329  Correct preds: 210  all labels size: (6329, 20)\n",
      "Val Loss: 1.2910, Val Accuracy: 3.3181, Val Precision: 0.1047, Val Recall: 0.4055, Val F1: 0.1271, Val correct predictions: 210\n",
      "Epoch 16: Learning rate = 0.0007\n",
      "Model did not improved\n",
      "------------------------------------------------------------\n",
      "Epoch [17/100]\n"
     ]
    },
    {
     "name": "stderr",
     "output_type": "stream",
     "text": [
      "Training: 100%|██████████| 384/384 [01:54<00:00,  3.37it/s]\n"
     ]
    },
    {
     "name": "stdout",
     "output_type": "stream",
     "text": [
      "Train Loss: 1.2771, Train Accuracy: 11.4886, Train Precision: 0.1168, Train Recall: 0.3948, Train F1: 0.1512, Train Best Threshold: 0.6127, Train correct predictions: 2817\n"
     ]
    },
    {
     "name": "stderr",
     "output_type": "stream",
     "text": [
      "Validating: 100%|██████████| 99/99 [00:31<00:00,  3.15it/s]\n"
     ]
    },
    {
     "name": "stdout",
     "output_type": "stream",
     "text": [
      "Total prediction: 6329  Correct preds: 122  all labels size: (6329, 20)\n",
      "Val Loss: 1.3126, Val Accuracy: 1.9276, Val Precision: 0.1055, Val Recall: 0.3175, Val F1: 0.0982, Val correct predictions: 122\n",
      "Epoch 17: Learning rate = 0.0007\n",
      "Model did not improved\n",
      "Early stopping triggered\n"
     ]
    }
   ],
   "source": [
    "for epoch in range(num_epochs):\n",
    "    print(f\"Epoch [{epoch + 1}/{num_epochs}]\")\n",
    "    \n",
    "    # Train the model for one epoch\n",
    "    train_loss, train_accuracy, train_precision, train_recall, train_f1, train_best_threshold, train_correct_predictions = train(model, train_loader, criterion, optimizer, device)\n",
    "    print(f\"Train Loss: {train_loss:.4f}, Train Accuracy: {train_accuracy:.4f}, \"\n",
    "      f\"Train Precision: {train_precision:.4f}, Train Recall: {train_recall:.4f}, \"\n",
    "      f\"Train F1: {train_f1:.4f}, Train Best Threshold: {train_best_threshold:.4f}, \"\n",
    "      f\"Train correct predictions: {train_correct_predictions}\")\n",
    "\n",
    "\n",
    "\n",
    "    # Validate the model after training\n",
    "    val_loss, val_accuracy, val_precision, val_recall, val_f1, val_correct_predictions = validate(model, val_loader, criterion, device, train_best_threshold)\n",
    "\n",
    "    print(f\"Val Loss: {val_loss:.4f}, Val Accuracy: {val_accuracy:.4f}, \"\n",
    "      f\"Val Precision: {val_precision:.4f}, Val Recall: {val_recall:.4f}, \"\n",
    "      f\"Val F1: {val_f1:.4f}, Val correct predictions: {val_correct_predictions}\")\n",
    "\n",
    "\n",
    "    # Step the Lookahead optimizer\n",
    "    lookahead_optimizer.step()\n",
    "    # Step the ReduceLROnPlateau scheduler\n",
    "    scheduler.step(val_loss)\n",
    "\n",
    "    print(f\"Epoch {epoch + 1}: Learning rate = {scheduler.get_last_lr()[0]}\")\n",
    "\n",
    "    num_epochs_runned += 1\n",
    "\n",
    "    # Validation loss has improved\n",
    "    if val_loss < best_val:\n",
    "        best_val = val_loss\n",
    "        epochs_no_improve = 0  # Reset the counter if we see improvement\n",
    "        \n",
    "        # Save the model checkpoint\n",
    "        torch.save(model.state_dict(), \"singular_down_sampled.pth\")\n",
    "        print(\"Model improved and saved.\")\n",
    "    else:\n",
    "        print(\"Model did not improved\")\n",
    "        epochs_no_improve += 1  # Increment counter if no improvement\n",
    "\n",
    "    # Early stopping\n",
    "    if epochs_no_improve == patience:\n",
    "        print(\"Early stopping triggered\")\n",
    "        break\n",
    "\n",
    "    print(\"-\" * 60)"
   ]
  },
  {
   "cell_type": "code",
   "execution_count": 48,
   "id": "dd155298-30d9-4bfa-b980-1abfe2318399",
   "metadata": {},
   "outputs": [],
   "source": [
    "# Define label names for better readability in the report\n",
    "label_names = [\n",
    "    'Atelectasis', 'Cardiomegaly', 'Consolidation', 'Edema', 'Effusion', \n",
    "    'Emphysema', 'Fibrosis', 'Hernia', 'Infiltration', 'Mass', 'Nodule', \n",
    "    'Pleural Thickening', 'Pneumonia', 'Pneumothorax', 'Pneumoperitoneum', \n",
    "    'Pneumomediastinum', 'Subcutaneous Emphysema', 'Tortuous Aorta', \n",
    "    'Calcification of the Aorta', 'No Finding'\n",
    "]"
   ]
  },
  {
   "cell_type": "code",
   "execution_count": 49,
   "id": "99e00203e15923f0",
   "metadata": {
    "ExecuteTime": {
     "end_time": "2024-11-10T14:53:15.350469Z",
     "start_time": "2024-11-10T14:52:46.256405Z"
    }
   },
   "outputs": [
    {
     "name": "stdout",
     "output_type": "stream",
     "text": [
      "Hello test\n"
     ]
    },
    {
     "name": "stderr",
     "output_type": "stream",
     "text": [
      "Testing: 100%|██████████| 330/330 [01:38<00:00,  3.34it/s]\n"
     ]
    },
    {
     "name": "stdout",
     "output_type": "stream",
     "text": [
      "\n",
      "Finding Best Thresholds for Each Class:\n",
      "Class 'Atelectasis': Best Threshold = 0.5106, Max F1-Score = 0.2540\n",
      "Class 'Cardiomegaly': Best Threshold = 0.5642, Max F1-Score = 0.1110\n",
      "Class 'Consolidation': Best Threshold = 0.6542, Max F1-Score = 0.1903\n",
      "Class 'Edema': Best Threshold = 0.7303, Max F1-Score = 0.1370\n",
      "Class 'Effusion': Best Threshold = 0.5941, Max F1-Score = 0.3464\n",
      "Class 'Emphysema': Best Threshold = 0.7042, Max F1-Score = 0.1374\n",
      "Class 'Fibrosis': Best Threshold = 0.6346, Max F1-Score = 0.0826\n",
      "Class 'Hernia': Best Threshold = 0.7216, Max F1-Score = 0.0471\n",
      "Class 'Infiltration': Best Threshold = 0.5384, Max F1-Score = 0.4358\n",
      "Class 'Mass': Best Threshold = 0.5220, Max F1-Score = 0.1251\n",
      "Class 'Nodule': Best Threshold = 0.5435, Max F1-Score = 0.1362\n",
      "Class 'Pleural Thickening': Best Threshold = 0.5602, Max F1-Score = 0.1130\n",
      "Class 'Pneumonia': Best Threshold = 0.5546, Max F1-Score = 0.0595\n",
      "Class 'Pneumothorax': Best Threshold = 0.5494, Max F1-Score = 0.2588\n",
      "Class 'Pneumoperitoneum': Best Threshold = 0.6255, Max F1-Score = 0.0109\n",
      "Class 'Pneumomediastinum': Best Threshold = 0.7305, Max F1-Score = 0.1390\n",
      "Class 'Subcutaneous Emphysema': Best Threshold = 0.7268, Max F1-Score = 0.1277\n",
      "Class 'Tortuous Aorta': Best Threshold = 0.7155, Max F1-Score = 0.0445\n",
      "Class 'Calcification of the Aorta': Best Threshold = 0.7285, Max F1-Score = 0.0288\n",
      "Class 'No Finding': Best Threshold = 0.5000, Max F1-Score = 0.5537\n",
      "\n",
      "Classification Report with Best Thresholds:\n",
      "                            precision    recall  f1-score   support\n",
      "\n",
      "               Atelectasis       0.15      0.78      0.25      2700\n",
      "              Cardiomegaly       0.07      0.35      0.11       868\n",
      "             Consolidation       0.11      0.62      0.19      1497\n",
      "                     Edema       0.09      0.31      0.14       751\n",
      "                  Effusion       0.22      0.77      0.35      3735\n",
      "                 Emphysema       0.09      0.28      0.14       917\n",
      "                  Fibrosis       0.05      0.36      0.08       365\n",
      "                    Hernia       0.05      0.02      0.02        62\n",
      "              Infiltration       0.33      0.64      0.44      5159\n",
      "                      Mass       0.07      0.62      0.12      1329\n",
      "                    Nodule       0.08      0.42      0.14      1305\n",
      "        Pleural Thickening       0.07      0.36      0.11       902\n",
      "                 Pneumonia       0.03      0.40      0.06       452\n",
      "              Pneumothorax       0.17      0.58      0.26      2106\n",
      "          Pneumoperitoneum       0.01      0.12      0.01        69\n",
      "         Pneumomediastinum       0.10      0.19      0.13       143\n",
      "    Subcutaneous Emphysema       0.08      0.26      0.13       813\n",
      "            Tortuous Aorta       0.02      0.15      0.04        95\n",
      "Calcification of the Aorta       0.01      0.05      0.02        55\n",
      "                No Finding       0.39      0.94      0.55      8015\n",
      "\n",
      "                 micro avg       0.18      0.67      0.28     31338\n",
      "                 macro avg       0.11      0.41      0.16     31338\n",
      "              weighted avg       0.23      0.67      0.33     31338\n",
      "               samples avg       0.23      0.72      0.31     31338\n",
      "\n",
      "\n",
      "Classification Report with Default Threshold (0.5):\n",
      "                            precision    recall  f1-score   support\n",
      "\n",
      "               Atelectasis       0.13      1.00      0.23      2700\n",
      "              Cardiomegaly       0.04      1.00      0.08       868\n",
      "             Consolidation       0.07      1.00      0.13      1497\n",
      "                     Edema       0.04      1.00      0.07       751\n",
      "                  Effusion       0.18      1.00      0.30      3735\n",
      "                 Emphysema       0.04      1.00      0.08       917\n",
      "                  Fibrosis       0.02      1.00      0.03       365\n",
      "                    Hernia       0.00      1.00      0.01        62\n",
      "              Infiltration       0.24      1.00      0.39      5159\n",
      "                      Mass       0.06      1.00      0.12      1329\n",
      "                    Nodule       0.06      1.00      0.12      1305\n",
      "        Pleural Thickening       0.04      1.00      0.08       902\n",
      "                 Pneumonia       0.02      1.00      0.04       452\n",
      "              Pneumothorax       0.10      1.00      0.18      2106\n",
      "          Pneumoperitoneum       0.00      1.00      0.01        69\n",
      "         Pneumomediastinum       0.01      1.00      0.01       143\n",
      "    Subcutaneous Emphysema       0.04      1.00      0.07       813\n",
      "            Tortuous Aorta       0.00      1.00      0.01        95\n",
      "Calcification of the Aorta       0.00      1.00      0.01        55\n",
      "                No Finding       0.38      1.00      0.55      8015\n",
      "\n",
      "                 micro avg       0.07      1.00      0.14     31338\n",
      "                 macro avg       0.07      1.00      0.13     31338\n",
      "              weighted avg       0.19      1.00      0.30     31338\n",
      "               samples avg       0.07      1.00      0.14     31338\n",
      "\n",
      "Test Loss: 1.3035\n"
     ]
    }
   ],
   "source": [
    "# Now, evaluate the model on the test set\n",
    "model.load_state_dict(torch.load(\"singular_down_sampled.pth\", weights_only=True))\n",
    "print(\"Hello test\")\n",
    "test_loss, test_report_best, test_report_default, test_best_thresholds = test(model, test_loader, criterion, device, label_names, train_best_threshold)\n",
    "\n",
    "print(f\"Test Loss: {test_loss:.4f}\")"
   ]
  },
  {
   "cell_type": "code",
   "execution_count": 50,
   "id": "5765d547daa4988b",
   "metadata": {
    "ExecuteTime": {
     "end_time": "2024-11-10T15:05:50.622585Z",
     "start_time": "2024-11-10T15:05:50.415197Z"
    }
   },
   "outputs": [
    {
     "data": {
      "image/png": "[encoded data removed]",
      "text/plain": [
       "<Figure size 640x480 with 1 Axes>"
      ]
     },
     "metadata": {},
     "output_type": "display_data"
    },
    {
     "data": {
      "image/png": "[encoded data removed]",
      "text/plain": [
       "<Figure size 640x480 with 1 Axes>"
      ]
     },
     "metadata": {},
     "output_type": "display_data"
    },
    {
     "name": "stdout",
     "output_type": "stream",
     "text": [
      "    Epoch  Train Loss  Train Accuracy  Val Loss  Val Accuracy\n",
      "0       1    1.313717       10.587276  1.291115     12.498025\n",
      "1       2    1.303727        9.600326  1.319471      5.008690\n",
      "2       3    1.303035        9.000816  1.286549      8.626955\n",
      "3       4    1.305057       10.000000  1.296626     14.267657\n",
      "4       5    1.296215        8.123980  1.318748      2.022436\n",
      "5       6    1.291042        9.127243  1.281529     12.103018\n",
      "6       7    1.303123        8.792822  1.343537      0.126402\n",
      "7       8    1.301523        7.047308  1.318965      0.979618\n",
      "8       9    1.303584        7.043230  1.296974     11.044399\n",
      "9      10    1.293277        9.029364  1.278460      6.067309\n",
      "10     11    1.284184       10.314029  1.287745      2.401643\n",
      "11     12    1.309514        6.154160  1.320767      5.277295\n",
      "12     13    1.303780        4.172104  1.287989      6.241112\n",
      "13     14    1.290229        8.821370  1.295416      8.611155\n",
      "14     15    1.287008        5.656607  1.380820      0.047401\n",
      "15     16    1.284660       10.093801  1.291047      3.318060\n",
      "16     17    1.277121       11.488581  1.312646      1.927635\n"
     ]
    }
   ],
   "source": [
    "plt.plot(range(num_epochs_runned), train_losses, label=\"Train Loss\")\n",
    "plt.plot(range(num_epochs_runned), val_losses, label=\"Validation Loss\")\n",
    "plt.xlabel('Epoch')\n",
    "plt.ylabel('Loss')\n",
    "plt.legend()\n",
    "plt.title('Training and Validation Loss singular down sampled (Majority classes)')\n",
    "plt.show()\n",
    "\n",
    "# Plot training and validation accuracy\n",
    "plt.plot(range(num_epochs_runned), train_accuracies, label=\"Train Accuracy\")\n",
    "plt.plot(range(num_epochs_runned), val_accuracies, label=\"Validation Accuracy\")\n",
    "plt.xlabel('Epoch')\n",
    "plt.ylabel('Accuracy (%)')\n",
    "plt.legend()\n",
    "plt.title('Training and Validation Accuracy')\n",
    "plt.show()\n",
    "\n",
    "# Save the results in a DataFrame for reporting\n",
    "results_df = pd.DataFrame({\n",
    "    'Epoch': range(1, num_epochs_runned + 1),\n",
    "    'Train Loss': train_losses,\n",
    "    'Train Accuracy': train_accuracies,\n",
    "    'Val Loss': val_losses,\n",
    "    'Val Accuracy': val_accuracies\n",
    "})\n",
    "\n",
    "print(results_df)"
   ]
  },
  {
   "cell_type": "code",
   "execution_count": null,
   "id": "cbc35e53-0cae-4939-a219-b8cd339207aa",
   "metadata": {},
   "outputs": [],
   "source": []
  }
 ],
 "metadata": {
  "kernelspec": {
   "display_name": "Python 3 (ipykernel)",
   "language": "python",
   "name": "python3"
  },
  "language_info": {
   "codemirror_mode": {
    "name": "ipython",
    "version": 3
   },
   "file_extension": ".py",
   "mimetype": "text/x-python",
   "name": "python",
   "nbconvert_exporter": "python",
   "pygments_lexer": "ipython3",
   "version": "3.11.6"
  }
 },
 "nbformat": 4,
 "nbformat_minor": 5
}
