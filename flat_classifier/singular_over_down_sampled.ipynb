{
 "cells": [
  {
   "cell_type": "markdown",
   "id": "c6f871d393e2c072",
   "metadata": {},
   "source": [
    "### Step 1: Load data"
   ]
  },
  {
   "cell_type": "code",
   "execution_count": 1,
   "id": "initial_id",
   "metadata": {
    "ExecuteTime": {
     "end_time": "2024-11-10T15:03:30.327388Z",
     "start_time": "2024-11-10T15:03:30.057782Z"
    }
   },
   "outputs": [],
   "source": [
    "import os\n",
    "import torch\n",
    "import torch.nn as nn\n",
    "import numpy as np\n",
    "import pandas as pd\n",
    "from matplotlib import pyplot as plt\n",
    "from torchvision import transforms, models\n",
    "from torch.utils.data import DataLoader\n",
    "from ChestXRayDataset import ChestXRayDataset\n",
    "from MultiSourceChestXRayDataset import MultiSourceChestXRayDataset\n",
    "from skmultilearn.model_selection import IterativeStratification\n",
    "from sklearn.metrics import classification_report, precision_recall_curve\n",
    "from tqdm import tqdm"
   ]
  },
  {
   "cell_type": "code",
   "execution_count": 2,
   "id": "401d32cc3ee88c8e",
   "metadata": {
    "ExecuteTime": {
     "end_time": "2024-11-10T14:51:16.469551Z",
     "start_time": "2024-11-10T14:51:16.383213Z"
    }
   },
   "outputs": [],
   "source": [
    "df_train = pd.read_csv('../data/data_entries/miccai2023_nih-cxr-lt_labels_train.csv')\n",
    "df_val = pd.read_csv('../data/data_entries/miccai2023_nih-cxr-lt_labels_val.csv')\n",
    "df_test = pd.read_csv('../data/data_entries/miccai2023_nih-cxr-lt_labels_test.csv')"
   ]
  },
  {
   "cell_type": "code",
   "execution_count": 3,
   "id": "e064940c88cd6388",
   "metadata": {
    "ExecuteTime": {
     "end_time": "2024-11-10T14:51:16.603077Z",
     "start_time": "2024-11-10T14:51:16.598772Z"
    }
   },
   "outputs": [
    {
     "data": {
      "text/plain": [
       "((78506, 22), (12533, 22), (21081, 22))"
      ]
     },
     "execution_count": 3,
     "metadata": {},
     "output_type": "execute_result"
    }
   ],
   "source": [
    "df_train.shape, df_val.shape, df_test.shape"
   ]
  },
  {
   "cell_type": "markdown",
   "id": "5f8bdaf8-9e2d-4af5-9b4d-6668462f1d74",
   "metadata": {},
   "source": [
    "### Down sampling 'No Finding', 'Atelectasis', 'Effusion' and 'Infiltration'"
   ]
  },
  {
   "cell_type": "code",
   "execution_count": 4,
   "id": "eaab45be-5b6f-4c30-a5ec-2b301e75bf0f",
   "metadata": {},
   "outputs": [],
   "source": [
    "categories_to_down_sample = {\n",
    "    'Infiltration': 0.63,\n",
    "    'Effusion': 0.4,\n",
    "    'Atelectasis': 0.4,\n",
    "    'No Finding': 0.95\n",
    "}"
   ]
  },
  {
   "cell_type": "code",
   "execution_count": 5,
   "id": "cb7f3750-66f8-447a-a58d-37e044c9a4c1",
   "metadata": {},
   "outputs": [
    {
     "name": "stdout",
     "output_type": "stream",
     "text": [
      "Rows before down sampling for Infiltration: 12739\n",
      "Rows before down sampling for Effusion: 7919\n",
      "Rows before down sampling for Atelectasis: 7587\n",
      "Rows before down sampling for No Finding: 44625\n"
     ]
    }
   ],
   "source": [
    "# Before down sampling\n",
    "for category in categories_to_down_sample.keys():\n",
    "    print(f\"Rows before down sampling for {category}: {df_train[category].sum()}\")"
   ]
  },
  {
   "cell_type": "code",
   "execution_count": 6,
   "id": "ddb9e3b2-5e21-4700-b2dd-dc725fda3b78",
   "metadata": {},
   "outputs": [],
   "source": [
    "for category, frac in categories_to_down_sample.items():\n",
    "    # Filter rows where the category has value 1\n",
    "    rows_with_category = df_train[df_train[category] == 1]\n",
    "\n",
    "    # Randomly select the specified fraction of those rows\n",
    "    rows_to_drop = rows_with_category.sample(frac=frac, random_state=42)\n",
    "\n",
    "    # Drop those rows from the original DataFrame\n",
    "    df_train = df_train.drop(rows_to_drop.index)"
   ]
  },
  {
   "cell_type": "code",
   "execution_count": 7,
   "id": "8be0248b-f312-47d4-b349-de39bc13b8c2",
   "metadata": {},
   "outputs": [
    {
     "name": "stdout",
     "output_type": "stream",
     "text": [
      "Remaining rows for Infiltration: 4155\n",
      "Remaining rows for Effusion: 3545\n",
      "Remaining rows for Atelectasis: 3475\n",
      "Remaining rows for No Finding: 2231\n"
     ]
    }
   ],
   "source": [
    "# Remaining rows after down sampling\n",
    "for category in categories_to_down_sample.keys():\n",
    "    print(f\"Remaining rows for {category}: {df_train[category].sum()}\")"
   ]
  },
  {
   "cell_type": "code",
   "execution_count": null,
   "id": "5672ae48-01a7-4108-8696-4cf5fd4e4134",
   "metadata": {},
   "outputs": [],
   "source": []
  },
  {
   "cell_type": "markdown",
   "id": "197ef722b6d5bddb",
   "metadata": {},
   "source": [
    "Some images exist in images folder, but not in miccai labels and opposite\n",
    "\n",
    "To fix this problem We create list of all image IDs in both train and test _images folder\n",
    "then ensure that only images withing this list are loaded to dataset"
   ]
  },
  {
   "cell_type": "code",
   "execution_count": 8,
   "id": "3b83bbd4dfc8674d",
   "metadata": {
    "ExecuteTime": {
     "end_time": "2024-11-10T14:51:16.704227Z",
     "start_time": "2024-11-10T14:51:16.700688Z"
    }
   },
   "outputs": [],
   "source": [
    "image_dir_train = '../data/train_images'\n",
    "image_dir_test = '../data/test_images'\n",
    "# Define function to get valid image ids that exist in the image directory\n",
    "def get_valid_image_ids(df, image_dir):\n",
    "    # Get the set of image IDs that exist in the image directory\n",
    "    image_files = set(os.listdir(image_dir))  # List of all files in the image directory\n",
    "    # Check if image id exists in the image directory\n",
    "    valid_ids = df[df['id'].isin(image_files)]['id']\n",
    "    return valid_ids"
   ]
  },
  {
   "cell_type": "code",
   "execution_count": 9,
   "id": "b23bdd75f36a256e",
   "metadata": {
    "ExecuteTime": {
     "end_time": "2024-11-10T14:51:16.744561Z",
     "start_time": "2024-11-10T14:51:16.716264Z"
    }
   },
   "outputs": [],
   "source": [
    "# Get valid image ids for train and test datasets\n",
    "valid_train_ids = get_valid_image_ids(df_train, image_dir_train)\n",
    "valid_val_ids = get_valid_image_ids(df_val, image_dir_train)\n",
    "valid_test_ids = get_valid_image_ids(df_test, image_dir_test)"
   ]
  },
  {
   "cell_type": "code",
   "execution_count": 10,
   "id": "1f6a294e2f064fbd",
   "metadata": {
    "ExecuteTime": {
     "end_time": "2024-11-10T14:51:16.764801Z",
     "start_time": "2024-11-10T14:51:16.755889Z"
    }
   },
   "outputs": [
    {
     "data": {
      "text/plain": [
       "((23164, 22), (8018, 22), (21081, 22))"
      ]
     },
     "execution_count": 10,
     "metadata": {},
     "output_type": "execute_result"
    }
   ],
   "source": [
    "# Filter the DataFrames to include only the valid image IDs\n",
    "df_train_valid = df_train[df_train['id'].isin(valid_train_ids)]\n",
    "df_val_valid = df_val[df_val['id'].isin(valid_val_ids)]\n",
    "df_test_valid = df_test[df_test['id'].isin(valid_test_ids)]\n",
    "\n",
    "df_train_valid.shape, df_val_valid.shape, df_test_valid.shape"
   ]
  },
  {
   "cell_type": "code",
   "execution_count": 11,
   "id": "aa7554c8d5ef5eca",
   "metadata": {
    "ExecuteTime": {
     "end_time": "2024-11-10T14:51:16.786894Z",
     "start_time": "2024-11-10T14:51:16.782623Z"
    }
   },
   "outputs": [],
   "source": [
    "df_train_val = pd.concat([df_train_valid, df_val_valid], ignore_index=True)\n",
    "assert df_train_val.shape[0] == df_train_valid.shape[0] + df_val_valid.shape[0]"
   ]
  },
  {
   "cell_type": "code",
   "execution_count": 12,
   "id": "3e0686f621c6b3e",
   "metadata": {
    "ExecuteTime": {
     "end_time": "2024-11-10T14:51:16.844212Z",
     "start_time": "2024-11-10T14:51:16.839329Z"
    }
   },
   "outputs": [
    {
     "data": {
      "text/plain": [
       "(31182, 21)"
      ]
     },
     "execution_count": 12,
     "metadata": {},
     "output_type": "execute_result"
    }
   ],
   "source": [
    "df_train_val = df_train_val.copy()\n",
    "#df_train_val.drop(columns=['Pneumomediastinum', 'subj_id'], inplace=True)\n",
    "# Labels such Pneumomediastinum and Hernia rarely appears, but we keep them to generlize the model\n",
    "df_train_val.drop(columns=['subj_id'], inplace=True)\n",
    "df_train_val.shape"
   ]
  },
  {
   "cell_type": "code",
   "execution_count": 13,
   "id": "21ca2ca48ff9f98f",
   "metadata": {
    "ExecuteTime": {
     "end_time": "2024-11-10T14:51:16.880223Z",
     "start_time": "2024-11-10T14:51:16.876337Z"
    }
   },
   "outputs": [
    {
     "data": {
      "text/plain": [
       "(21081, 21)"
      ]
     },
     "execution_count": 13,
     "metadata": {},
     "output_type": "execute_result"
    }
   ],
   "source": [
    "## Do same for testing\n",
    "df_test_valid = df_test_valid.copy()\n",
    "df_test_valid.drop(columns=['subj_id'], inplace=True)\n",
    "df_test_valid.shape"
   ]
  },
  {
   "cell_type": "markdown",
   "id": "cdbb271b83551522",
   "metadata": {},
   "source": [
    "### Step 2: Label encoding and create target column \n",
    "\n",
    "#### Step 2.1: Check for Inconsistent Rows\n",
    "\n",
    "First, we’ll check if any rows violate the condition: if No Finding is 1, then all other categories should be 0."
   ]
  },
  {
   "cell_type": "code",
   "execution_count": 14,
   "id": "2ffa7c6aa03915a6",
   "metadata": {
    "ExecuteTime": {
     "end_time": "2024-11-10T14:51:16.915785Z",
     "start_time": "2024-11-10T14:51:16.911387Z"
    }
   },
   "outputs": [
    {
     "name": "stdout",
     "output_type": "stream",
     "text": [
      "Empty DataFrame\n",
      "Columns: [id, Atelectasis, Cardiomegaly, Consolidation, Edema, Effusion, Emphysema, Fibrosis, Hernia, Infiltration, Mass, Nodule, Pleural Thickening, Pneumonia, Pneumothorax, Pneumoperitoneum, Pneumomediastinum, Subcutaneous Emphysema, Tortuous Aorta, Calcification of the Aorta, No Finding]\n",
      "Index: []\n",
      "\n",
      "[0 rows x 21 columns]\n"
     ]
    }
   ],
   "source": [
    "# For train data\n",
    "inconsistent_rows = df_train_val[(df_train_val['No Finding'] == 1) & (df_train_val.iloc[:, 1:-1].sum(axis=1) > 0)]\n",
    "\n",
    "print(inconsistent_rows)"
   ]
  },
  {
   "cell_type": "markdown",
   "id": "2b6570a581d8f436",
   "metadata": {},
   "source": [
    "#### Step 2.2: create mappings variable for all categories we have"
   ]
  },
  {
   "cell_type": "code",
   "execution_count": 15,
   "id": "89181548de9fd7d6",
   "metadata": {
    "ExecuteTime": {
     "end_time": "2024-11-10T14:51:16.981160Z",
     "start_time": "2024-11-10T14:51:16.978297Z"
    }
   },
   "outputs": [
    {
     "name": "stdout",
     "output_type": "stream",
     "text": [
      "Category Mapping:\n",
      "{'Atelectasis': 0, 'Cardiomegaly': 1, 'Consolidation': 2, 'Edema': 3, 'Effusion': 4, 'Emphysema': 5, 'Fibrosis': 6, 'Hernia': 7, 'Infiltration': 8, 'Mass': 9, 'Nodule': 10, 'Pleural Thickening': 11, 'Pneumonia': 12, 'Pneumothorax': 13, 'Pneumoperitoneum': 14, 'Pneumomediastinum': 15, 'Subcutaneous Emphysema': 16, 'Tortuous Aorta': 17, 'Calcification of the Aorta': 18, 'No Finding': 19}\n"
     ]
    }
   ],
   "source": [
    "# Extract all categories (exclude 'id')\n",
    "categories = df_train_val.columns[1:]\n",
    "\n",
    "# Create a mapping dictionary for categories to numbers\n",
    "category_mapping = {category: idx for idx, category in enumerate(categories)}\n",
    "\n",
    "print(\"Category Mapping:\")\n",
    "print(category_mapping)"
   ]
  },
  {
   "cell_type": "markdown",
   "id": "6ed974c46c22bd9b",
   "metadata": {},
   "source": [
    "### Step 2.3: Create finding column\n",
    "\n",
    "This column will contain list of all finding categories for each image, and we have the following scenarios\n",
    "1. The image has no sickness ==> finding column is a list with only one item 'No Finding'\n",
    "2. The image contains only one category i.g 'Hernia' ==> finding column is a list with only one item 'Hernia'\n",
    "3. The image contains more than one category i.g 'Hernia' and 'Edema'...etc. ==> finding column is a list finding items 'Hernia' and 'Edema'"
   ]
  },
  {
   "cell_type": "code",
   "execution_count": 16,
   "id": "107bc595a018ba1e",
   "metadata": {
    "ExecuteTime": {
     "end_time": "2024-11-10T14:51:16.997198Z",
     "start_time": "2024-11-10T14:51:16.994166Z"
    }
   },
   "outputs": [],
   "source": [
    "# Function to create 'finding' and 'finding_encoded' as a string based on category values\n",
    "def create_finding(row):\n",
    "    # Check if 'No Finding' is 1, indicating no other categories are marked\n",
    "    if row['No Finding'] == 1:\n",
    "        return ['No Finding'], str(category_mapping['No Finding'])  # Return encoded as a string\n",
    "    \n",
    "    else:\n",
    "        # Generate lists of findings and their encoded values\n",
    "        findings = [category for category in categories if row[category] == 1]\n",
    "        encoded_findings = [str(category_mapping[category]) for category in findings]\n",
    "        \n",
    "        # Join encoded findings as a single string for stratification\n",
    "        return findings, ','.join(encoded_findings)\n"
   ]
  },
  {
   "cell_type": "code",
   "execution_count": 17,
   "id": "c4881a0ea80d8958",
   "metadata": {
    "ExecuteTime": {
     "end_time": "2024-11-10T14:51:17.280554Z",
     "start_time": "2024-11-10T14:51:17.012610Z"
    }
   },
   "outputs": [
    {
     "data": {
      "text/html": [
       "<div>\n",
       "<style scoped>\n",
       "    .dataframe tbody tr th:only-of-type {\n",
       "        vertical-align: middle;\n",
       "    }\n",
       "\n",
       "    .dataframe tbody tr th {\n",
       "        vertical-align: top;\n",
       "    }\n",
       "\n",
       "    .dataframe thead th {\n",
       "        text-align: right;\n",
       "    }\n",
       "</style>\n",
       "<table border=\"1\" class=\"dataframe\">\n",
       "  <thead>\n",
       "    <tr style=\"text-align: right;\">\n",
       "      <th></th>\n",
       "      <th>id</th>\n",
       "      <th>finding</th>\n",
       "      <th>finding_encoded</th>\n",
       "    </tr>\n",
       "  </thead>\n",
       "  <tbody>\n",
       "    <tr>\n",
       "      <th>0</th>\n",
       "      <td>00000001_000.png</td>\n",
       "      <td>[Cardiomegaly]</td>\n",
       "      <td>1</td>\n",
       "    </tr>\n",
       "    <tr>\n",
       "      <th>1</th>\n",
       "      <td>00000001_001.png</td>\n",
       "      <td>[Cardiomegaly, Emphysema]</td>\n",
       "      <td>1,5</td>\n",
       "    </tr>\n",
       "    <tr>\n",
       "      <th>2</th>\n",
       "      <td>00000001_002.png</td>\n",
       "      <td>[Cardiomegaly, Effusion]</td>\n",
       "      <td>1,4</td>\n",
       "    </tr>\n",
       "    <tr>\n",
       "      <th>3</th>\n",
       "      <td>00000004_000.png</td>\n",
       "      <td>[Mass, Nodule]</td>\n",
       "      <td>9,10</td>\n",
       "    </tr>\n",
       "    <tr>\n",
       "      <th>4</th>\n",
       "      <td>00000005_007.png</td>\n",
       "      <td>[Effusion, Infiltration]</td>\n",
       "      <td>4,8</td>\n",
       "    </tr>\n",
       "    <tr>\n",
       "      <th>...</th>\n",
       "      <td>...</td>\n",
       "      <td>...</td>\n",
       "      <td>...</td>\n",
       "    </tr>\n",
       "    <tr>\n",
       "      <th>31177</th>\n",
       "      <td>00030601_000.png</td>\n",
       "      <td>[Atelectasis]</td>\n",
       "      <td>0</td>\n",
       "    </tr>\n",
       "    <tr>\n",
       "      <th>31178</th>\n",
       "      <td>00030661_000.png</td>\n",
       "      <td>[Atelectasis]</td>\n",
       "      <td>0</td>\n",
       "    </tr>\n",
       "    <tr>\n",
       "      <th>31179</th>\n",
       "      <td>00030703_000.png</td>\n",
       "      <td>[Nodule]</td>\n",
       "      <td>10</td>\n",
       "    </tr>\n",
       "    <tr>\n",
       "      <th>31180</th>\n",
       "      <td>00030703_001.png</td>\n",
       "      <td>[Nodule]</td>\n",
       "      <td>10</td>\n",
       "    </tr>\n",
       "    <tr>\n",
       "      <th>31181</th>\n",
       "      <td>00030711_000.png</td>\n",
       "      <td>[Infiltration, Mass]</td>\n",
       "      <td>8,9</td>\n",
       "    </tr>\n",
       "  </tbody>\n",
       "</table>\n",
       "<p>31182 rows × 3 columns</p>\n",
       "</div>"
      ],
      "text/plain": [
       "                     id                    finding finding_encoded\n",
       "0      00000001_000.png             [Cardiomegaly]               1\n",
       "1      00000001_001.png  [Cardiomegaly, Emphysema]             1,5\n",
       "2      00000001_002.png   [Cardiomegaly, Effusion]             1,4\n",
       "3      00000004_000.png             [Mass, Nodule]            9,10\n",
       "4      00000005_007.png   [Effusion, Infiltration]             4,8\n",
       "...                 ...                        ...             ...\n",
       "31177  00030601_000.png              [Atelectasis]               0\n",
       "31178  00030661_000.png              [Atelectasis]               0\n",
       "31179  00030703_000.png                   [Nodule]              10\n",
       "31180  00030703_001.png                   [Nodule]              10\n",
       "31181  00030711_000.png       [Infiltration, Mass]             8,9\n",
       "\n",
       "[31182 rows x 3 columns]"
      ]
     },
     "execution_count": 17,
     "metadata": {},
     "output_type": "execute_result"
    }
   ],
   "source": [
    "# Apply function to create 'finding' and 'finding_encoded' columns in train_val data\n",
    "df_train_val[['finding', 'finding_encoded']] = df_train_val.apply(\n",
    "    lambda row: pd.Series(create_finding(row)), axis=1\n",
    ")\n",
    "\n",
    "df_train_val[['id', 'finding', 'finding_encoded']]"
   ]
  },
  {
   "cell_type": "code",
   "execution_count": 18,
   "id": "606b654b434d8b78",
   "metadata": {
    "ExecuteTime": {
     "end_time": "2024-11-10T14:51:17.366409Z",
     "start_time": "2024-11-10T14:51:17.313012Z"
    }
   },
   "outputs": [
    {
     "data": {
      "text/html": [
       "<div>\n",
       "<style scoped>\n",
       "    .dataframe tbody tr th:only-of-type {\n",
       "        vertical-align: middle;\n",
       "    }\n",
       "\n",
       "    .dataframe tbody tr th {\n",
       "        vertical-align: top;\n",
       "    }\n",
       "\n",
       "    .dataframe thead th {\n",
       "        text-align: right;\n",
       "    }\n",
       "</style>\n",
       "<table border=\"1\" class=\"dataframe\">\n",
       "  <thead>\n",
       "    <tr style=\"text-align: right;\">\n",
       "      <th></th>\n",
       "      <th>id</th>\n",
       "      <th>finding</th>\n",
       "      <th>finding_encoded</th>\n",
       "    </tr>\n",
       "  </thead>\n",
       "  <tbody>\n",
       "    <tr>\n",
       "      <th>0</th>\n",
       "      <td>00000013_000.png</td>\n",
       "      <td>[No Finding]</td>\n",
       "      <td>19</td>\n",
       "    </tr>\n",
       "    <tr>\n",
       "      <th>1</th>\n",
       "      <td>00000013_001.png</td>\n",
       "      <td>[Emphysema, Pneumothorax, Subcutaneous Emphysema]</td>\n",
       "      <td>5,13,16</td>\n",
       "    </tr>\n",
       "    <tr>\n",
       "      <th>2</th>\n",
       "      <td>00000013_002.png</td>\n",
       "      <td>[Emphysema, Pneumothorax, Subcutaneous Emphysema]</td>\n",
       "      <td>5,13,16</td>\n",
       "    </tr>\n",
       "    <tr>\n",
       "      <th>3</th>\n",
       "      <td>00000013_003.png</td>\n",
       "      <td>[Pleural Thickening]</td>\n",
       "      <td>11</td>\n",
       "    </tr>\n",
       "    <tr>\n",
       "      <th>4</th>\n",
       "      <td>00000013_004.png</td>\n",
       "      <td>[Effusion, Emphysema, Infiltration, Pneumothor...</td>\n",
       "      <td>4,5,8,13,16</td>\n",
       "    </tr>\n",
       "    <tr>\n",
       "      <th>...</th>\n",
       "      <td>...</td>\n",
       "      <td>...</td>\n",
       "      <td>...</td>\n",
       "    </tr>\n",
       "    <tr>\n",
       "      <th>21076</th>\n",
       "      <td>00030800_000.png</td>\n",
       "      <td>[No Finding]</td>\n",
       "      <td>19</td>\n",
       "    </tr>\n",
       "    <tr>\n",
       "      <th>21077</th>\n",
       "      <td>00030802_000.png</td>\n",
       "      <td>[No Finding]</td>\n",
       "      <td>19</td>\n",
       "    </tr>\n",
       "    <tr>\n",
       "      <th>21078</th>\n",
       "      <td>00030803_000.png</td>\n",
       "      <td>[No Finding]</td>\n",
       "      <td>19</td>\n",
       "    </tr>\n",
       "    <tr>\n",
       "      <th>21079</th>\n",
       "      <td>00030804_000.png</td>\n",
       "      <td>[No Finding]</td>\n",
       "      <td>19</td>\n",
       "    </tr>\n",
       "    <tr>\n",
       "      <th>21080</th>\n",
       "      <td>00030805_000.png</td>\n",
       "      <td>[No Finding]</td>\n",
       "      <td>19</td>\n",
       "    </tr>\n",
       "  </tbody>\n",
       "</table>\n",
       "<p>21081 rows × 3 columns</p>\n",
       "</div>"
      ],
      "text/plain": [
       "                     id                                            finding  \\\n",
       "0      00000013_000.png                                       [No Finding]   \n",
       "1      00000013_001.png  [Emphysema, Pneumothorax, Subcutaneous Emphysema]   \n",
       "2      00000013_002.png  [Emphysema, Pneumothorax, Subcutaneous Emphysema]   \n",
       "3      00000013_003.png                               [Pleural Thickening]   \n",
       "4      00000013_004.png  [Effusion, Emphysema, Infiltration, Pneumothor...   \n",
       "...                 ...                                                ...   \n",
       "21076  00030800_000.png                                       [No Finding]   \n",
       "21077  00030802_000.png                                       [No Finding]   \n",
       "21078  00030803_000.png                                       [No Finding]   \n",
       "21079  00030804_000.png                                       [No Finding]   \n",
       "21080  00030805_000.png                                       [No Finding]   \n",
       "\n",
       "      finding_encoded  \n",
       "0                  19  \n",
       "1             5,13,16  \n",
       "2             5,13,16  \n",
       "3                  11  \n",
       "4         4,5,8,13,16  \n",
       "...               ...  \n",
       "21076              19  \n",
       "21077              19  \n",
       "21078              19  \n",
       "21079              19  \n",
       "21080              19  \n",
       "\n",
       "[21081 rows x 3 columns]"
      ]
     },
     "execution_count": 18,
     "metadata": {},
     "output_type": "execute_result"
    }
   ],
   "source": [
    "# Apply function to create 'finding' and 'finding_encoded' columns in test data\n",
    "df_test_valid[['finding', 'finding_encoded']] = df_test_valid.apply(\n",
    "    lambda row: pd.Series(create_finding(row)), axis=1\n",
    ")\n",
    "\n",
    "df_test_valid[['id', 'finding', 'finding_encoded']]"
   ]
  },
  {
   "cell_type": "markdown",
   "id": "c209cb05-e001-4a05-84c4-fcb59898c6b4",
   "metadata": {},
   "source": [
    "### 2.4 Create train_augmented df and concat it with df_train_val"
   ]
  },
  {
   "cell_type": "code",
   "execution_count": 19,
   "id": "336882a4-5e2b-4eae-9840-33361c924a78",
   "metadata": {},
   "outputs": [
    {
     "name": "stdout",
     "output_type": "stream",
     "text": [
      "Augmented df shape: (13731, 23)\n"
     ]
    }
   ],
   "source": [
    "train_augmented_df = pd.read_csv('../data/data_entries/augmented_images_v3.csv')\n",
    "print(f\"Augmented df shape: {train_augmented_df.shape}\")\n",
    "\n",
    "# Add `is_augmented` flag to distinguish between datasets\n",
    "df_train_val['is_augmented'] = False\n",
    "train_augmented_df['is_augmented'] = True\n",
    "\n",
    "# Concatenate both DataFrames\n",
    "combined_df = pd.concat([df_train_val, train_augmented_df], ignore_index=True)\n",
    "assert combined_df.shape[0] == df_train_val.shape[0] + train_augmented_df.shape[0]\n"
   ]
  },
  {
   "cell_type": "code",
   "execution_count": 20,
   "id": "c80f159d-5df7-4158-9bec-51d46a8f6cc9",
   "metadata": {},
   "outputs": [
    {
     "name": "stdout",
     "output_type": "stream",
     "text": [
      "Combined df shape: (44913, 24)\n"
     ]
    }
   ],
   "source": [
    "print(f\"Combined df shape: {combined_df.shape}\")"
   ]
  },
  {
   "cell_type": "code",
   "execution_count": null,
   "id": "b67bb2f4-5b96-43e7-be15-2b7d8bc0dd9e",
   "metadata": {},
   "outputs": [],
   "source": []
  },
  {
   "cell_type": "markdown",
   "id": "f8dfb5268ac40d9e",
   "metadata": {},
   "source": [
    "### Step 3: Create subsets and DataLoaders for the training, validation, and test sets"
   ]
  },
  {
   "cell_type": "code",
   "execution_count": 21,
   "id": "4b2d115fab3676d8",
   "metadata": {
    "ExecuteTime": {
     "end_time": "2024-11-10T14:51:17.386058Z",
     "start_time": "2024-11-10T14:51:17.383069Z"
    }
   },
   "outputs": [],
   "source": [
    "# Image transformation for training and validation\n",
    "train_transform = transforms.Compose([\n",
    "    transforms.Resize((224, 224)),\n",
    "    transforms.RandomHorizontalFlip(),\n",
    "    transforms.RandomVerticalFlip(),\n",
    "    transforms.ToTensor(),\n",
    "    transforms.Normalize(mean=[0.485, 0.456, 0.406], std=[0.229, 0.224, 0.225])\n",
    "])\n",
    "\n",
    "val_transform = transforms.Compose([\n",
    "    transforms.Resize((224, 224)),\n",
    "    transforms.ToTensor(),\n",
    "    transforms.Normalize(mean=[0.485, 0.456, 0.406], std=[0.229, 0.224, 0.225])\n",
    "])"
   ]
  },
  {
   "cell_type": "code",
   "execution_count": 22,
   "id": "c1afaca69abb2753",
   "metadata": {
    "ExecuteTime": {
     "end_time": "2024-11-10T14:51:17.453755Z",
     "start_time": "2024-11-10T14:51:17.450933Z"
    }
   },
   "outputs": [],
   "source": [
    "subset_ratio = 0.99 # start with 30% of data\n",
    "train_val_ratio = 0.8 # For train, val ratio"
   ]
  },
  {
   "cell_type": "markdown",
   "id": "e6eed4a8580d2f91",
   "metadata": {},
   "source": [
    "#### Step 3.1 Take a Stratified 30% Subset Based on finding_encoded\n",
    "We use: **from skmultilearn.model_selection import IterativeStratification**\n",
    "For multi-label classification (where each image can belong to one or more categories), the best choice would be:\n",
    "\n",
    "from skmultilearn.model_selection import IterativeStratification since it is specifically tailored for multi-label classification tasks and will ensure proper stratified splitting with regard to your multiple sickness categories.\n",
    "\n",
    "[Reference about iterstrat.ml_stratifiers](https://medium.com/gumgum-tech/creating-balanced-multi-label-datasets-for-model-training-and-evaluation-16b6a3a2d912)"
   ]
  },
  {
   "cell_type": "markdown",
   "id": "bf5139799d508b7f",
   "metadata": {},
   "source": [
    "**First: create the subset**"
   ]
  },
  {
   "cell_type": "code",
   "execution_count": 23,
   "id": "b8f38285699dcfa",
   "metadata": {
    "ExecuteTime": {
     "end_time": "2024-11-10T14:51:17.558175Z",
     "start_time": "2024-11-10T14:51:17.493286Z"
    }
   },
   "outputs": [],
   "source": [
    "label_matrix = combined_df['finding_encoded'].str.get_dummies(sep=',')\n",
    "\n",
    "# Initialize IterativeStratification\n",
    "stratifier = IterativeStratification(n_splits=2, order=1, sample_distribution_per_fold=[subset_ratio, 1 - subset_ratio]) # 1 - 0.3 = 0.7\n",
    "\n",
    "# Perform the stratified split\n",
    "train_indices, subset_indices = next(stratifier.split(combined_df, label_matrix))\n",
    "\n",
    "# Create the subset and remaining dataframes\n",
    "subset_combined_df = combined_df.iloc[subset_indices].reset_index(drop=True)\n",
    "remaining_combined_df = combined_df.iloc[train_indices].reset_index(drop=True)"
   ]
  },
  {
   "cell_type": "code",
   "execution_count": 24,
   "id": "e3d1b5c6e52d2a37",
   "metadata": {
    "ExecuteTime": {
     "end_time": "2024-11-10T14:51:17.581218Z",
     "start_time": "2024-11-10T14:51:17.577475Z"
    }
   },
   "outputs": [
    {
     "name": "stdout",
     "output_type": "stream",
     "text": [
      "Initial size of combined_df: 44913 rows\n",
      "Subset size for training (80%): 44454 rows\n",
      "Remaining size not used (20%): 459 rows\n"
     ]
    }
   ],
   "source": [
    "# After the first stratified split (Subset and Remaining)\n",
    "initial_size = len(combined_df)\n",
    "print(f\"Initial size of combined_df: {initial_size} rows\")\n",
    "\n",
    "subset_size = len(subset_combined_df)\n",
    "remaining_size = len(remaining_combined_df)\n",
    "print(f\"Subset size for training (80%): {subset_size} rows\")\n",
    "print(f\"Remaining size not used (20%): {remaining_size} rows\")"
   ]
  },
  {
   "cell_type": "code",
   "execution_count": 25,
   "id": "e1afcc2631c3ca09",
   "metadata": {
    "ExecuteTime": {
     "end_time": "2024-11-10T14:51:17.599817Z",
     "start_time": "2024-11-10T14:51:17.589223Z"
    }
   },
   "outputs": [],
   "source": [
    "assert initial_size == subset_size + remaining_size"
   ]
  },
  {
   "cell_type": "code",
   "execution_count": 26,
   "id": "a1d3031b-6358-44e3-a30b-5ff51c7c100c",
   "metadata": {},
   "outputs": [
    {
     "data": {
      "text/plain": [
       "(44454, 24)"
      ]
     },
     "execution_count": 26,
     "metadata": {},
     "output_type": "execute_result"
    }
   ],
   "source": [
    "subset_combined_df.shape"
   ]
  },
  {
   "cell_type": "markdown",
   "id": "2f527ed90428ef0a",
   "metadata": {},
   "source": [
    "**Then: split to train, val**"
   ]
  },
  {
   "cell_type": "code",
   "execution_count": 27,
   "id": "9a732ae93903a12",
   "metadata": {
    "ExecuteTime": {
     "end_time": "2024-11-10T14:51:17.658671Z",
     "start_time": "2024-11-10T14:51:17.645844Z"
    }
   },
   "outputs": [
    {
     "name": "stdout",
     "output_type": "stream",
     "text": [
      "Train size (80% of subset): 35698 rows\n",
      "Val size (20% of subset): 8756 rows\n"
     ]
    }
   ],
   "source": [
    "# Perform the stratified split\n",
    "label_matrix_2 = subset_combined_df['finding_encoded'].str.get_dummies(sep=',')\n",
    "stratifier_2 = IterativeStratification(n_splits=2, order=1, sample_distribution_per_fold=[train_val_ratio, 1 - train_val_ratio]) \n",
    "val_indices, train_indices = next(stratifier_2.split(subset_combined_df, label_matrix_2))\n",
    "\n",
    "train_df = subset_combined_df.iloc[train_indices].reset_index(drop=True)\n",
    "val_df = subset_combined_df.iloc[val_indices].reset_index(drop=True)\n",
    "\n",
    "# Verify the sizes\n",
    "print(f\"Train size (80% of subset): {len(train_df)} rows\")\n",
    "print(f\"Val size (20% of subset): {len(val_df)} rows\")"
   ]
  },
  {
   "cell_type": "markdown",
   "id": "ac335e9f-7b24-425a-89c7-2266ab9dd441",
   "metadata": {},
   "source": [
    "#### Step 3.2: Create dataset objects\n"
   ]
  },
  {
   "cell_type": "code",
   "execution_count": 28,
   "id": "184cf5f0-e3dd-495e-a765-e5a91e8dab17",
   "metadata": {},
   "outputs": [],
   "source": [
    "# Define image directories\n",
    "image_dirs = {\n",
    "    'train': '../data/train_images',\n",
    "    'augmented': '../data/oversampled_train'\n",
    "}"
   ]
  },
  {
   "cell_type": "code",
   "execution_count": 29,
   "id": "7e40dc70503bcdbc",
   "metadata": {
    "ExecuteTime": {
     "end_time": "2024-11-10T14:51:17.695332Z",
     "start_time": "2024-11-10T14:51:17.691099Z"
    }
   },
   "outputs": [
    {
     "name": "stdout",
     "output_type": "stream",
     "text": [
      "Compose(\n",
      "    Resize(size=(224, 224), interpolation=bilinear, max_size=None, antialias=True)\n",
      "    RandomHorizontalFlip(p=0.5)\n",
      "    RandomVerticalFlip(p=0.5)\n",
      "    ToTensor()\n",
      "    Normalize(mean=[0.485, 0.456, 0.406], std=[0.229, 0.224, 0.225])\n",
      ")\n",
      "Compose(\n",
      "    Resize(size=(224, 224), interpolation=bilinear, max_size=None, antialias=True)\n",
      "    ToTensor()\n",
      "    Normalize(mean=[0.485, 0.456, 0.406], std=[0.229, 0.224, 0.225])\n",
      ")\n"
     ]
    }
   ],
   "source": [
    "train_dataset = MultiSourceChestXRayDataset(\n",
    "    dataframe=train_df,\n",
    "    image_dirs=image_dirs,\n",
    "    category_mapping=category_mapping,\n",
    "    transform=train_transform,\n",
    "    augment_transform=train_transform\n",
    ")\n",
    "\n",
    "val_dataset = MultiSourceChestXRayDataset(\n",
    "    dataframe=val_df,\n",
    "    image_dirs=image_dirs,\n",
    "    category_mapping=category_mapping,\n",
    "    transform=val_transform,\n",
    "    augment_transform=val_transform\n",
    ")\n",
    "\n",
    "# Create Dataset for df_test_valid (since it's small, we don't need to subset)\n",
    "test_dataset = ChestXRayDataset(dataframe=df_test_valid, image_dir=image_dir_test, category_mapping=category_mapping, transform=val_transform)"
   ]
  },
  {
   "cell_type": "markdown",
   "id": "9863c9c6b857131b",
   "metadata": {},
   "source": [
    "#### Step 3.3: Create dataloaders"
   ]
  },
  {
   "cell_type": "code",
   "execution_count": 30,
   "id": "df5bf589c2bf6208",
   "metadata": {
    "ExecuteTime": {
     "end_time": "2024-11-10T14:51:17.739788Z",
     "start_time": "2024-11-10T14:51:17.736347Z"
    }
   },
   "outputs": [],
   "source": [
    "# Create Dataloaders\n",
    "batch_size = 32\n",
    "\n",
    "train_loader = DataLoader(train_dataset, batch_size=batch_size, shuffle=True, num_workers=4)\n",
    "val_loader = DataLoader(val_dataset, batch_size=batch_size, shuffle=False, num_workers=4)\n",
    "test_loader = DataLoader(test_dataset, batch_size=batch_size, shuffle=False, num_workers=4)"
   ]
  },
  {
   "cell_type": "code",
   "execution_count": 31,
   "id": "ba1c0b0048dc8cd9",
   "metadata": {
    "ExecuteTime": {
     "end_time": "2024-11-10T14:51:17.769415Z",
     "start_time": "2024-11-10T14:51:17.766407Z"
    }
   },
   "outputs": [
    {
     "name": "stdout",
     "output_type": "stream",
     "text": [
      "Training DataLoader: 1116 batches\n",
      "Validation DataLoader: 274 batches\n",
      "Testing DataLoader: 659 batches\n"
     ]
    }
   ],
   "source": [
    "print(f\"Training DataLoader: {len(train_loader)} batches\")\n",
    "print(f\"Validation DataLoader: {len(val_loader)} batches\")\n",
    "print(f\"Testing DataLoader: {len(test_loader)} batches\")"
   ]
  },
  {
   "cell_type": "code",
   "execution_count": null,
   "id": "11d38f82-08a5-432e-857c-f95ea6494ef3",
   "metadata": {},
   "outputs": [],
   "source": []
  },
  {
   "cell_type": "markdown",
   "id": "d9d374bdb477980c",
   "metadata": {},
   "source": [
    "### Step 4: Define the model\n",
    "We use pretrained ResNet\n",
    "- We add linear layer to predict multi-label ( more than one category per image)\n",
    "- ResNet-50 designed to output 2048 features\n",
    "- We add two Linear layer to avoid going down from 2048 features to only 20 which may cause instability and overfitting\n",
    "\n",
    "**Note**: Different additional params/functionality to the network i.g Dropout, normalization...etc. have been tested"
   ]
  },
  {
   "cell_type": "code",
   "execution_count": 32,
   "id": "bd0ae5b8bdfccf20",
   "metadata": {
    "ExecuteTime": {
     "end_time": "2024-11-10T14:51:17.892893Z",
     "start_time": "2024-11-10T14:51:17.801419Z"
    }
   },
   "outputs": [
    {
     "name": "stdout",
     "output_type": "stream",
     "text": [
      "20\n"
     ]
    }
   ],
   "source": [
    "# Number of unique categories (labels) in the 'finding_encoded' column\n",
    "num_classes = len(combined_df['finding_encoded'].str.get_dummies(sep=',').columns)\n",
    "print(num_classes)"
   ]
  },
  {
   "cell_type": "code",
   "execution_count": 33,
   "id": "a937808d-63bc-4296-98d3-9bede88bd856",
   "metadata": {},
   "outputs": [
    {
     "name": "stdout",
     "output_type": "stream",
     "text": [
      "cuda\n"
     ]
    },
    {
     "data": {
      "text/plain": [
       "ResNet(\n",
       "  (conv1): Conv2d(3, 64, kernel_size=(7, 7), stride=(2, 2), padding=(3, 3), bias=False)\n",
       "  (bn1): BatchNorm2d(64, eps=1e-05, momentum=0.1, affine=True, track_running_stats=True)\n",
       "  (relu): ReLU(inplace=True)\n",
       "  (maxpool): MaxPool2d(kernel_size=3, stride=2, padding=1, dilation=1, ceil_mode=False)\n",
       "  (layer1): Sequential(\n",
       "    (0): Bottleneck(\n",
       "      (conv1): Conv2d(64, 64, kernel_size=(1, 1), stride=(1, 1), bias=False)\n",
       "      (bn1): BatchNorm2d(64, eps=1e-05, momentum=0.1, affine=True, track_running_stats=True)\n",
       "      (conv2): Conv2d(64, 64, kernel_size=(3, 3), stride=(1, 1), padding=(1, 1), bias=False)\n",
       "      (bn2): BatchNorm2d(64, eps=1e-05, momentum=0.1, affine=True, track_running_stats=True)\n",
       "      (conv3): Conv2d(64, 256, kernel_size=(1, 1), stride=(1, 1), bias=False)\n",
       "      (bn3): BatchNorm2d(256, eps=1e-05, momentum=0.1, affine=True, track_running_stats=True)\n",
       "      (relu): ReLU(inplace=True)\n",
       "      (downsample): Sequential(\n",
       "        (0): Conv2d(64, 256, kernel_size=(1, 1), stride=(1, 1), bias=False)\n",
       "        (1): BatchNorm2d(256, eps=1e-05, momentum=0.1, affine=True, track_running_stats=True)\n",
       "      )\n",
       "    )\n",
       "    (1): Bottleneck(\n",
       "      (conv1): Conv2d(256, 64, kernel_size=(1, 1), stride=(1, 1), bias=False)\n",
       "      (bn1): BatchNorm2d(64, eps=1e-05, momentum=0.1, affine=True, track_running_stats=True)\n",
       "      (conv2): Conv2d(64, 64, kernel_size=(3, 3), stride=(1, 1), padding=(1, 1), bias=False)\n",
       "      (bn2): BatchNorm2d(64, eps=1e-05, momentum=0.1, affine=True, track_running_stats=True)\n",
       "      (conv3): Conv2d(64, 256, kernel_size=(1, 1), stride=(1, 1), bias=False)\n",
       "      (bn3): BatchNorm2d(256, eps=1e-05, momentum=0.1, affine=True, track_running_stats=True)\n",
       "      (relu): ReLU(inplace=True)\n",
       "    )\n",
       "    (2): Bottleneck(\n",
       "      (conv1): Conv2d(256, 64, kernel_size=(1, 1), stride=(1, 1), bias=False)\n",
       "      (bn1): BatchNorm2d(64, eps=1e-05, momentum=0.1, affine=True, track_running_stats=True)\n",
       "      (conv2): Conv2d(64, 64, kernel_size=(3, 3), stride=(1, 1), padding=(1, 1), bias=False)\n",
       "      (bn2): BatchNorm2d(64, eps=1e-05, momentum=0.1, affine=True, track_running_stats=True)\n",
       "      (conv3): Conv2d(64, 256, kernel_size=(1, 1), stride=(1, 1), bias=False)\n",
       "      (bn3): BatchNorm2d(256, eps=1e-05, momentum=0.1, affine=True, track_running_stats=True)\n",
       "      (relu): ReLU(inplace=True)\n",
       "    )\n",
       "  )\n",
       "  (layer2): Sequential(\n",
       "    (0): Bottleneck(\n",
       "      (conv1): Conv2d(256, 128, kernel_size=(1, 1), stride=(1, 1), bias=False)\n",
       "      (bn1): BatchNorm2d(128, eps=1e-05, momentum=0.1, affine=True, track_running_stats=True)\n",
       "      (conv2): Conv2d(128, 128, kernel_size=(3, 3), stride=(2, 2), padding=(1, 1), bias=False)\n",
       "      (bn2): BatchNorm2d(128, eps=1e-05, momentum=0.1, affine=True, track_running_stats=True)\n",
       "      (conv3): Conv2d(128, 512, kernel_size=(1, 1), stride=(1, 1), bias=False)\n",
       "      (bn3): BatchNorm2d(512, eps=1e-05, momentum=0.1, affine=True, track_running_stats=True)\n",
       "      (relu): ReLU(inplace=True)\n",
       "      (downsample): Sequential(\n",
       "        (0): Conv2d(256, 512, kernel_size=(1, 1), stride=(2, 2), bias=False)\n",
       "        (1): BatchNorm2d(512, eps=1e-05, momentum=0.1, affine=True, track_running_stats=True)\n",
       "      )\n",
       "    )\n",
       "    (1): Bottleneck(\n",
       "      (conv1): Conv2d(512, 128, kernel_size=(1, 1), stride=(1, 1), bias=False)\n",
       "      (bn1): BatchNorm2d(128, eps=1e-05, momentum=0.1, affine=True, track_running_stats=True)\n",
       "      (conv2): Conv2d(128, 128, kernel_size=(3, 3), stride=(1, 1), padding=(1, 1), bias=False)\n",
       "      (bn2): BatchNorm2d(128, eps=1e-05, momentum=0.1, affine=True, track_running_stats=True)\n",
       "      (conv3): Conv2d(128, 512, kernel_size=(1, 1), stride=(1, 1), bias=False)\n",
       "      (bn3): BatchNorm2d(512, eps=1e-05, momentum=0.1, affine=True, track_running_stats=True)\n",
       "      (relu): ReLU(inplace=True)\n",
       "    )\n",
       "    (2): Bottleneck(\n",
       "      (conv1): Conv2d(512, 128, kernel_size=(1, 1), stride=(1, 1), bias=False)\n",
       "      (bn1): BatchNorm2d(128, eps=1e-05, momentum=0.1, affine=True, track_running_stats=True)\n",
       "      (conv2): Conv2d(128, 128, kernel_size=(3, 3), stride=(1, 1), padding=(1, 1), bias=False)\n",
       "      (bn2): BatchNorm2d(128, eps=1e-05, momentum=0.1, affine=True, track_running_stats=True)\n",
       "      (conv3): Conv2d(128, 512, kernel_size=(1, 1), stride=(1, 1), bias=False)\n",
       "      (bn3): BatchNorm2d(512, eps=1e-05, momentum=0.1, affine=True, track_running_stats=True)\n",
       "      (relu): ReLU(inplace=True)\n",
       "    )\n",
       "    (3): Bottleneck(\n",
       "      (conv1): Conv2d(512, 128, kernel_size=(1, 1), stride=(1, 1), bias=False)\n",
       "      (bn1): BatchNorm2d(128, eps=1e-05, momentum=0.1, affine=True, track_running_stats=True)\n",
       "      (conv2): Conv2d(128, 128, kernel_size=(3, 3), stride=(1, 1), padding=(1, 1), bias=False)\n",
       "      (bn2): BatchNorm2d(128, eps=1e-05, momentum=0.1, affine=True, track_running_stats=True)\n",
       "      (conv3): Conv2d(128, 512, kernel_size=(1, 1), stride=(1, 1), bias=False)\n",
       "      (bn3): BatchNorm2d(512, eps=1e-05, momentum=0.1, affine=True, track_running_stats=True)\n",
       "      (relu): ReLU(inplace=True)\n",
       "    )\n",
       "  )\n",
       "  (layer3): Sequential(\n",
       "    (0): Bottleneck(\n",
       "      (conv1): Conv2d(512, 256, kernel_size=(1, 1), stride=(1, 1), bias=False)\n",
       "      (bn1): BatchNorm2d(256, eps=1e-05, momentum=0.1, affine=True, track_running_stats=True)\n",
       "      (conv2): Conv2d(256, 256, kernel_size=(3, 3), stride=(2, 2), padding=(1, 1), bias=False)\n",
       "      (bn2): BatchNorm2d(256, eps=1e-05, momentum=0.1, affine=True, track_running_stats=True)\n",
       "      (conv3): Conv2d(256, 1024, kernel_size=(1, 1), stride=(1, 1), bias=False)\n",
       "      (bn3): BatchNorm2d(1024, eps=1e-05, momentum=0.1, affine=True, track_running_stats=True)\n",
       "      (relu): ReLU(inplace=True)\n",
       "      (downsample): Sequential(\n",
       "        (0): Conv2d(512, 1024, kernel_size=(1, 1), stride=(2, 2), bias=False)\n",
       "        (1): BatchNorm2d(1024, eps=1e-05, momentum=0.1, affine=True, track_running_stats=True)\n",
       "      )\n",
       "    )\n",
       "    (1): Bottleneck(\n",
       "      (conv1): Conv2d(1024, 256, kernel_size=(1, 1), stride=(1, 1), bias=False)\n",
       "      (bn1): BatchNorm2d(256, eps=1e-05, momentum=0.1, affine=True, track_running_stats=True)\n",
       "      (conv2): Conv2d(256, 256, kernel_size=(3, 3), stride=(1, 1), padding=(1, 1), bias=False)\n",
       "      (bn2): BatchNorm2d(256, eps=1e-05, momentum=0.1, affine=True, track_running_stats=True)\n",
       "      (conv3): Conv2d(256, 1024, kernel_size=(1, 1), stride=(1, 1), bias=False)\n",
       "      (bn3): BatchNorm2d(1024, eps=1e-05, momentum=0.1, affine=True, track_running_stats=True)\n",
       "      (relu): ReLU(inplace=True)\n",
       "    )\n",
       "    (2): Bottleneck(\n",
       "      (conv1): Conv2d(1024, 256, kernel_size=(1, 1), stride=(1, 1), bias=False)\n",
       "      (bn1): BatchNorm2d(256, eps=1e-05, momentum=0.1, affine=True, track_running_stats=True)\n",
       "      (conv2): Conv2d(256, 256, kernel_size=(3, 3), stride=(1, 1), padding=(1, 1), bias=False)\n",
       "      (bn2): BatchNorm2d(256, eps=1e-05, momentum=0.1, affine=True, track_running_stats=True)\n",
       "      (conv3): Conv2d(256, 1024, kernel_size=(1, 1), stride=(1, 1), bias=False)\n",
       "      (bn3): BatchNorm2d(1024, eps=1e-05, momentum=0.1, affine=True, track_running_stats=True)\n",
       "      (relu): ReLU(inplace=True)\n",
       "    )\n",
       "    (3): Bottleneck(\n",
       "      (conv1): Conv2d(1024, 256, kernel_size=(1, 1), stride=(1, 1), bias=False)\n",
       "      (bn1): BatchNorm2d(256, eps=1e-05, momentum=0.1, affine=True, track_running_stats=True)\n",
       "      (conv2): Conv2d(256, 256, kernel_size=(3, 3), stride=(1, 1), padding=(1, 1), bias=False)\n",
       "      (bn2): BatchNorm2d(256, eps=1e-05, momentum=0.1, affine=True, track_running_stats=True)\n",
       "      (conv3): Conv2d(256, 1024, kernel_size=(1, 1), stride=(1, 1), bias=False)\n",
       "      (bn3): BatchNorm2d(1024, eps=1e-05, momentum=0.1, affine=True, track_running_stats=True)\n",
       "      (relu): ReLU(inplace=True)\n",
       "    )\n",
       "    (4): Bottleneck(\n",
       "      (conv1): Conv2d(1024, 256, kernel_size=(1, 1), stride=(1, 1), bias=False)\n",
       "      (bn1): BatchNorm2d(256, eps=1e-05, momentum=0.1, affine=True, track_running_stats=True)\n",
       "      (conv2): Conv2d(256, 256, kernel_size=(3, 3), stride=(1, 1), padding=(1, 1), bias=False)\n",
       "      (bn2): BatchNorm2d(256, eps=1e-05, momentum=0.1, affine=True, track_running_stats=True)\n",
       "      (conv3): Conv2d(256, 1024, kernel_size=(1, 1), stride=(1, 1), bias=False)\n",
       "      (bn3): BatchNorm2d(1024, eps=1e-05, momentum=0.1, affine=True, track_running_stats=True)\n",
       "      (relu): ReLU(inplace=True)\n",
       "    )\n",
       "    (5): Bottleneck(\n",
       "      (conv1): Conv2d(1024, 256, kernel_size=(1, 1), stride=(1, 1), bias=False)\n",
       "      (bn1): BatchNorm2d(256, eps=1e-05, momentum=0.1, affine=True, track_running_stats=True)\n",
       "      (conv2): Conv2d(256, 256, kernel_size=(3, 3), stride=(1, 1), padding=(1, 1), bias=False)\n",
       "      (bn2): BatchNorm2d(256, eps=1e-05, momentum=0.1, affine=True, track_running_stats=True)\n",
       "      (conv3): Conv2d(256, 1024, kernel_size=(1, 1), stride=(1, 1), bias=False)\n",
       "      (bn3): BatchNorm2d(1024, eps=1e-05, momentum=0.1, affine=True, track_running_stats=True)\n",
       "      (relu): ReLU(inplace=True)\n",
       "    )\n",
       "  )\n",
       "  (layer4): Sequential(\n",
       "    (0): Bottleneck(\n",
       "      (conv1): Conv2d(1024, 512, kernel_size=(1, 1), stride=(1, 1), bias=False)\n",
       "      (bn1): BatchNorm2d(512, eps=1e-05, momentum=0.1, affine=True, track_running_stats=True)\n",
       "      (conv2): Conv2d(512, 512, kernel_size=(3, 3), stride=(2, 2), padding=(1, 1), bias=False)\n",
       "      (bn2): BatchNorm2d(512, eps=1e-05, momentum=0.1, affine=True, track_running_stats=True)\n",
       "      (conv3): Conv2d(512, 2048, kernel_size=(1, 1), stride=(1, 1), bias=False)\n",
       "      (bn3): BatchNorm2d(2048, eps=1e-05, momentum=0.1, affine=True, track_running_stats=True)\n",
       "      (relu): ReLU(inplace=True)\n",
       "      (downsample): Sequential(\n",
       "        (0): Conv2d(1024, 2048, kernel_size=(1, 1), stride=(2, 2), bias=False)\n",
       "        (1): BatchNorm2d(2048, eps=1e-05, momentum=0.1, affine=True, track_running_stats=True)\n",
       "      )\n",
       "    )\n",
       "    (1): Bottleneck(\n",
       "      (conv1): Conv2d(2048, 512, kernel_size=(1, 1), stride=(1, 1), bias=False)\n",
       "      (bn1): BatchNorm2d(512, eps=1e-05, momentum=0.1, affine=True, track_running_stats=True)\n",
       "      (conv2): Conv2d(512, 512, kernel_size=(3, 3), stride=(1, 1), padding=(1, 1), bias=False)\n",
       "      (bn2): BatchNorm2d(512, eps=1e-05, momentum=0.1, affine=True, track_running_stats=True)\n",
       "      (conv3): Conv2d(512, 2048, kernel_size=(1, 1), stride=(1, 1), bias=False)\n",
       "      (bn3): BatchNorm2d(2048, eps=1e-05, momentum=0.1, affine=True, track_running_stats=True)\n",
       "      (relu): ReLU(inplace=True)\n",
       "    )\n",
       "    (2): Bottleneck(\n",
       "      (conv1): Conv2d(2048, 512, kernel_size=(1, 1), stride=(1, 1), bias=False)\n",
       "      (bn1): BatchNorm2d(512, eps=1e-05, momentum=0.1, affine=True, track_running_stats=True)\n",
       "      (conv2): Conv2d(512, 512, kernel_size=(3, 3), stride=(1, 1), padding=(1, 1), bias=False)\n",
       "      (bn2): BatchNorm2d(512, eps=1e-05, momentum=0.1, affine=True, track_running_stats=True)\n",
       "      (conv3): Conv2d(512, 2048, kernel_size=(1, 1), stride=(1, 1), bias=False)\n",
       "      (bn3): BatchNorm2d(2048, eps=1e-05, momentum=0.1, affine=True, track_running_stats=True)\n",
       "      (relu): ReLU(inplace=True)\n",
       "    )\n",
       "  )\n",
       "  (avgpool): AdaptiveAvgPool2d(output_size=(1, 1))\n",
       "  (fc): Sequential(\n",
       "    (0): Linear(in_features=2048, out_features=512, bias=True)\n",
       "    (1): BatchNorm1d(512, eps=1e-05, momentum=0.1, affine=True, track_running_stats=True)\n",
       "    (2): ReLU()\n",
       "    (3): Dropout(p=0.4, inplace=False)\n",
       "    (4): Linear(in_features=512, out_features=256, bias=True)\n",
       "    (5): BatchNorm1d(256, eps=1e-05, momentum=0.1, affine=True, track_running_stats=True)\n",
       "    (6): ReLU()\n",
       "    (7): Dropout(p=0.4, inplace=False)\n",
       "    (8): Linear(in_features=256, out_features=20, bias=True)\n",
       "    (9): Sigmoid()\n",
       "  )\n",
       ")"
      ]
     },
     "execution_count": 33,
     "metadata": {},
     "output_type": "execute_result"
    }
   ],
   "source": [
    "model = models.resnet50(weights='IMAGENET1K_V2') \n",
    "model.fc = nn.Sequential(\n",
    "    nn.Linear(model.fc.in_features, 512),  # to reduce complexity gradually (2048, 512)\n",
    "    nn.BatchNorm1d(512),\n",
    "    nn.ReLU(), \n",
    "    nn.Dropout(0.4),\n",
    "    nn.Linear(512, 256), \n",
    "    nn.BatchNorm1d(256),\n",
    "    nn.ReLU(), \n",
    "    nn.Dropout(0.4),\n",
    "    nn.Linear(256, num_classes),  # Exclude 'id', 20 different categories\n",
    "    nn.Sigmoid()  # Sigmoid for multi-label classification\n",
    ")\n",
    "\n",
    "device = torch.device('cuda' if torch.cuda.is_available() else 'cpu')\n",
    "print(device)\n",
    "\n",
    "model.to(device)"
   ]
  },
  {
   "cell_type": "markdown",
   "id": "ebd5888561ce6ee3",
   "metadata": {},
   "source": [
    "### Step 5: Train, Validate and test the model"
   ]
  },
  {
   "cell_type": "markdown",
   "id": "1c917d6089b26bca",
   "metadata": {},
   "source": [
    "[Referance about BCEWithLogitsLoss()](https://medium.com/@sahilcarterr/why-nn-bcewithlogitsloss-numerically-stable-6a04f3052967)\n",
    "\n",
    "nn.BCEWithLogitsLoss():\n",
    "\n",
    "1. This loss function is more efficient because it combines the sigmoid activation and binary cross-entropy loss into a single function.\n",
    "2. It expects the raw logits (not passed through sigmoid) as input and applies the sigmoid internally.\n",
    "3. It's numerically more stable and faster than using nn.BCELoss() with a separate sigmoid.\n",
    "\n",
    "nn.BCELoss():\n",
    "\n",
    "1. This loss function expects the model's output to be probabilities in the range [0, 1], so it requires you to apply a sigmoid activation to the model's output beforehand.\n",
    "2. The formula for binary cross-entropy is applied after transforming the raw logits into probabilities using the sigmoid function."
   ]
  },
  {
   "cell_type": "markdown",
   "id": "d3224a10-8a9b-46c7-a6dc-efae37187e01",
   "metadata": {},
   "source": [
    "***Define weighted classes***"
   ]
  },
  {
   "cell_type": "code",
   "execution_count": 34,
   "id": "f9e96f0a-d427-4a64-af7e-9524f41c7c88",
   "metadata": {},
   "outputs": [
    {
     "data": {
      "text/plain": [
       "finding_encoded\n",
       "0     3301\n",
       "1     1337\n",
       "2     1582\n",
       "3     2129\n",
       "4     3394\n",
       "5     2796\n",
       "6     2698\n",
       "7      886\n",
       "8     4117\n",
       "9     2574\n",
       "10    3023\n",
       "11    1852\n",
       "12    1330\n",
       "13    1704\n",
       "14     956\n",
       "15     315\n",
       "16    1698\n",
       "17    1806\n",
       "18    1346\n",
       "19    5822\n",
       "Name: count, dtype: int64"
      ]
     },
     "execution_count": 34,
     "metadata": {},
     "output_type": "execute_result"
    }
   ],
   "source": [
    "categories  = train_df['finding_encoded'].str.split(',').explode().value_counts()\n",
    "categories.index = categories.index.astype(int)\n",
    "categories = categories.sort_index()\n",
    "categories"
   ]
  },
  {
   "cell_type": "code",
   "execution_count": 35,
   "id": "c14fc83c-6561-4ed7-a9cb-7809d78ce2be",
   "metadata": {},
   "outputs": [
    {
     "data": {
      "text/plain": [
       "35698"
      ]
     },
     "execution_count": 35,
     "metadata": {},
     "output_type": "execute_result"
    }
   ],
   "source": [
    "total = len(train_df)\n",
    "total"
   ]
  },
  {
   "cell_type": "code",
   "execution_count": 36,
   "id": "d55a88c7-0fae-44db-90c0-ab2bc3e2585f",
   "metadata": {},
   "outputs": [
    {
     "data": {
      "text/plain": [
       "finding_encoded\n",
       "0     0.092470\n",
       "1     0.037453\n",
       "2     0.044316\n",
       "3     0.059639\n",
       "4     0.095075\n",
       "5     0.078324\n",
       "6     0.075578\n",
       "7     0.024819\n",
       "8     0.115329\n",
       "9     0.072105\n",
       "10    0.084683\n",
       "11    0.051880\n",
       "12    0.037257\n",
       "13    0.047734\n",
       "14    0.026780\n",
       "15    0.008824\n",
       "16    0.047566\n",
       "17    0.050591\n",
       "18    0.037705\n",
       "19    0.163090\n",
       "Name: count, dtype: float64"
      ]
     },
     "execution_count": 36,
     "metadata": {},
     "output_type": "execute_result"
    }
   ],
   "source": [
    "proportions =  categories / total\n",
    "proportions"
   ]
  },
  {
   "cell_type": "code",
   "execution_count": 37,
   "id": "442e7257-b678-4455-a8c0-415f2302742a",
   "metadata": {},
   "outputs": [
    {
     "data": {
      "text/plain": [
       "finding_encoded\n",
       "0      10.814299\n",
       "1      26.700075\n",
       "2      22.565107\n",
       "3      16.767496\n",
       "4      10.517973\n",
       "5      12.767525\n",
       "6      13.231282\n",
       "7      40.291196\n",
       "8       8.670877\n",
       "9      13.868687\n",
       "10     11.808799\n",
       "11     19.275378\n",
       "12     26.840602\n",
       "13     20.949531\n",
       "14     37.341004\n",
       "15    113.326984\n",
       "16     21.023557\n",
       "17     19.766334\n",
       "18     26.521545\n",
       "19      6.131570\n",
       "Name: count, dtype: float64"
      ]
     },
     "execution_count": 37,
     "metadata": {},
     "output_type": "execute_result"
    }
   ],
   "source": [
    "weights = 1 / proportions\n",
    "weights"
   ]
  },
  {
   "cell_type": "code",
   "execution_count": 38,
   "id": "b3b2a6c1-fac3-4ec1-94e6-d3232b122c73",
   "metadata": {},
   "outputs": [
    {
     "data": {
      "text/plain": [
       "finding_encoded\n",
       "0     0.022568\n",
       "1     0.055720\n",
       "2     0.047091\n",
       "3     0.034992\n",
       "4     0.021950\n",
       "5     0.026645\n",
       "6     0.027612\n",
       "7     0.084084\n",
       "8     0.018095\n",
       "9     0.028943\n",
       "10    0.024644\n",
       "11    0.040226\n",
       "12    0.056014\n",
       "13    0.043720\n",
       "14    0.077927\n",
       "15    0.236502\n",
       "16    0.043874\n",
       "17    0.041250\n",
       "18    0.055348\n",
       "19    0.012796\n",
       "Name: count, dtype: float64"
      ]
     },
     "execution_count": 38,
     "metadata": {},
     "output_type": "execute_result"
    }
   ],
   "source": [
    "normalized_weights = weights / weights.sum()\n",
    "normalized_weights"
   ]
  },
  {
   "cell_type": "code",
   "execution_count": 39,
   "id": "e6df1375-d117-4e36-a20a-8a73084cf8b5",
   "metadata": {},
   "outputs": [
    {
     "data": {
      "text/plain": [
       "tensor([ 10.8143,  26.7001,  22.5651,  16.7675,  10.5180,  12.7675,  13.2313,\n",
       "         40.2912,   8.6709,  13.8687,  11.8088,  19.2754,  26.8406,  20.9495,\n",
       "         37.3410, 113.3270,  21.0236,  19.7663,  26.5215,   6.1316],\n",
       "       device='cuda:0')"
      ]
     },
     "execution_count": 39,
     "metadata": {},
     "output_type": "execute_result"
    }
   ],
   "source": [
    "weights_tensor = torch.tensor(weights.values, dtype=torch.float32).to(device)\n",
    "weights_tensor"
   ]
  },
  {
   "cell_type": "code",
   "execution_count": 40,
   "id": "67cf52d58324dd99",
   "metadata": {
    "ExecuteTime": {
     "end_time": "2024-11-10T14:51:18.265595Z",
     "start_time": "2024-11-10T14:51:18.263226Z"
    }
   },
   "outputs": [],
   "source": [
    "# Use BCEWithLogitsLoss for multi-label classification\n",
    "criterion = nn.BCEWithLogitsLoss(pos_weight=weights_tensor)   # Combined Sigmoid + Binary Cross-Entropy Loss"
   ]
  },
  {
   "cell_type": "code",
   "execution_count": 41,
   "id": "19d9bd214485c5db",
   "metadata": {
    "ExecuteTime": {
     "end_time": "2024-11-10T14:51:18.295497Z",
     "start_time": "2024-11-10T14:51:18.292609Z"
    }
   },
   "outputs": [],
   "source": [
    "#optimizer = torch.optim.Adam(model.parameters(), lr=0.001)\n",
    "\n",
    "#scheduler = torch.optim.lr_scheduler.StepLR(optimizer, step_size=5, gamma=0.9) "
   ]
  },
  {
   "cell_type": "code",
   "execution_count": 42,
   "id": "3fb0c7c5-049b-4795-a80c-31faa2444d09",
   "metadata": {},
   "outputs": [],
   "source": [
    "optimizer = torch.optim.AdamW(model.parameters(), lr=0.001)\n",
    "scheduler = torch.optim.lr_scheduler.StepLR(optimizer, step_size=5, gamma=0.9) \n",
    "#lookahead_optimizer = optim_mod.Lookahead(optimizer, k=5, alpha=0.5)\n",
    "\n",
    "#scheduler = ReduceLROnPlateau(optimizer, mode='min', patience=5, factor=0.7)"
   ]
  },
  {
   "cell_type": "code",
   "execution_count": 43,
   "id": "e186b7feb8fd449b",
   "metadata": {
    "ExecuteTime": {
     "end_time": "2024-11-10T16:19:46.917355Z",
     "start_time": "2024-11-10T16:19:46.913493Z"
    }
   },
   "outputs": [],
   "source": [
    "# Initialize lists to store loss and accuracy per epoch\n",
    "train_losses = []\n",
    "val_losses = []\n",
    "train_accuracies = []\n",
    "val_accuracies = []\n",
    "\n",
    "threshold = 0.5"
   ]
  },
  {
   "cell_type": "code",
   "execution_count": 44,
   "id": "f1d71fdcda40f48",
   "metadata": {
    "ExecuteTime": {
     "end_time": "2024-11-10T16:20:56.440991Z",
     "start_time": "2024-11-10T16:20:56.436097Z"
    }
   },
   "outputs": [],
   "source": [
    "def train(model, dataloader, criterion, optimizer, device):\n",
    "    model.train()\n",
    "    running_loss = 0.0\n",
    "    all_preds = []\n",
    "    all_labels = []\n",
    "\n",
    "    for images, labels, _ in tqdm(dataloader, desc=\"Training\"):\n",
    "        images, labels = images.to(device), labels.to(device)\n",
    "        optimizer.zero_grad()\n",
    "\n",
    "        outputs = model(images)\n",
    "        loss = criterion(outputs, labels.float())\n",
    "        running_loss += loss.item()\n",
    "\n",
    "        loss.backward()\n",
    "        optimizer.step()\n",
    "\n",
    "        all_preds.append(torch.sigmoid(outputs).detach().cpu())\n",
    "        all_labels.append(labels.cpu())\n",
    "\n",
    "    all_preds = torch.cat(all_preds).numpy()\n",
    "    all_labels = torch.cat(all_labels).numpy()\n",
    "    \n",
    "    # Print each label, prediction, and corresponding pos_weight (for debug and ensure everything as excepted)\n",
    "        #preds = torch.sigmoid(outputs).detach().cpu()\n",
    "        #for i in range(len(labels)):  # Loop through each image in the batch\n",
    "            #label = labels[i].cpu().numpy()\n",
    "            #pred = preds[i].numpy()\n",
    "            #print(f\"Label: {label}, Prediction: {pred}, Pos_Weight: {weights_tensor.cpu().numpy()}\")\n",
    "\n",
    "    # Calculate F1 scores and thresholds for each class\n",
    "    best_thresholds = []\n",
    "    for i in range(all_labels.shape[1]):\n",
    "        precision, recall, thresholds = precision_recall_curve(all_labels[:, i], all_preds[:, i])\n",
    "        f1_scores = 2 * (precision * recall) / (precision + recall + 1e-8)\n",
    "        best_threshold = thresholds[np.argmax(f1_scores)]\n",
    "        best_thresholds.append(best_threshold)\n",
    "\n",
    "    # Apply class-specific thresholds\n",
    "    thresholded_preds = np.column_stack([(all_preds[:, i] > best_thresholds[i]).astype(float) for i in range(all_labels.shape[1])])\n",
    "\n",
    "    correct_predictions = (thresholded_preds == all_labels).all(axis=1).sum()\n",
    "    avg_loss = running_loss / len(dataloader)\n",
    "    avg_accuracy = (correct_predictions / all_labels.shape[0]) * 100\n",
    "\n",
    "    report = classification_report(all_labels, thresholded_preds, zero_division=0, output_dict=True)\n",
    "    precision, recall, f1 = report['macro avg']['precision'], report['macro avg']['recall'], report['macro avg']['f1-score']\n",
    "\n",
    "    return avg_loss, avg_accuracy, precision, recall, f1, best_thresholds, correct_predictions\n"
   ]
  },
  {
   "cell_type": "code",
   "execution_count": 45,
   "id": "cfe66ca8682a5d2d",
   "metadata": {
    "ExecuteTime": {
     "end_time": "2024-11-10T16:21:01.873748Z",
     "start_time": "2024-11-10T16:21:01.868748Z"
    }
   },
   "outputs": [],
   "source": [
    "def validate(model, dataloader, criterion, device, best_thresholds):\n",
    "    model.eval()\n",
    "    running_loss = 0.0\n",
    "    all_preds = []\n",
    "    all_labels = []\n",
    "\n",
    "    with torch.no_grad():\n",
    "        for images, labels, _ in tqdm(dataloader, desc=\"Validating\"):\n",
    "            images, labels = images.to(device), labels.to(device)\n",
    "            outputs = model(images)\n",
    "            loss = criterion(outputs, labels.float())\n",
    "            running_loss += loss.item()\n",
    "\n",
    "            all_preds.append(torch.sigmoid(outputs).cpu())\n",
    "            all_labels.append(labels.cpu())\n",
    "\n",
    "    all_preds = torch.cat(all_preds).numpy()\n",
    "    all_labels = torch.cat(all_labels).numpy()\n",
    "\n",
    "    # Apply class-specific thresholds\n",
    "    thresholded_preds = np.column_stack([(all_preds[:, i] > best_thresholds[i]).astype(float) for i in range(all_labels.shape[1])])\n",
    "\n",
    "    correct_predictions = (thresholded_preds == all_labels).all(axis=1).sum()\n",
    "    avg_loss = running_loss / len(dataloader)\n",
    "    avg_accuracy = (correct_predictions / all_labels.shape[0]) * 100\n",
    "\n",
    "    report = classification_report(all_labels, thresholded_preds, zero_division=0, output_dict=True)\n",
    "    precision, recall, f1 = report['macro avg']['precision'], report['macro avg']['recall'], report['macro avg']['f1-score']\n",
    "\n",
    "    return avg_loss, avg_accuracy, precision, recall, f1, correct_predictions"
   ]
  },
  {
   "cell_type": "code",
   "execution_count": 46,
   "id": "10426519-66bd-4eaf-a044-d0326ccace57",
   "metadata": {},
   "outputs": [],
   "source": [
    "def test(model, dataloader, criterion, device, label_names, best_thresholds):\n",
    "    model.eval()\n",
    "    running_loss = 0.0\n",
    "    all_preds = []\n",
    "    all_labels = []\n",
    "\n",
    "    with torch.no_grad():\n",
    "        for images, labels, _ in tqdm(dataloader, desc=\"Testing\"):\n",
    "            images, labels = images.to(device), labels.to(device)\n",
    "            outputs = model(images)\n",
    "            loss = criterion(outputs, labels.float())\n",
    "            running_loss += loss.item()\n",
    "\n",
    "            all_preds.append(torch.sigmoid(outputs).cpu())\n",
    "            all_labels.append(labels.cpu())\n",
    "\n",
    "    all_preds = torch.cat(all_preds).numpy()\n",
    "    all_labels = torch.cat(all_labels).numpy()\n",
    "\n",
    "    # Dynamic threshold for each label based on train data\n",
    "    thresholded_preds = np.column_stack([(all_preds[:, i] > best_thresholds[i]).astype(float) for i in range(all_labels.shape[1])])\n",
    "\n",
    "    print(\"\\nFinding Best Thresholds for Each Class (Reported Only):\")\n",
    "    for i, threshold in enumerate(best_thresholds):\n",
    "        print(f\"Class '{label_names[i]}': Best Threshold = {threshold:.4f}\")\n",
    "\n",
    "    default_preds = (all_preds > 0.5).astype(float)\n",
    "\n",
    "    print(\"\\nClassification Report with Best Thresholds:\")\n",
    "    report_best = classification_report(all_labels, thresholded_preds, target_names=label_names, zero_division=0)\n",
    "    print(report_best)\n",
    "\n",
    "    print(\"\\nClassification Report with Default Threshold (0.5):\")\n",
    "    report_default = classification_report(all_labels, default_preds, target_names=label_names, zero_division=0)\n",
    "    print(report_default)\n",
    "\n",
    "    avg_loss = running_loss / len(dataloader)\n",
    "\n",
    "    return avg_loss, report_best, report_default, best_thresholds"
   ]
  },
  {
   "cell_type": "code",
   "execution_count": 47,
   "id": "c94a5ce0-1b90-4c7c-ae11-628973243d3e",
   "metadata": {
    "ExecuteTime": {
     "end_time": "2024-11-10T14:52:46.171949Z",
     "start_time": "2024-11-10T14:51:18.452045Z"
    }
   },
   "outputs": [],
   "source": [
    "num_epochs = 100\n",
    "\n",
    "# Early stopping parameters\n",
    "patience = 7 # wait \n",
    "best_val = float(\"inf\")\n",
    "epochs_no_improve = 0\n",
    "\n",
    "# for plotting\n",
    "num_epochs_runned = 0"
   ]
  },
  {
   "cell_type": "code",
   "execution_count": 48,
   "id": "3f35e36e-0752-4172-b86f-a6a713b9b3ab",
   "metadata": {
    "ExecuteTime": {
     "end_time": "2024-11-10T14:52:46.171949Z",
     "start_time": "2024-11-10T14:51:18.452045Z"
    }
   },
   "outputs": [
    {
     "name": "stdout",
     "output_type": "stream",
     "text": [
      "Epoch [1/100]\n"
     ]
    },
    {
     "name": "stderr",
     "output_type": "stream",
     "text": [
      "Training: 100%|██████████| 1116/1116 [02:51<00:00,  6.50it/s]\n"
     ]
    },
    {
     "name": "stdout",
     "output_type": "stream",
     "text": [
      "Train Loss: 1.2955, Train Accuracy: 1.4707, Train Precision: 0.1045, Train Recall: 0.4165, Train F1: 0.1558, Train Best Threshold: 0.5848, Train correct predictions: 525\n"
     ]
    },
    {
     "name": "stderr",
     "output_type": "stream",
     "text": [
      "Validating: 100%|██████████| 274/274 [00:43<00:00,  6.34it/s]\n"
     ]
    },
    {
     "name": "stdout",
     "output_type": "stream",
     "text": [
      "Total prediction: 8756  Correct preds: 22  all labels size: (8756, 20)\n",
      "Val Loss: 1.2937, Val Accuracy: 0.2513, Val Precision: 0.1137, Val Recall: 0.4913, Val F1: 0.1680, Val correct predictions: 22\n",
      "Epoch 1: Learning rate = 0.001\n",
      "Model improved and saved.\n",
      "------------------------------------------------------------\n",
      "Epoch [2/100]\n"
     ]
    },
    {
     "name": "stderr",
     "output_type": "stream",
     "text": [
      "Training: 100%|██████████| 1116/1116 [02:51<00:00,  6.51it/s]\n"
     ]
    },
    {
     "name": "stdout",
     "output_type": "stream",
     "text": [
      "Train Loss: 1.2675, Train Accuracy: 5.3869, Train Precision: 0.1370, Train Recall: 0.3907, Train F1: 0.1855, Train Best Threshold: 0.6432, Train correct predictions: 1923\n"
     ]
    },
    {
     "name": "stderr",
     "output_type": "stream",
     "text": [
      "Validating: 100%|██████████| 274/274 [00:42<00:00,  6.42it/s]\n"
     ]
    },
    {
     "name": "stdout",
     "output_type": "stream",
     "text": [
      "Total prediction: 8756  Correct preds: 477  all labels size: (8756, 20)\n",
      "Val Loss: 1.2656, Val Accuracy: 5.4477, Val Precision: 0.1457, Val Recall: 0.4539, Val F1: 0.2017, Val correct predictions: 477\n",
      "Epoch 2: Learning rate = 0.001\n",
      "Model improved and saved.\n",
      "------------------------------------------------------------\n",
      "Epoch [3/100]\n"
     ]
    },
    {
     "name": "stderr",
     "output_type": "stream",
     "text": [
      "Training: 100%|██████████| 1116/1116 [02:52<00:00,  6.46it/s]\n"
     ]
    },
    {
     "name": "stdout",
     "output_type": "stream",
     "text": [
      "Train Loss: 1.2459, Train Accuracy: 6.5130, Train Precision: 0.1582, Train Recall: 0.4221, Train F1: 0.2112, Train Best Threshold: 0.6696, Train correct predictions: 2325\n"
     ]
    },
    {
     "name": "stderr",
     "output_type": "stream",
     "text": [
      "Validating: 100%|██████████| 274/274 [00:42<00:00,  6.41it/s]\n"
     ]
    },
    {
     "name": "stdout",
     "output_type": "stream",
     "text": [
      "Total prediction: 8756  Correct preds: 51  all labels size: (8756, 20)\n",
      "Val Loss: 1.3122, Val Accuracy: 0.5825, Val Precision: 0.1310, Val Recall: 0.3931, Val F1: 0.1577, Val correct predictions: 51\n",
      "Epoch 3: Learning rate = 0.001\n",
      "Model did not improved\n",
      "------------------------------------------------------------\n",
      "Epoch [4/100]\n"
     ]
    },
    {
     "name": "stderr",
     "output_type": "stream",
     "text": [
      "Training: 100%|██████████| 1116/1116 [02:51<00:00,  6.49it/s]\n"
     ]
    },
    {
     "name": "stdout",
     "output_type": "stream",
     "text": [
      "Train Loss: 1.2344, Train Accuracy: 7.2945, Train Precision: 0.1767, Train Recall: 0.4196, Train F1: 0.2290, Train Best Threshold: 0.6895, Train correct predictions: 2604\n"
     ]
    },
    {
     "name": "stderr",
     "output_type": "stream",
     "text": [
      "Validating: 100%|██████████| 274/274 [00:42<00:00,  6.44it/s]\n"
     ]
    },
    {
     "name": "stdout",
     "output_type": "stream",
     "text": [
      "Total prediction: 8756  Correct preds: 328  all labels size: (8756, 20)\n",
      "Val Loss: 1.2665, Val Accuracy: 3.7460, Val Precision: 0.1526, Val Recall: 0.4172, Val F1: 0.1979, Val correct predictions: 328\n",
      "Epoch 4: Learning rate = 0.001\n",
      "Model did not improved\n",
      "------------------------------------------------------------\n",
      "Epoch [5/100]\n"
     ]
    },
    {
     "name": "stderr",
     "output_type": "stream",
     "text": [
      "Training: 100%|██████████| 1116/1116 [02:52<00:00,  6.45it/s]\n"
     ]
    },
    {
     "name": "stdout",
     "output_type": "stream",
     "text": [
      "Train Loss: 1.2238, Train Accuracy: 7.0760, Train Precision: 0.1850, Train Recall: 0.4493, Train F1: 0.2432, Train Best Threshold: 0.6939, Train correct predictions: 2526\n"
     ]
    },
    {
     "name": "stderr",
     "output_type": "stream",
     "text": [
      "Validating: 100%|██████████| 274/274 [00:43<00:00,  6.37it/s]\n"
     ]
    },
    {
     "name": "stdout",
     "output_type": "stream",
     "text": [
      "Total prediction: 8756  Correct preds: 670  all labels size: (8756, 20)\n",
      "Val Loss: 1.2449, Val Accuracy: 7.6519, Val Precision: 0.1954, Val Recall: 0.4446, Val F1: 0.2508, Val correct predictions: 670\n",
      "Epoch 5: Learning rate = 0.0009000000000000001\n",
      "Model improved and saved.\n",
      "------------------------------------------------------------\n",
      "Epoch [6/100]\n"
     ]
    },
    {
     "name": "stderr",
     "output_type": "stream",
     "text": [
      "Training: 100%|██████████| 1116/1116 [02:52<00:00,  6.45it/s]\n"
     ]
    },
    {
     "name": "stdout",
     "output_type": "stream",
     "text": [
      "Train Loss: 1.2085, Train Accuracy: 8.7820, Train Precision: 0.2123, Train Recall: 0.4561, Train F1: 0.2708, Train Best Threshold: 0.7069, Train correct predictions: 3135\n"
     ]
    },
    {
     "name": "stderr",
     "output_type": "stream",
     "text": [
      "Validating: 100%|██████████| 274/274 [00:42<00:00,  6.45it/s]\n"
     ]
    },
    {
     "name": "stdout",
     "output_type": "stream",
     "text": [
      "Total prediction: 8756  Correct preds: 778  all labels size: (8756, 20)\n",
      "Val Loss: 1.2269, Val Accuracy: 8.8853, Val Precision: 0.2280, Val Recall: 0.4277, Val F1: 0.2708, Val correct predictions: 778\n",
      "Epoch 6: Learning rate = 0.0009000000000000001\n",
      "Model improved and saved.\n",
      "------------------------------------------------------------\n",
      "Epoch [7/100]\n"
     ]
    },
    {
     "name": "stderr",
     "output_type": "stream",
     "text": [
      "Training: 100%|██████████| 1116/1116 [02:51<00:00,  6.50it/s]\n"
     ]
    },
    {
     "name": "stdout",
     "output_type": "stream",
     "text": [
      "Train Loss: 1.1988, Train Accuracy: 9.5804, Train Precision: 0.2289, Train Recall: 0.4765, Train F1: 0.2905, Train Best Threshold: 0.7100, Train correct predictions: 3420\n"
     ]
    },
    {
     "name": "stderr",
     "output_type": "stream",
     "text": [
      "Validating: 100%|██████████| 274/274 [00:42<00:00,  6.42it/s]\n"
     ]
    },
    {
     "name": "stdout",
     "output_type": "stream",
     "text": [
      "Total prediction: 8756  Correct preds: 548  all labels size: (8756, 20)\n",
      "Val Loss: 1.2325, Val Accuracy: 6.2586, Val Precision: 0.2147, Val Recall: 0.4536, Val F1: 0.2467, Val correct predictions: 548\n",
      "Epoch 7: Learning rate = 0.0009000000000000001\n",
      "Model did not improved\n",
      "------------------------------------------------------------\n",
      "Epoch [8/100]\n"
     ]
    },
    {
     "name": "stderr",
     "output_type": "stream",
     "text": [
      "Training: 100%|██████████| 1116/1116 [02:53<00:00,  6.44it/s]\n"
     ]
    },
    {
     "name": "stdout",
     "output_type": "stream",
     "text": [
      "Train Loss: 1.1907, Train Accuracy: 10.9782, Train Precision: 0.2514, Train Recall: 0.4749, Train F1: 0.3095, Train Best Threshold: 0.7166, Train correct predictions: 3919\n"
     ]
    },
    {
     "name": "stderr",
     "output_type": "stream",
     "text": [
      "Validating: 100%|██████████| 274/274 [00:42<00:00,  6.46it/s]\n"
     ]
    },
    {
     "name": "stdout",
     "output_type": "stream",
     "text": [
      "Total prediction: 8756  Correct preds: 624  all labels size: (8756, 20)\n",
      "Val Loss: 1.2190, Val Accuracy: 7.1265, Val Precision: 0.2451, Val Recall: 0.4525, Val F1: 0.2851, Val correct predictions: 624\n",
      "Epoch 8: Learning rate = 0.0009000000000000001\n",
      "Model improved and saved.\n",
      "------------------------------------------------------------\n",
      "Epoch [9/100]\n"
     ]
    },
    {
     "name": "stderr",
     "output_type": "stream",
     "text": [
      "Training: 100%|██████████| 1116/1116 [02:51<00:00,  6.49it/s]\n"
     ]
    },
    {
     "name": "stdout",
     "output_type": "stream",
     "text": [
      "Train Loss: 1.1821, Train Accuracy: 11.4208, Train Precision: 0.2678, Train Recall: 0.4947, Train F1: 0.3279, Train Best Threshold: 0.7171, Train correct predictions: 4077\n"
     ]
    },
    {
     "name": "stderr",
     "output_type": "stream",
     "text": [
      "Validating: 100%|██████████| 274/274 [00:42<00:00,  6.40it/s]\n"
     ]
    },
    {
     "name": "stdout",
     "output_type": "stream",
     "text": [
      "Total prediction: 8756  Correct preds: 632  all labels size: (8756, 20)\n",
      "Val Loss: 1.2142, Val Accuracy: 7.2179, Val Precision: 0.2742, Val Recall: 0.4570, Val F1: 0.3023, Val correct predictions: 632\n",
      "Epoch 9: Learning rate = 0.0009000000000000001\n",
      "Model improved and saved.\n",
      "------------------------------------------------------------\n",
      "Epoch [10/100]\n"
     ]
    },
    {
     "name": "stderr",
     "output_type": "stream",
     "text": [
      "Training: 100%|██████████| 1116/1116 [02:51<00:00,  6.49it/s]\n"
     ]
    },
    {
     "name": "stdout",
     "output_type": "stream",
     "text": [
      "Train Loss: 1.1733, Train Accuracy: 13.1576, Train Precision: 0.2961, Train Recall: 0.4913, Train F1: 0.3517, Train Best Threshold: 0.7223, Train correct predictions: 4697\n"
     ]
    },
    {
     "name": "stderr",
     "output_type": "stream",
     "text": [
      "Validating: 100%|██████████| 274/274 [00:42<00:00,  6.44it/s]\n"
     ]
    },
    {
     "name": "stdout",
     "output_type": "stream",
     "text": [
      "Total prediction: 8756  Correct preds: 972  all labels size: (8756, 20)\n",
      "Val Loss: 1.2087, Val Accuracy: 11.1010, Val Precision: 0.3022, Val Recall: 0.4136, Val F1: 0.3205, Val correct predictions: 972\n",
      "Epoch 10: Learning rate = 0.0008100000000000001\n",
      "Model improved and saved.\n",
      "------------------------------------------------------------\n",
      "Epoch [11/100]\n"
     ]
    },
    {
     "name": "stderr",
     "output_type": "stream",
     "text": [
      "Training: 100%|██████████| 1116/1116 [02:52<00:00,  6.46it/s]\n"
     ]
    },
    {
     "name": "stdout",
     "output_type": "stream",
     "text": [
      "Train Loss: 1.1642, Train Accuracy: 13.5246, Train Precision: 0.3166, Train Recall: 0.5221, Train F1: 0.3781, Train Best Threshold: 0.7212, Train correct predictions: 4828\n"
     ]
    },
    {
     "name": "stderr",
     "output_type": "stream",
     "text": [
      "Validating: 100%|██████████| 274/274 [00:42<00:00,  6.38it/s]\n"
     ]
    },
    {
     "name": "stdout",
     "output_type": "stream",
     "text": [
      "Total prediction: 8756  Correct preds: 1089  all labels size: (8756, 20)\n",
      "Val Loss: 1.1901, Val Accuracy: 12.4372, Val Precision: 0.3258, Val Recall: 0.4829, Val F1: 0.3564, Val correct predictions: 1089\n",
      "Epoch 11: Learning rate = 0.0008100000000000001\n",
      "Model improved and saved.\n",
      "------------------------------------------------------------\n",
      "Epoch [12/100]\n"
     ]
    },
    {
     "name": "stderr",
     "output_type": "stream",
     "text": [
      "Training: 100%|██████████| 1116/1116 [02:51<00:00,  6.52it/s]\n"
     ]
    },
    {
     "name": "stdout",
     "output_type": "stream",
     "text": [
      "Train Loss: 1.1564, Train Accuracy: 16.2054, Train Precision: 0.3452, Train Recall: 0.5243, Train F1: 0.4017, Train Best Threshold: 0.7239, Train correct predictions: 5785\n"
     ]
    },
    {
     "name": "stderr",
     "output_type": "stream",
     "text": [
      "Validating: 100%|██████████| 274/274 [00:42<00:00,  6.46it/s]\n"
     ]
    },
    {
     "name": "stdout",
     "output_type": "stream",
     "text": [
      "Total prediction: 8756  Correct preds: 1448  all labels size: (8756, 20)\n",
      "Val Loss: 1.1797, Val Accuracy: 16.5372, Val Precision: 0.3650, Val Recall: 0.5081, Val F1: 0.4055, Val correct predictions: 1448\n",
      "Epoch 12: Learning rate = 0.0008100000000000001\n",
      "Model improved and saved.\n",
      "------------------------------------------------------------\n",
      "Epoch [13/100]\n"
     ]
    },
    {
     "name": "stderr",
     "output_type": "stream",
     "text": [
      "Training: 100%|██████████| 1116/1116 [02:51<00:00,  6.49it/s]\n"
     ]
    },
    {
     "name": "stdout",
     "output_type": "stream",
     "text": [
      "Train Loss: 1.1525, Train Accuracy: 17.9758, Train Precision: 0.3697, Train Recall: 0.5229, Train F1: 0.4166, Train Best Threshold: 0.7260, Train correct predictions: 6417\n"
     ]
    },
    {
     "name": "stderr",
     "output_type": "stream",
     "text": [
      "Validating: 100%|██████████| 274/274 [00:42<00:00,  6.44it/s]\n"
     ]
    },
    {
     "name": "stdout",
     "output_type": "stream",
     "text": [
      "Total prediction: 8756  Correct preds: 1405  all labels size: (8756, 20)\n",
      "Val Loss: 1.1773, Val Accuracy: 16.0461, Val Precision: 0.3657, Val Recall: 0.4932, Val F1: 0.4029, Val correct predictions: 1405\n",
      "Epoch 13: Learning rate = 0.0008100000000000001\n",
      "Model improved and saved.\n",
      "------------------------------------------------------------\n",
      "Epoch [14/100]\n"
     ]
    },
    {
     "name": "stderr",
     "output_type": "stream",
     "text": [
      "Training: 100%|██████████| 1116/1116 [02:52<00:00,  6.47it/s]\n"
     ]
    },
    {
     "name": "stdout",
     "output_type": "stream",
     "text": [
      "Train Loss: 1.1442, Train Accuracy: 18.9030, Train Precision: 0.3833, Train Recall: 0.5455, Train F1: 0.4352, Train Best Threshold: 0.7256, Train correct predictions: 6748\n"
     ]
    },
    {
     "name": "stderr",
     "output_type": "stream",
     "text": [
      "Validating: 100%|██████████| 274/274 [00:42<00:00,  6.46it/s]\n"
     ]
    },
    {
     "name": "stdout",
     "output_type": "stream",
     "text": [
      "Total prediction: 8756  Correct preds: 1494  all labels size: (8756, 20)\n",
      "Val Loss: 1.1744, Val Accuracy: 17.0626, Val Precision: 0.3540, Val Recall: 0.5024, Val F1: 0.3940, Val correct predictions: 1494\n",
      "Epoch 14: Learning rate = 0.0008100000000000001\n",
      "Model improved and saved.\n",
      "------------------------------------------------------------\n",
      "Epoch [15/100]\n"
     ]
    },
    {
     "name": "stderr",
     "output_type": "stream",
     "text": [
      "Training: 100%|██████████| 1116/1116 [02:52<00:00,  6.47it/s]\n"
     ]
    },
    {
     "name": "stdout",
     "output_type": "stream",
     "text": [
      "Train Loss: 1.1397, Train Accuracy: 20.7463, Train Precision: 0.4008, Train Recall: 0.5454, Train F1: 0.4456, Train Best Threshold: 0.7267, Train correct predictions: 7406\n"
     ]
    },
    {
     "name": "stderr",
     "output_type": "stream",
     "text": [
      "Validating: 100%|██████████| 274/274 [00:42<00:00,  6.45it/s]\n"
     ]
    },
    {
     "name": "stdout",
     "output_type": "stream",
     "text": [
      "Total prediction: 8756  Correct preds: 1527  all labels size: (8756, 20)\n",
      "Val Loss: 1.1775, Val Accuracy: 17.4395, Val Precision: 0.3966, Val Recall: 0.4905, Val F1: 0.4120, Val correct predictions: 1527\n",
      "Epoch 15: Learning rate = 0.000729\n",
      "Model did not improved\n",
      "------------------------------------------------------------\n",
      "Epoch [16/100]\n"
     ]
    },
    {
     "name": "stderr",
     "output_type": "stream",
     "text": [
      "Training: 100%|██████████| 1116/1116 [02:51<00:00,  6.51it/s]\n"
     ]
    },
    {
     "name": "stdout",
     "output_type": "stream",
     "text": [
      "Train Loss: 1.1311, Train Accuracy: 23.1414, Train Precision: 0.4256, Train Recall: 0.5586, Train F1: 0.4683, Train Best Threshold: 0.7275, Train correct predictions: 8261\n"
     ]
    },
    {
     "name": "stderr",
     "output_type": "stream",
     "text": [
      "Validating: 100%|██████████| 274/274 [00:42<00:00,  6.48it/s]\n"
     ]
    },
    {
     "name": "stdout",
     "output_type": "stream",
     "text": [
      "Total prediction: 8756  Correct preds: 1742  all labels size: (8756, 20)\n",
      "Val Loss: 1.1719, Val Accuracy: 19.8949, Val Precision: 0.3960, Val Recall: 0.4869, Val F1: 0.4092, Val correct predictions: 1742\n",
      "Epoch 16: Learning rate = 0.000729\n",
      "Model improved and saved.\n",
      "------------------------------------------------------------\n",
      "Epoch [17/100]\n"
     ]
    },
    {
     "name": "stderr",
     "output_type": "stream",
     "text": [
      "Training: 100%|██████████| 1116/1116 [02:52<00:00,  6.47it/s]\n"
     ]
    },
    {
     "name": "stdout",
     "output_type": "stream",
     "text": [
      "Train Loss: 1.1249, Train Accuracy: 24.6596, Train Precision: 0.4435, Train Recall: 0.5787, Train F1: 0.4897, Train Best Threshold: 0.7271, Train correct predictions: 8803\n"
     ]
    },
    {
     "name": "stderr",
     "output_type": "stream",
     "text": [
      "Validating: 100%|██████████| 274/274 [00:42<00:00,  6.45it/s]\n"
     ]
    },
    {
     "name": "stdout",
     "output_type": "stream",
     "text": [
      "Total prediction: 8756  Correct preds: 1768  all labels size: (8756, 20)\n",
      "Val Loss: 1.1642, Val Accuracy: 20.1919, Val Precision: 0.4357, Val Recall: 0.5169, Val F1: 0.4516, Val correct predictions: 1768\n",
      "Epoch 17: Learning rate = 0.000729\n",
      "Model improved and saved.\n",
      "------------------------------------------------------------\n",
      "Epoch [18/100]\n"
     ]
    },
    {
     "name": "stderr",
     "output_type": "stream",
     "text": [
      "Training: 100%|██████████| 1116/1116 [02:52<00:00,  6.45it/s]\n"
     ]
    },
    {
     "name": "stdout",
     "output_type": "stream",
     "text": [
      "Train Loss: 1.1211, Train Accuracy: 26.1667, Train Precision: 0.4622, Train Recall: 0.5754, Train F1: 0.5010, Train Best Threshold: 0.7282, Train correct predictions: 9341\n"
     ]
    },
    {
     "name": "stderr",
     "output_type": "stream",
     "text": [
      "Validating: 100%|██████████| 274/274 [00:43<00:00,  6.32it/s]\n"
     ]
    },
    {
     "name": "stdout",
     "output_type": "stream",
     "text": [
      "Total prediction: 8756  Correct preds: 1740  all labels size: (8756, 20)\n",
      "Val Loss: 1.1671, Val Accuracy: 19.8721, Val Precision: 0.4225, Val Recall: 0.5133, Val F1: 0.4392, Val correct predictions: 1740\n",
      "Epoch 18: Learning rate = 0.000729\n",
      "Model did not improved\n",
      "------------------------------------------------------------\n",
      "Epoch [19/100]\n"
     ]
    },
    {
     "name": "stderr",
     "output_type": "stream",
     "text": [
      "Training: 100%|██████████| 1116/1116 [02:51<00:00,  6.52it/s]\n"
     ]
    },
    {
     "name": "stdout",
     "output_type": "stream",
     "text": [
      "Train Loss: 1.1164, Train Accuracy: 27.0715, Train Precision: 0.4672, Train Recall: 0.5991, Train F1: 0.5143, Train Best Threshold: 0.7277, Train correct predictions: 9664\n"
     ]
    },
    {
     "name": "stderr",
     "output_type": "stream",
     "text": [
      "Validating: 100%|██████████| 274/274 [00:42<00:00,  6.41it/s]\n"
     ]
    },
    {
     "name": "stdout",
     "output_type": "stream",
     "text": [
      "Total prediction: 8756  Correct preds: 1982  all labels size: (8756, 20)\n",
      "Val Loss: 1.1629, Val Accuracy: 22.6359, Val Precision: 0.4245, Val Recall: 0.5255, Val F1: 0.4531, Val correct predictions: 1982\n",
      "Epoch 19: Learning rate = 0.000729\n",
      "Model improved and saved.\n",
      "------------------------------------------------------------\n",
      "Epoch [20/100]\n"
     ]
    },
    {
     "name": "stderr",
     "output_type": "stream",
     "text": [
      "Training: 100%|██████████| 1116/1116 [02:51<00:00,  6.51it/s]\n"
     ]
    },
    {
     "name": "stdout",
     "output_type": "stream",
     "text": [
      "Train Loss: 1.1119, Train Accuracy: 28.5982, Train Precision: 0.4796, Train Recall: 0.6037, Train F1: 0.5257, Train Best Threshold: 0.7282, Train correct predictions: 10209\n"
     ]
    },
    {
     "name": "stderr",
     "output_type": "stream",
     "text": [
      "Validating: 100%|██████████| 274/274 [00:42<00:00,  6.43it/s]\n"
     ]
    },
    {
     "name": "stdout",
     "output_type": "stream",
     "text": [
      "Total prediction: 8756  Correct preds: 2046  all labels size: (8756, 20)\n",
      "Val Loss: 1.1582, Val Accuracy: 23.3668, Val Precision: 0.4423, Val Recall: 0.5315, Val F1: 0.4703, Val correct predictions: 2046\n",
      "Epoch 20: Learning rate = 0.0006561000000000001\n",
      "Model improved and saved.\n",
      "------------------------------------------------------------\n",
      "Epoch [21/100]\n"
     ]
    },
    {
     "name": "stderr",
     "output_type": "stream",
     "text": [
      "Training: 100%|██████████| 1116/1116 [02:51<00:00,  6.52it/s]\n"
     ]
    },
    {
     "name": "stdout",
     "output_type": "stream",
     "text": [
      "Train Loss: 1.1060, Train Accuracy: 30.1473, Train Precision: 0.5051, Train Recall: 0.6242, Train F1: 0.5500, Train Best Threshold: 0.7280, Train correct predictions: 10762\n"
     ]
    },
    {
     "name": "stderr",
     "output_type": "stream",
     "text": [
      "Validating: 100%|██████████| 274/274 [00:42<00:00,  6.44it/s]\n"
     ]
    },
    {
     "name": "stdout",
     "output_type": "stream",
     "text": [
      "Total prediction: 8756  Correct preds: 2224  all labels size: (8756, 20)\n",
      "Val Loss: 1.1547, Val Accuracy: 25.3997, Val Precision: 0.4677, Val Recall: 0.5390, Val F1: 0.4901, Val correct predictions: 2224\n",
      "Epoch 21: Learning rate = 0.0006561000000000001\n",
      "Model improved and saved.\n",
      "------------------------------------------------------------\n",
      "Epoch [22/100]\n"
     ]
    },
    {
     "name": "stderr",
     "output_type": "stream",
     "text": [
      "Training: 100%|██████████| 1116/1116 [02:51<00:00,  6.51it/s]\n"
     ]
    },
    {
     "name": "stdout",
     "output_type": "stream",
     "text": [
      "Train Loss: 1.1010, Train Accuracy: 31.9346, Train Precision: 0.5258, Train Recall: 0.6299, Train F1: 0.5651, Train Best Threshold: 0.7283, Train correct predictions: 11400\n"
     ]
    },
    {
     "name": "stderr",
     "output_type": "stream",
     "text": [
      "Validating: 100%|██████████| 274/274 [00:42<00:00,  6.44it/s]\n"
     ]
    },
    {
     "name": "stdout",
     "output_type": "stream",
     "text": [
      "Total prediction: 8756  Correct preds: 2163  all labels size: (8756, 20)\n",
      "Val Loss: 1.1605, Val Accuracy: 24.7031, Val Precision: 0.4495, Val Recall: 0.5169, Val F1: 0.4624, Val correct predictions: 2163\n",
      "Epoch 22: Learning rate = 0.0006561000000000001\n",
      "Model did not improved\n",
      "------------------------------------------------------------\n",
      "Epoch [23/100]\n"
     ]
    },
    {
     "name": "stderr",
     "output_type": "stream",
     "text": [
      "Training: 100%|██████████| 1116/1116 [02:53<00:00,  6.45it/s]\n"
     ]
    },
    {
     "name": "stdout",
     "output_type": "stream",
     "text": [
      "Train Loss: 1.0982, Train Accuracy: 32.1811, Train Precision: 0.5302, Train Recall: 0.6499, Train F1: 0.5774, Train Best Threshold: 0.7273, Train correct predictions: 11488\n"
     ]
    },
    {
     "name": "stderr",
     "output_type": "stream",
     "text": [
      "Validating: 100%|██████████| 274/274 [00:42<00:00,  6.49it/s]\n"
     ]
    },
    {
     "name": "stdout",
     "output_type": "stream",
     "text": [
      "Total prediction: 8756  Correct preds: 2232  all labels size: (8756, 20)\n",
      "Val Loss: 1.1566, Val Accuracy: 25.4911, Val Precision: 0.4441, Val Recall: 0.5371, Val F1: 0.4686, Val correct predictions: 2232\n",
      "Epoch 23: Learning rate = 0.0006561000000000001\n",
      "Model did not improved\n",
      "------------------------------------------------------------\n",
      "Epoch [24/100]\n"
     ]
    },
    {
     "name": "stderr",
     "output_type": "stream",
     "text": [
      "Training: 100%|██████████| 1116/1116 [02:52<00:00,  6.47it/s]\n"
     ]
    },
    {
     "name": "stdout",
     "output_type": "stream",
     "text": [
      "Train Loss: 1.0943, Train Accuracy: 34.1420, Train Precision: 0.5541, Train Recall: 0.6386, Train F1: 0.5864, Train Best Threshold: 0.7289, Train correct predictions: 12188\n"
     ]
    },
    {
     "name": "stderr",
     "output_type": "stream",
     "text": [
      "Validating: 100%|██████████| 274/274 [00:42<00:00,  6.45it/s]\n"
     ]
    },
    {
     "name": "stdout",
     "output_type": "stream",
     "text": [
      "Total prediction: 8756  Correct preds: 2263  all labels size: (8756, 20)\n",
      "Val Loss: 1.1615, Val Accuracy: 25.8451, Val Precision: 0.4934, Val Recall: 0.5124, Val F1: 0.4853, Val correct predictions: 2263\n",
      "Epoch 24: Learning rate = 0.0006561000000000001\n",
      "Model did not improved\n",
      "------------------------------------------------------------\n",
      "Epoch [25/100]\n"
     ]
    },
    {
     "name": "stderr",
     "output_type": "stream",
     "text": [
      "Training: 100%|██████████| 1116/1116 [02:52<00:00,  6.49it/s]\n"
     ]
    },
    {
     "name": "stdout",
     "output_type": "stream",
     "text": [
      "Train Loss: 1.0939, Train Accuracy: 34.6014, Train Precision: 0.5558, Train Recall: 0.6415, Train F1: 0.5881, Train Best Threshold: 0.7290, Train correct predictions: 12352\n"
     ]
    },
    {
     "name": "stderr",
     "output_type": "stream",
     "text": [
      "Validating: 100%|██████████| 274/274 [00:42<00:00,  6.46it/s]\n"
     ]
    },
    {
     "name": "stdout",
     "output_type": "stream",
     "text": [
      "Total prediction: 8756  Correct preds: 2513  all labels size: (8756, 20)\n",
      "Val Loss: 1.1541, Val Accuracy: 28.7003, Val Precision: 0.4854, Val Recall: 0.5233, Val F1: 0.4932, Val correct predictions: 2513\n",
      "Epoch 25: Learning rate = 0.00059049\n",
      "Model improved and saved.\n",
      "------------------------------------------------------------\n",
      "Epoch [26/100]\n"
     ]
    },
    {
     "name": "stderr",
     "output_type": "stream",
     "text": [
      "Training: 100%|██████████| 1116/1116 [02:51<00:00,  6.52it/s]\n"
     ]
    },
    {
     "name": "stdout",
     "output_type": "stream",
     "text": [
      "Train Loss: 1.0879, Train Accuracy: 35.4053, Train Precision: 0.5662, Train Recall: 0.6690, Train F1: 0.6076, Train Best Threshold: 0.7281, Train correct predictions: 12639\n"
     ]
    },
    {
     "name": "stderr",
     "output_type": "stream",
     "text": [
      "Validating: 100%|██████████| 274/274 [00:42<00:00,  6.44it/s]\n"
     ]
    },
    {
     "name": "stdout",
     "output_type": "stream",
     "text": [
      "Total prediction: 8756  Correct preds: 2515  all labels size: (8756, 20)\n",
      "Val Loss: 1.1506, Val Accuracy: 28.7232, Val Precision: 0.4976, Val Recall: 0.5488, Val F1: 0.5093, Val correct predictions: 2515\n",
      "Epoch 26: Learning rate = 0.00059049\n",
      "Model improved and saved.\n",
      "------------------------------------------------------------\n",
      "Epoch [27/100]\n"
     ]
    },
    {
     "name": "stderr",
     "output_type": "stream",
     "text": [
      "Training: 100%|██████████| 1116/1116 [02:51<00:00,  6.51it/s]\n"
     ]
    },
    {
     "name": "stdout",
     "output_type": "stream",
     "text": [
      "Train Loss: 1.0831, Train Accuracy: 37.4811, Train Precision: 0.5967, Train Recall: 0.6708, Train F1: 0.6259, Train Best Threshold: 0.7290, Train correct predictions: 13380\n"
     ]
    },
    {
     "name": "stderr",
     "output_type": "stream",
     "text": [
      "Validating: 100%|██████████| 274/274 [00:42<00:00,  6.48it/s]\n"
     ]
    },
    {
     "name": "stdout",
     "output_type": "stream",
     "text": [
      "Total prediction: 8756  Correct preds: 2571  all labels size: (8756, 20)\n",
      "Val Loss: 1.1523, Val Accuracy: 29.3627, Val Precision: 0.5098, Val Recall: 0.5223, Val F1: 0.5062, Val correct predictions: 2571\n",
      "Epoch 27: Learning rate = 0.00059049\n",
      "Model did not improved\n",
      "------------------------------------------------------------\n",
      "Epoch [28/100]\n"
     ]
    },
    {
     "name": "stderr",
     "output_type": "stream",
     "text": [
      "Training: 100%|██████████| 1116/1116 [02:51<00:00,  6.49it/s]\n"
     ]
    },
    {
     "name": "stdout",
     "output_type": "stream",
     "text": [
      "Train Loss: 1.0809, Train Accuracy: 37.8256, Train Precision: 0.5967, Train Recall: 0.6775, Train F1: 0.6295, Train Best Threshold: 0.7289, Train correct predictions: 13503\n"
     ]
    },
    {
     "name": "stderr",
     "output_type": "stream",
     "text": [
      "Validating: 100%|██████████| 274/274 [00:42<00:00,  6.46it/s]\n"
     ]
    },
    {
     "name": "stdout",
     "output_type": "stream",
     "text": [
      "Total prediction: 8756  Correct preds: 2744  all labels size: (8756, 20)\n",
      "Val Loss: 1.1529, Val Accuracy: 31.3385, Val Precision: 0.5170, Val Recall: 0.5190, Val F1: 0.5105, Val correct predictions: 2744\n",
      "Epoch 28: Learning rate = 0.00059049\n",
      "Model did not improved\n",
      "------------------------------------------------------------\n",
      "Epoch [29/100]\n"
     ]
    },
    {
     "name": "stderr",
     "output_type": "stream",
     "text": [
      "Training: 100%|██████████| 1116/1116 [02:51<00:00,  6.51it/s]\n"
     ]
    },
    {
     "name": "stdout",
     "output_type": "stream",
     "text": [
      "Train Loss: 1.0790, Train Accuracy: 38.4643, Train Precision: 0.6067, Train Recall: 0.6915, Train F1: 0.6412, Train Best Threshold: 0.7285, Train correct predictions: 13731\n"
     ]
    },
    {
     "name": "stderr",
     "output_type": "stream",
     "text": [
      "Validating: 100%|██████████| 274/274 [00:42<00:00,  6.40it/s]\n"
     ]
    },
    {
     "name": "stdout",
     "output_type": "stream",
     "text": [
      "Total prediction: 8756  Correct preds: 2609  all labels size: (8756, 20)\n",
      "Val Loss: 1.1546, Val Accuracy: 29.7967, Val Precision: 0.5130, Val Recall: 0.5326, Val F1: 0.5127, Val correct predictions: 2609\n",
      "Epoch 29: Learning rate = 0.00059049\n",
      "Model did not improved\n",
      "------------------------------------------------------------\n",
      "Epoch [30/100]\n"
     ]
    },
    {
     "name": "stderr",
     "output_type": "stream",
     "text": [
      "Training: 100%|██████████| 1116/1116 [02:52<00:00,  6.49it/s]\n"
     ]
    },
    {
     "name": "stdout",
     "output_type": "stream",
     "text": [
      "Train Loss: 1.0757, Train Accuracy: 39.3944, Train Precision: 0.6240, Train Recall: 0.6851, Train F1: 0.6482, Train Best Threshold: 0.7294, Train correct predictions: 14063\n"
     ]
    },
    {
     "name": "stderr",
     "output_type": "stream",
     "text": [
      "Validating: 100%|██████████| 274/274 [00:42<00:00,  6.46it/s]\n"
     ]
    },
    {
     "name": "stdout",
     "output_type": "stream",
     "text": [
      "Total prediction: 8756  Correct preds: 2532  all labels size: (8756, 20)\n",
      "Val Loss: 1.1513, Val Accuracy: 28.9173, Val Precision: 0.5270, Val Recall: 0.5301, Val F1: 0.5150, Val correct predictions: 2532\n",
      "Epoch 30: Learning rate = 0.000531441\n",
      "Model did not improved\n",
      "------------------------------------------------------------\n",
      "Epoch [31/100]\n"
     ]
    },
    {
     "name": "stderr",
     "output_type": "stream",
     "text": [
      "Training: 100%|██████████| 1116/1116 [02:52<00:00,  6.49it/s]\n"
     ]
    },
    {
     "name": "stdout",
     "output_type": "stream",
     "text": [
      "Train Loss: 1.0732, Train Accuracy: 40.5121, Train Precision: 0.6223, Train Recall: 0.6951, Train F1: 0.6512, Train Best Threshold: 0.7292, Train correct predictions: 14462\n"
     ]
    },
    {
     "name": "stderr",
     "output_type": "stream",
     "text": [
      "Validating: 100%|██████████| 274/274 [00:42<00:00,  6.46it/s]\n"
     ]
    },
    {
     "name": "stdout",
     "output_type": "stream",
     "text": [
      "Total prediction: 8756  Correct preds: 2729  all labels size: (8756, 20)\n",
      "Val Loss: 1.1474, Val Accuracy: 31.1672, Val Precision: 0.5202, Val Recall: 0.5288, Val F1: 0.5147, Val correct predictions: 2729\n",
      "Epoch 31: Learning rate = 0.000531441\n",
      "Model improved and saved.\n",
      "------------------------------------------------------------\n",
      "Epoch [32/100]\n"
     ]
    },
    {
     "name": "stderr",
     "output_type": "stream",
     "text": [
      "Training: 100%|██████████| 1116/1116 [02:52<00:00,  6.49it/s]\n"
     ]
    },
    {
     "name": "stdout",
     "output_type": "stream",
     "text": [
      "Train Loss: 1.0691, Train Accuracy: 40.5681, Train Precision: 0.6333, Train Recall: 0.7146, Train F1: 0.6660, Train Best Threshold: 0.7287, Train correct predictions: 14482\n"
     ]
    },
    {
     "name": "stderr",
     "output_type": "stream",
     "text": [
      "Validating: 100%|██████████| 274/274 [00:42<00:00,  6.48it/s]\n"
     ]
    },
    {
     "name": "stdout",
     "output_type": "stream",
     "text": [
      "Total prediction: 8756  Correct preds: 2779  all labels size: (8756, 20)\n",
      "Val Loss: 1.1464, Val Accuracy: 31.7382, Val Precision: 0.5335, Val Recall: 0.5406, Val F1: 0.5306, Val correct predictions: 2779\n",
      "Epoch 32: Learning rate = 0.000531441\n",
      "Model improved and saved.\n",
      "------------------------------------------------------------\n",
      "Epoch [33/100]\n"
     ]
    },
    {
     "name": "stderr",
     "output_type": "stream",
     "text": [
      "Training: 100%|██████████| 1116/1116 [02:52<00:00,  6.47it/s]\n"
     ]
    },
    {
     "name": "stdout",
     "output_type": "stream",
     "text": [
      "Train Loss: 1.0664, Train Accuracy: 41.8735, Train Precision: 0.6497, Train Recall: 0.7130, Train F1: 0.6750, Train Best Threshold: 0.7292, Train correct predictions: 14948\n"
     ]
    },
    {
     "name": "stderr",
     "output_type": "stream",
     "text": [
      "Validating: 100%|██████████| 274/274 [00:42<00:00,  6.40it/s]\n"
     ]
    },
    {
     "name": "stdout",
     "output_type": "stream",
     "text": [
      "Total prediction: 8756  Correct preds: 2760  all labels size: (8756, 20)\n",
      "Val Loss: 1.1509, Val Accuracy: 31.5212, Val Precision: 0.5385, Val Recall: 0.5345, Val F1: 0.5275, Val correct predictions: 2760\n",
      "Epoch 33: Learning rate = 0.000531441\n",
      "Model did not improved\n",
      "------------------------------------------------------------\n",
      "Epoch [34/100]\n"
     ]
    },
    {
     "name": "stderr",
     "output_type": "stream",
     "text": [
      "Training: 100%|██████████| 1116/1116 [02:53<00:00,  6.45it/s]\n"
     ]
    },
    {
     "name": "stdout",
     "output_type": "stream",
     "text": [
      "Train Loss: 1.0658, Train Accuracy: 42.1284, Train Precision: 0.6466, Train Recall: 0.7204, Train F1: 0.6765, Train Best Threshold: 0.7290, Train correct predictions: 15039\n"
     ]
    },
    {
     "name": "stderr",
     "output_type": "stream",
     "text": [
      "Validating: 100%|██████████| 274/274 [00:42<00:00,  6.39it/s]\n"
     ]
    },
    {
     "name": "stdout",
     "output_type": "stream",
     "text": [
      "Total prediction: 8756  Correct preds: 2753  all labels size: (8756, 20)\n",
      "Val Loss: 1.1480, Val Accuracy: 31.4413, Val Precision: 0.5385, Val Recall: 0.5415, Val F1: 0.5286, Val correct predictions: 2753\n",
      "Epoch 34: Learning rate = 0.000531441\n",
      "Model did not improved\n",
      "------------------------------------------------------------\n",
      "Epoch [35/100]\n"
     ]
    },
    {
     "name": "stderr",
     "output_type": "stream",
     "text": [
      "Training: 100%|██████████| 1116/1116 [02:51<00:00,  6.51it/s]\n"
     ]
    },
    {
     "name": "stdout",
     "output_type": "stream",
     "text": [
      "Train Loss: 1.0632, Train Accuracy: 42.6186, Train Precision: 0.6627, Train Recall: 0.7120, Train F1: 0.6816, Train Best Threshold: 0.7298, Train correct predictions: 15214\n"
     ]
    },
    {
     "name": "stderr",
     "output_type": "stream",
     "text": [
      "Validating: 100%|██████████| 274/274 [00:42<00:00,  6.47it/s]\n"
     ]
    },
    {
     "name": "stdout",
     "output_type": "stream",
     "text": [
      "Total prediction: 8756  Correct preds: 2809  all labels size: (8756, 20)\n",
      "Val Loss: 1.1482, Val Accuracy: 32.0809, Val Precision: 0.5505, Val Recall: 0.5403, Val F1: 0.5354, Val correct predictions: 2809\n",
      "Epoch 35: Learning rate = 0.0004782969\n",
      "Model did not improved\n",
      "------------------------------------------------------------\n",
      "Epoch [36/100]\n"
     ]
    },
    {
     "name": "stderr",
     "output_type": "stream",
     "text": [
      "Training: 100%|██████████| 1116/1116 [02:53<00:00,  6.44it/s]\n"
     ]
    },
    {
     "name": "stdout",
     "output_type": "stream",
     "text": [
      "Train Loss: 1.0599, Train Accuracy: 43.9773, Train Precision: 0.6738, Train Recall: 0.7277, Train F1: 0.6951, Train Best Threshold: 0.7296, Train correct predictions: 15699\n"
     ]
    },
    {
     "name": "stderr",
     "output_type": "stream",
     "text": [
      "Validating: 100%|██████████| 274/274 [00:42<00:00,  6.42it/s]\n"
     ]
    },
    {
     "name": "stdout",
     "output_type": "stream",
     "text": [
      "Total prediction: 8756  Correct preds: 2940  all labels size: (8756, 20)\n",
      "Val Loss: 1.1486, Val Accuracy: 33.5770, Val Precision: 0.5560, Val Recall: 0.5307, Val F1: 0.5354, Val correct predictions: 2940\n",
      "Epoch 36: Learning rate = 0.0004782969\n",
      "Model did not improved\n",
      "------------------------------------------------------------\n",
      "Epoch [37/100]\n"
     ]
    },
    {
     "name": "stderr",
     "output_type": "stream",
     "text": [
      "Training: 100%|██████████| 1116/1116 [02:52<00:00,  6.48it/s]\n"
     ]
    },
    {
     "name": "stdout",
     "output_type": "stream",
     "text": [
      "Train Loss: 1.0569, Train Accuracy: 44.4647, Train Precision: 0.6723, Train Recall: 0.7483, Train F1: 0.7033, Train Best Threshold: 0.7287, Train correct predictions: 15873\n"
     ]
    },
    {
     "name": "stderr",
     "output_type": "stream",
     "text": [
      "Validating: 100%|██████████| 274/274 [00:42<00:00,  6.45it/s]\n"
     ]
    },
    {
     "name": "stdout",
     "output_type": "stream",
     "text": [
      "Total prediction: 8756  Correct preds: 2830  all labels size: (8756, 20)\n",
      "Val Loss: 1.1479, Val Accuracy: 32.3207, Val Precision: 0.5361, Val Recall: 0.5415, Val F1: 0.5333, Val correct predictions: 2830\n",
      "Epoch 37: Learning rate = 0.0004782969\n",
      "Model did not improved\n",
      "------------------------------------------------------------\n",
      "Epoch [38/100]\n"
     ]
    },
    {
     "name": "stderr",
     "output_type": "stream",
     "text": [
      "Training: 100%|██████████| 1116/1116 [02:51<00:00,  6.53it/s]\n"
     ]
    },
    {
     "name": "stdout",
     "output_type": "stream",
     "text": [
      "Train Loss: 1.0547, Train Accuracy: 44.8372, Train Precision: 0.6734, Train Recall: 0.7549, Train F1: 0.7068, Train Best Threshold: 0.7287, Train correct predictions: 16006\n"
     ]
    },
    {
     "name": "stderr",
     "output_type": "stream",
     "text": [
      "Validating: 100%|██████████| 274/274 [00:42<00:00,  6.43it/s]\n"
     ]
    },
    {
     "name": "stdout",
     "output_type": "stream",
     "text": [
      "Total prediction: 8756  Correct preds: 2755  all labels size: (8756, 20)\n",
      "Val Loss: 1.1510, Val Accuracy: 31.4641, Val Precision: 0.5312, Val Recall: 0.5429, Val F1: 0.5273, Val correct predictions: 2755\n",
      "Epoch 38: Learning rate = 0.0004782969\n",
      "Model did not improved\n",
      "------------------------------------------------------------\n",
      "Epoch [39/100]\n"
     ]
    },
    {
     "name": "stderr",
     "output_type": "stream",
     "text": [
      "Training: 100%|██████████| 1116/1116 [02:51<00:00,  6.52it/s]\n"
     ]
    },
    {
     "name": "stdout",
     "output_type": "stream",
     "text": [
      "Train Loss: 1.0533, Train Accuracy: 45.0305, Train Precision: 0.6745, Train Recall: 0.7679, Train F1: 0.7130, Train Best Threshold: 0.7278, Train correct predictions: 16075\n"
     ]
    },
    {
     "name": "stderr",
     "output_type": "stream",
     "text": [
      "Validating: 100%|██████████| 274/274 [00:42<00:00,  6.48it/s]"
     ]
    },
    {
     "name": "stdout",
     "output_type": "stream",
     "text": [
      "Total prediction: 8756  Correct preds: 2857  all labels size: (8756, 20)\n",
      "Val Loss: 1.1489, Val Accuracy: 32.6291, Val Precision: 0.5439, Val Recall: 0.5515, Val F1: 0.5407, Val correct predictions: 2857\n",
      "Epoch 39: Learning rate = 0.0004782969\n",
      "Model did not improved\n",
      "Early stopping triggered\n"
     ]
    },
    {
     "name": "stderr",
     "output_type": "stream",
     "text": [
      "\n"
     ]
    }
   ],
   "source": [
    "for epoch in range(num_epochs):\n",
    "    print(f\"Epoch [{epoch + 1}/{num_epochs}]\")\n",
    "    \n",
    "    # Train the model for one epoch\n",
    "    train_loss, train_accuracy, train_precision, train_recall, train_f1, train_best_threshold, train_correct_predictions = train(model, train_loader, criterion, optimizer, device)\n",
    "    print(f\"Train Loss: {train_loss:.4f}, Train Accuracy: {train_accuracy:.4f}, \"\n",
    "      f\"Train Precision: {train_precision:.4f}, Train Recall: {train_recall:.4f}, \"\n",
    "      f\"Train F1: {train_f1:.4f}, Train Best Threshold: {train_best_threshold:.4f}, \"\n",
    "      f\"Train correct predictions: {train_correct_predictions}\")\n",
    "\n",
    "\n",
    "\n",
    "    # Validate the model after training\n",
    "    val_loss, val_accuracy, val_precision, val_recall, val_f1, val_correct_predictions = validate(model, val_loader, criterion, device, train_best_threshold)\n",
    "\n",
    "    print(f\"Val Loss: {val_loss:.4f}, Val Accuracy: {val_accuracy:.4f}, \"\n",
    "      f\"Val Precision: {val_precision:.4f}, Val Recall: {val_recall:.4f}, \"\n",
    "      f\"Val F1: {val_f1:.4f}, Val correct predictions: {val_correct_predictions}\")\n",
    "\n",
    "\n",
    "    # Step the Lookahead optimizer\n",
    "    #lookahead_optimizer.step()\n",
    "    # Step the ReduceLROnPlateau scheduler\n",
    "    #scheduler.step(val_loss)\n",
    "    \n",
    "    scheduler.step()\n",
    "\n",
    "    print(f\"Epoch {epoch + 1}: Learning rate = {scheduler.get_last_lr()[0]}\")\n",
    "\n",
    "    num_epochs_runned += 1\n",
    "\n",
    "    # Validation loss has improved\n",
    "    if val_loss < best_val:\n",
    "        best_val = val_loss\n",
    "        epochs_no_improve = 0  # Reset the counter if we see improvement\n",
    "        \n",
    "        # Save the model checkpoint\n",
    "        torch.save(model.state_dict(), \"singular_over_down_sampled.pth\")\n",
    "        print(\"Model improved and saved.\")\n",
    "    else:\n",
    "        print(\"Model did not improved\")\n",
    "        epochs_no_improve += 1  # Increment counter if no improvement\n",
    "\n",
    "    # Early stopping\n",
    "    if epochs_no_improve == patience:\n",
    "        print(\"Early stopping triggered\")\n",
    "        break\n",
    "\n",
    "    print(\"-\" * 60)"
   ]
  },
  {
   "cell_type": "code",
   "execution_count": 49,
   "id": "dd155298-30d9-4bfa-b980-1abfe2318399",
   "metadata": {},
   "outputs": [],
   "source": [
    "# Define label names for better readability in the report\n",
    "label_names = [\n",
    "    'Atelectasis', 'Cardiomegaly', 'Consolidation', 'Edema', 'Effusion', \n",
    "    'Emphysema', 'Fibrosis', 'Hernia', 'Infiltration', 'Mass', 'Nodule', \n",
    "    'Pleural Thickening', 'Pneumonia', 'Pneumothorax', 'Pneumoperitoneum', \n",
    "    'Pneumomediastinum', 'Subcutaneous Emphysema', 'Tortuous Aorta', \n",
    "    'Calcification of the Aorta', 'No Finding'\n",
    "]"
   ]
  },
  {
   "cell_type": "code",
   "execution_count": 50,
   "id": "99e00203e15923f0",
   "metadata": {
    "ExecuteTime": {
     "end_time": "2024-11-10T14:53:15.350469Z",
     "start_time": "2024-11-10T14:52:46.256405Z"
    }
   },
   "outputs": [
    {
     "name": "stdout",
     "output_type": "stream",
     "text": [
      "Hello test\n"
     ]
    },
    {
     "name": "stderr",
     "output_type": "stream",
     "text": [
      "Testing: 100%|██████████| 659/659 [01:37<00:00,  6.75it/s]\n"
     ]
    },
    {
     "name": "stdout",
     "output_type": "stream",
     "text": [
      "\n",
      "Finding Best Thresholds for Each Class:\n",
      "Class 'Atelectasis': Best Threshold = 0.6789, Max F1-Score = 0.3072\n",
      "Class 'Cardiomegaly': Best Threshold = 0.7257, Max F1-Score = 0.2594\n",
      "Class 'Consolidation': Best Threshold = 0.7291, Max F1-Score = 0.2086\n",
      "Class 'Edema': Best Threshold = 0.7018, Max F1-Score = 0.1918\n",
      "Class 'Effusion': Best Threshold = 0.7155, Max F1-Score = 0.4354\n",
      "Class 'Emphysema': Best Threshold = 0.7254, Max F1-Score = 0.3443\n",
      "Class 'Fibrosis': Best Threshold = 0.5039, Max F1-Score = 0.0837\n",
      "Class 'Hernia': Best Threshold = 0.7267, Max F1-Score = 0.0988\n",
      "Class 'Infiltration': Best Threshold = 0.5180, Max F1-Score = 0.4177\n",
      "Class 'Mass': Best Threshold = 0.7259, Max F1-Score = 0.2308\n",
      "Class 'Nodule': Best Threshold = 0.7242, Max F1-Score = 0.2190\n",
      "Class 'Pleural Thickening': Best Threshold = 0.6688, Max F1-Score = 0.1543\n",
      "Class 'Pneumonia': Best Threshold = 0.5005, Max F1-Score = 0.0624\n",
      "Class 'Pneumothorax': Best Threshold = 0.7231, Max F1-Score = 0.3510\n",
      "Class 'Pneumoperitoneum': Best Threshold = 0.5604, Max F1-Score = 0.0766\n",
      "Class 'Pneumomediastinum': Best Threshold = 0.7311, Max F1-Score = 0.2358\n",
      "Class 'Subcutaneous Emphysema': Best Threshold = 0.7305, Max F1-Score = 0.3574\n",
      "Class 'Tortuous Aorta': Best Threshold = 0.7310, Max F1-Score = 0.1379\n",
      "Class 'Calcification of the Aorta': Best Threshold = 0.7301, Max F1-Score = 0.0531\n",
      "Class 'No Finding': Best Threshold = 0.5000, Max F1-Score = 0.5668\n",
      "\n",
      "Classification Report with Best Thresholds:\n",
      "                            precision    recall  f1-score   support\n",
      "\n",
      "               Atelectasis       0.22      0.49      0.31      2700\n",
      "              Cardiomegaly       0.25      0.27      0.26       868\n",
      "             Consolidation       0.14      0.42      0.21      1497\n",
      "                     Edema       0.12      0.41      0.19       751\n",
      "                  Effusion       0.34      0.61      0.44      3735\n",
      "                 Emphysema       0.28      0.45      0.34       917\n",
      "                  Fibrosis       0.05      0.34      0.08       365\n",
      "                    Hernia       0.17      0.05      0.08        62\n",
      "              Infiltration       0.28      0.78      0.42      5159\n",
      "                      Mass       0.18      0.32      0.23      1329\n",
      "                    Nodule       0.18      0.29      0.22      1305\n",
      "        Pleural Thickening       0.10      0.32      0.15       902\n",
      "                 Pneumonia       0.04      0.26      0.06       452\n",
      "              Pneumothorax       0.28      0.47      0.35      2106\n",
      "          Pneumoperitoneum       0.05      0.10      0.07        69\n",
      "         Pneumomediastinum       0.35      0.17      0.23       143\n",
      "    Subcutaneous Emphysema       0.30      0.43      0.36       813\n",
      "            Tortuous Aorta       0.18      0.09      0.12        95\n",
      "Calcification of the Aorta       0.04      0.04      0.04        55\n",
      "                No Finding       0.46      0.74      0.57      8015\n",
      "\n",
      "                 micro avg       0.26      0.57      0.36     31338\n",
      "                 macro avg       0.20      0.35      0.24     31338\n",
      "              weighted avg       0.30      0.57      0.38     31338\n",
      "               samples avg       0.28      0.61      0.36     31338\n",
      "\n",
      "\n",
      "Classification Report with Default Threshold (0.5):\n",
      "                            precision    recall  f1-score   support\n",
      "\n",
      "               Atelectasis       0.14      0.97      0.25      2700\n",
      "              Cardiomegaly       0.05      0.96      0.10       868\n",
      "             Consolidation       0.08      0.98      0.15      1497\n",
      "                     Edema       0.05      0.95      0.10       751\n",
      "                  Effusion       0.20      0.98      0.33      3735\n",
      "                 Emphysema       0.07      0.93      0.13       917\n",
      "                  Fibrosis       0.02      0.83      0.05       365\n",
      "                    Hernia       0.01      0.53      0.01        62\n",
      "              Infiltration       0.25      0.99      0.40      5159\n",
      "                      Mass       0.07      0.96      0.13      1329\n",
      "                    Nodule       0.07      0.97      0.12      1305\n",
      "        Pleural Thickening       0.05      0.91      0.10       902\n",
      "                 Pneumonia       0.03      0.81      0.05       452\n",
      "              Pneumothorax       0.11      0.98      0.20      2106\n",
      "          Pneumoperitoneum       0.01      0.58      0.01        69\n",
      "         Pneumomediastinum       0.02      0.74      0.03       143\n",
      "    Subcutaneous Emphysema       0.07      0.95      0.13       813\n",
      "            Tortuous Aorta       0.01      0.80      0.02        95\n",
      "Calcification of the Aorta       0.00      0.75      0.01        55\n",
      "                No Finding       0.40      0.92      0.55      8015\n",
      "\n",
      "                 micro avg       0.11      0.95      0.19     31338\n",
      "                 macro avg       0.08      0.88      0.14     31338\n",
      "              weighted avg       0.20      0.95      0.32     31338\n",
      "               samples avg       0.11      0.95      0.20     31338\n",
      "\n",
      "Test Loss: 1.1894\n"
     ]
    }
   ],
   "source": [
    "# Now, evaluate the model on the test set\n",
    "model.load_state_dict(torch.load(\"singular_over_down_sampled.pth\", weights_only=True))\n",
    "print(\"Hello test\")\n",
    "test_loss, test_report_best, test_report_default, test_best_thresholds = test(model, test_loader, criterion, device, label_names, train_best_threshold)\n",
    "\n",
    "print(f\"Test Loss: {test_loss:.4f}\")"
   ]
  },
  {
   "cell_type": "code",
   "execution_count": 51,
   "id": "5765d547daa4988b",
   "metadata": {
    "ExecuteTime": {
     "end_time": "2024-11-10T15:05:50.622585Z",
     "start_time": "2024-11-10T15:05:50.415197Z"
    }
   },
   "outputs": [
    {
     "data": {
      "image/png": "[encoded data removed]",
      "text/plain": [
       "<Figure size 640x480 with 1 Axes>"
      ]
     },
     "metadata": {},
     "output_type": "display_data"
    },
    {
     "data": {
      "image/png": "[encoded data removed]",
      "text/plain": [
       "<Figure size 640x480 with 1 Axes>"
      ]
     },
     "metadata": {},
     "output_type": "display_data"
    },
    {
     "name": "stdout",
     "output_type": "stream",
     "text": [
      "    Epoch  Train Loss  Train Accuracy  Val Loss  Val Accuracy\n",
      "0       1    1.295535        1.470671  1.293697      0.251256\n",
      "1       2    1.267453        5.386856  1.265632      5.447693\n",
      "2       3    1.245917        6.512970  1.312248      0.582458\n",
      "3       4    1.234390        7.294526  1.266499      3.746003\n",
      "4       5    1.223817        7.076027  1.244871      7.651896\n",
      "5       6    1.208520        8.782005  1.226883      8.885336\n",
      "6       7    1.198833        9.580369  1.232546      6.258566\n",
      "7       8    1.190703       10.978206  1.218997      7.126542\n",
      "8       9    1.182091       11.420808  1.214224      7.217908\n",
      "9      10    1.173337       13.157600  1.208663     11.100959\n",
      "10     11    1.164176       13.524567  1.190070     12.437186\n",
      "11     12    1.156442       16.205390  1.179658     16.537232\n",
      "12     13    1.152471       17.975797  1.177253     16.046140\n",
      "13     14    1.144151       18.903020  1.174436     17.062586\n",
      "14     15    1.139678       20.746260  1.177511     17.439470\n",
      "15     16    1.131130       23.141352  1.171875     19.894929\n",
      "16     17    1.124943       24.659645  1.164208     20.191868\n",
      "17     18    1.121122       26.166732  1.167125     19.872088\n",
      "18     19    1.116398       27.071545  1.162946     22.635907\n",
      "19     20    1.111914       28.598241  1.158158     23.366834\n",
      "20     21    1.106028       30.147347  1.154720     25.399726\n",
      "21     22    1.100988       31.934562  1.160524     24.703061\n",
      "22     23    1.098202       32.181075  1.156617     25.491092\n",
      "23     24    1.094321       34.141969  1.161507     25.845135\n",
      "24     25    1.093950       34.601378  1.154087     28.700320\n",
      "25     26    1.087923       35.405345  1.150575     28.723161\n",
      "26     27    1.083123       37.481091  1.152269     29.362723\n",
      "27     28    1.080874       37.825648  1.152895     31.338511\n",
      "28     29    1.078992       38.464340  1.154573     29.796711\n",
      "29     30    1.075682       39.394364  1.151261     28.917314\n",
      "30     31    1.073240       40.512074  1.147365     31.167200\n",
      "31     32    1.069088       40.568099  1.146450     31.738237\n",
      "32     33    1.066449       41.873494  1.150948     31.521243\n",
      "33     34    1.065821       42.128411  1.147975     31.441297\n",
      "34     35    1.063209       42.618634  1.148158     32.080859\n",
      "35     36    1.059856       43.977254  1.148604     33.576976\n",
      "36     37    1.056926       44.464676  1.147861     32.320694\n",
      "37     38    1.054738       44.837246  1.151042     31.464139\n",
      "38     39    1.053253       45.030534  1.148885     32.629054\n"
     ]
    }
   ],
   "source": [
    "plt.plot(range(num_epochs_runned), train_losses, label=\"Train Loss\")\n",
    "plt.plot(range(num_epochs_runned), val_losses, label=\"Validation Loss\")\n",
    "plt.xlabel('Epoch')\n",
    "plt.ylabel('Loss')\n",
    "plt.legend()\n",
    "plt.title('Training and Validation Loss singular over sampled (Minority classes)')\n",
    "plt.show()\n",
    "\n",
    "# Plot training and validation accuracy\n",
    "plt.plot(range(num_epochs_runned), train_accuracies, label=\"Train Accuracy\")\n",
    "plt.plot(range(num_epochs_runned), val_accuracies, label=\"Validation Accuracy\")\n",
    "plt.xlabel('Epoch')\n",
    "plt.ylabel('Accuracy (%)')\n",
    "plt.legend()\n",
    "plt.title('Training and Validation Accuracy')\n",
    "plt.show()\n",
    "\n",
    "# Save the results in a DataFrame for reporting\n",
    "results_df = pd.DataFrame({\n",
    "    'Epoch': range(1, num_epochs_runned + 1),\n",
    "    'Train Loss': train_losses,\n",
    "    'Train Accuracy': train_accuracies,\n",
    "    'Val Loss': val_losses,\n",
    "    'Val Accuracy': val_accuracies\n",
    "})\n",
    "\n",
    "print(results_df)"
   ]
  },
  {
   "cell_type": "code",
   "execution_count": null,
   "id": "cbc35e53-0cae-4939-a219-b8cd339207aa",
   "metadata": {},
   "outputs": [],
   "source": []
  }
 ],
 "metadata": {
  "kernelspec": {
   "display_name": "Python 3 (ipykernel)",
   "language": "python",
   "name": "python3"
  },
  "language_info": {
   "codemirror_mode": {
    "name": "ipython",
    "version": 3
   },
   "file_extension": ".py",
   "mimetype": "text/x-python",
   "name": "python",
   "nbconvert_exporter": "python",
   "pygments_lexer": "ipython3",
   "version": "3.11.6"
  }
 },
 "nbformat": 4,
 "nbformat_minor": 5
}
