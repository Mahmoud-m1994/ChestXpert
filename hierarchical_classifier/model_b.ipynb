{
 "cells": [
  {
   "cell_type": "markdown",
   "id": "c6f871d393e2c072",
   "metadata": {},
   "source": [
    "### Step 1: Load data"
   ]
  },
  {
   "cell_type": "code",
   "execution_count": 1,
   "id": "initial_id",
   "metadata": {
    "ExecuteTime": {
     "end_time": "2024-11-10T15:03:30.327388Z",
     "start_time": "2024-11-10T15:03:30.057782Z"
    }
   },
   "outputs": [],
   "source": [
    "import os\n",
    "\n",
    "import numpy as np\n",
    "import pandas as pd\n",
    "import torch\n",
    "import torch.nn as nn\n",
    "from matplotlib import pyplot as plt\n",
    "from sklearn.metrics import classification_report, precision_recall_curve\n",
    "from skmultilearn.model_selection import IterativeStratification\n",
    "from torch.utils.data import DataLoader\n",
    "from torchvision import transforms, models\n",
    "from tqdm import tqdm\n",
    "\n",
    "from ChestXRayDataset import ChestXRayDataset"
   ]
  },
  {
   "cell_type": "code",
   "execution_count": 2,
   "id": "401d32cc3ee88c8e",
   "metadata": {
    "ExecuteTime": {
     "end_time": "2024-11-10T14:51:16.469551Z",
     "start_time": "2024-11-10T14:51:16.383213Z"
    }
   },
   "outputs": [],
   "source": [
    "df_train = pd.read_csv('../data/data_entries/miccai2023_nih-cxr-lt_labels_train.csv')\n",
    "df_val = pd.read_csv('../data/data_entries/miccai2023_nih-cxr-lt_labels_val.csv')\n",
    "df_test = pd.read_csv('../data/data_entries/miccai2023_nih-cxr-lt_labels_test.csv')"
   ]
  },
  {
   "cell_type": "code",
   "execution_count": 3,
   "id": "e064940c88cd6388",
   "metadata": {
    "ExecuteTime": {
     "end_time": "2024-11-10T14:51:16.603077Z",
     "start_time": "2024-11-10T14:51:16.598772Z"
    }
   },
   "outputs": [
    {
     "data": {
      "text/plain": [
       "((78506, 22), (12533, 22), (21081, 22))"
      ]
     },
     "execution_count": 3,
     "metadata": {},
     "output_type": "execute_result"
    }
   ],
   "source": [
    "df_train.shape, df_val.shape, df_test.shape"
   ]
  },
  {
   "cell_type": "code",
   "execution_count": 4,
   "id": "60355a4b-a052-4cae-b0c5-a7295aa655ef",
   "metadata": {},
   "outputs": [
    {
     "data": {
      "text/plain": [
       "Atelectasis                    7587\n",
       "Cardiomegaly                   1590\n",
       "Consolidation                  2626\n",
       "Edema                          1283\n",
       "Effusion                       7919\n",
       "Emphysema                      1327\n",
       "Fibrosis                       1138\n",
       "Hernia                          130\n",
       "Infiltration                  12739\n",
       "Mass                           3689\n",
       "Nodule                         4359\n",
       "Pleural Thickening             1998\n",
       "Pneumonia                       806\n",
       "Pneumothorax                   2432\n",
       "Pneumoperitoneum                214\n",
       "Pneumomediastinum                88\n",
       "Subcutaneous Emphysema          957\n",
       "Tortuous Aorta                  598\n",
       "Calcification of the Aorta      368\n",
       "dtype: int64"
      ]
     },
     "execution_count": 4,
     "metadata": {},
     "output_type": "execute_result"
    }
   ],
   "source": [
    "# Count classes to determinate majority classes\n",
    "class_counts = df_train.iloc[:, 1:-2].sum(axis=0)\n",
    "class_counts"
   ]
  },
  {
   "cell_type": "markdown",
   "id": "197ef722b6d5bddb",
   "metadata": {},
   "source": [
    "Some images exist in images folder, but not in miccai labels and opposite\n",
    "\n",
    "To fix this problem We create list of all image IDs in both train and test _images folder\n",
    "then ensure that only images withing this list are loaded to dataset"
   ]
  },
  {
   "cell_type": "code",
   "execution_count": 5,
   "id": "3b83bbd4dfc8674d",
   "metadata": {
    "ExecuteTime": {
     "end_time": "2024-11-10T14:51:16.704227Z",
     "start_time": "2024-11-10T14:51:16.700688Z"
    }
   },
   "outputs": [],
   "source": [
    "image_dir_train = '../data/train_images'\n",
    "image_dir_test = '../data/test_images'\n",
    "# Define function to get valid image ids that exist in the image directory\n",
    "def get_valid_image_ids(df, image_dir):\n",
    "    # Get the set of image IDs that exist in the image directory\n",
    "    image_files = set(os.listdir(image_dir))  # List of all files in the image directory\n",
    "    # Check if image id exists in the image directory\n",
    "    valid_ids = df[df['id'].isin(image_files)]['id']\n",
    "    return valid_ids"
   ]
  },
  {
   "cell_type": "code",
   "execution_count": 6,
   "id": "b23bdd75f36a256e",
   "metadata": {
    "ExecuteTime": {
     "end_time": "2024-11-10T14:51:16.744561Z",
     "start_time": "2024-11-10T14:51:16.716264Z"
    }
   },
   "outputs": [],
   "source": [
    "# Get valid image ids for train and test datasets\n",
    "valid_train_ids = get_valid_image_ids(df_train, image_dir_train)\n",
    "valid_val_ids = get_valid_image_ids(df_val, image_dir_train)\n",
    "valid_test_ids = get_valid_image_ids(df_test, image_dir_test)"
   ]
  },
  {
   "cell_type": "code",
   "execution_count": 7,
   "id": "1f6a294e2f064fbd",
   "metadata": {
    "ExecuteTime": {
     "end_time": "2024-11-10T14:51:16.764801Z",
     "start_time": "2024-11-10T14:51:16.755889Z"
    }
   },
   "outputs": [
    {
     "data": {
      "text/plain": [
       "((78506, 22), (8018, 22), (21081, 22))"
      ]
     },
     "execution_count": 7,
     "metadata": {},
     "output_type": "execute_result"
    }
   ],
   "source": [
    "# Filter the DataFrames to include only the valid image IDs\n",
    "df_train_valid = df_train[df_train['id'].isin(valid_train_ids)]\n",
    "df_val_valid = df_val[df_val['id'].isin(valid_val_ids)]\n",
    "df_test_valid = df_test[df_test['id'].isin(valid_test_ids)]\n",
    "\n",
    "df_train_valid.shape, df_val_valid.shape, df_test_valid.shape"
   ]
  },
  {
   "cell_type": "code",
   "execution_count": 8,
   "id": "aa7554c8d5ef5eca",
   "metadata": {
    "ExecuteTime": {
     "end_time": "2024-11-10T14:51:16.786894Z",
     "start_time": "2024-11-10T14:51:16.782623Z"
    }
   },
   "outputs": [],
   "source": [
    "df_train_val = pd.concat([df_train_valid, df_val_valid], ignore_index=True)\n",
    "assert df_train_val.shape[0] == df_train_valid.shape[0] + df_val_valid.shape[0]"
   ]
  },
  {
   "cell_type": "code",
   "execution_count": 9,
   "id": "63d9d8fb-196f-43ea-a520-7146cc5a4dbe",
   "metadata": {},
   "outputs": [
    {
     "data": {
      "text/plain": [
       "((36778, 22), (13066, 22))"
      ]
     },
     "execution_count": 9,
     "metadata": {},
     "output_type": "execute_result"
    }
   ],
   "source": [
    "df_train_val.drop(df_train_val[df_train_val['No Finding'] == 1].index, inplace=True)\n",
    "df_test_valid.drop(df_test_valid[df_test_valid['No Finding'] == 1].index, inplace=True)\n",
    "df_train_val.shape, df_test_valid.shape"
   ]
  },
  {
   "cell_type": "code",
   "execution_count": 10,
   "id": "3e0686f621c6b3e",
   "metadata": {
    "ExecuteTime": {
     "end_time": "2024-11-10T14:51:16.844212Z",
     "start_time": "2024-11-10T14:51:16.839329Z"
    }
   },
   "outputs": [
    {
     "data": {
      "text/plain": [
       "(36778, 20)"
      ]
     },
     "execution_count": 10,
     "metadata": {},
     "output_type": "execute_result"
    }
   ],
   "source": [
    "df_train_val = df_train_val.copy()\n",
    "# Drop No Finding also since model A is looking at it\n",
    "df_train_val.drop(columns=['subj_id', 'No Finding'], inplace=True)\n",
    "df_train_val.shape"
   ]
  },
  {
   "cell_type": "code",
   "execution_count": 11,
   "id": "21ca2ca48ff9f98f",
   "metadata": {
    "ExecuteTime": {
     "end_time": "2024-11-10T14:51:16.880223Z",
     "start_time": "2024-11-10T14:51:16.876337Z"
    }
   },
   "outputs": [
    {
     "data": {
      "text/plain": [
       "(13066, 20)"
      ]
     },
     "execution_count": 11,
     "metadata": {},
     "output_type": "execute_result"
    }
   ],
   "source": [
    "## Do same for testing\n",
    "df_test_valid = df_test_valid.copy()\n",
    "df_test_valid.drop(columns=['subj_id', 'No Finding'], inplace=True)\n",
    "df_test_valid.shape"
   ]
  },
  {
   "cell_type": "markdown",
   "id": "4c822dcd-e480-405e-9939-50ce473f6b70",
   "metadata": {},
   "source": [
    "### Create minority column\n",
    "\n",
    "Identify rows where any column not in majority_classes has a value of 1, and assign 1 to the minority column; otherwise, 0.\n",
    "\n",
    "***Step 1: Identify majority classes***"
   ]
  },
  {
   "cell_type": "code",
   "execution_count": 12,
   "id": "990fa396-f448-4b5b-8286-9eacbe119e5f",
   "metadata": {},
   "outputs": [
    {
     "data": {
      "text/plain": [
       "Atelectasis                    8280\n",
       "Cardiomegaly                   1707\n",
       "Consolidation                  2852\n",
       "Edema                          1378\n",
       "Effusion                       8659\n",
       "Emphysema                      1423\n",
       "Fibrosis                       1251\n",
       "Hernia                          141\n",
       "Infiltration                  13782\n",
       "Mass                           4034\n",
       "Nodule                         4708\n",
       "Pleural Thickening             2242\n",
       "Pneumonia                       876\n",
       "Pneumothorax                   2637\n",
       "Pneumoperitoneum                231\n",
       "Pneumomediastinum                92\n",
       "Subcutaneous Emphysema         1023\n",
       "Tortuous Aorta                  634\n",
       "Calcification of the Aorta      395\n",
       "dtype: int64"
      ]
     },
     "execution_count": 12,
     "metadata": {},
     "output_type": "execute_result"
    }
   ],
   "source": [
    "# Count classes to determinate majority classes\n",
    "class_counts = df_train_val.iloc[:, 1:].sum(axis=0)\n",
    "class_counts"
   ]
  },
  {
   "cell_type": "code",
   "execution_count": 13,
   "id": "3a4ec43e-0eb1-4e9d-9999-438f42feefc2",
   "metadata": {},
   "outputs": [
    {
     "data": {
      "text/plain": [
       "['Atelectasis', 'Effusion', 'Infiltration', 'Mass', 'Nodule']"
      ]
     },
     "execution_count": 13,
     "metadata": {},
     "output_type": "execute_result"
    }
   ],
   "source": [
    "majority_threshold = 3000\n",
    "majority_classes = class_counts[class_counts > majority_threshold].index.tolist()\n",
    "majority_classes"
   ]
  },
  {
   "cell_type": "markdown",
   "id": "67c13f45-3683-4b4c-918c-c213db90d373",
   "metadata": {},
   "source": [
    "***Step 2: create 'minority' column***"
   ]
  },
  {
   "cell_type": "code",
   "execution_count": 14,
   "id": "336c45a0-e6a3-4895-bd7e-8a0e7a18a123",
   "metadata": {},
   "outputs": [],
   "source": [
    "def is_minority(row):\n",
    "    # Check if any category outside majority_classes has a value of 1\n",
    "    for col in row.index:\n",
    "        if col not in ['id'] + majority_classes and row[col] == 1: # check values for categories that not in majority and 'id'\n",
    "            return 1\n",
    "    return 0"
   ]
  },
  {
   "cell_type": "code",
   "execution_count": 15,
   "id": "edc6ff9c-1169-41a4-b72a-3099233eddd2",
   "metadata": {},
   "outputs": [],
   "source": [
    "df_train_val['minority'] = df_train_val.apply(is_minority, axis=1)\n",
    "df_test_valid['minority'] = df_test_valid.apply(is_minority, axis=1)"
   ]
  },
  {
   "cell_type": "code",
   "execution_count": 16,
   "id": "e86a635a-274c-45ed-93d9-c9a573497bb0",
   "metadata": {},
   "outputs": [
    {
     "data": {
      "text/html": [
       "<div>\n",
       "<style scoped>\n",
       "    .dataframe tbody tr th:only-of-type {\n",
       "        vertical-align: middle;\n",
       "    }\n",
       "\n",
       "    .dataframe tbody tr th {\n",
       "        vertical-align: top;\n",
       "    }\n",
       "\n",
       "    .dataframe thead th {\n",
       "        text-align: right;\n",
       "    }\n",
       "</style>\n",
       "<table border=\"1\" class=\"dataframe\">\n",
       "  <thead>\n",
       "    <tr style=\"text-align: right;\">\n",
       "      <th></th>\n",
       "      <th>id</th>\n",
       "      <th>Atelectasis</th>\n",
       "      <th>Cardiomegaly</th>\n",
       "      <th>Consolidation</th>\n",
       "      <th>Edema</th>\n",
       "      <th>Effusion</th>\n",
       "      <th>Emphysema</th>\n",
       "      <th>Fibrosis</th>\n",
       "      <th>Hernia</th>\n",
       "      <th>Infiltration</th>\n",
       "      <th>...</th>\n",
       "      <th>Nodule</th>\n",
       "      <th>Pleural Thickening</th>\n",
       "      <th>Pneumonia</th>\n",
       "      <th>Pneumothorax</th>\n",
       "      <th>Pneumoperitoneum</th>\n",
       "      <th>Pneumomediastinum</th>\n",
       "      <th>Subcutaneous Emphysema</th>\n",
       "      <th>Tortuous Aorta</th>\n",
       "      <th>Calcification of the Aorta</th>\n",
       "      <th>minority</th>\n",
       "    </tr>\n",
       "  </thead>\n",
       "  <tbody>\n",
       "    <tr>\n",
       "      <th>0</th>\n",
       "      <td>00000001_000.png</td>\n",
       "      <td>0</td>\n",
       "      <td>1</td>\n",
       "      <td>0</td>\n",
       "      <td>0</td>\n",
       "      <td>0</td>\n",
       "      <td>0</td>\n",
       "      <td>0</td>\n",
       "      <td>0</td>\n",
       "      <td>0</td>\n",
       "      <td>...</td>\n",
       "      <td>0</td>\n",
       "      <td>0</td>\n",
       "      <td>0</td>\n",
       "      <td>0</td>\n",
       "      <td>0</td>\n",
       "      <td>0</td>\n",
       "      <td>0</td>\n",
       "      <td>0</td>\n",
       "      <td>0</td>\n",
       "      <td>1</td>\n",
       "    </tr>\n",
       "    <tr>\n",
       "      <th>1</th>\n",
       "      <td>00000001_001.png</td>\n",
       "      <td>0</td>\n",
       "      <td>1</td>\n",
       "      <td>0</td>\n",
       "      <td>0</td>\n",
       "      <td>0</td>\n",
       "      <td>1</td>\n",
       "      <td>0</td>\n",
       "      <td>0</td>\n",
       "      <td>0</td>\n",
       "      <td>...</td>\n",
       "      <td>0</td>\n",
       "      <td>0</td>\n",
       "      <td>0</td>\n",
       "      <td>0</td>\n",
       "      <td>0</td>\n",
       "      <td>0</td>\n",
       "      <td>0</td>\n",
       "      <td>0</td>\n",
       "      <td>0</td>\n",
       "      <td>1</td>\n",
       "    </tr>\n",
       "    <tr>\n",
       "      <th>2</th>\n",
       "      <td>00000001_002.png</td>\n",
       "      <td>0</td>\n",
       "      <td>1</td>\n",
       "      <td>0</td>\n",
       "      <td>0</td>\n",
       "      <td>1</td>\n",
       "      <td>0</td>\n",
       "      <td>0</td>\n",
       "      <td>0</td>\n",
       "      <td>0</td>\n",
       "      <td>...</td>\n",
       "      <td>0</td>\n",
       "      <td>0</td>\n",
       "      <td>0</td>\n",
       "      <td>0</td>\n",
       "      <td>0</td>\n",
       "      <td>0</td>\n",
       "      <td>0</td>\n",
       "      <td>0</td>\n",
       "      <td>0</td>\n",
       "      <td>1</td>\n",
       "    </tr>\n",
       "    <tr>\n",
       "      <th>4</th>\n",
       "      <td>00000004_000.png</td>\n",
       "      <td>0</td>\n",
       "      <td>0</td>\n",
       "      <td>0</td>\n",
       "      <td>0</td>\n",
       "      <td>0</td>\n",
       "      <td>0</td>\n",
       "      <td>0</td>\n",
       "      <td>0</td>\n",
       "      <td>0</td>\n",
       "      <td>...</td>\n",
       "      <td>1</td>\n",
       "      <td>0</td>\n",
       "      <td>0</td>\n",
       "      <td>0</td>\n",
       "      <td>0</td>\n",
       "      <td>0</td>\n",
       "      <td>0</td>\n",
       "      <td>0</td>\n",
       "      <td>0</td>\n",
       "      <td>0</td>\n",
       "    </tr>\n",
       "    <tr>\n",
       "      <th>11</th>\n",
       "      <td>00000005_006.png</td>\n",
       "      <td>0</td>\n",
       "      <td>0</td>\n",
       "      <td>0</td>\n",
       "      <td>0</td>\n",
       "      <td>0</td>\n",
       "      <td>0</td>\n",
       "      <td>0</td>\n",
       "      <td>0</td>\n",
       "      <td>1</td>\n",
       "      <td>...</td>\n",
       "      <td>0</td>\n",
       "      <td>0</td>\n",
       "      <td>0</td>\n",
       "      <td>0</td>\n",
       "      <td>0</td>\n",
       "      <td>0</td>\n",
       "      <td>0</td>\n",
       "      <td>0</td>\n",
       "      <td>0</td>\n",
       "      <td>0</td>\n",
       "    </tr>\n",
       "  </tbody>\n",
       "</table>\n",
       "<p>5 rows × 21 columns</p>\n",
       "</div>"
      ],
      "text/plain": [
       "                  id  Atelectasis  Cardiomegaly  Consolidation  Edema  \\\n",
       "0   00000001_000.png            0             1              0      0   \n",
       "1   00000001_001.png            0             1              0      0   \n",
       "2   00000001_002.png            0             1              0      0   \n",
       "4   00000004_000.png            0             0              0      0   \n",
       "11  00000005_006.png            0             0              0      0   \n",
       "\n",
       "    Effusion  Emphysema  Fibrosis  Hernia  Infiltration  ...  Nodule  \\\n",
       "0          0          0         0       0             0  ...       0   \n",
       "1          0          1         0       0             0  ...       0   \n",
       "2          1          0         0       0             0  ...       0   \n",
       "4          0          0         0       0             0  ...       1   \n",
       "11         0          0         0       0             1  ...       0   \n",
       "\n",
       "    Pleural Thickening  Pneumonia  Pneumothorax  Pneumoperitoneum  \\\n",
       "0                    0          0             0                 0   \n",
       "1                    0          0             0                 0   \n",
       "2                    0          0             0                 0   \n",
       "4                    0          0             0                 0   \n",
       "11                   0          0             0                 0   \n",
       "\n",
       "    Pneumomediastinum  Subcutaneous Emphysema  Tortuous Aorta  \\\n",
       "0                   0                       0               0   \n",
       "1                   0                       0               0   \n",
       "2                   0                       0               0   \n",
       "4                   0                       0               0   \n",
       "11                  0                       0               0   \n",
       "\n",
       "    Calcification of the Aorta  minority  \n",
       "0                            0         1  \n",
       "1                            0         1  \n",
       "2                            0         1  \n",
       "4                            0         0  \n",
       "11                           0         0  \n",
       "\n",
       "[5 rows x 21 columns]"
      ]
     },
     "execution_count": 16,
     "metadata": {},
     "output_type": "execute_result"
    }
   ],
   "source": [
    "df_train_val.head()"
   ]
  },
  {
   "cell_type": "markdown",
   "id": "e0bc4a80-d815-4928-a5aa-f670aa6ad35f",
   "metadata": {},
   "source": [
    "***Step 3: Drop columns that have been grouped to 'minority'***"
   ]
  },
  {
   "cell_type": "code",
   "execution_count": 17,
   "id": "03ff8a8c-0ee3-4a7d-8e4c-7eaa6f243e88",
   "metadata": {},
   "outputs": [],
   "source": [
    "columns_to_keep = ['id'] + majority_classes + ['minority']\n",
    "df_train_val = df_train_val[columns_to_keep]\n",
    "df_test_valid = df_test_valid[columns_to_keep]"
   ]
  },
  {
   "cell_type": "code",
   "execution_count": 18,
   "id": "70623561-9cd5-4f88-88ee-efca6fde4a1b",
   "metadata": {},
   "outputs": [
    {
     "data": {
      "text/plain": [
       "((36778, 7), (13066, 7))"
      ]
     },
     "execution_count": 18,
     "metadata": {},
     "output_type": "execute_result"
    }
   ],
   "source": [
    "df_train_val.shape, df_test_valid.shape"
   ]
  },
  {
   "cell_type": "code",
   "execution_count": 20,
   "id": "4c612067-6550-44c4-a934-1e78646b4444",
   "metadata": {},
   "outputs": [
    {
     "data": {
      "text/html": [
       "<div>\n",
       "<style scoped>\n",
       "    .dataframe tbody tr th:only-of-type {\n",
       "        vertical-align: middle;\n",
       "    }\n",
       "\n",
       "    .dataframe tbody tr th {\n",
       "        vertical-align: top;\n",
       "    }\n",
       "\n",
       "    .dataframe thead th {\n",
       "        text-align: right;\n",
       "    }\n",
       "</style>\n",
       "<table border=\"1\" class=\"dataframe\">\n",
       "  <thead>\n",
       "    <tr style=\"text-align: right;\">\n",
       "      <th></th>\n",
       "      <th>id</th>\n",
       "      <th>Atelectasis</th>\n",
       "      <th>Effusion</th>\n",
       "      <th>Infiltration</th>\n",
       "      <th>Mass</th>\n",
       "      <th>Nodule</th>\n",
       "      <th>minority</th>\n",
       "    </tr>\n",
       "  </thead>\n",
       "  <tbody>\n",
       "    <tr>\n",
       "      <th>27169</th>\n",
       "      <td>00008904_000.png</td>\n",
       "      <td>1</td>\n",
       "      <td>0</td>\n",
       "      <td>0</td>\n",
       "      <td>0</td>\n",
       "      <td>0</td>\n",
       "      <td>0</td>\n",
       "    </tr>\n",
       "    <tr>\n",
       "      <th>30006</th>\n",
       "      <td>00009940_004.png</td>\n",
       "      <td>0</td>\n",
       "      <td>0</td>\n",
       "      <td>1</td>\n",
       "      <td>0</td>\n",
       "      <td>0</td>\n",
       "      <td>1</td>\n",
       "    </tr>\n",
       "  </tbody>\n",
       "</table>\n",
       "</div>"
      ],
      "text/plain": [
       "                     id  Atelectasis  Effusion  Infiltration  Mass  Nodule  \\\n",
       "27169  00008904_000.png            1         0             0     0       0   \n",
       "30006  00009940_004.png            0         0             1     0       0   \n",
       "\n",
       "       minority  \n",
       "27169         0  \n",
       "30006         1  "
      ]
     },
     "execution_count": 20,
     "metadata": {},
     "output_type": "execute_result"
    }
   ],
   "source": [
    "df_train_val.sample(2)"
   ]
  },
  {
   "cell_type": "markdown",
   "id": "edda75b7-e2df-4947-9446-f8314c3fff97",
   "metadata": {},
   "source": [
    "### Create 'finding' and 'finding_encoded' columns"
   ]
  },
  {
   "cell_type": "markdown",
   "id": "2b6570a581d8f436",
   "metadata": {},
   "source": [
    "#### Step 2.1: create mappings variable for all categories we have"
   ]
  },
  {
   "cell_type": "code",
   "execution_count": 21,
   "id": "89181548de9fd7d6",
   "metadata": {
    "ExecuteTime": {
     "end_time": "2024-11-10T14:51:16.981160Z",
     "start_time": "2024-11-10T14:51:16.978297Z"
    }
   },
   "outputs": [
    {
     "name": "stdout",
     "output_type": "stream",
     "text": [
      "Category Mapping:\n",
      "{'Atelectasis': 0, 'Effusion': 1, 'Infiltration': 2, 'Mass': 3, 'Nodule': 4, 'minority': 5}\n"
     ]
    }
   ],
   "source": [
    "# Extract all categories (exclude 'id')\n",
    "categories = df_train_val.columns[1:]\n",
    "\n",
    "# Create a mapping dictionary for categories to numbers\n",
    "category_mapping = {category: idx for idx, category in enumerate(categories)}\n",
    "\n",
    "print(\"Category Mapping:\")\n",
    "print(category_mapping)"
   ]
  },
  {
   "cell_type": "markdown",
   "id": "6ed974c46c22bd9b",
   "metadata": {},
   "source": [
    "### Step 2.3: Create finding column\n",
    "\n",
    "This column will contain list of all finding categories for each image, and we have the following scenarios\n",
    "1. The image has no sickness ==> finding column is a list with only one item 'No Finding'\n",
    "2. The image contains only one category i.g 'Hernia' ==> finding column is a list with only one item 'Hernia'\n",
    "3. The image contains more than one category i.g 'Hernia' and 'Edema'...etc. ==> finding column is a list finding items 'Hernia' and 'Edema'"
   ]
  },
  {
   "cell_type": "code",
   "execution_count": 22,
   "id": "107bc595a018ba1e",
   "metadata": {
    "ExecuteTime": {
     "end_time": "2024-11-10T14:51:16.997198Z",
     "start_time": "2024-11-10T14:51:16.994166Z"
    }
   },
   "outputs": [],
   "source": [
    "# Function to create 'finding' and 'finding_encoded' as a string based on category values\n",
    "def create_finding(row):\n",
    "    # Generate lists of findings and their encoded values\n",
    "    findings = [category for category in categories if row[category] == 1]\n",
    "    encoded_findings = [str(category_mapping[category]) for category in findings]\n",
    "    \n",
    "    # Join encoded findings as a single string for stratification\n",
    "    return findings, ','.join(encoded_findings)\n"
   ]
  },
  {
   "cell_type": "code",
   "execution_count": 23,
   "id": "c4881a0ea80d8958",
   "metadata": {
    "ExecuteTime": {
     "end_time": "2024-11-10T14:51:17.280554Z",
     "start_time": "2024-11-10T14:51:17.012610Z"
    }
   },
   "outputs": [
    {
     "data": {
      "text/html": [
       "<div>\n",
       "<style scoped>\n",
       "    .dataframe tbody tr th:only-of-type {\n",
       "        vertical-align: middle;\n",
       "    }\n",
       "\n",
       "    .dataframe tbody tr th {\n",
       "        vertical-align: top;\n",
       "    }\n",
       "\n",
       "    .dataframe thead th {\n",
       "        text-align: right;\n",
       "    }\n",
       "</style>\n",
       "<table border=\"1\" class=\"dataframe\">\n",
       "  <thead>\n",
       "    <tr style=\"text-align: right;\">\n",
       "      <th></th>\n",
       "      <th>id</th>\n",
       "      <th>finding</th>\n",
       "      <th>finding_encoded</th>\n",
       "    </tr>\n",
       "  </thead>\n",
       "  <tbody>\n",
       "    <tr>\n",
       "      <th>0</th>\n",
       "      <td>00000001_000.png</td>\n",
       "      <td>[minority]</td>\n",
       "      <td>5</td>\n",
       "    </tr>\n",
       "    <tr>\n",
       "      <th>1</th>\n",
       "      <td>00000001_001.png</td>\n",
       "      <td>[minority]</td>\n",
       "      <td>5</td>\n",
       "    </tr>\n",
       "    <tr>\n",
       "      <th>2</th>\n",
       "      <td>00000001_002.png</td>\n",
       "      <td>[Effusion, minority]</td>\n",
       "      <td>1,5</td>\n",
       "    </tr>\n",
       "    <tr>\n",
       "      <th>4</th>\n",
       "      <td>00000004_000.png</td>\n",
       "      <td>[Mass, Nodule]</td>\n",
       "      <td>3,4</td>\n",
       "    </tr>\n",
       "    <tr>\n",
       "      <th>11</th>\n",
       "      <td>00000005_006.png</td>\n",
       "      <td>[Infiltration]</td>\n",
       "      <td>2</td>\n",
       "    </tr>\n",
       "    <tr>\n",
       "      <th>...</th>\n",
       "      <td>...</td>\n",
       "      <td>...</td>\n",
       "      <td>...</td>\n",
       "    </tr>\n",
       "    <tr>\n",
       "      <th>86519</th>\n",
       "      <td>00030601_000.png</td>\n",
       "      <td>[Atelectasis]</td>\n",
       "      <td>0</td>\n",
       "    </tr>\n",
       "    <tr>\n",
       "      <th>86520</th>\n",
       "      <td>00030661_000.png</td>\n",
       "      <td>[Atelectasis]</td>\n",
       "      <td>0</td>\n",
       "    </tr>\n",
       "    <tr>\n",
       "      <th>86521</th>\n",
       "      <td>00030703_000.png</td>\n",
       "      <td>[Nodule]</td>\n",
       "      <td>4</td>\n",
       "    </tr>\n",
       "    <tr>\n",
       "      <th>86522</th>\n",
       "      <td>00030703_001.png</td>\n",
       "      <td>[Nodule]</td>\n",
       "      <td>4</td>\n",
       "    </tr>\n",
       "    <tr>\n",
       "      <th>86523</th>\n",
       "      <td>00030711_000.png</td>\n",
       "      <td>[Infiltration, Mass]</td>\n",
       "      <td>2,3</td>\n",
       "    </tr>\n",
       "  </tbody>\n",
       "</table>\n",
       "<p>36778 rows × 3 columns</p>\n",
       "</div>"
      ],
      "text/plain": [
       "                     id               finding finding_encoded\n",
       "0      00000001_000.png            [minority]               5\n",
       "1      00000001_001.png            [minority]               5\n",
       "2      00000001_002.png  [Effusion, minority]             1,5\n",
       "4      00000004_000.png        [Mass, Nodule]             3,4\n",
       "11     00000005_006.png        [Infiltration]               2\n",
       "...                 ...                   ...             ...\n",
       "86519  00030601_000.png         [Atelectasis]               0\n",
       "86520  00030661_000.png         [Atelectasis]               0\n",
       "86521  00030703_000.png              [Nodule]               4\n",
       "86522  00030703_001.png              [Nodule]               4\n",
       "86523  00030711_000.png  [Infiltration, Mass]             2,3\n",
       "\n",
       "[36778 rows x 3 columns]"
      ]
     },
     "execution_count": 23,
     "metadata": {},
     "output_type": "execute_result"
    }
   ],
   "source": [
    "# Apply function to create 'finding' and 'finding_encoded' columns in train_val data\n",
    "df_train_val[['finding', 'finding_encoded']] = df_train_val.apply(\n",
    "    lambda row: pd.Series(create_finding(row)), axis=1\n",
    ")\n",
    "\n",
    "df_train_val[['id', 'finding', 'finding_encoded']]"
   ]
  },
  {
   "cell_type": "code",
   "execution_count": 24,
   "id": "606b654b434d8b78",
   "metadata": {
    "ExecuteTime": {
     "end_time": "2024-11-10T14:51:17.366409Z",
     "start_time": "2024-11-10T14:51:17.313012Z"
    }
   },
   "outputs": [
    {
     "data": {
      "text/html": [
       "<div>\n",
       "<style scoped>\n",
       "    .dataframe tbody tr th:only-of-type {\n",
       "        vertical-align: middle;\n",
       "    }\n",
       "\n",
       "    .dataframe tbody tr th {\n",
       "        vertical-align: top;\n",
       "    }\n",
       "\n",
       "    .dataframe thead th {\n",
       "        text-align: right;\n",
       "    }\n",
       "</style>\n",
       "<table border=\"1\" class=\"dataframe\">\n",
       "  <thead>\n",
       "    <tr style=\"text-align: right;\">\n",
       "      <th></th>\n",
       "      <th>id</th>\n",
       "      <th>finding</th>\n",
       "      <th>finding_encoded</th>\n",
       "    </tr>\n",
       "  </thead>\n",
       "  <tbody>\n",
       "    <tr>\n",
       "      <th>1</th>\n",
       "      <td>00000013_001.png</td>\n",
       "      <td>[minority]</td>\n",
       "      <td>5</td>\n",
       "    </tr>\n",
       "    <tr>\n",
       "      <th>2</th>\n",
       "      <td>00000013_002.png</td>\n",
       "      <td>[minority]</td>\n",
       "      <td>5</td>\n",
       "    </tr>\n",
       "    <tr>\n",
       "      <th>3</th>\n",
       "      <td>00000013_003.png</td>\n",
       "      <td>[minority]</td>\n",
       "      <td>5</td>\n",
       "    </tr>\n",
       "    <tr>\n",
       "      <th>4</th>\n",
       "      <td>00000013_004.png</td>\n",
       "      <td>[Effusion, Infiltration, minority]</td>\n",
       "      <td>1,2,5</td>\n",
       "    </tr>\n",
       "    <tr>\n",
       "      <th>5</th>\n",
       "      <td>00000013_005.png</td>\n",
       "      <td>[Infiltration, minority]</td>\n",
       "      <td>2,5</td>\n",
       "    </tr>\n",
       "    <tr>\n",
       "      <th>...</th>\n",
       "      <td>...</td>\n",
       "      <td>...</td>\n",
       "      <td>...</td>\n",
       "    </tr>\n",
       "    <tr>\n",
       "      <th>20972</th>\n",
       "      <td>00030637_023.png</td>\n",
       "      <td>[Infiltration]</td>\n",
       "      <td>2</td>\n",
       "    </tr>\n",
       "    <tr>\n",
       "      <th>20999</th>\n",
       "      <td>00030674_000.png</td>\n",
       "      <td>[Atelectasis, minority]</td>\n",
       "      <td>0,5</td>\n",
       "    </tr>\n",
       "    <tr>\n",
       "      <th>21001</th>\n",
       "      <td>00030677_000.png</td>\n",
       "      <td>[minority]</td>\n",
       "      <td>5</td>\n",
       "    </tr>\n",
       "    <tr>\n",
       "      <th>21016</th>\n",
       "      <td>00030692_000.png</td>\n",
       "      <td>[Atelectasis]</td>\n",
       "      <td>0</td>\n",
       "    </tr>\n",
       "    <tr>\n",
       "      <th>21048</th>\n",
       "      <td>00030752_000.png</td>\n",
       "      <td>[minority]</td>\n",
       "      <td>5</td>\n",
       "    </tr>\n",
       "  </tbody>\n",
       "</table>\n",
       "<p>13066 rows × 3 columns</p>\n",
       "</div>"
      ],
      "text/plain": [
       "                     id                             finding finding_encoded\n",
       "1      00000013_001.png                          [minority]               5\n",
       "2      00000013_002.png                          [minority]               5\n",
       "3      00000013_003.png                          [minority]               5\n",
       "4      00000013_004.png  [Effusion, Infiltration, minority]           1,2,5\n",
       "5      00000013_005.png            [Infiltration, minority]             2,5\n",
       "...                 ...                                 ...             ...\n",
       "20972  00030637_023.png                      [Infiltration]               2\n",
       "20999  00030674_000.png             [Atelectasis, minority]             0,5\n",
       "21001  00030677_000.png                          [minority]               5\n",
       "21016  00030692_000.png                       [Atelectasis]               0\n",
       "21048  00030752_000.png                          [minority]               5\n",
       "\n",
       "[13066 rows x 3 columns]"
      ]
     },
     "execution_count": 24,
     "metadata": {},
     "output_type": "execute_result"
    }
   ],
   "source": [
    "# Apply function to create 'finding' and 'finding_encoded' columns in test data\n",
    "df_test_valid[['finding', 'finding_encoded']] = df_test_valid.apply(\n",
    "    lambda row: pd.Series(create_finding(row)), axis=1\n",
    ")\n",
    "\n",
    "df_test_valid[['id', 'finding', 'finding_encoded']]"
   ]
  },
  {
   "cell_type": "markdown",
   "id": "f8dfb5268ac40d9e",
   "metadata": {},
   "source": [
    "### Step 3: Create subsets and DataLoaders for the training, validation, and test sets"
   ]
  },
  {
   "cell_type": "code",
   "execution_count": 25,
   "id": "4b2d115fab3676d8",
   "metadata": {
    "ExecuteTime": {
     "end_time": "2024-11-10T14:51:17.386058Z",
     "start_time": "2024-11-10T14:51:17.383069Z"
    }
   },
   "outputs": [],
   "source": [
    "# Image transformation for training and validation\n",
    "train_transform = transforms.Compose([\n",
    "    transforms.Resize((224, 224)),\n",
    "    transforms.RandomHorizontalFlip(),\n",
    "    transforms.RandomVerticalFlip(),\n",
    "    transforms.ToTensor(),\n",
    "    transforms.Normalize(mean=[0.485, 0.456, 0.406], std=[0.229, 0.224, 0.225])\n",
    "])\n",
    "\n",
    "val_transform = transforms.Compose([\n",
    "    transforms.Resize((224, 224)),\n",
    "    transforms.ToTensor(),\n",
    "    transforms.Normalize(mean=[0.485, 0.456, 0.406], std=[0.229, 0.224, 0.225])\n",
    "])"
   ]
  },
  {
   "cell_type": "code",
   "execution_count": 26,
   "id": "c1afaca69abb2753",
   "metadata": {
    "ExecuteTime": {
     "end_time": "2024-11-10T14:51:17.453755Z",
     "start_time": "2024-11-10T14:51:17.450933Z"
    }
   },
   "outputs": [],
   "source": [
    "train_val_ratio = 0.8 # For train, val ratio"
   ]
  },
  {
   "cell_type": "markdown",
   "id": "e6eed4a8580d2f91",
   "metadata": {},
   "source": [
    "#### Create dataset's and dataloader's"
   ]
  },
  {
   "cell_type": "markdown",
   "id": "bf5139799d508b7f",
   "metadata": {},
   "source": [
    "**First: create the subset**"
   ]
  },
  {
   "cell_type": "code",
   "execution_count": 27,
   "id": "9a732ae93903a12",
   "metadata": {
    "ExecuteTime": {
     "end_time": "2024-11-10T14:51:17.658671Z",
     "start_time": "2024-11-10T14:51:17.645844Z"
    }
   },
   "outputs": [
    {
     "name": "stdout",
     "output_type": "stream",
     "text": [
      "Train size (80% of subset): 29221 rows\n",
      "Val size (20% of subset): 7557 rows\n"
     ]
    }
   ],
   "source": [
    "# Perform the stratified split\n",
    "label_matrix = df_train_val['finding_encoded'].str.get_dummies(sep=',')\n",
    "stratifier = IterativeStratification(n_splits=2, order=1, sample_distribution_per_fold=[train_val_ratio, 1 - train_val_ratio]) \n",
    "val_indices, train_indices = next(stratifier.split(df_train_val, label_matrix))\n",
    "\n",
    "train_df = df_train_val.iloc[train_indices].reset_index(drop=True)\n",
    "val_df = df_train_val.iloc[val_indices].reset_index(drop=True)\n",
    "\n",
    "# Verify the sizes\n",
    "print(f\"Train size (80% of subset): {len(train_df)} rows\")\n",
    "print(f\"Val size (20% of subset): {len(val_df)} rows\")"
   ]
  },
  {
   "cell_type": "code",
   "execution_count": 29,
   "id": "a8b9ab49-1d86-4bef-a939-5cc633a4c2ff",
   "metadata": {},
   "outputs": [],
   "source": [
    "assert df_train_val.shape[0] == train_df.shape[0]+ val_df.shape[0]"
   ]
  },
  {
   "cell_type": "markdown",
   "id": "ac335e9f-7b24-425a-89c7-2266ab9dd441",
   "metadata": {},
   "source": [
    "#### Step 3.2: Create dataset objects\n"
   ]
  },
  {
   "cell_type": "code",
   "execution_count": 28,
   "id": "7e40dc70503bcdbc",
   "metadata": {
    "ExecuteTime": {
     "end_time": "2024-11-10T14:51:17.695332Z",
     "start_time": "2024-11-10T14:51:17.691099Z"
    }
   },
   "outputs": [],
   "source": [
    "train_dataset = ChestXRayDataset(dataframe=train_df, image_dir=image_dir_train, category_mapping=category_mapping, transform=train_transform)\n",
    "\n",
    "val_dataset = ChestXRayDataset(dataframe=val_df, image_dir=image_dir_train, category_mapping=category_mapping, transform=val_transform)\n",
    "\n",
    "test_dataset = ChestXRayDataset(dataframe=df_test_valid, image_dir=image_dir_test, category_mapping=category_mapping, transform=val_transform)"
   ]
  },
  {
   "cell_type": "markdown",
   "id": "9863c9c6b857131b",
   "metadata": {},
   "source": [
    "#### Step 3.3: Create dataloaders"
   ]
  },
  {
   "cell_type": "code",
   "execution_count": 29,
   "id": "df5bf589c2bf6208",
   "metadata": {
    "ExecuteTime": {
     "end_time": "2024-11-10T14:51:17.739788Z",
     "start_time": "2024-11-10T14:51:17.736347Z"
    }
   },
   "outputs": [],
   "source": [
    "# Create Dataloaders\n",
    "batch_size = 32\n",
    "\n",
    "train_loader = DataLoader(train_dataset, batch_size=batch_size, shuffle=True, num_workers=4)\n",
    "val_loader = DataLoader(val_dataset, batch_size=batch_size, shuffle=False, num_workers=4)\n",
    "test_loader = DataLoader(test_dataset, batch_size=batch_size, shuffle=False, num_workers=4)"
   ]
  },
  {
   "cell_type": "code",
   "execution_count": 30,
   "id": "ba1c0b0048dc8cd9",
   "metadata": {
    "ExecuteTime": {
     "end_time": "2024-11-10T14:51:17.769415Z",
     "start_time": "2024-11-10T14:51:17.766407Z"
    }
   },
   "outputs": [
    {
     "name": "stdout",
     "output_type": "stream",
     "text": [
      "Training DataLoader: 914 batches\n",
      "Validation DataLoader: 237 batches\n",
      "Testing DataLoader: 409 batches\n"
     ]
    }
   ],
   "source": [
    "print(f\"Training DataLoader: {len(train_loader)} batches\")\n",
    "print(f\"Validation DataLoader: {len(val_loader)} batches\")\n",
    "print(f\"Testing DataLoader: {len(test_loader)} batches\")"
   ]
  },
  {
   "cell_type": "code",
   "execution_count": 31,
   "id": "11d38f82-08a5-432e-857c-f95ea6494ef3",
   "metadata": {},
   "outputs": [
    {
     "name": "stdout",
     "output_type": "stream",
     "text": [
      "Image ID: 00000138_006.png\n",
      "Label: tensor([0., 0., 0., 0., 0., 1.])\n",
      "Image Shape: torch.Size([3, 224, 224])\n"
     ]
    }
   ],
   "source": [
    "img, label, img_id = train_dataset[100]\n",
    "print(f\"Image ID: {img_id}\")\n",
    "print(f\"Label: {label}\")\n",
    "print(f\"Image Shape: {img.shape}\")"
   ]
  },
  {
   "cell_type": "code",
   "execution_count": 32,
   "id": "61dde5d5-1274-4662-812f-60dc4d553b99",
   "metadata": {},
   "outputs": [
    {
     "data": {
      "text/html": [
       "<div>\n",
       "<style scoped>\n",
       "    .dataframe tbody tr th:only-of-type {\n",
       "        vertical-align: middle;\n",
       "    }\n",
       "\n",
       "    .dataframe tbody tr th {\n",
       "        vertical-align: top;\n",
       "    }\n",
       "\n",
       "    .dataframe thead th {\n",
       "        text-align: right;\n",
       "    }\n",
       "</style>\n",
       "<table border=\"1\" class=\"dataframe\">\n",
       "  <thead>\n",
       "    <tr style=\"text-align: right;\">\n",
       "      <th></th>\n",
       "      <th>id</th>\n",
       "      <th>Atelectasis</th>\n",
       "      <th>Effusion</th>\n",
       "      <th>Infiltration</th>\n",
       "      <th>Mass</th>\n",
       "      <th>Nodule</th>\n",
       "      <th>minority</th>\n",
       "      <th>finding</th>\n",
       "      <th>finding_encoded</th>\n",
       "    </tr>\n",
       "  </thead>\n",
       "  <tbody>\n",
       "    <tr>\n",
       "      <th>100</th>\n",
       "      <td>00000138_006.png</td>\n",
       "      <td>0</td>\n",
       "      <td>0</td>\n",
       "      <td>0</td>\n",
       "      <td>0</td>\n",
       "      <td>0</td>\n",
       "      <td>1</td>\n",
       "      <td>[minority]</td>\n",
       "      <td>5</td>\n",
       "    </tr>\n",
       "  </tbody>\n",
       "</table>\n",
       "</div>"
      ],
      "text/plain": [
       "                   id  Atelectasis  Effusion  Infiltration  Mass  Nodule  \\\n",
       "100  00000138_006.png            0         0             0     0       0   \n",
       "\n",
       "     minority     finding finding_encoded  \n",
       "100         1  [minority]               5  "
      ]
     },
     "execution_count": 32,
     "metadata": {},
     "output_type": "execute_result"
    }
   ],
   "source": [
    "train_df[train_df.id == img_id]"
   ]
  },
  {
   "cell_type": "markdown",
   "id": "d9d374bdb477980c",
   "metadata": {},
   "source": [
    "### Step 4: Define the model\n",
    "We use pretrained ResNet\n",
    "- We add linear layer to predict multi-label ( more than one category per image)\n",
    "- ResNet-50 designed to output 2048 features\n",
    "- We add two Linear layer to avoid going down from 2048 features to only 20 which may cause instability and overfitting\n",
    "\n",
    "**Note**: Different additional params/functionality to the network i.g Dropout, normalization...etc. have been tested"
   ]
  },
  {
   "cell_type": "code",
   "execution_count": 33,
   "id": "bd0ae5b8bdfccf20",
   "metadata": {
    "ExecuteTime": {
     "end_time": "2024-11-10T14:51:17.892893Z",
     "start_time": "2024-11-10T14:51:17.801419Z"
    }
   },
   "outputs": [
    {
     "name": "stdout",
     "output_type": "stream",
     "text": [
      "6\n"
     ]
    }
   ],
   "source": [
    "# Number of unique categories (labels) in the 'finding_encoded' column\n",
    "num_classes = len(df_train_val['finding_encoded'].str.get_dummies(sep=',').columns)\n",
    "print(num_classes)"
   ]
  },
  {
   "cell_type": "code",
   "execution_count": 34,
   "id": "67566e18-ac4e-4185-90ff-e782a3f9cac1",
   "metadata": {},
   "outputs": [
    {
     "name": "stdout",
     "output_type": "stream",
     "text": [
      "cuda\n"
     ]
    }
   ],
   "source": [
    "model = models.resnet152(weights='IMAGENET1K_V2') # Different ResNet has been tested\n",
    "model.fc = nn.Sequential(\n",
    "    nn.Linear(model.fc.in_features, 512),\n",
    "    nn.BatchNorm1d(512),\n",
    "    nn.ReLU(), \n",
    "    nn.Dropout(0.3),\n",
    "    nn.Linear(512, 256),\n",
    "    nn.BatchNorm1d(256),\n",
    "    nn.ReLU(), \n",
    "    nn.Dropout(0.2),\n",
    "    nn.Linear(256, num_classes), # 6 different classes ( 5 + minority)\n",
    "    nn.Sigmoid()  # Sigmoid for multi-label classification\n",
    ")\n",
    "\n",
    "device = torch.device('cuda' if torch.cuda.is_available() else 'cpu')\n",
    "model.to(device)\n",
    "print(device)"
   ]
  },
  {
   "cell_type": "markdown",
   "id": "ebd5888561ce6ee3",
   "metadata": {},
   "source": [
    "### Step 5: Train, Validate and test the model"
   ]
  },
  {
   "cell_type": "markdown",
   "id": "1c917d6089b26bca",
   "metadata": {},
   "source": [
    "[Referance about BCEWithLogitsLoss()](https://medium.com/@sahilcarterr/why-nn-bcewithlogitsloss-numerically-stable-6a04f3052967)\n",
    "\n",
    "nn.BCEWithLogitsLoss():\n",
    "\n",
    "1. This loss function is more efficient because it combines the sigmoid activation and binary cross-entropy loss into a single function.\n",
    "2. It expects the raw logits (not passed through sigmoid) as input and applies the sigmoid internally.\n",
    "3. It's numerically more stable and faster than using nn.BCELoss() with a separate sigmoid.\n",
    "\n",
    "nn.BCELoss():\n",
    "\n",
    "1. This loss function expects the model's output to be probabilities in the range [0, 1], so it requires you to apply a sigmoid activation to the model's output beforehand.\n",
    "2. The formula for binary cross-entropy is applied after transforming the raw logits into probabilities using the sigmoid function."
   ]
  },
  {
   "cell_type": "markdown",
   "id": "d3224a10-8a9b-46c7-a6dc-efae37187e01",
   "metadata": {},
   "source": [
    "***Define weighted classes***"
   ]
  },
  {
   "cell_type": "code",
   "execution_count": 35,
   "id": "db9b3786-07b8-4f70-9c78-9bf7a0832397",
   "metadata": {},
   "outputs": [
    {
     "data": {
      "text/plain": [
       "finding_encoded\n",
       "0     6624\n",
       "1     6927\n",
       "2    11026\n",
       "3     3227\n",
       "4     3766\n",
       "5    11191\n",
       "Name: count, dtype: int64"
      ]
     },
     "execution_count": 35,
     "metadata": {},
     "output_type": "execute_result"
    }
   ],
   "source": [
    "categories  = train_df['finding_encoded'].str.split(',').explode().value_counts()\n",
    "categories.index = categories.index.astype(int)\n",
    "categories = categories.sort_index()\n",
    "categories"
   ]
  },
  {
   "cell_type": "code",
   "execution_count": 36,
   "id": "c14fc83c-6561-4ed7-a9cb-7809d78ce2be",
   "metadata": {},
   "outputs": [
    {
     "data": {
      "text/plain": [
       "29221"
      ]
     },
     "execution_count": 36,
     "metadata": {},
     "output_type": "execute_result"
    }
   ],
   "source": [
    "total = len(train_df)\n",
    "total"
   ]
  },
  {
   "cell_type": "code",
   "execution_count": 37,
   "id": "d55a88c7-0fae-44db-90c0-ab2bc3e2585f",
   "metadata": {},
   "outputs": [
    {
     "data": {
      "text/plain": [
       "finding_encoded\n",
       "0    0.226686\n",
       "1    0.237056\n",
       "2    0.377331\n",
       "3    0.110434\n",
       "4    0.128880\n",
       "5    0.382978\n",
       "Name: count, dtype: float64"
      ]
     },
     "execution_count": 37,
     "metadata": {},
     "output_type": "execute_result"
    }
   ],
   "source": [
    "proportions =  categories / total\n",
    "proportions"
   ]
  },
  {
   "cell_type": "code",
   "execution_count": 38,
   "id": "442e7257-b678-4455-a8c0-415f2302742a",
   "metadata": {},
   "outputs": [
    {
     "data": {
      "text/plain": [
       "finding_encoded\n",
       "0    4.411383\n",
       "1    4.218421\n",
       "2    2.650190\n",
       "3    9.055160\n",
       "4    7.759161\n",
       "5    2.611116\n",
       "Name: count, dtype: float64"
      ]
     },
     "execution_count": 38,
     "metadata": {},
     "output_type": "execute_result"
    }
   ],
   "source": [
    "weights = 1 / proportions\n",
    "weights"
   ]
  },
  {
   "cell_type": "code",
   "execution_count": 39,
   "id": "b3b2a6c1-fac3-4ec1-94e6-d3232b122c73",
   "metadata": {},
   "outputs": [
    {
     "data": {
      "text/plain": [
       "finding_encoded\n",
       "0    0.143668\n",
       "1    0.137384\n",
       "2    0.086310\n",
       "3    0.294904\n",
       "4    0.252697\n",
       "5    0.085038\n",
       "Name: count, dtype: float64"
      ]
     },
     "execution_count": 39,
     "metadata": {},
     "output_type": "execute_result"
    }
   ],
   "source": [
    "normalized_weights = weights / weights.sum()\n",
    "normalized_weights"
   ]
  },
  {
   "cell_type": "code",
   "execution_count": 40,
   "id": "e6df1375-d117-4e36-a20a-8a73084cf8b5",
   "metadata": {},
   "outputs": [
    {
     "data": {
      "text/plain": [
       "tensor([4.4114, 4.2184, 2.6502, 9.0552, 7.7592, 2.6111], device='cuda:0')"
      ]
     },
     "execution_count": 40,
     "metadata": {},
     "output_type": "execute_result"
    }
   ],
   "source": [
    "weights_tensor = torch.tensor(weights.values, dtype=torch.float32).to(device)\n",
    "weights_tensor"
   ]
  },
  {
   "cell_type": "code",
   "execution_count": 41,
   "id": "67cf52d58324dd99",
   "metadata": {
    "ExecuteTime": {
     "end_time": "2024-11-10T14:51:18.265595Z",
     "start_time": "2024-11-10T14:51:18.263226Z"
    }
   },
   "outputs": [],
   "source": [
    "# Use BCEWithLogitsLoss for multi-label classification\n",
    "criterion = nn.BCEWithLogitsLoss(pos_weight=weights_tensor) "
   ]
  },
  {
   "cell_type": "code",
   "execution_count": 43,
   "id": "19d9bd214485c5db",
   "metadata": {
    "ExecuteTime": {
     "end_time": "2024-11-10T14:51:18.295497Z",
     "start_time": "2024-11-10T14:51:18.292609Z"
    }
   },
   "outputs": [],
   "source": [
    "#optimizer = torch.optim.Adam(model.parameters(), lr=0.0001)\n",
    "optimizer = torch.optim.AdamW(model.parameters(), lr=0.001, weight_decay=1e-6)\n",
    "scheduler = torch.optim.lr_scheduler.StepLR(optimizer, step_size=5, gamma=0.9) "
   ]
  },
  {
   "cell_type": "code",
   "execution_count": 44,
   "id": "3fb0c7c5-049b-4795-a80c-31faa2444d09",
   "metadata": {},
   "outputs": [],
   "source": [
    "#optimizer = torch.optim.AdamW(model.parameters(), lr=0.001, weight_decay=1e-7)\n",
    "#lookahead_optimizer = optim_mod.Lookahead(optimizer, k=5, alpha=0.5)\n",
    "\n",
    "#scheduler = ReduceLROnPlateau(optimizer, mode='min', patience=5, factor=0.7)"
   ]
  },
  {
   "cell_type": "code",
   "execution_count": 45,
   "id": "e186b7feb8fd449b",
   "metadata": {
    "ExecuteTime": {
     "end_time": "2024-11-10T16:19:46.917355Z",
     "start_time": "2024-11-10T16:19:46.913493Z"
    }
   },
   "outputs": [],
   "source": [
    "# Initialize lists to store loss and accuracy per epoch\n",
    "train_losses = []\n",
    "val_losses = []\n",
    "train_accuracies = []\n",
    "val_accuracies = []"
   ]
  },
  {
   "cell_type": "code",
   "execution_count": 46,
   "id": "f1d71fdcda40f48",
   "metadata": {
    "ExecuteTime": {
     "end_time": "2024-11-10T16:20:56.440991Z",
     "start_time": "2024-11-10T16:20:56.436097Z"
    }
   },
   "outputs": [],
   "source": [
    "def train(model, dataloader, criterion, optimizer, device):\n",
    "    model.train()\n",
    "    running_loss = 0.0\n",
    "    all_preds = []\n",
    "    all_labels = []\n",
    "\n",
    "    for images, labels, _ in tqdm(dataloader, desc=\"Training\"):\n",
    "        images, labels = images.to(device), labels.to(device)\n",
    "        optimizer.zero_grad()\n",
    "\n",
    "        outputs = model(images)\n",
    "        loss = criterion(outputs, labels.float())\n",
    "        running_loss += loss.item()\n",
    "\n",
    "        loss.backward()\n",
    "        optimizer.step()\n",
    "\n",
    "        all_preds.append(torch.sigmoid(outputs).detach().cpu())\n",
    "        all_labels.append(labels.cpu())\n",
    "\n",
    "    all_preds = torch.cat(all_preds).numpy()\n",
    "    all_labels = torch.cat(all_labels).numpy()\n",
    "\n",
    "    # Class-specific threshold selection based on F1 score\n",
    "    thresholds = []\n",
    "    for i in range(all_labels.shape[1]):  # Iterate through each class\n",
    "        precision, recall, threshold = precision_recall_curve(all_labels[:, i], all_preds[:, i])\n",
    "        f1_scores = 2 * (precision * recall) / (precision + recall + 1e-8) # 1e-8 To fix/avoid dividing by zero problem\n",
    "        best_threshold = threshold[np.argmax(f1_scores)]\n",
    "        thresholds.append(best_threshold)\n",
    "\n",
    "    final_preds = np.zeros_like(all_preds)\n",
    "    for i, threshold in enumerate(thresholds):\n",
    "        final_preds[:, i] = (all_preds[:, i] > threshold).astype(float)\n",
    "\n",
    "    correct_predictions = (final_preds == all_labels).all(axis=1).sum()\n",
    "    total_predictions = all_preds.shape[0]\n",
    "\n",
    "    avg_loss = running_loss / len(dataloader)\n",
    "    avg_accuracy = (correct_predictions / total_predictions) * 100\n",
    "\n",
    "    report = classification_report(all_labels, final_preds, zero_division=0, output_dict=True)\n",
    "    precision, recall, f1 = report['macro avg']['precision'], report['macro avg']['recall'], report['macro avg']['f1-score']\n",
    "\n",
    "    train_losses.append(avg_loss)\n",
    "    train_accuracies.append(avg_accuracy)\n",
    "\n",
    "    return avg_loss, avg_accuracy, precision, recall, f1, thresholds, correct_predictions"
   ]
  },
  {
   "cell_type": "code",
   "execution_count": 47,
   "id": "cfe66ca8682a5d2d",
   "metadata": {
    "ExecuteTime": {
     "end_time": "2024-11-10T16:21:01.873748Z",
     "start_time": "2024-11-10T16:21:01.868748Z"
    }
   },
   "outputs": [],
   "source": [
    "def validate(model, dataloader, criterion, device, thresholds):\n",
    "    model.eval()\n",
    "    running_loss = 0.0\n",
    "    all_preds = []\n",
    "    all_labels = []\n",
    "\n",
    "    with torch.no_grad():\n",
    "        for images, labels, _ in tqdm(dataloader, desc=\"Validating\"):\n",
    "            images, labels = images.to(device), labels.to(device)\n",
    "\n",
    "            outputs = model(images)\n",
    "            loss = criterion(outputs, labels.float())\n",
    "            running_loss += loss.item()\n",
    "\n",
    "            all_preds.append(torch.sigmoid(outputs).cpu())\n",
    "            all_labels.append(labels.cpu())\n",
    "\n",
    "    all_preds = torch.cat(all_preds).numpy()\n",
    "    all_labels = torch.cat(all_labels).numpy()\n",
    "\n",
    "    final_preds = np.zeros_like(all_preds)\n",
    "    for i, threshold in enumerate(thresholds):\n",
    "        final_preds[:, i] = (all_preds[:, i] > threshold).astype(float)\n",
    "\n",
    "    correct_predictions = (final_preds == all_labels).all(axis=1).sum()\n",
    "    total_predictions = all_preds.shape[0]\n",
    "\n",
    "    avg_loss = running_loss / len(dataloader)\n",
    "    avg_accuracy = (correct_predictions / total_predictions) * 100\n",
    "\n",
    "    report = classification_report(all_labels, final_preds, zero_division=0, output_dict=True)\n",
    "    precision, recall, f1 = report['macro avg']['precision'], report['macro avg']['recall'], report['macro avg']['f1-score']\n",
    "\n",
    "    val_losses.append(avg_loss)\n",
    "    val_accuracies.append(avg_accuracy)\n",
    "\n",
    "    return avg_loss, avg_accuracy, precision, recall, f1, correct_predictions"
   ]
  },
  {
   "cell_type": "code",
   "execution_count": 48,
   "id": "10426519-66bd-4eaf-a044-d0326ccace57",
   "metadata": {},
   "outputs": [],
   "source": [
    "def test(model, dataloader, criterion, device, label_names, best_thresholds):\n",
    "    model.eval()\n",
    "    running_loss = 0.0\n",
    "    all_preds = []\n",
    "    all_labels = []\n",
    "\n",
    "    with torch.no_grad():\n",
    "        for images, labels, _ in tqdm(dataloader, desc=\"Testing\"):\n",
    "            images, labels = images.to(device), labels.to(device)\n",
    "            outputs = model(images)\n",
    "            loss = criterion(outputs, labels.float())\n",
    "            running_loss += loss.item()\n",
    "\n",
    "            all_preds.append(torch.sigmoid(outputs).cpu())\n",
    "            all_labels.append(labels.cpu())\n",
    "\n",
    "    all_preds = torch.cat(all_preds).numpy()\n",
    "    all_labels = torch.cat(all_labels).numpy()\n",
    "\n",
    "    # Dynamic threshold for each label based on train data\n",
    "    thresholded_preds = np.column_stack([(all_preds[:, i] > best_thresholds[i]).astype(float) for i in range(all_labels.shape[1])])\n",
    "\n",
    "    print(\"\\nFinding Best Thresholds for Each Class (Reported Only):\")\n",
    "    for i, threshold in enumerate(best_thresholds):\n",
    "        print(f\"Class '{label_names[i]}': Best Threshold = {threshold:.4f}\")\n",
    "\n",
    "    default_preds = (all_preds > 0.5).astype(float)\n",
    "\n",
    "    print(\"\\nClassification Report with Best Thresholds:\")\n",
    "    report_best = classification_report(all_labels, thresholded_preds, target_names=label_names, zero_division=0)\n",
    "    print(report_best)\n",
    "\n",
    "    print(\"\\nClassification Report with Default Threshold (0.5):\")\n",
    "    report_default = classification_report(all_labels, default_preds, target_names=label_names, zero_division=0)\n",
    "    print(report_default)\n",
    "\n",
    "    avg_loss = running_loss / len(dataloader)\n",
    "\n",
    "    return avg_loss, report_best, report_default, best_thresholds"
   ]
  },
  {
   "cell_type": "code",
   "execution_count": 49,
   "id": "c94a5ce0-1b90-4c7c-ae11-628973243d3e",
   "metadata": {
    "ExecuteTime": {
     "end_time": "2024-11-10T14:52:46.171949Z",
     "start_time": "2024-11-10T14:51:18.452045Z"
    }
   },
   "outputs": [],
   "source": [
    "num_epochs = 100\n",
    "\n",
    "# Early stopping parameters\n",
    "patience = 7 # wait \n",
    "best_val = 0\n",
    "epochs_no_improve = 0\n",
    "\n",
    "# for plotting\n",
    "num_epochs_runned = 0"
   ]
  },
  {
   "cell_type": "code",
   "execution_count": 51,
   "id": "3f35e36e-0752-4172-b86f-a6a713b9b3ab",
   "metadata": {
    "ExecuteTime": {
     "end_time": "2024-11-10T14:52:46.171949Z",
     "start_time": "2024-11-10T14:51:18.452045Z"
    }
   },
   "outputs": [
    {
     "name": "stdout",
     "output_type": "stream",
     "text": [
      "Epoch [1/100]\n"
     ]
    },
    {
     "name": "stderr",
     "output_type": "stream",
     "text": [
      "Training: 100%|██████████| 914/914 [03:31<00:00,  4.32it/s]\n"
     ]
    },
    {
     "name": "stdout",
     "output_type": "stream",
     "text": [
      "Train Loss: 1.1904, Train Accuracy: 0.0821, Train Precision: 0.2502, Train Recall: 0.9155, Train F1: 0.3831, Train Best Threshold: [0.5154255, 0.51903933, 0.50021094, 0.50025517, 0.51462847, 0.5001631], Train correct predictions: 24\n"
     ]
    },
    {
     "name": "stderr",
     "output_type": "stream",
     "text": [
      "Validating: 100%|██████████| 237/237 [00:36<00:00,  6.44it/s]\n"
     ]
    },
    {
     "name": "stdout",
     "output_type": "stream",
     "text": [
      "Val Loss: 1.1716, Val Accuracy: 0.0662, Val Precision: 0.2529, Val Recall: 0.8717, Val F1: 0.3817, Val correct predictions: 5\n",
      "Epoch 1: Learning rate = 0.001\n",
      "Model improved and saved.\n",
      "------------------------------------------------------------------------------------------------------------------------------------------------------\n",
      "Epoch [2/100]\n"
     ]
    },
    {
     "name": "stderr",
     "output_type": "stream",
     "text": [
      "Training: 100%|██████████| 914/914 [03:31<00:00,  4.31it/s]\n"
     ]
    },
    {
     "name": "stdout",
     "output_type": "stream",
     "text": [
      "Train Loss: 1.1825, Train Accuracy: 0.4688, Train Precision: 0.2682, Train Recall: 0.7994, Train F1: 0.3945, Train Best Threshold: [0.5162664, 0.5413314, 0.5059192, 0.5081124, 0.52226084, 0.50015575], Train correct predictions: 137\n"
     ]
    },
    {
     "name": "stderr",
     "output_type": "stream",
     "text": [
      "Validating: 100%|██████████| 237/237 [00:36<00:00,  6.53it/s]\n"
     ]
    },
    {
     "name": "stdout",
     "output_type": "stream",
     "text": [
      "Val Loss: 1.1697, Val Accuracy: 0.4896, Val Precision: 0.2579, Val Recall: 0.8270, Val F1: 0.3869, Val correct predictions: 37\n",
      "Epoch 2: Learning rate = 0.001\n",
      "Model improved and saved.\n",
      "------------------------------------------------------------------------------------------------------------------------------------------------------\n",
      "Epoch [3/100]\n"
     ]
    },
    {
     "name": "stderr",
     "output_type": "stream",
     "text": [
      "Training: 100%|██████████| 914/914 [03:32<00:00,  4.31it/s]\n"
     ]
    },
    {
     "name": "stdout",
     "output_type": "stream",
     "text": [
      "Train Loss: 1.1777, Train Accuracy: 0.2772, Train Precision: 0.2717, Train Recall: 0.8312, Train F1: 0.4003, Train Best Threshold: [0.513867, 0.52699226, 0.5003735, 0.50291216, 0.5107833, 0.5015761], Train correct predictions: 81\n"
     ]
    },
    {
     "name": "stderr",
     "output_type": "stream",
     "text": [
      "Validating: 100%|██████████| 237/237 [00:36<00:00,  6.44it/s]\n"
     ]
    },
    {
     "name": "stdout",
     "output_type": "stream",
     "text": [
      "Val Loss: 1.1672, Val Accuracy: 0.1720, Val Precision: 0.2626, Val Recall: 0.8453, Val F1: 0.3900, Val correct predictions: 13\n",
      "Epoch 3: Learning rate = 0.001\n",
      "Model improved and saved.\n",
      "------------------------------------------------------------------------------------------------------------------------------------------------------\n",
      "Epoch [4/100]\n"
     ]
    },
    {
     "name": "stderr",
     "output_type": "stream",
     "text": [
      "Training: 100%|██████████| 914/914 [03:31<00:00,  4.31it/s]\n"
     ]
    },
    {
     "name": "stdout",
     "output_type": "stream",
     "text": [
      "Train Loss: 1.1748, Train Accuracy: 0.4312, Train Precision: 0.2732, Train Recall: 0.7994, Train F1: 0.4012, Train Best Threshold: [0.5130247, 0.51340216, 0.5065358, 0.50684345, 0.51646817, 0.50572133], Train correct predictions: 126\n"
     ]
    },
    {
     "name": "stderr",
     "output_type": "stream",
     "text": [
      "Validating: 100%|██████████| 237/237 [00:36<00:00,  6.53it/s]\n"
     ]
    },
    {
     "name": "stdout",
     "output_type": "stream",
     "text": [
      "Val Loss: 1.1657, Val Accuracy: 0.2514, Val Precision: 0.2652, Val Recall: 0.8055, Val F1: 0.3863, Val correct predictions: 19\n",
      "Epoch 4: Learning rate = 0.001\n",
      "Model did not improved\n",
      "------------------------------------------------------------------------------------------------------------------------------------------------------\n",
      "Epoch [5/100]\n"
     ]
    },
    {
     "name": "stderr",
     "output_type": "stream",
     "text": [
      "Training: 100%|██████████| 914/914 [03:32<00:00,  4.30it/s]\n"
     ]
    },
    {
     "name": "stdout",
     "output_type": "stream",
     "text": [
      "Train Loss: 1.1718, Train Accuracy: 0.5168, Train Precision: 0.2803, Train Recall: 0.7860, Train F1: 0.4058, Train Best Threshold: [0.5139115, 0.5299261, 0.5091588, 0.50828713, 0.52174675, 0.5307422], Train correct predictions: 151\n"
     ]
    },
    {
     "name": "stderr",
     "output_type": "stream",
     "text": [
      "Validating: 100%|██████████| 237/237 [00:36<00:00,  6.49it/s]\n"
     ]
    },
    {
     "name": "stdout",
     "output_type": "stream",
     "text": [
      "Val Loss: 1.1695, Val Accuracy: 0.2117, Val Precision: 0.2686, Val Recall: 0.8015, Val F1: 0.3886, Val correct predictions: 16\n",
      "Epoch 5: Learning rate = 0.0009000000000000001\n",
      "Model did not improved\n",
      "------------------------------------------------------------------------------------------------------------------------------------------------------\n",
      "Epoch [6/100]\n"
     ]
    },
    {
     "name": "stderr",
     "output_type": "stream",
     "text": [
      "Training: 100%|██████████| 914/914 [03:31<00:00,  4.32it/s]\n"
     ]
    },
    {
     "name": "stdout",
     "output_type": "stream",
     "text": [
      "Train Loss: 1.1680, Train Accuracy: 0.6844, Train Precision: 0.2862, Train Recall: 0.7543, Train F1: 0.4088, Train Best Threshold: [0.52379316, 0.56363744, 0.5045516, 0.52170837, 0.5161448, 0.5236203], Train correct predictions: 200\n"
     ]
    },
    {
     "name": "stderr",
     "output_type": "stream",
     "text": [
      "Validating: 100%|██████████| 237/237 [00:36<00:00,  6.50it/s]\n"
     ]
    },
    {
     "name": "stdout",
     "output_type": "stream",
     "text": [
      "Val Loss: 1.1633, Val Accuracy: 0.5690, Val Precision: 0.2839, Val Recall: 0.7266, Val F1: 0.3834, Val correct predictions: 43\n",
      "Epoch 6: Learning rate = 0.0009000000000000001\n",
      "Model did not improved\n",
      "------------------------------------------------------------------------------------------------------------------------------------------------------\n",
      "Epoch [7/100]\n"
     ]
    },
    {
     "name": "stderr",
     "output_type": "stream",
     "text": [
      "Training: 100%|██████████| 914/914 [03:31<00:00,  4.33it/s]\n"
     ]
    },
    {
     "name": "stdout",
     "output_type": "stream",
     "text": [
      "Train Loss: 1.1640, Train Accuracy: 0.7837, Train Precision: 0.2881, Train Recall: 0.7698, Train F1: 0.4138, Train Best Threshold: [0.5255736, 0.53811467, 0.50676435, 0.51591945, 0.52650094, 0.5152583], Train correct predictions: 229\n"
     ]
    },
    {
     "name": "stderr",
     "output_type": "stream",
     "text": [
      "Validating: 100%|██████████| 237/237 [00:36<00:00,  6.53it/s]\n"
     ]
    },
    {
     "name": "stdout",
     "output_type": "stream",
     "text": [
      "Val Loss: 1.1533, Val Accuracy: 0.8337, Val Precision: 0.2783, Val Recall: 0.7664, Val F1: 0.4025, Val correct predictions: 63\n",
      "Epoch 7: Learning rate = 0.0009000000000000001\n",
      "Model improved and saved.\n",
      "------------------------------------------------------------------------------------------------------------------------------------------------------\n",
      "Epoch [8/100]\n"
     ]
    },
    {
     "name": "stderr",
     "output_type": "stream",
     "text": [
      "Training: 100%|██████████| 914/914 [03:31<00:00,  4.32it/s]\n"
     ]
    },
    {
     "name": "stdout",
     "output_type": "stream",
     "text": [
      "Train Loss: 1.1622, Train Accuracy: 0.9582, Train Precision: 0.2943, Train Recall: 0.7330, Train F1: 0.4160, Train Best Threshold: [0.5198006, 0.5465103, 0.51404774, 0.5275749, 0.5340163, 0.5186234], Train correct predictions: 280\n"
     ]
    },
    {
     "name": "stderr",
     "output_type": "stream",
     "text": [
      "Validating: 100%|██████████| 237/237 [00:36<00:00,  6.52it/s]\n"
     ]
    },
    {
     "name": "stdout",
     "output_type": "stream",
     "text": [
      "Val Loss: 1.1581, Val Accuracy: 1.1909, Val Precision: 0.2814, Val Recall: 0.6708, Val F1: 0.3937, Val correct predictions: 90\n",
      "Epoch 8: Learning rate = 0.0009000000000000001\n",
      "Model did not improved\n",
      "------------------------------------------------------------------------------------------------------------------------------------------------------\n",
      "Epoch [9/100]\n"
     ]
    },
    {
     "name": "stderr",
     "output_type": "stream",
     "text": [
      "Training: 100%|██████████| 914/914 [03:31<00:00,  4.31it/s]\n"
     ]
    },
    {
     "name": "stdout",
     "output_type": "stream",
     "text": [
      "Train Loss: 1.1590, Train Accuracy: 1.0814, Train Precision: 0.2996, Train Recall: 0.7353, Train F1: 0.4197, Train Best Threshold: [0.53103316, 0.5566251, 0.5127782, 0.5377444, 0.508231, 0.5197606], Train correct predictions: 316\n"
     ]
    },
    {
     "name": "stderr",
     "output_type": "stream",
     "text": [
      "Validating: 100%|██████████| 237/237 [00:36<00:00,  6.45it/s]\n"
     ]
    },
    {
     "name": "stdout",
     "output_type": "stream",
     "text": [
      "Val Loss: 1.1532, Val Accuracy: 2.3290, Val Precision: 0.2834, Val Recall: 0.7028, Val F1: 0.3999, Val correct predictions: 176\n",
      "Epoch 9: Learning rate = 0.0009000000000000001\n",
      "Model did not improved\n",
      "------------------------------------------------------------------------------------------------------------------------------------------------------\n",
      "Epoch [10/100]\n"
     ]
    },
    {
     "name": "stderr",
     "output_type": "stream",
     "text": [
      "Training: 100%|██████████| 914/914 [03:31<00:00,  4.31it/s]\n"
     ]
    },
    {
     "name": "stdout",
     "output_type": "stream",
     "text": [
      "Train Loss: 1.1550, Train Accuracy: 2.2621, Train Precision: 0.3098, Train Recall: 0.6960, Train F1: 0.4251, Train Best Threshold: [0.54488647, 0.5676496, 0.51899797, 0.53666496, 0.54940826, 0.5185557], Train correct predictions: 661\n"
     ]
    },
    {
     "name": "stderr",
     "output_type": "stream",
     "text": [
      "Validating: 100%|██████████| 237/237 [00:36<00:00,  6.51it/s]\n"
     ]
    },
    {
     "name": "stdout",
     "output_type": "stream",
     "text": [
      "Val Loss: 1.1492, Val Accuracy: 4.9226, Val Precision: 0.2975, Val Recall: 0.6602, Val F1: 0.4032, Val correct predictions: 372\n",
      "Epoch 10: Learning rate = 0.0008100000000000001\n",
      "Model improved and saved.\n",
      "------------------------------------------------------------------------------------------------------------------------------------------------------\n",
      "Epoch [11/100]\n"
     ]
    },
    {
     "name": "stderr",
     "output_type": "stream",
     "text": [
      "Training: 100%|██████████| 914/914 [03:31<00:00,  4.32it/s]\n"
     ]
    },
    {
     "name": "stdout",
     "output_type": "stream",
     "text": [
      "Train Loss: 1.1519, Train Accuracy: 1.9712, Train Precision: 0.3103, Train Recall: 0.7312, Train F1: 0.4289, Train Best Threshold: [0.5274426, 0.57455796, 0.5146417, 0.54083204, 0.5142506, 0.5225828], Train correct predictions: 576\n"
     ]
    },
    {
     "name": "stderr",
     "output_type": "stream",
     "text": [
      "Validating: 100%|██████████| 237/237 [00:36<00:00,  6.52it/s]\n"
     ]
    },
    {
     "name": "stdout",
     "output_type": "stream",
     "text": [
      "Val Loss: 1.1438, Val Accuracy: 2.7127, Val Precision: 0.2974, Val Recall: 0.6913, Val F1: 0.4116, Val correct predictions: 205\n",
      "Epoch 11: Learning rate = 0.0008100000000000001\n",
      "Model improved and saved.\n",
      "------------------------------------------------------------------------------------------------------------------------------------------------------\n",
      "Epoch [12/100]\n"
     ]
    },
    {
     "name": "stderr",
     "output_type": "stream",
     "text": [
      "Training: 100%|██████████| 914/914 [03:30<00:00,  4.34it/s]\n"
     ]
    },
    {
     "name": "stdout",
     "output_type": "stream",
     "text": [
      "Train Loss: 1.1471, Train Accuracy: 2.8507, Train Precision: 0.3176, Train Recall: 0.6962, Train F1: 0.4333, Train Best Threshold: [0.524363, 0.5773193, 0.51108086, 0.5793424, 0.5464746, 0.50927854], Train correct predictions: 833\n"
     ]
    },
    {
     "name": "stderr",
     "output_type": "stream",
     "text": [
      "Validating: 100%|██████████| 237/237 [00:36<00:00,  6.54it/s]\n"
     ]
    },
    {
     "name": "stdout",
     "output_type": "stream",
     "text": [
      "Val Loss: 1.1430, Val Accuracy: 1.8658, Val Precision: 0.2968, Val Recall: 0.7163, Val F1: 0.4179, Val correct predictions: 141\n",
      "Epoch 12: Learning rate = 0.0008100000000000001\n",
      "Model improved and saved.\n",
      "------------------------------------------------------------------------------------------------------------------------------------------------------\n",
      "Epoch [13/100]\n"
     ]
    },
    {
     "name": "stderr",
     "output_type": "stream",
     "text": [
      "Training: 100%|██████████| 914/914 [03:31<00:00,  4.32it/s]\n"
     ]
    },
    {
     "name": "stdout",
     "output_type": "stream",
     "text": [
      "Train Loss: 1.1443, Train Accuracy: 3.7336, Train Precision: 0.3226, Train Recall: 0.6939, Train F1: 0.4384, Train Best Threshold: [0.53227395, 0.54621434, 0.5159312, 0.59026974, 0.5395728, 0.5125468], Train correct predictions: 1091\n"
     ]
    },
    {
     "name": "stderr",
     "output_type": "stream",
     "text": [
      "Validating: 100%|██████████| 237/237 [00:36<00:00,  6.51it/s]\n"
     ]
    },
    {
     "name": "stdout",
     "output_type": "stream",
     "text": [
      "Val Loss: 1.1403, Val Accuracy: 1.9188, Val Precision: 0.3067, Val Recall: 0.7208, Val F1: 0.4223, Val correct predictions: 145\n",
      "Epoch 13: Learning rate = 0.0008100000000000001\n",
      "Model improved and saved.\n",
      "------------------------------------------------------------------------------------------------------------------------------------------------------\n",
      "Epoch [14/100]\n"
     ]
    },
    {
     "name": "stderr",
     "output_type": "stream",
     "text": [
      "Training: 100%|██████████| 914/914 [03:31<00:00,  4.32it/s]\n"
     ]
    },
    {
     "name": "stdout",
     "output_type": "stream",
     "text": [
      "Train Loss: 1.1403, Train Accuracy: 4.7192, Train Precision: 0.3334, Train Recall: 0.6704, Train F1: 0.4424, Train Best Threshold: [0.54969394, 0.5748601, 0.51451045, 0.59292054, 0.54116434, 0.5211021], Train correct predictions: 1379\n"
     ]
    },
    {
     "name": "stderr",
     "output_type": "stream",
     "text": [
      "Validating: 100%|██████████| 237/237 [00:36<00:00,  6.51it/s]\n"
     ]
    },
    {
     "name": "stdout",
     "output_type": "stream",
     "text": [
      "Val Loss: 1.1407, Val Accuracy: 1.6409, Val Precision: 0.3178, Val Recall: 0.7223, Val F1: 0.4229, Val correct predictions: 124\n",
      "Epoch 14: Learning rate = 0.0008100000000000001\n",
      "Model improved and saved.\n",
      "------------------------------------------------------------------------------------------------------------------------------------------------------\n",
      "Epoch [15/100]\n"
     ]
    },
    {
     "name": "stderr",
     "output_type": "stream",
     "text": [
      "Training: 100%|██████████| 914/914 [03:31<00:00,  4.33it/s]\n"
     ]
    },
    {
     "name": "stdout",
     "output_type": "stream",
     "text": [
      "Train Loss: 1.1374, Train Accuracy: 4.0416, Train Precision: 0.3354, Train Recall: 0.6857, Train F1: 0.4475, Train Best Threshold: [0.5275364, 0.5918261, 0.5116293, 0.6145701, 0.54564303, 0.5176277], Train correct predictions: 1181\n"
     ]
    },
    {
     "name": "stderr",
     "output_type": "stream",
     "text": [
      "Validating: 100%|██████████| 237/237 [00:36<00:00,  6.54it/s]\n"
     ]
    },
    {
     "name": "stdout",
     "output_type": "stream",
     "text": [
      "Val Loss: 1.1311, Val Accuracy: 4.2477, Val Precision: 0.3230, Val Recall: 0.6697, Val F1: 0.4310, Val correct predictions: 321\n",
      "Epoch 15: Learning rate = 0.000729\n",
      "Model improved and saved.\n",
      "------------------------------------------------------------------------------------------------------------------------------------------------------\n",
      "Epoch [16/100]\n"
     ]
    },
    {
     "name": "stderr",
     "output_type": "stream",
     "text": [
      "Training: 100%|██████████| 914/914 [03:32<00:00,  4.31it/s]\n"
     ]
    },
    {
     "name": "stdout",
     "output_type": "stream",
     "text": [
      "Train Loss: 1.1328, Train Accuracy: 4.9280, Train Precision: 0.3472, Train Recall: 0.6677, Train F1: 0.4532, Train Best Threshold: [0.5506316, 0.60905975, 0.519946, 0.6122759, 0.54339117, 0.5089736], Train correct predictions: 1440\n"
     ]
    },
    {
     "name": "stderr",
     "output_type": "stream",
     "text": [
      "Validating: 100%|██████████| 237/237 [00:36<00:00,  6.55it/s]\n"
     ]
    },
    {
     "name": "stdout",
     "output_type": "stream",
     "text": [
      "Val Loss: 1.1316, Val Accuracy: 4.5124, Val Precision: 0.3275, Val Recall: 0.6593, Val F1: 0.4333, Val correct predictions: 341\n",
      "Epoch 16: Learning rate = 0.000729\n",
      "Model improved and saved.\n",
      "------------------------------------------------------------------------------------------------------------------------------------------------------\n",
      "Epoch [17/100]\n"
     ]
    },
    {
     "name": "stderr",
     "output_type": "stream",
     "text": [
      "Training: 100%|██████████| 914/914 [03:31<00:00,  4.33it/s]\n"
     ]
    },
    {
     "name": "stdout",
     "output_type": "stream",
     "text": [
      "Train Loss: 1.1299, Train Accuracy: 4.2161, Train Precision: 0.3500, Train Recall: 0.6827, Train F1: 0.4574, Train Best Threshold: [0.5385553, 0.6225958, 0.51248723, 0.6403956, 0.53898895, 0.5051047], Train correct predictions: 1232\n"
     ]
    },
    {
     "name": "stderr",
     "output_type": "stream",
     "text": [
      "Validating: 100%|██████████| 237/237 [00:36<00:00,  6.48it/s]\n"
     ]
    },
    {
     "name": "stdout",
     "output_type": "stream",
     "text": [
      "Val Loss: 1.1279, Val Accuracy: 4.1816, Val Precision: 0.3296, Val Recall: 0.6757, Val F1: 0.4382, Val correct predictions: 316\n",
      "Epoch 17: Learning rate = 0.000729\n",
      "Model improved and saved.\n",
      "------------------------------------------------------------------------------------------------------------------------------------------------------\n",
      "Epoch [18/100]\n"
     ]
    },
    {
     "name": "stderr",
     "output_type": "stream",
     "text": [
      "Training: 100%|██████████| 914/914 [03:30<00:00,  4.34it/s]\n"
     ]
    },
    {
     "name": "stdout",
     "output_type": "stream",
     "text": [
      "Train Loss: 1.1274, Train Accuracy: 7.1216, Train Precision: 0.3576, Train Recall: 0.6566, Train F1: 0.4610, Train Best Threshold: [0.55570596, 0.59231114, 0.51437855, 0.64954764, 0.5765991, 0.51874465], Train correct predictions: 2081\n"
     ]
    },
    {
     "name": "stderr",
     "output_type": "stream",
     "text": [
      "Validating: 100%|██████████| 237/237 [00:36<00:00,  6.52it/s]\n"
     ]
    },
    {
     "name": "stdout",
     "output_type": "stream",
     "text": [
      "Val Loss: 1.1282, Val Accuracy: 5.6372, Val Precision: 0.3389, Val Recall: 0.6470, Val F1: 0.4353, Val correct predictions: 426\n",
      "Epoch 18: Learning rate = 0.000729\n",
      "Model did not improved\n",
      "------------------------------------------------------------------------------------------------------------------------------------------------------\n",
      "Epoch [19/100]\n"
     ]
    },
    {
     "name": "stderr",
     "output_type": "stream",
     "text": [
      "Training: 100%|██████████| 914/914 [03:33<00:00,  4.29it/s]\n"
     ]
    },
    {
     "name": "stdout",
     "output_type": "stream",
     "text": [
      "Train Loss: 1.1248, Train Accuracy: 7.5425, Train Precision: 0.3676, Train Recall: 0.6442, Train F1: 0.4655, Train Best Threshold: [0.5709941, 0.62166923, 0.51784873, 0.6713283, 0.60243255, 0.5132823], Train correct predictions: 2204\n"
     ]
    },
    {
     "name": "stderr",
     "output_type": "stream",
     "text": [
      "Validating: 100%|██████████| 237/237 [00:36<00:00,  6.43it/s]\n"
     ]
    },
    {
     "name": "stdout",
     "output_type": "stream",
     "text": [
      "Val Loss: 1.1241, Val Accuracy: 6.3253, Val Precision: 0.3640, Val Recall: 0.6125, Val F1: 0.4414, Val correct predictions: 478\n",
      "Epoch 19: Learning rate = 0.000729\n",
      "Model improved and saved.\n",
      "------------------------------------------------------------------------------------------------------------------------------------------------------\n",
      "Epoch [20/100]\n"
     ]
    },
    {
     "name": "stderr",
     "output_type": "stream",
     "text": [
      "Training: 100%|██████████| 914/914 [03:32<00:00,  4.30it/s]\n"
     ]
    },
    {
     "name": "stdout",
     "output_type": "stream",
     "text": [
      "Train Loss: 1.1229, Train Accuracy: 7.8574, Train Precision: 0.3714, Train Recall: 0.6439, Train F1: 0.4678, Train Best Threshold: [0.55846834, 0.5865959, 0.51518995, 0.69387656, 0.6045372, 0.51621693], Train correct predictions: 2296\n"
     ]
    },
    {
     "name": "stderr",
     "output_type": "stream",
     "text": [
      "Validating: 100%|██████████| 237/237 [00:36<00:00,  6.50it/s]\n"
     ]
    },
    {
     "name": "stdout",
     "output_type": "stream",
     "text": [
      "Val Loss: 1.1267, Val Accuracy: 4.7638, Val Precision: 0.3364, Val Recall: 0.6558, Val F1: 0.4409, Val correct predictions: 360\n",
      "Epoch 20: Learning rate = 0.0006561000000000001\n",
      "Model did not improved\n",
      "------------------------------------------------------------------------------------------------------------------------------------------------------\n",
      "Epoch [21/100]\n"
     ]
    },
    {
     "name": "stderr",
     "output_type": "stream",
     "text": [
      "Training: 100%|██████████| 914/914 [03:30<00:00,  4.33it/s]\n"
     ]
    },
    {
     "name": "stdout",
     "output_type": "stream",
     "text": [
      "Train Loss: 1.1192, Train Accuracy: 8.4118, Train Precision: 0.3719, Train Recall: 0.6588, Train F1: 0.4733, Train Best Threshold: [0.5693416, 0.6089131, 0.5118831, 0.66074383, 0.5905311, 0.5210833], Train correct predictions: 2458\n"
     ]
    },
    {
     "name": "stderr",
     "output_type": "stream",
     "text": [
      "Validating: 100%|██████████| 237/237 [00:36<00:00,  6.54it/s]\n"
     ]
    },
    {
     "name": "stdout",
     "output_type": "stream",
     "text": [
      "Val Loss: 1.1179, Val Accuracy: 5.5842, Val Precision: 0.3569, Val Recall: 0.6526, Val F1: 0.4568, Val correct predictions: 422\n",
      "Epoch 21: Learning rate = 0.0006561000000000001\n",
      "Model improved and saved.\n",
      "------------------------------------------------------------------------------------------------------------------------------------------------------\n",
      "Epoch [22/100]\n"
     ]
    },
    {
     "name": "stderr",
     "output_type": "stream",
     "text": [
      "Training: 100%|██████████| 914/914 [03:30<00:00,  4.33it/s]\n"
     ]
    },
    {
     "name": "stdout",
     "output_type": "stream",
     "text": [
      "Train Loss: 1.1176, Train Accuracy: 8.9148, Train Precision: 0.3783, Train Recall: 0.6514, Train F1: 0.4754, Train Best Threshold: [0.546777, 0.58447325, 0.511061, 0.7124605, 0.6173656, 0.5211087], Train correct predictions: 2605\n"
     ]
    },
    {
     "name": "stderr",
     "output_type": "stream",
     "text": [
      "Validating: 100%|██████████| 237/237 [00:36<00:00,  6.58it/s]\n"
     ]
    },
    {
     "name": "stdout",
     "output_type": "stream",
     "text": [
      "Val Loss: 1.1200, Val Accuracy: 9.0644, Val Precision: 0.3613, Val Recall: 0.6058, Val F1: 0.4491, Val correct predictions: 685\n",
      "Epoch 22: Learning rate = 0.0006561000000000001\n",
      "Model did not improved\n",
      "------------------------------------------------------------------------------------------------------------------------------------------------------\n",
      "Epoch [23/100]\n"
     ]
    },
    {
     "name": "stderr",
     "output_type": "stream",
     "text": [
      "Training: 100%|██████████| 914/914 [03:31<00:00,  4.32it/s]\n"
     ]
    },
    {
     "name": "stdout",
     "output_type": "stream",
     "text": [
      "Train Loss: 1.1164, Train Accuracy: 8.6650, Train Precision: 0.3819, Train Recall: 0.6502, Train F1: 0.4775, Train Best Threshold: [0.5853207, 0.6311583, 0.5215179, 0.67591244, 0.5647958, 0.5134605], Train correct predictions: 2532\n"
     ]
    },
    {
     "name": "stderr",
     "output_type": "stream",
     "text": [
      "Validating: 100%|██████████| 237/237 [00:36<00:00,  6.48it/s]\n"
     ]
    },
    {
     "name": "stdout",
     "output_type": "stream",
     "text": [
      "Val Loss: 1.1138, Val Accuracy: 6.6693, Val Precision: 0.3648, Val Recall: 0.6401, Val F1: 0.4575, Val correct predictions: 504\n",
      "Epoch 23: Learning rate = 0.0006561000000000001\n",
      "Model improved and saved.\n",
      "------------------------------------------------------------------------------------------------------------------------------------------------------\n",
      "Epoch [24/100]\n"
     ]
    },
    {
     "name": "stderr",
     "output_type": "stream",
     "text": [
      "Training: 100%|██████████| 914/914 [03:32<00:00,  4.31it/s]\n"
     ]
    },
    {
     "name": "stdout",
     "output_type": "stream",
     "text": [
      "Train Loss: 1.1128, Train Accuracy: 9.3460, Train Precision: 0.3860, Train Recall: 0.6511, Train F1: 0.4823, Train Best Threshold: [0.53798485, 0.57824373, 0.52899855, 0.6988071, 0.6162049, 0.512865], Train correct predictions: 2731\n"
     ]
    },
    {
     "name": "stderr",
     "output_type": "stream",
     "text": [
      "Validating: 100%|██████████| 237/237 [00:36<00:00,  6.52it/s]\n"
     ]
    },
    {
     "name": "stdout",
     "output_type": "stream",
     "text": [
      "Val Loss: 1.1165, Val Accuracy: 6.3914, Val Precision: 0.3612, Val Recall: 0.6331, Val F1: 0.4526, Val correct predictions: 483\n",
      "Epoch 24: Learning rate = 0.0006561000000000001\n",
      "Model did not improved\n",
      "------------------------------------------------------------------------------------------------------------------------------------------------------\n",
      "Epoch [25/100]\n"
     ]
    },
    {
     "name": "stderr",
     "output_type": "stream",
     "text": [
      "Training: 100%|██████████| 914/914 [03:32<00:00,  4.30it/s]\n"
     ]
    },
    {
     "name": "stdout",
     "output_type": "stream",
     "text": [
      "Train Loss: 1.1111, Train Accuracy: 10.2289, Train Precision: 0.3927, Train Recall: 0.6434, Train F1: 0.4859, Train Best Threshold: [0.6054664, 0.6200887, 0.51322407, 0.68144464, 0.60598385, 0.52522624], Train correct predictions: 2989\n"
     ]
    },
    {
     "name": "stderr",
     "output_type": "stream",
     "text": [
      "Validating: 100%|██████████| 237/237 [00:35<00:00,  6.59it/s]\n"
     ]
    },
    {
     "name": "stdout",
     "output_type": "stream",
     "text": [
      "Val Loss: 1.1191, Val Accuracy: 6.8016, Val Precision: 0.3580, Val Recall: 0.6276, Val F1: 0.4514, Val correct predictions: 514\n",
      "Epoch 25: Learning rate = 0.00059049\n",
      "Model did not improved\n",
      "------------------------------------------------------------------------------------------------------------------------------------------------------\n",
      "Epoch [26/100]\n"
     ]
    },
    {
     "name": "stderr",
     "output_type": "stream",
     "text": [
      "Training: 100%|██████████| 914/914 [03:31<00:00,  4.33it/s]\n"
     ]
    },
    {
     "name": "stdout",
     "output_type": "stream",
     "text": [
      "Train Loss: 1.1082, Train Accuracy: 11.2864, Train Precision: 0.4059, Train Recall: 0.6334, Train F1: 0.4907, Train Best Threshold: [0.5950245, 0.65535897, 0.5177804, 0.7141808, 0.6429815, 0.51359576], Train correct predictions: 3298\n"
     ]
    },
    {
     "name": "stderr",
     "output_type": "stream",
     "text": [
      "Validating: 100%|██████████| 237/237 [00:36<00:00,  6.49it/s]\n"
     ]
    },
    {
     "name": "stdout",
     "output_type": "stream",
     "text": [
      "Val Loss: 1.1162, Val Accuracy: 6.8016, Val Precision: 0.3702, Val Recall: 0.6129, Val F1: 0.4556, Val correct predictions: 514\n",
      "Epoch 26: Learning rate = 0.00059049\n",
      "Model did not improved\n",
      "------------------------------------------------------------------------------------------------------------------------------------------------------\n",
      "Epoch [27/100]\n"
     ]
    },
    {
     "name": "stderr",
     "output_type": "stream",
     "text": [
      "Training: 100%|██████████| 914/914 [03:30<00:00,  4.33it/s]\n"
     ]
    },
    {
     "name": "stdout",
     "output_type": "stream",
     "text": [
      "Train Loss: 1.1066, Train Accuracy: 10.4617, Train Precision: 0.3967, Train Recall: 0.6556, Train F1: 0.4925, Train Best Threshold: [0.55927944, 0.61133975, 0.52343273, 0.6953064, 0.6024194, 0.51881063], Train correct predictions: 3057\n"
     ]
    },
    {
     "name": "stderr",
     "output_type": "stream",
     "text": [
      "Validating: 100%|██████████| 237/237 [00:36<00:00,  6.47it/s]\n"
     ]
    },
    {
     "name": "stdout",
     "output_type": "stream",
     "text": [
      "Val Loss: 1.1129, Val Accuracy: 6.9737, Val Precision: 0.3693, Val Recall: 0.6281, Val F1: 0.4597, Val correct predictions: 527\n",
      "Epoch 27: Learning rate = 0.00059049\n",
      "Model improved and saved.\n",
      "------------------------------------------------------------------------------------------------------------------------------------------------------\n",
      "Epoch [28/100]\n"
     ]
    },
    {
     "name": "stderr",
     "output_type": "stream",
     "text": [
      "Training: 100%|██████████| 914/914 [03:32<00:00,  4.30it/s]\n"
     ]
    },
    {
     "name": "stdout",
     "output_type": "stream",
     "text": [
      "Train Loss: 1.1045, Train Accuracy: 11.3583, Train Precision: 0.4091, Train Recall: 0.6385, Train F1: 0.4952, Train Best Threshold: [0.5624974, 0.6603875, 0.5106533, 0.7116931, 0.6708439, 0.51984423], Train correct predictions: 3319\n"
     ]
    },
    {
     "name": "stderr",
     "output_type": "stream",
     "text": [
      "Validating: 100%|██████████| 237/237 [00:36<00:00,  6.50it/s]\n"
     ]
    },
    {
     "name": "stdout",
     "output_type": "stream",
     "text": [
      "Val Loss: 1.1134, Val Accuracy: 6.4311, Val Precision: 0.3673, Val Recall: 0.6370, Val F1: 0.4615, Val correct predictions: 486\n",
      "Epoch 28: Learning rate = 0.00059049\n",
      "Model improved and saved.\n",
      "------------------------------------------------------------------------------------------------------------------------------------------------------\n",
      "Epoch [29/100]\n"
     ]
    },
    {
     "name": "stderr",
     "output_type": "stream",
     "text": [
      "Training: 100%|██████████| 914/914 [03:31<00:00,  4.32it/s]\n"
     ]
    },
    {
     "name": "stdout",
     "output_type": "stream",
     "text": [
      "Train Loss: 1.1049, Train Accuracy: 10.3932, Train Precision: 0.4047, Train Recall: 0.6478, Train F1: 0.4944, Train Best Threshold: [0.61620456, 0.61132866, 0.51696944, 0.7184017, 0.5973349, 0.5101939], Train correct predictions: 3037\n"
     ]
    },
    {
     "name": "stderr",
     "output_type": "stream",
     "text": [
      "Validating: 100%|██████████| 237/237 [00:36<00:00,  6.54it/s]\n"
     ]
    },
    {
     "name": "stdout",
     "output_type": "stream",
     "text": [
      "Val Loss: 1.1126, Val Accuracy: 7.7147, Val Precision: 0.3727, Val Recall: 0.6318, Val F1: 0.4639, Val correct predictions: 583\n",
      "Epoch 29: Learning rate = 0.00059049\n",
      "Model improved and saved.\n",
      "------------------------------------------------------------------------------------------------------------------------------------------------------\n",
      "Epoch [30/100]\n"
     ]
    },
    {
     "name": "stderr",
     "output_type": "stream",
     "text": [
      "Training: 100%|██████████| 914/914 [03:31<00:00,  4.32it/s]\n"
     ]
    },
    {
     "name": "stdout",
     "output_type": "stream",
     "text": [
      "Train Loss: 1.1021, Train Accuracy: 11.6320, Train Precision: 0.4088, Train Recall: 0.6473, Train F1: 0.4991, Train Best Threshold: [0.57817227, 0.6213701, 0.51069534, 0.7076083, 0.64553297, 0.51580316], Train correct predictions: 3399\n"
     ]
    },
    {
     "name": "stderr",
     "output_type": "stream",
     "text": [
      "Validating: 100%|██████████| 237/237 [00:36<00:00,  6.54it/s]\n"
     ]
    },
    {
     "name": "stdout",
     "output_type": "stream",
     "text": [
      "Val Loss: 1.1114, Val Accuracy: 8.2969, Val Precision: 0.3663, Val Recall: 0.6495, Val F1: 0.4657, Val correct predictions: 627\n",
      "Epoch 30: Learning rate = 0.000531441\n",
      "Model improved and saved.\n",
      "------------------------------------------------------------------------------------------------------------------------------------------------------\n",
      "Epoch [31/100]\n"
     ]
    },
    {
     "name": "stderr",
     "output_type": "stream",
     "text": [
      "Training: 100%|██████████| 914/914 [03:32<00:00,  4.31it/s]\n"
     ]
    },
    {
     "name": "stdout",
     "output_type": "stream",
     "text": [
      "Train Loss: 1.0989, Train Accuracy: 12.3302, Train Precision: 0.4129, Train Recall: 0.6577, Train F1: 0.5049, Train Best Threshold: [0.55659944, 0.58928055, 0.5115169, 0.7185086, 0.62783176, 0.529213], Train correct predictions: 3603\n"
     ]
    },
    {
     "name": "stderr",
     "output_type": "stream",
     "text": [
      "Validating: 100%|██████████| 237/237 [00:35<00:00,  6.60it/s]\n"
     ]
    },
    {
     "name": "stdout",
     "output_type": "stream",
     "text": [
      "Val Loss: 1.1154, Val Accuracy: 8.1514, Val Precision: 0.3699, Val Recall: 0.6211, Val F1: 0.4568, Val correct predictions: 616\n",
      "Epoch 31: Learning rate = 0.000531441\n",
      "Model did not improved\n",
      "------------------------------------------------------------------------------------------------------------------------------------------------------\n",
      "Epoch [32/100]\n"
     ]
    },
    {
     "name": "stderr",
     "output_type": "stream",
     "text": [
      "Training: 100%|██████████| 914/914 [03:31<00:00,  4.33it/s]\n"
     ]
    },
    {
     "name": "stdout",
     "output_type": "stream",
     "text": [
      "Train Loss: 1.0973, Train Accuracy: 12.8332, Train Precision: 0.4157, Train Recall: 0.6506, Train F1: 0.5061, Train Best Threshold: [0.59637123, 0.6208246, 0.5175294, 0.7048715, 0.6537036, 0.52203643], Train correct predictions: 3750\n"
     ]
    },
    {
     "name": "stderr",
     "output_type": "stream",
     "text": [
      "Validating: 100%|██████████| 237/237 [00:36<00:00,  6.48it/s]\n"
     ]
    },
    {
     "name": "stdout",
     "output_type": "stream",
     "text": [
      "Val Loss: 1.1098, Val Accuracy: 9.3423, Val Precision: 0.3795, Val Recall: 0.6208, Val F1: 0.4659, Val correct predictions: 706\n",
      "Epoch 32: Learning rate = 0.000531441\n",
      "Model improved and saved.\n",
      "------------------------------------------------------------------------------------------------------------------------------------------------------\n",
      "Epoch [33/100]\n"
     ]
    },
    {
     "name": "stderr",
     "output_type": "stream",
     "text": [
      "Training: 100%|██████████| 914/914 [03:32<00:00,  4.30it/s]\n"
     ]
    },
    {
     "name": "stdout",
     "output_type": "stream",
     "text": [
      "Train Loss: 1.0968, Train Accuracy: 12.5903, Train Precision: 0.4203, Train Recall: 0.6466, Train F1: 0.5067, Train Best Threshold: [0.58735496, 0.6482126, 0.5165109, 0.7196875, 0.62404615, 0.5173479], Train correct predictions: 3679\n"
     ]
    },
    {
     "name": "stderr",
     "output_type": "stream",
     "text": [
      "Validating: 100%|██████████| 237/237 [00:36<00:00,  6.55it/s]\n"
     ]
    },
    {
     "name": "stdout",
     "output_type": "stream",
     "text": [
      "Val Loss: 1.1089, Val Accuracy: 7.9926, Val Precision: 0.3827, Val Recall: 0.6350, Val F1: 0.4712, Val correct predictions: 604\n",
      "Epoch 33: Learning rate = 0.000531441\n",
      "Model improved and saved.\n",
      "------------------------------------------------------------------------------------------------------------------------------------------------------\n",
      "Epoch [34/100]\n"
     ]
    },
    {
     "name": "stderr",
     "output_type": "stream",
     "text": [
      "Training: 100%|██████████| 914/914 [03:30<00:00,  4.33it/s]\n"
     ]
    },
    {
     "name": "stdout",
     "output_type": "stream",
     "text": [
      "Train Loss: 1.0944, Train Accuracy: 12.7374, Train Precision: 0.4263, Train Recall: 0.6511, Train F1: 0.5114, Train Best Threshold: [0.5648487, 0.6675562, 0.5240778, 0.72605777, 0.6251801, 0.5162162], Train correct predictions: 3722\n"
     ]
    },
    {
     "name": "stderr",
     "output_type": "stream",
     "text": [
      "Validating: 100%|██████████| 237/237 [00:36<00:00,  6.51it/s]\n"
     ]
    },
    {
     "name": "stdout",
     "output_type": "stream",
     "text": [
      "Val Loss: 1.1169, Val Accuracy: 7.0001, Val Precision: 0.3807, Val Recall: 0.6154, Val F1: 0.4550, Val correct predictions: 529\n",
      "Epoch 34: Learning rate = 0.000531441\n",
      "Model did not improved\n",
      "------------------------------------------------------------------------------------------------------------------------------------------------------\n",
      "Epoch [35/100]\n"
     ]
    },
    {
     "name": "stderr",
     "output_type": "stream",
     "text": [
      "Training: 100%|██████████| 914/914 [03:31<00:00,  4.32it/s]\n"
     ]
    },
    {
     "name": "stdout",
     "output_type": "stream",
     "text": [
      "Train Loss: 1.0921, Train Accuracy: 14.3801, Train Precision: 0.4303, Train Recall: 0.6471, Train F1: 0.5152, Train Best Threshold: [0.5982153, 0.5957691, 0.5247015, 0.7206242, 0.63652873, 0.5350801], Train correct predictions: 4202\n"
     ]
    },
    {
     "name": "stderr",
     "output_type": "stream",
     "text": [
      "Validating: 100%|██████████| 237/237 [00:36<00:00,  6.51it/s]\n"
     ]
    },
    {
     "name": "stdout",
     "output_type": "stream",
     "text": [
      "Val Loss: 1.1096, Val Accuracy: 10.1363, Val Precision: 0.3824, Val Recall: 0.6093, Val F1: 0.4653, Val correct predictions: 766\n",
      "Epoch 35: Learning rate = 0.0004782969\n",
      "Model did not improved\n",
      "------------------------------------------------------------------------------------------------------------------------------------------------------\n",
      "Epoch [36/100]\n"
     ]
    },
    {
     "name": "stderr",
     "output_type": "stream",
     "text": [
      "Training: 100%|██████████| 914/914 [03:31<00:00,  4.32it/s]\n"
     ]
    },
    {
     "name": "stdout",
     "output_type": "stream",
     "text": [
      "Train Loss: 1.0886, Train Accuracy: 13.9934, Train Precision: 0.4323, Train Recall: 0.6612, Train F1: 0.5211, Train Best Threshold: [0.5564329, 0.662259, 0.5234453, 0.68720275, 0.64349693, 0.5284582], Train correct predictions: 4089\n"
     ]
    },
    {
     "name": "stderr",
     "output_type": "stream",
     "text": [
      "Validating: 100%|██████████| 237/237 [00:36<00:00,  6.54it/s]\n"
     ]
    },
    {
     "name": "stdout",
     "output_type": "stream",
     "text": [
      "Val Loss: 1.1102, Val Accuracy: 8.7601, Val Precision: 0.3850, Val Recall: 0.6133, Val F1: 0.4679, Val correct predictions: 662\n",
      "Epoch 36: Learning rate = 0.0004782969\n",
      "Model did not improved\n",
      "------------------------------------------------------------------------------------------------------------------------------------------------------\n",
      "Epoch [37/100]\n"
     ]
    },
    {
     "name": "stderr",
     "output_type": "stream",
     "text": [
      "Training: 100%|██████████| 914/914 [03:31<00:00,  4.33it/s]\n"
     ]
    },
    {
     "name": "stdout",
     "output_type": "stream",
     "text": [
      "Train Loss: 1.0875, Train Accuracy: 15.0645, Train Precision: 0.4471, Train Recall: 0.6405, Train F1: 0.5235, Train Best Threshold: [0.61826783, 0.69008315, 0.5169589, 0.72033376, 0.65879613, 0.5215656], Train correct predictions: 4402\n"
     ]
    },
    {
     "name": "stderr",
     "output_type": "stream",
     "text": [
      "Validating: 100%|██████████| 237/237 [00:36<00:00,  6.53it/s]\n"
     ]
    },
    {
     "name": "stdout",
     "output_type": "stream",
     "text": [
      "Val Loss: 1.1087, Val Accuracy: 11.5919, Val Precision: 0.4006, Val Recall: 0.5703, Val F1: 0.4637, Val correct predictions: 876\n",
      "Epoch 37: Learning rate = 0.0004782969\n",
      "Model did not improved\n",
      "------------------------------------------------------------------------------------------------------------------------------------------------------\n",
      "Epoch [38/100]\n"
     ]
    },
    {
     "name": "stderr",
     "output_type": "stream",
     "text": [
      "Training: 100%|██████████| 914/914 [03:31<00:00,  4.32it/s]\n"
     ]
    },
    {
     "name": "stdout",
     "output_type": "stream",
     "text": [
      "Train Loss: 1.0854, Train Accuracy: 15.6463, Train Precision: 0.4454, Train Recall: 0.6436, Train F1: 0.5250, Train Best Threshold: [0.58258575, 0.6528995, 0.5215419, 0.72099227, 0.67913705, 0.53551835], Train correct predictions: 4572\n"
     ]
    },
    {
     "name": "stderr",
     "output_type": "stream",
     "text": [
      "Validating: 100%|██████████| 237/237 [00:36<00:00,  6.49it/s]\n"
     ]
    },
    {
     "name": "stdout",
     "output_type": "stream",
     "text": [
      "Val Loss: 1.1067, Val Accuracy: 12.6638, Val Precision: 0.3935, Val Recall: 0.5853, Val F1: 0.4685, Val correct predictions: 957\n",
      "Epoch 38: Learning rate = 0.0004782969\n",
      "Model did not improved\n",
      "------------------------------------------------------------------------------------------------------------------------------------------------------\n",
      "Epoch [39/100]\n"
     ]
    },
    {
     "name": "stderr",
     "output_type": "stream",
     "text": [
      "Training: 100%|██████████| 914/914 [03:31<00:00,  4.32it/s]\n"
     ]
    },
    {
     "name": "stdout",
     "output_type": "stream",
     "text": [
      "Train Loss: 1.0847, Train Accuracy: 15.5299, Train Precision: 0.4462, Train Recall: 0.6498, Train F1: 0.5276, Train Best Threshold: [0.60084504, 0.6401686, 0.5544167, 0.7129771, 0.65704334, 0.52460855], Train correct predictions: 4538\n"
     ]
    },
    {
     "name": "stderr",
     "output_type": "stream",
     "text": [
      "Validating: 100%|██████████| 237/237 [00:36<00:00,  6.54it/s]\n"
     ]
    },
    {
     "name": "stdout",
     "output_type": "stream",
     "text": [
      "Val Loss: 1.1066, Val Accuracy: 11.2611, Val Precision: 0.3924, Val Recall: 0.6025, Val F1: 0.4686, Val correct predictions: 851\n",
      "Epoch 39: Learning rate = 0.0004782969\n",
      "Model did not improved\n",
      "------------------------------------------------------------------------------------------------------------------------------------------------------\n",
      "Epoch [40/100]\n"
     ]
    },
    {
     "name": "stderr",
     "output_type": "stream",
     "text": [
      "Training: 100%|██████████| 914/914 [03:32<00:00,  4.31it/s]\n"
     ]
    },
    {
     "name": "stdout",
     "output_type": "stream",
     "text": [
      "Train Loss: 1.0827, Train Accuracy: 15.5299, Train Precision: 0.4472, Train Recall: 0.6563, Train F1: 0.5299, Train Best Threshold: [0.5903373, 0.6338334, 0.51322085, 0.7231338, 0.64944375, 0.5392043], Train correct predictions: 4538\n"
     ]
    },
    {
     "name": "stderr",
     "output_type": "stream",
     "text": [
      "Validating: 100%|██████████| 237/237 [00:36<00:00,  6.56it/s]\n"
     ]
    },
    {
     "name": "stdout",
     "output_type": "stream",
     "text": [
      "Val Loss: 1.1038, Val Accuracy: 11.3140, Val Precision: 0.3873, Val Recall: 0.6133, Val F1: 0.4730, Val correct predictions: 855\n",
      "Epoch 40: Learning rate = 0.00043046721\n",
      "Model improved and saved.\n",
      "------------------------------------------------------------------------------------------------------------------------------------------------------\n",
      "Epoch [41/100]\n"
     ]
    },
    {
     "name": "stderr",
     "output_type": "stream",
     "text": [
      "Training: 100%|██████████| 914/914 [03:31<00:00,  4.32it/s]\n"
     ]
    },
    {
     "name": "stdout",
     "output_type": "stream",
     "text": [
      "Train Loss: 1.0790, Train Accuracy: 15.9782, Train Precision: 0.4531, Train Recall: 0.6630, Train F1: 0.5369, Train Best Threshold: [0.59356016, 0.64507264, 0.5163061, 0.71693915, 0.6601208, 0.5265604], Train correct predictions: 4669\n"
     ]
    },
    {
     "name": "stderr",
     "output_type": "stream",
     "text": [
      "Validating: 100%|██████████| 237/237 [00:36<00:00,  6.54it/s]\n"
     ]
    },
    {
     "name": "stdout",
     "output_type": "stream",
     "text": [
      "Val Loss: 1.1048, Val Accuracy: 11.3537, Val Precision: 0.3944, Val Recall: 0.6000, Val F1: 0.4722, Val correct predictions: 858\n",
      "Epoch 41: Learning rate = 0.00043046721\n",
      "Model did not improved\n",
      "------------------------------------------------------------------------------------------------------------------------------------------------------\n",
      "Epoch [42/100]\n"
     ]
    },
    {
     "name": "stderr",
     "output_type": "stream",
     "text": [
      "Training: 100%|██████████| 914/914 [03:31<00:00,  4.33it/s]\n"
     ]
    },
    {
     "name": "stdout",
     "output_type": "stream",
     "text": [
      "Train Loss: 1.0776, Train Accuracy: 16.9262, Train Precision: 0.4576, Train Recall: 0.6583, Train F1: 0.5386, Train Best Threshold: [0.5647219, 0.6632804, 0.5275313, 0.7171571, 0.6656507, 0.5408465], Train correct predictions: 4946\n"
     ]
    },
    {
     "name": "stderr",
     "output_type": "stream",
     "text": [
      "Validating: 100%|██████████| 237/237 [00:36<00:00,  6.54it/s]\n"
     ]
    },
    {
     "name": "stdout",
     "output_type": "stream",
     "text": [
      "Val Loss: 1.1038, Val Accuracy: 12.8358, Val Precision: 0.3916, Val Recall: 0.6009, Val F1: 0.4711, Val correct predictions: 970\n",
      "Epoch 42: Learning rate = 0.00043046721\n",
      "Model did not improved\n",
      "------------------------------------------------------------------------------------------------------------------------------------------------------\n",
      "Epoch [43/100]\n"
     ]
    },
    {
     "name": "stderr",
     "output_type": "stream",
     "text": [
      "Training: 100%|██████████| 914/914 [03:33<00:00,  4.28it/s]\n"
     ]
    },
    {
     "name": "stdout",
     "output_type": "stream",
     "text": [
      "Train Loss: 1.0757, Train Accuracy: 16.7790, Train Precision: 0.4648, Train Recall: 0.6577, Train F1: 0.5422, Train Best Threshold: [0.61591715, 0.6605756, 0.51293075, 0.7239538, 0.6844116, 0.5185276], Train correct predictions: 4903\n"
     ]
    },
    {
     "name": "stderr",
     "output_type": "stream",
     "text": [
      "Validating: 100%|██████████| 237/237 [00:36<00:00,  6.48it/s]\n"
     ]
    },
    {
     "name": "stdout",
     "output_type": "stream",
     "text": [
      "Val Loss: 1.1067, Val Accuracy: 12.3197, Val Precision: 0.4008, Val Recall: 0.5698, Val F1: 0.4661, Val correct predictions: 931\n",
      "Epoch 43: Learning rate = 0.00043046721\n",
      "Model did not improved\n",
      "------------------------------------------------------------------------------------------------------------------------------------------------------\n",
      "Epoch [44/100]\n"
     ]
    },
    {
     "name": "stderr",
     "output_type": "stream",
     "text": [
      "Training: 100%|██████████| 914/914 [03:31<00:00,  4.32it/s]\n"
     ]
    },
    {
     "name": "stdout",
     "output_type": "stream",
     "text": [
      "Train Loss: 1.0745, Train Accuracy: 17.3574, Train Precision: 0.4656, Train Recall: 0.6568, Train F1: 0.5436, Train Best Threshold: [0.6013606, 0.6168289, 0.52723926, 0.7212792, 0.6958288, 0.5283811], Train correct predictions: 5072\n"
     ]
    },
    {
     "name": "stderr",
     "output_type": "stream",
     "text": [
      "Validating: 100%|██████████| 237/237 [00:36<00:00,  6.53it/s]\n"
     ]
    },
    {
     "name": "stdout",
     "output_type": "stream",
     "text": [
      "Val Loss: 1.1086, Val Accuracy: 12.5182, Val Precision: 0.3887, Val Recall: 0.5882, Val F1: 0.4654, Val correct predictions: 946\n",
      "Epoch 44: Learning rate = 0.00043046721\n",
      "Model did not improved\n",
      "------------------------------------------------------------------------------------------------------------------------------------------------------\n",
      "Epoch [45/100]\n"
     ]
    },
    {
     "name": "stderr",
     "output_type": "stream",
     "text": [
      "Training: 100%|██████████| 914/914 [03:31<00:00,  4.32it/s]\n"
     ]
    },
    {
     "name": "stdout",
     "output_type": "stream",
     "text": [
      "Train Loss: 1.0721, Train Accuracy: 17.0425, Train Precision: 0.4673, Train Recall: 0.6677, Train F1: 0.5481, Train Best Threshold: [0.6414267, 0.6240585, 0.54754496, 0.7163594, 0.654296, 0.5170037], Train correct predictions: 4980\n"
     ]
    },
    {
     "name": "stderr",
     "output_type": "stream",
     "text": [
      "Validating: 100%|██████████| 237/237 [00:36<00:00,  6.50it/s]\n"
     ]
    },
    {
     "name": "stdout",
     "output_type": "stream",
     "text": [
      "Val Loss: 1.1053, Val Accuracy: 10.9303, Val Precision: 0.3922, Val Recall: 0.6021, Val F1: 0.4676, Val correct predictions: 826\n",
      "Epoch 45: Learning rate = 0.000387420489\n",
      "Model did not improved\n",
      "------------------------------------------------------------------------------------------------------------------------------------------------------\n",
      "Epoch [46/100]\n"
     ]
    },
    {
     "name": "stderr",
     "output_type": "stream",
     "text": [
      "Training: 100%|██████████| 914/914 [03:31<00:00,  4.31it/s]\n"
     ]
    },
    {
     "name": "stdout",
     "output_type": "stream",
     "text": [
      "Train Loss: 1.0695, Train Accuracy: 18.8084, Train Precision: 0.4800, Train Recall: 0.6584, Train F1: 0.5533, Train Best Threshold: [0.64089286, 0.64060473, 0.55728483, 0.7230494, 0.6830132, 0.5185022], Train correct predictions: 5496\n"
     ]
    },
    {
     "name": "stderr",
     "output_type": "stream",
     "text": [
      "Validating: 100%|██████████| 237/237 [00:36<00:00,  6.53it/s]\n"
     ]
    },
    {
     "name": "stdout",
     "output_type": "stream",
     "text": [
      "Val Loss: 1.1049, Val Accuracy: 11.4066, Val Precision: 0.4056, Val Recall: 0.5869, Val F1: 0.4713, Val correct predictions: 862\n",
      "Epoch 46: Learning rate = 0.000387420489\n",
      "Model did not improved\n",
      "------------------------------------------------------------------------------------------------------------------------------------------------------\n",
      "Epoch [47/100]\n"
     ]
    },
    {
     "name": "stderr",
     "output_type": "stream",
     "text": [
      "Training: 100%|██████████| 914/914 [03:32<00:00,  4.29it/s]\n"
     ]
    },
    {
     "name": "stdout",
     "output_type": "stream",
     "text": [
      "Train Loss: 1.0672, Train Accuracy: 19.7324, Train Precision: 0.4872, Train Recall: 0.6524, Train F1: 0.5564, Train Best Threshold: [0.62410206, 0.6720982, 0.54677945, 0.7263672, 0.6745081, 0.55620277], Train correct predictions: 5766\n"
     ]
    },
    {
     "name": "stderr",
     "output_type": "stream",
     "text": [
      "Validating: 100%|██████████| 237/237 [00:36<00:00,  6.48it/s]"
     ]
    },
    {
     "name": "stdout",
     "output_type": "stream",
     "text": [
      "Val Loss: 1.1038, Val Accuracy: 13.8415, Val Precision: 0.4111, Val Recall: 0.5604, Val F1: 0.4693, Val correct predictions: 1046\n",
      "Epoch 47: Learning rate = 0.000387420489\n",
      "Model did not improved\n",
      "Early stopping triggered\n"
     ]
    },
    {
     "name": "stderr",
     "output_type": "stream",
     "text": [
      "\n"
     ]
    }
   ],
   "source": [
    "for epoch in range(num_epochs):\n",
    "    print(f\"Epoch [{epoch + 1}/{num_epochs}]\")\n",
    "    \n",
    "    # Train the model for one epoch\n",
    "    train_loss, train_accuracy, train_precision, train_recall, train_f1, train_best_threshold, train_correct_predictions = train(model, train_loader, criterion, optimizer, device)\n",
    "    print(f\"Train Loss: {train_loss:.4f}, Train Accuracy: {train_accuracy:.4f}, \"\n",
    "      f\"Train Precision: {train_precision:.4f}, Train Recall: {train_recall:.4f}, \"\n",
    "      f\"Train F1: {train_f1:.4f}, Train Best Threshold: {train_best_threshold}, \"\n",
    "      f\"Train correct predictions: {train_correct_predictions}\")\n",
    "\n",
    "\n",
    "\n",
    "    # Validate the model after training\n",
    "    val_loss, val_accuracy, val_precision, val_recall, val_f1, val_correct_predictions = validate(model, val_loader, criterion, device, train_best_threshold)\n",
    "\n",
    "    print(f\"Val Loss: {val_loss:.4f}, Val Accuracy: {val_accuracy:.4f}, \"\n",
    "      f\"Val Precision: {val_precision:.4f}, Val Recall: {val_recall:.4f}, \"\n",
    "      f\"Val F1: {val_f1:.4f}, Val correct predictions: {val_correct_predictions}\")\n",
    "\n",
    "\n",
    "    # Step the Lookahead optimizer\n",
    "    #lookahead_optimizer.step()\n",
    "    # Step the ReduceLROnPlateau scheduler\n",
    "    #scheduler.step(val_loss)\n",
    "    \n",
    "    scheduler.step()\n",
    "\n",
    "    print(f\"Epoch {epoch + 1}: Learning rate = {scheduler.get_last_lr()[0]}\")\n",
    "\n",
    "    num_epochs_runned += 1\n",
    "\n",
    "    # Validation loss has improved\n",
    "    if val_f1 > best_val:\n",
    "        best_val = val_f1\n",
    "        epochs_no_improve = 0  # Reset the counter if we see improvement\n",
    "        \n",
    "        # Save the model checkpoint\n",
    "        torch.save(model.state_dict(), \"best_model_b_last.pth\")\n",
    "        print(\"Model improved and saved.\")\n",
    "    else:\n",
    "        print(\"Model did not improved\")\n",
    "        epochs_no_improve += 1  # Increment counter if no improvement\n",
    "\n",
    "    # Early stopping\n",
    "    if epochs_no_improve == patience:\n",
    "        print(\"Early stopping triggered\")\n",
    "        break\n",
    "\n",
    "    print(\"-\" * 150)"
   ]
  },
  {
   "cell_type": "code",
   "execution_count": 52,
   "id": "dd155298-30d9-4bfa-b980-1abfe2318399",
   "metadata": {},
   "outputs": [],
   "source": [
    "# Define label names for better readability in the report\n",
    "label_names = ['Atelectasis', 'Effusion', 'Infiltration', 'Mass', 'Nodule', 'minority']"
   ]
  },
  {
   "cell_type": "code",
   "execution_count": 53,
   "id": "99e00203e15923f0",
   "metadata": {
    "ExecuteTime": {
     "end_time": "2024-11-10T14:53:15.350469Z",
     "start_time": "2024-11-10T14:52:46.256405Z"
    }
   },
   "outputs": [
    {
     "name": "stdout",
     "output_type": "stream",
     "text": [
      "Hello test\n"
     ]
    },
    {
     "name": "stderr",
     "output_type": "stream",
     "text": [
      "Testing: 100%|██████████| 409/409 [01:01<00:00,  6.64it/s]\n"
     ]
    },
    {
     "name": "stdout",
     "output_type": "stream",
     "text": [
      "\n",
      "Finding Best Thresholds for Each Class:\n",
      "Class 'Atelectasis': Best Threshold = 0.5067, Max F1-Score = 0.4289\n",
      "Class 'Effusion': Best Threshold = 0.6838, Max F1-Score = 0.5497\n",
      "Class 'Infiltration': Best Threshold = 0.5010, Max F1-Score = 0.5847\n",
      "Class 'Mass': Best Threshold = 0.7233, Max F1-Score = 0.3317\n",
      "Class 'Nodule': Best Threshold = 0.6384, Max F1-Score = 0.2888\n",
      "Class 'minority': Best Threshold = 0.5005, Max F1-Score = 0.6879\n",
      "\n",
      "Classification Report with Best Thresholds:\n",
      "              precision    recall  f1-score   support\n",
      "\n",
      " Atelectasis       0.31      0.68      0.43      2700\n",
      "    Effusion       0.45      0.72      0.55      3735\n",
      "Infiltration       0.44      0.86      0.58      5159\n",
      "        Mass       0.26      0.45      0.33      1329\n",
      "      Nodule       0.22      0.41      0.29      1305\n",
      "    minority       0.53      0.97      0.69      6789\n",
      "\n",
      "   micro avg       0.43      0.79      0.56     21017\n",
      "   macro avg       0.37      0.68      0.48     21017\n",
      "weighted avg       0.43      0.79      0.56     21017\n",
      " samples avg       0.44      0.82      0.54     21017\n",
      "\n",
      "\n",
      "Classification Report with Default Threshold (0.5):\n",
      "              precision    recall  f1-score   support\n",
      "\n",
      " Atelectasis       0.21      0.99      0.35      2700\n",
      "    Effusion       0.30      0.99      0.46      3735\n",
      "Infiltration       0.40      1.00      0.57      5159\n",
      "        Mass       0.11      0.97      0.20      1329\n",
      "      Nodule       0.10      0.99      0.19      1305\n",
      "    minority       0.52      1.00      0.68      6789\n",
      "\n",
      "   micro avg       0.28      0.99      0.44     21017\n",
      "   macro avg       0.27      0.99      0.41     21017\n",
      "weighted avg       0.36      0.99      0.51     21017\n",
      " samples avg       0.28      1.00      0.42     21017\n",
      "\n",
      "Test Loss: 1.1156\n"
     ]
    }
   ],
   "source": [
    "# Now, evaluate the model on the test set\n",
    "model.load_state_dict(torch.load(\"best_model_b_last.pth\", weights_only=True))\n",
    "print(\"Hello test\")\n",
    "test_loss, test_report_best, test_report_default, test_best_thresholds = test(model, test_loader, criterion, device, label_names, train_best_threshold)\n",
    "\n",
    "print(f\"Test Loss: {test_loss:.4f}\")"
   ]
  },
  {
   "cell_type": "code",
   "execution_count": 54,
   "id": "5765d547daa4988b",
   "metadata": {
    "ExecuteTime": {
     "end_time": "2024-11-10T15:05:50.622585Z",
     "start_time": "2024-11-10T15:05:50.415197Z"
    }
   },
   "outputs": [
    {
     "data": {
      "image/png": "[encoded data removed]",
      "text/plain": [
       "<Figure size 640x480 with 1 Axes>"
      ]
     },
     "metadata": {},
     "output_type": "display_data"
    },
    {
     "data": {
      "image/png": "[encoded data removed]",
      "text/plain": [
       "<Figure size 640x480 with 1 Axes>"
      ]
     },
     "metadata": {},
     "output_type": "display_data"
    },
    {
     "name": "stdout",
     "output_type": "stream",
     "text": [
      "    Epoch  Train Loss  Train Accuracy  Val Loss  Val Accuracy\n",
      "0       1    1.190387        0.082133  1.171580      0.066164\n",
      "1       2    1.182460        0.468841  1.169722      0.489612\n",
      "2       3    1.177675        0.277198  1.167174      0.172026\n",
      "3       4    1.174777        0.431197  1.165706      0.251423\n",
      "4       5    1.171832        0.516752  1.169450      0.211724\n",
      "5       6    1.168036        0.684439  1.163341      0.569009\n",
      "6       7    1.163977        0.783683  1.153349      0.833664\n",
      "7       8    1.162248        0.958215  1.158115      1.190949\n",
      "8       9    1.158996        1.081414  1.153180      2.328967\n",
      "9      10    1.154983        2.262072  1.149178      4.922588\n",
      "10     11    1.151942        1.971185  1.143786      2.712717\n",
      "11     12    1.147129        2.850690  1.143005      1.865820\n",
      "12     13    1.144298        3.733616  1.140322      1.918751\n",
      "13     14    1.140312        4.719209  1.140663      1.640863\n",
      "14     15    1.137414        4.041614  1.131050      4.247717\n",
      "15     16    1.132816        4.927963  1.131629      4.512373\n",
      "16     17    1.129857        4.216146  1.127861      4.181554\n",
      "17     18    1.127364        7.121591  1.128209      5.637158\n",
      "18     19    1.124841        7.542521  1.124061      6.325261\n",
      "19     20    1.122936        7.857363  1.126656      4.763795\n",
      "20     21    1.119212        8.411759  1.117855      5.584227\n",
      "21     22    1.117585        8.914822  1.120009      9.064444\n",
      "22     23    1.116353        8.665001  1.113818      6.669313\n",
      "23     24    1.112832        9.346018  1.116514      6.391425\n",
      "24     25    1.111113       10.228945  1.119058      6.801641\n",
      "25     26    1.108164       11.286404  1.116220      6.801641\n",
      "26     27    1.106632       10.461654  1.112935      6.973667\n",
      "27     28    1.104458       11.358270  1.113386      6.431123\n",
      "28     29    1.104915       10.393210  1.112642      7.714702\n",
      "29     30    1.102091       11.632045  1.111392      8.296943\n",
      "30     31    1.098941       12.330174  1.115386      8.151383\n",
      "31     32    1.097284       12.833236  1.109826      9.342332\n",
      "32     33    1.096826       12.590260  1.108864      7.992590\n",
      "33     34    1.094427       12.737415  1.116875      7.000132\n",
      "34     35    1.092073       14.380069  1.109641     10.136297\n",
      "35     36    1.088595       13.993361  1.110227      8.760090\n",
      "36     37    1.087461       15.064508  1.108729     11.591902\n",
      "37     38    1.085369       15.646282  1.106710     12.663755\n",
      "38     39    1.084737       15.529927  1.106621     11.261082\n",
      "39     40    1.082734       15.529927  1.103787     11.314013\n",
      "40     41    1.079019       15.978235  1.104791     11.353712\n",
      "41     42    1.077622       16.926183  1.103758     12.835781\n",
      "42     43    1.075693       16.779029  1.106737     12.319704\n",
      "43     44    1.074473       17.357380  1.108581     12.518195\n",
      "44     45    1.072092       17.042538  1.105319     10.930263\n",
      "45     46    1.069520       18.808391  1.104922     11.406643\n",
      "46     47    1.067240       19.732384  1.103778     13.841471\n"
     ]
    }
   ],
   "source": [
    "plt.plot(range(num_epochs_runned), train_losses, label=\"Train Loss\")\n",
    "plt.plot(range(num_epochs_runned), val_losses, label=\"Validation Loss\")\n",
    "plt.xlabel('Epoch')\n",
    "plt.ylabel('Loss')\n",
    "plt.legend()\n",
    "plt.title('Training and Validation Loss singular over sampled (Minority classes)')\n",
    "plt.show()\n",
    "\n",
    "# Plot training and validation accuracy\n",
    "plt.plot(range(num_epochs_runned), train_accuracies, label=\"Train Accuracy\")\n",
    "plt.plot(range(num_epochs_runned), val_accuracies, label=\"Validation Accuracy\")\n",
    "plt.xlabel('Epoch')\n",
    "plt.ylabel('Accuracy (%)')\n",
    "plt.legend()\n",
    "plt.title('Training and Validation Accuracy')\n",
    "plt.show()\n",
    "\n",
    "# Save the results in a DataFrame for reporting\n",
    "results_df = pd.DataFrame({\n",
    "    'Epoch': range(1, num_epochs_runned + 1),\n",
    "    'Train Loss': train_losses,\n",
    "    'Train Accuracy': train_accuracies,\n",
    "    'Val Loss': val_losses,\n",
    "    'Val Accuracy': val_accuracies\n",
    "})\n",
    "\n",
    "print(results_df)"
   ]
  },
  {
   "cell_type": "code",
   "execution_count": null,
   "id": "cbc35e53-0cae-4939-a219-b8cd339207aa",
   "metadata": {},
   "outputs": [],
   "source": []
  }
 ],
 "metadata": {
  "kernelspec": {
   "display_name": "Python 3 (ipykernel)",
   "language": "python",
   "name": "python3"
  },
  "language_info": {
   "codemirror_mode": {
    "name": "ipython",
    "version": 3
   },
   "file_extension": ".py",
   "mimetype": "text/x-python",
   "name": "python",
   "nbconvert_exporter": "python",
   "pygments_lexer": "ipython3",
   "version": "3.11.6"
  }
 },
 "nbformat": 4,
 "nbformat_minor": 5
}
