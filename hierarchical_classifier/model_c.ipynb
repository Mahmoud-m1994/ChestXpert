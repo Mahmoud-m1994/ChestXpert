{
 "cells": [
  {
   "cell_type": "markdown",
   "id": "c6f871d393e2c072",
   "metadata": {},
   "source": [
    "### Step 1: Load data"
   ]
  },
  {
   "cell_type": "code",
   "execution_count": 1,
   "id": "initial_id",
   "metadata": {
    "ExecuteTime": {
     "end_time": "2024-11-10T15:03:30.327388Z",
     "start_time": "2024-11-10T15:03:30.057782Z"
    }
   },
   "outputs": [],
   "source": [
    "import os\n",
    "\n",
    "import numpy as np\n",
    "import pandas as pd\n",
    "import torch\n",
    "import torch.nn as nn\n",
    "from matplotlib import pyplot as plt\n",
    "from sklearn.metrics import classification_report, precision_recall_curve\n",
    "from skmultilearn.model_selection import IterativeStratification\n",
    "from torch.utils.data import DataLoader\n",
    "from torchvision import transforms, models\n",
    "from tqdm import tqdm\n",
    "\n",
    "from ChestXRayDataset import ChestXRayDataset\n",
    "from MultiSourceChestXRayDataset import MultiSourceChestXRayDataset"
   ]
  },
  {
   "cell_type": "code",
   "execution_count": 2,
   "id": "401d32cc3ee88c8e",
   "metadata": {
    "ExecuteTime": {
     "end_time": "2024-11-10T14:51:16.469551Z",
     "start_time": "2024-11-10T14:51:16.383213Z"
    }
   },
   "outputs": [],
   "source": [
    "df_train = pd.read_csv('../data/data_entries/miccai2023_nih-cxr-lt_labels_train.csv')\n",
    "df_val = pd.read_csv('../data/data_entries/miccai2023_nih-cxr-lt_labels_val.csv')\n",
    "df_test = pd.read_csv('../data/data_entries/miccai2023_nih-cxr-lt_labels_test.csv')\n",
    "\n",
    "train_augmented_df = pd.read_csv('../data/data_entries/augmented_images_v3.csv')"
   ]
  },
  {
   "cell_type": "code",
   "execution_count": 3,
   "id": "e064940c88cd6388",
   "metadata": {
    "ExecuteTime": {
     "end_time": "2024-11-10T14:51:16.603077Z",
     "start_time": "2024-11-10T14:51:16.598772Z"
    }
   },
   "outputs": [
    {
     "data": {
      "text/plain": [
       "((78506, 22), (12533, 22), (21081, 22), (13731, 23))"
      ]
     },
     "execution_count": 3,
     "metadata": {},
     "output_type": "execute_result"
    }
   ],
   "source": [
    "df_train.shape, df_val.shape, df_test.shape, train_augmented_df.shape"
   ]
  },
  {
   "cell_type": "code",
   "execution_count": 4,
   "id": "60355a4b-a052-4cae-b0c5-a7295aa655ef",
   "metadata": {},
   "outputs": [
    {
     "data": {
      "text/plain": [
       "Atelectasis                    7587\n",
       "Cardiomegaly                   1590\n",
       "Consolidation                  2626\n",
       "Edema                          1283\n",
       "Effusion                       7919\n",
       "Emphysema                      1327\n",
       "Fibrosis                       1138\n",
       "Hernia                          130\n",
       "Infiltration                  12739\n",
       "Mass                           3689\n",
       "Nodule                         4359\n",
       "Pleural Thickening             1998\n",
       "Pneumonia                       806\n",
       "Pneumothorax                   2432\n",
       "Pneumoperitoneum                214\n",
       "Pneumomediastinum                88\n",
       "Subcutaneous Emphysema          957\n",
       "Tortuous Aorta                  598\n",
       "Calcification of the Aorta      368\n",
       "dtype: int64"
      ]
     },
     "execution_count": 4,
     "metadata": {},
     "output_type": "execute_result"
    }
   ],
   "source": [
    "# Count classes to determinate majority classes\n",
    "class_counts = df_train.iloc[:, 1:-2].sum(axis=0)\n",
    "class_counts"
   ]
  },
  {
   "cell_type": "markdown",
   "id": "197ef722b6d5bddb",
   "metadata": {},
   "source": [
    "Some images exist in images folder, but not in miccai labels and opposite\n",
    "\n",
    "To fix this problem We create list of all image IDs in both train and test _images folder\n",
    "then ensure that only images withing this list are loaded to dataset"
   ]
  },
  {
   "cell_type": "code",
   "execution_count": 5,
   "id": "3b83bbd4dfc8674d",
   "metadata": {
    "ExecuteTime": {
     "end_time": "2024-11-10T14:51:16.704227Z",
     "start_time": "2024-11-10T14:51:16.700688Z"
    }
   },
   "outputs": [],
   "source": [
    "image_dir_train = 'data/train_images'\n",
    "image_dir_test = 'data/test_images'\n",
    "# Define function to get valid image ids that exist in the image directory\n",
    "def get_valid_image_ids(df, image_dir):\n",
    "    # Get the set of image IDs that exist in the image directory\n",
    "    image_files = set(os.listdir(image_dir))  # List of all files in the image directory\n",
    "    # Check if image id exists in the image directory\n",
    "    valid_ids = df[df['id'].isin(image_files)]['id']\n",
    "    return valid_ids"
   ]
  },
  {
   "cell_type": "code",
   "execution_count": 6,
   "id": "b23bdd75f36a256e",
   "metadata": {
    "ExecuteTime": {
     "end_time": "2024-11-10T14:51:16.744561Z",
     "start_time": "2024-11-10T14:51:16.716264Z"
    }
   },
   "outputs": [],
   "source": [
    "# Get valid image ids for train and test datasets\n",
    "valid_train_ids = get_valid_image_ids(df_train, image_dir_train)\n",
    "valid_val_ids = get_valid_image_ids(df_val, image_dir_train)\n",
    "valid_test_ids = get_valid_image_ids(df_test, image_dir_test)"
   ]
  },
  {
   "cell_type": "code",
   "execution_count": 7,
   "id": "1f6a294e2f064fbd",
   "metadata": {
    "ExecuteTime": {
     "end_time": "2024-11-10T14:51:16.764801Z",
     "start_time": "2024-11-10T14:51:16.755889Z"
    }
   },
   "outputs": [
    {
     "data": {
      "text/plain": [
       "((78506, 22), (8018, 22), (21081, 22))"
      ]
     },
     "execution_count": 7,
     "metadata": {},
     "output_type": "execute_result"
    }
   ],
   "source": [
    "# Filter the DataFrames to include only the valid image IDs\n",
    "df_train_valid = df_train[df_train['id'].isin(valid_train_ids)]\n",
    "df_val_valid = df_val[df_val['id'].isin(valid_val_ids)]\n",
    "df_test_valid = df_test[df_test['id'].isin(valid_test_ids)]\n",
    "\n",
    "df_train_valid.shape, df_val_valid.shape, df_test_valid.shape"
   ]
  },
  {
   "cell_type": "code",
   "execution_count": 8,
   "id": "aa7554c8d5ef5eca",
   "metadata": {
    "ExecuteTime": {
     "end_time": "2024-11-10T14:51:16.786894Z",
     "start_time": "2024-11-10T14:51:16.782623Z"
    }
   },
   "outputs": [],
   "source": [
    "df_train_val = pd.concat([df_train_valid, df_val_valid], ignore_index=True)\n",
    "assert df_train_val.shape[0] == df_train_valid.shape[0] + df_val_valid.shape[0]"
   ]
  },
  {
   "cell_type": "code",
   "execution_count": 9,
   "id": "f83f7618-434d-4960-be75-df84acada0d8",
   "metadata": {},
   "outputs": [
    {
     "data": {
      "text/plain": [
       "((36778, 22), (13066, 22))"
      ]
     },
     "execution_count": 9,
     "metadata": {},
     "output_type": "execute_result"
    }
   ],
   "source": [
    "df_train_val.drop(df_train_val[df_train_val['No Finding'] == 1].index, inplace=True)\n",
    "df_test_valid.drop(df_test_valid[df_test_valid['No Finding'] == 1].index, inplace=True)\n",
    "df_train_val.shape, df_test_valid.shape"
   ]
  },
  {
   "cell_type": "code",
   "execution_count": 10,
   "id": "3e0686f621c6b3e",
   "metadata": {
    "ExecuteTime": {
     "end_time": "2024-11-10T14:51:16.844212Z",
     "start_time": "2024-11-10T14:51:16.839329Z"
    }
   },
   "outputs": [
    {
     "data": {
      "text/plain": [
       "(36778, 20)"
      ]
     },
     "execution_count": 10,
     "metadata": {},
     "output_type": "execute_result"
    }
   ],
   "source": [
    "df_train_val = df_train_val.copy()\n",
    "df_train_val.drop(columns=['subj_id', 'No Finding'], inplace=True)\n",
    "df_train_val.shape"
   ]
  },
  {
   "cell_type": "code",
   "execution_count": 11,
   "id": "21ca2ca48ff9f98f",
   "metadata": {
    "ExecuteTime": {
     "end_time": "2024-11-10T14:51:16.880223Z",
     "start_time": "2024-11-10T14:51:16.876337Z"
    }
   },
   "outputs": [
    {
     "data": {
      "text/plain": [
       "(13066, 20)"
      ]
     },
     "execution_count": 11,
     "metadata": {},
     "output_type": "execute_result"
    }
   ],
   "source": [
    "## Do same for testing\n",
    "df_test_valid = df_test_valid.copy()\n",
    "df_test_valid.drop(columns=['subj_id', 'No Finding'], inplace=True)\n",
    "df_test_valid.shape"
   ]
  },
  {
   "cell_type": "markdown",
   "id": "4c822dcd-e480-405e-9939-50ce473f6b70",
   "metadata": {},
   "source": [
    "### Drop majority classes and keep only minority for model C"
   ]
  },
  {
   "cell_type": "code",
   "execution_count": 12,
   "id": "990fa396-f448-4b5b-8286-9eacbe119e5f",
   "metadata": {},
   "outputs": [
    {
     "data": {
      "text/plain": [
       "Atelectasis                    8280\n",
       "Cardiomegaly                   1707\n",
       "Consolidation                  2852\n",
       "Edema                          1378\n",
       "Effusion                       8659\n",
       "Emphysema                      1423\n",
       "Fibrosis                       1251\n",
       "Hernia                          141\n",
       "Infiltration                  13782\n",
       "Mass                           4034\n",
       "Nodule                         4708\n",
       "Pleural Thickening             2242\n",
       "Pneumonia                       876\n",
       "Pneumothorax                   2637\n",
       "Pneumoperitoneum                231\n",
       "Pneumomediastinum                92\n",
       "Subcutaneous Emphysema         1023\n",
       "Tortuous Aorta                  634\n",
       "Calcification of the Aorta      395\n",
       "dtype: int64"
      ]
     },
     "execution_count": 12,
     "metadata": {},
     "output_type": "execute_result"
    }
   ],
   "source": [
    "# Count classes to determinate majority classes\n",
    "class_counts = df_train_val.iloc[:, 1:].sum(axis=0)\n",
    "class_counts"
   ]
  },
  {
   "cell_type": "code",
   "execution_count": 13,
   "id": "3a4ec43e-0eb1-4e9d-9999-438f42feefc2",
   "metadata": {},
   "outputs": [
    {
     "data": {
      "text/plain": [
       "['Cardiomegaly',\n",
       " 'Consolidation',\n",
       " 'Edema',\n",
       " 'Emphysema',\n",
       " 'Fibrosis',\n",
       " 'Hernia',\n",
       " 'Pleural Thickening',\n",
       " 'Pneumonia',\n",
       " 'Pneumothorax',\n",
       " 'Pneumoperitoneum',\n",
       " 'Pneumomediastinum',\n",
       " 'Subcutaneous Emphysema',\n",
       " 'Tortuous Aorta',\n",
       " 'Calcification of the Aorta']"
      ]
     },
     "execution_count": 13,
     "metadata": {},
     "output_type": "execute_result"
    }
   ],
   "source": [
    "majority_threshold = 3000\n",
    "minority_classes = class_counts[class_counts < majority_threshold].index.tolist()\n",
    "minority_classes"
   ]
  },
  {
   "cell_type": "code",
   "execution_count": 14,
   "id": "03ff8a8c-0ee3-4a7d-8e4c-7eaa6f243e88",
   "metadata": {},
   "outputs": [],
   "source": [
    "columns_to_keep = ['id'] + minority_classes\n",
    "df_train_val = df_train_val[columns_to_keep]\n",
    "df_test_valid = df_test_valid[columns_to_keep]\n",
    "\n",
    "train_augmented_df = train_augmented_df[columns_to_keep]"
   ]
  },
  {
   "cell_type": "code",
   "execution_count": 15,
   "id": "70623561-9cd5-4f88-88ee-efca6fde4a1b",
   "metadata": {},
   "outputs": [
    {
     "data": {
      "text/plain": [
       "((36778, 15), (13066, 15), (13731, 15))"
      ]
     },
     "execution_count": 15,
     "metadata": {},
     "output_type": "execute_result"
    }
   ],
   "source": [
    "df_train_val.shape, df_test_valid.shape, train_augmented_df.shape"
   ]
  },
  {
   "cell_type": "code",
   "execution_count": 16,
   "id": "4c612067-6550-44c4-a934-1e78646b4444",
   "metadata": {},
   "outputs": [
    {
     "data": {
      "text/html": [
       "<div>\n",
       "<style scoped>\n",
       "    .dataframe tbody tr th:only-of-type {\n",
       "        vertical-align: middle;\n",
       "    }\n",
       "\n",
       "    .dataframe tbody tr th {\n",
       "        vertical-align: top;\n",
       "    }\n",
       "\n",
       "    .dataframe thead th {\n",
       "        text-align: right;\n",
       "    }\n",
       "</style>\n",
       "<table border=\"1\" class=\"dataframe\">\n",
       "  <thead>\n",
       "    <tr style=\"text-align: right;\">\n",
       "      <th></th>\n",
       "      <th>id</th>\n",
       "      <th>Cardiomegaly</th>\n",
       "      <th>Consolidation</th>\n",
       "      <th>Edema</th>\n",
       "      <th>Emphysema</th>\n",
       "      <th>Fibrosis</th>\n",
       "      <th>Hernia</th>\n",
       "      <th>Pleural Thickening</th>\n",
       "      <th>Pneumonia</th>\n",
       "      <th>Pneumothorax</th>\n",
       "      <th>Pneumoperitoneum</th>\n",
       "      <th>Pneumomediastinum</th>\n",
       "      <th>Subcutaneous Emphysema</th>\n",
       "      <th>Tortuous Aorta</th>\n",
       "      <th>Calcification of the Aorta</th>\n",
       "    </tr>\n",
       "  </thead>\n",
       "  <tbody>\n",
       "    <tr>\n",
       "      <th>46243</th>\n",
       "      <td>00015105_000.png</td>\n",
       "      <td>0</td>\n",
       "      <td>0</td>\n",
       "      <td>0</td>\n",
       "      <td>0</td>\n",
       "      <td>0</td>\n",
       "      <td>0</td>\n",
       "      <td>0</td>\n",
       "      <td>0</td>\n",
       "      <td>0</td>\n",
       "      <td>0</td>\n",
       "      <td>0</td>\n",
       "      <td>0</td>\n",
       "      <td>0</td>\n",
       "      <td>0</td>\n",
       "    </tr>\n",
       "    <tr>\n",
       "      <th>81552</th>\n",
       "      <td>00017110_005.png</td>\n",
       "      <td>0</td>\n",
       "      <td>0</td>\n",
       "      <td>0</td>\n",
       "      <td>0</td>\n",
       "      <td>0</td>\n",
       "      <td>0</td>\n",
       "      <td>0</td>\n",
       "      <td>0</td>\n",
       "      <td>0</td>\n",
       "      <td>0</td>\n",
       "      <td>0</td>\n",
       "      <td>0</td>\n",
       "      <td>0</td>\n",
       "      <td>0</td>\n",
       "    </tr>\n",
       "  </tbody>\n",
       "</table>\n",
       "</div>"
      ],
      "text/plain": [
       "                     id  Cardiomegaly  Consolidation  Edema  Emphysema  \\\n",
       "46243  00015105_000.png             0              0      0          0   \n",
       "81552  00017110_005.png             0              0      0          0   \n",
       "\n",
       "       Fibrosis  Hernia  Pleural Thickening  Pneumonia  Pneumothorax  \\\n",
       "46243         0       0                   0          0             0   \n",
       "81552         0       0                   0          0             0   \n",
       "\n",
       "       Pneumoperitoneum  Pneumomediastinum  Subcutaneous Emphysema  \\\n",
       "46243                 0                  0                       0   \n",
       "81552                 0                  0                       0   \n",
       "\n",
       "       Tortuous Aorta  Calcification of the Aorta  \n",
       "46243               0                           0  \n",
       "81552               0                           0  "
      ]
     },
     "execution_count": 16,
     "metadata": {},
     "output_type": "execute_result"
    }
   ],
   "source": [
    "df_train_val.sample(2)"
   ]
  },
  {
   "cell_type": "code",
   "execution_count": 17,
   "id": "d494b4fa-20cd-47d1-bb63-9cfd72dc8dc8",
   "metadata": {},
   "outputs": [
    {
     "data": {
      "text/html": [
       "<div>\n",
       "<style scoped>\n",
       "    .dataframe tbody tr th:only-of-type {\n",
       "        vertical-align: middle;\n",
       "    }\n",
       "\n",
       "    .dataframe tbody tr th {\n",
       "        vertical-align: top;\n",
       "    }\n",
       "\n",
       "    .dataframe thead th {\n",
       "        text-align: right;\n",
       "    }\n",
       "</style>\n",
       "<table border=\"1\" class=\"dataframe\">\n",
       "  <thead>\n",
       "    <tr style=\"text-align: right;\">\n",
       "      <th></th>\n",
       "      <th>id</th>\n",
       "      <th>Cardiomegaly</th>\n",
       "      <th>Consolidation</th>\n",
       "      <th>Edema</th>\n",
       "      <th>Emphysema</th>\n",
       "      <th>Fibrosis</th>\n",
       "      <th>Hernia</th>\n",
       "      <th>Pleural Thickening</th>\n",
       "      <th>Pneumonia</th>\n",
       "      <th>Pneumothorax</th>\n",
       "      <th>Pneumoperitoneum</th>\n",
       "      <th>Pneumomediastinum</th>\n",
       "      <th>Subcutaneous Emphysema</th>\n",
       "      <th>Tortuous Aorta</th>\n",
       "      <th>Calcification of the Aorta</th>\n",
       "    </tr>\n",
       "  </thead>\n",
       "  <tbody>\n",
       "    <tr>\n",
       "      <th>1140</th>\n",
       "      <td>00007916_007_6848.png</td>\n",
       "      <td>0</td>\n",
       "      <td>0</td>\n",
       "      <td>0</td>\n",
       "      <td>1</td>\n",
       "      <td>0</td>\n",
       "      <td>0</td>\n",
       "      <td>0</td>\n",
       "      <td>0</td>\n",
       "      <td>0</td>\n",
       "      <td>0</td>\n",
       "      <td>0</td>\n",
       "      <td>0</td>\n",
       "      <td>0</td>\n",
       "      <td>0</td>\n",
       "    </tr>\n",
       "    <tr>\n",
       "      <th>1814</th>\n",
       "      <td>00030000_002_5199.png</td>\n",
       "      <td>0</td>\n",
       "      <td>0</td>\n",
       "      <td>0</td>\n",
       "      <td>0</td>\n",
       "      <td>0</td>\n",
       "      <td>0</td>\n",
       "      <td>1</td>\n",
       "      <td>0</td>\n",
       "      <td>0</td>\n",
       "      <td>0</td>\n",
       "      <td>0</td>\n",
       "      <td>0</td>\n",
       "      <td>0</td>\n",
       "      <td>0</td>\n",
       "    </tr>\n",
       "  </tbody>\n",
       "</table>\n",
       "</div>"
      ],
      "text/plain": [
       "                         id  Cardiomegaly  Consolidation  Edema  Emphysema  \\\n",
       "1140  00007916_007_6848.png             0              0      0          1   \n",
       "1814  00030000_002_5199.png             0              0      0          0   \n",
       "\n",
       "      Fibrosis  Hernia  Pleural Thickening  Pneumonia  Pneumothorax  \\\n",
       "1140         0       0                   0          0             0   \n",
       "1814         0       0                   1          0             0   \n",
       "\n",
       "      Pneumoperitoneum  Pneumomediastinum  Subcutaneous Emphysema  \\\n",
       "1140                 0                  0                       0   \n",
       "1814                 0                  0                       0   \n",
       "\n",
       "      Tortuous Aorta  Calcification of the Aorta  \n",
       "1140               0                           0  \n",
       "1814               0                           0  "
      ]
     },
     "execution_count": 17,
     "metadata": {},
     "output_type": "execute_result"
    }
   ],
   "source": [
    "train_augmented_df.sample(2)"
   ]
  },
  {
   "cell_type": "markdown",
   "id": "edda75b7-e2df-4947-9446-f8314c3fff97",
   "metadata": {},
   "source": [
    "### Concat train_augmented_df and df_train_val, but we do following steps in order\n",
    "- Create 'is_augmented' column to seperate between orginal and augmented data/images\n",
    "- Concat both DataFrame's\n",
    "- Drop all rows that has sum 0, meaning no minority classes found\n",
    "- Finally create 'finding' and 'finding_encoded' columns"
   ]
  },
  {
   "cell_type": "code",
   "execution_count": 18,
   "id": "a0522746-4f2b-48cd-82b8-00a95b2d09f1",
   "metadata": {},
   "outputs": [],
   "source": [
    "df_train_val['is_augmented'] = False\n",
    "train_augmented_df['is_augmented'] = True"
   ]
  },
  {
   "cell_type": "code",
   "execution_count": 19,
   "id": "3e66e4c8-fbe0-4662-8aa2-17e1f2994c10",
   "metadata": {},
   "outputs": [],
   "source": [
    "# Concatenate both DataFrames\n",
    "combined_df = pd.concat([df_train_val, train_augmented_df], ignore_index=True)\n",
    "assert combined_df.shape[0] == df_train_val.shape[0] + train_augmented_df.shape[0]"
   ]
  },
  {
   "cell_type": "code",
   "execution_count": 20,
   "id": "a7b78e3b-9518-4cd6-8085-0259de58c6ac",
   "metadata": {},
   "outputs": [
    {
     "data": {
      "text/plain": [
       "(50509, 16)"
      ]
     },
     "execution_count": 20,
     "metadata": {},
     "output_type": "execute_result"
    }
   ],
   "source": [
    "combined_df.shape"
   ]
  },
  {
   "cell_type": "code",
   "execution_count": 21,
   "id": "4ad0a034-7b70-4bb3-854f-1a36192ab426",
   "metadata": {},
   "outputs": [
    {
     "data": {
      "text/plain": [
       "((27720, 16), (6789, 15))"
      ]
     },
     "execution_count": 21,
     "metadata": {},
     "output_type": "execute_result"
    }
   ],
   "source": [
    "combined_df = combined_df.loc[combined_df.iloc[:, 1:].sum(axis=1) > 0]\n",
    "df_test_valid = df_test_valid.loc[df_test_valid.iloc[:, 1:].sum(axis=1) > 0]\n",
    "combined_df.shape, df_test_valid.shape"
   ]
  },
  {
   "cell_type": "code",
   "execution_count": 22,
   "id": "e4ed12cd-f791-4994-a217-3a5f19b24c77",
   "metadata": {},
   "outputs": [
    {
     "data": {
      "text/html": [
       "<div>\n",
       "<style scoped>\n",
       "    .dataframe tbody tr th:only-of-type {\n",
       "        vertical-align: middle;\n",
       "    }\n",
       "\n",
       "    .dataframe tbody tr th {\n",
       "        vertical-align: top;\n",
       "    }\n",
       "\n",
       "    .dataframe thead th {\n",
       "        text-align: right;\n",
       "    }\n",
       "</style>\n",
       "<table border=\"1\" class=\"dataframe\">\n",
       "  <thead>\n",
       "    <tr style=\"text-align: right;\">\n",
       "      <th></th>\n",
       "      <th>id</th>\n",
       "      <th>Cardiomegaly</th>\n",
       "      <th>Consolidation</th>\n",
       "      <th>Edema</th>\n",
       "      <th>Emphysema</th>\n",
       "      <th>Fibrosis</th>\n",
       "      <th>Hernia</th>\n",
       "      <th>Pleural Thickening</th>\n",
       "      <th>Pneumonia</th>\n",
       "      <th>Pneumothorax</th>\n",
       "      <th>Pneumoperitoneum</th>\n",
       "      <th>Pneumomediastinum</th>\n",
       "      <th>Subcutaneous Emphysema</th>\n",
       "      <th>Tortuous Aorta</th>\n",
       "      <th>Calcification of the Aorta</th>\n",
       "      <th>is_augmented</th>\n",
       "    </tr>\n",
       "  </thead>\n",
       "  <tbody>\n",
       "    <tr>\n",
       "      <th>34614</th>\n",
       "      <td>00008175_000.png</td>\n",
       "      <td>0</td>\n",
       "      <td>0</td>\n",
       "      <td>0</td>\n",
       "      <td>0</td>\n",
       "      <td>0</td>\n",
       "      <td>0</td>\n",
       "      <td>1</td>\n",
       "      <td>0</td>\n",
       "      <td>0</td>\n",
       "      <td>0</td>\n",
       "      <td>0</td>\n",
       "      <td>0</td>\n",
       "      <td>0</td>\n",
       "      <td>0</td>\n",
       "      <td>False</td>\n",
       "    </tr>\n",
       "    <tr>\n",
       "      <th>49741</th>\n",
       "      <td>00010261_005_7348.png</td>\n",
       "      <td>0</td>\n",
       "      <td>0</td>\n",
       "      <td>0</td>\n",
       "      <td>0</td>\n",
       "      <td>0</td>\n",
       "      <td>0</td>\n",
       "      <td>0</td>\n",
       "      <td>0</td>\n",
       "      <td>0</td>\n",
       "      <td>1</td>\n",
       "      <td>0</td>\n",
       "      <td>0</td>\n",
       "      <td>0</td>\n",
       "      <td>0</td>\n",
       "      <td>True</td>\n",
       "    </tr>\n",
       "  </tbody>\n",
       "</table>\n",
       "</div>"
      ],
      "text/plain": [
       "                          id  Cardiomegaly  Consolidation  Edema  Emphysema  \\\n",
       "34614       00008175_000.png             0              0      0          0   \n",
       "49741  00010261_005_7348.png             0              0      0          0   \n",
       "\n",
       "       Fibrosis  Hernia  Pleural Thickening  Pneumonia  Pneumothorax  \\\n",
       "34614         0       0                   1          0             0   \n",
       "49741         0       0                   0          0             0   \n",
       "\n",
       "       Pneumoperitoneum  Pneumomediastinum  Subcutaneous Emphysema  \\\n",
       "34614                 0                  0                       0   \n",
       "49741                 1                  0                       0   \n",
       "\n",
       "       Tortuous Aorta  Calcification of the Aorta  is_augmented  \n",
       "34614               0                           0         False  \n",
       "49741               0                           0          True  "
      ]
     },
     "execution_count": 22,
     "metadata": {},
     "output_type": "execute_result"
    }
   ],
   "source": [
    "combined_df.sample(2)"
   ]
  },
  {
   "cell_type": "markdown",
   "id": "cdbb271b83551522",
   "metadata": {},
   "source": [
    "### Step 2: Label encoding and create target column "
   ]
  },
  {
   "cell_type": "markdown",
   "id": "2b6570a581d8f436",
   "metadata": {},
   "source": [
    "#### Step 2.1: create mappings variable for all categories we have"
   ]
  },
  {
   "cell_type": "code",
   "execution_count": 23,
   "id": "89181548de9fd7d6",
   "metadata": {
    "ExecuteTime": {
     "end_time": "2024-11-10T14:51:16.981160Z",
     "start_time": "2024-11-10T14:51:16.978297Z"
    }
   },
   "outputs": [
    {
     "name": "stdout",
     "output_type": "stream",
     "text": [
      "Category Mapping:\n",
      "{'Cardiomegaly': 0, 'Consolidation': 1, 'Edema': 2, 'Emphysema': 3, 'Fibrosis': 4, 'Hernia': 5, 'Pleural Thickening': 6, 'Pneumonia': 7, 'Pneumothorax': 8, 'Pneumoperitoneum': 9, 'Pneumomediastinum': 10, 'Subcutaneous Emphysema': 11, 'Tortuous Aorta': 12, 'Calcification of the Aorta': 13}\n"
     ]
    }
   ],
   "source": [
    "# Extract all categories (exclude 'id' and 'is_augmented')\n",
    "categories = combined_df.columns[1:-1]\n",
    "\n",
    "# Create a mapping dictionary for categories to numbers\n",
    "category_mapping = {category: idx for idx, category in enumerate(categories)}\n",
    "\n",
    "print(\"Category Mapping:\")\n",
    "print(category_mapping)"
   ]
  },
  {
   "cell_type": "markdown",
   "id": "6ed974c46c22bd9b",
   "metadata": {},
   "source": [
    "### Step 2.3: Create finding column\n",
    "\n",
    "This column will contain list of all finding categories for each image, and we have the following scenarios\n",
    "1. The image has no sickness ==> finding column is a list with only one item 'No Finding'\n",
    "2. The image contains only one category i.g 'Hernia' ==> finding column is a list with only one item 'Hernia'\n",
    "3. The image contains more than one category i.g 'Hernia' and 'Edema'...etc. ==> finding column is a list finding items 'Hernia' and 'Edema'"
   ]
  },
  {
   "cell_type": "code",
   "execution_count": 24,
   "id": "107bc595a018ba1e",
   "metadata": {
    "ExecuteTime": {
     "end_time": "2024-11-10T14:51:16.997198Z",
     "start_time": "2024-11-10T14:51:16.994166Z"
    }
   },
   "outputs": [],
   "source": [
    "# Function to create 'finding' and 'finding_encoded' as a string based on category values\n",
    "def create_finding(row):\n",
    "    # Generate lists of findings and their encoded values\n",
    "    findings = [category for category in categories if row[category] == 1]\n",
    "    encoded_findings = [str(category_mapping[category]) for category in findings]\n",
    "    \n",
    "    # Join encoded findings as a single string for stratification\n",
    "    return findings, ','.join(encoded_findings)\n"
   ]
  },
  {
   "cell_type": "code",
   "execution_count": 25,
   "id": "c4881a0ea80d8958",
   "metadata": {
    "ExecuteTime": {
     "end_time": "2024-11-10T14:51:17.280554Z",
     "start_time": "2024-11-10T14:51:17.012610Z"
    }
   },
   "outputs": [
    {
     "data": {
      "text/html": [
       "<div>\n",
       "<style scoped>\n",
       "    .dataframe tbody tr th:only-of-type {\n",
       "        vertical-align: middle;\n",
       "    }\n",
       "\n",
       "    .dataframe tbody tr th {\n",
       "        vertical-align: top;\n",
       "    }\n",
       "\n",
       "    .dataframe thead th {\n",
       "        text-align: right;\n",
       "    }\n",
       "</style>\n",
       "<table border=\"1\" class=\"dataframe\">\n",
       "  <thead>\n",
       "    <tr style=\"text-align: right;\">\n",
       "      <th></th>\n",
       "      <th>id</th>\n",
       "      <th>finding</th>\n",
       "      <th>finding_encoded</th>\n",
       "    </tr>\n",
       "  </thead>\n",
       "  <tbody>\n",
       "    <tr>\n",
       "      <th>0</th>\n",
       "      <td>00000001_000.png</td>\n",
       "      <td>[Cardiomegaly]</td>\n",
       "      <td>0</td>\n",
       "    </tr>\n",
       "    <tr>\n",
       "      <th>1</th>\n",
       "      <td>00000001_001.png</td>\n",
       "      <td>[Cardiomegaly, Emphysema]</td>\n",
       "      <td>0,3</td>\n",
       "    </tr>\n",
       "    <tr>\n",
       "      <th>2</th>\n",
       "      <td>00000001_002.png</td>\n",
       "      <td>[Cardiomegaly]</td>\n",
       "      <td>0</td>\n",
       "    </tr>\n",
       "    <tr>\n",
       "      <th>6</th>\n",
       "      <td>00000008_000.png</td>\n",
       "      <td>[Cardiomegaly]</td>\n",
       "      <td>0</td>\n",
       "    </tr>\n",
       "    <tr>\n",
       "      <th>7</th>\n",
       "      <td>00000008_002.png</td>\n",
       "      <td>[Calcification of the Aorta]</td>\n",
       "      <td>13</td>\n",
       "    </tr>\n",
       "    <tr>\n",
       "      <th>...</th>\n",
       "      <td>...</td>\n",
       "      <td>...</td>\n",
       "      <td>...</td>\n",
       "    </tr>\n",
       "    <tr>\n",
       "      <th>50504</th>\n",
       "      <td>00026791_002_7504.png</td>\n",
       "      <td>[Hernia]</td>\n",
       "      <td>5</td>\n",
       "    </tr>\n",
       "    <tr>\n",
       "      <th>50505</th>\n",
       "      <td>00026791_002_5599.png</td>\n",
       "      <td>[Hernia]</td>\n",
       "      <td>5</td>\n",
       "    </tr>\n",
       "    <tr>\n",
       "      <th>50506</th>\n",
       "      <td>00026791_002_8240.png</td>\n",
       "      <td>[Hernia]</td>\n",
       "      <td>5</td>\n",
       "    </tr>\n",
       "    <tr>\n",
       "      <th>50507</th>\n",
       "      <td>00026791_002_5744.png</td>\n",
       "      <td>[Hernia]</td>\n",
       "      <td>5</td>\n",
       "    </tr>\n",
       "    <tr>\n",
       "      <th>50508</th>\n",
       "      <td>00026791_002_5605.png</td>\n",
       "      <td>[Hernia]</td>\n",
       "      <td>5</td>\n",
       "    </tr>\n",
       "  </tbody>\n",
       "</table>\n",
       "<p>27720 rows × 3 columns</p>\n",
       "</div>"
      ],
      "text/plain": [
       "                          id                       finding finding_encoded\n",
       "0           00000001_000.png                [Cardiomegaly]               0\n",
       "1           00000001_001.png     [Cardiomegaly, Emphysema]             0,3\n",
       "2           00000001_002.png                [Cardiomegaly]               0\n",
       "6           00000008_000.png                [Cardiomegaly]               0\n",
       "7           00000008_002.png  [Calcification of the Aorta]              13\n",
       "...                      ...                           ...             ...\n",
       "50504  00026791_002_7504.png                      [Hernia]               5\n",
       "50505  00026791_002_5599.png                      [Hernia]               5\n",
       "50506  00026791_002_8240.png                      [Hernia]               5\n",
       "50507  00026791_002_5744.png                      [Hernia]               5\n",
       "50508  00026791_002_5605.png                      [Hernia]               5\n",
       "\n",
       "[27720 rows x 3 columns]"
      ]
     },
     "execution_count": 25,
     "metadata": {},
     "output_type": "execute_result"
    }
   ],
   "source": [
    "# Apply function to create 'finding' and 'finding_encoded' columns in train_val data\n",
    "combined_df[['finding', 'finding_encoded']] = combined_df.apply(\n",
    "    lambda row: pd.Series(create_finding(row)), axis=1\n",
    ")\n",
    "\n",
    "combined_df[['id', 'finding', 'finding_encoded']]"
   ]
  },
  {
   "cell_type": "code",
   "execution_count": 26,
   "id": "606b654b434d8b78",
   "metadata": {
    "ExecuteTime": {
     "end_time": "2024-11-10T14:51:17.366409Z",
     "start_time": "2024-11-10T14:51:17.313012Z"
    }
   },
   "outputs": [
    {
     "data": {
      "text/html": [
       "<div>\n",
       "<style scoped>\n",
       "    .dataframe tbody tr th:only-of-type {\n",
       "        vertical-align: middle;\n",
       "    }\n",
       "\n",
       "    .dataframe tbody tr th {\n",
       "        vertical-align: top;\n",
       "    }\n",
       "\n",
       "    .dataframe thead th {\n",
       "        text-align: right;\n",
       "    }\n",
       "</style>\n",
       "<table border=\"1\" class=\"dataframe\">\n",
       "  <thead>\n",
       "    <tr style=\"text-align: right;\">\n",
       "      <th></th>\n",
       "      <th>id</th>\n",
       "      <th>finding</th>\n",
       "      <th>finding_encoded</th>\n",
       "    </tr>\n",
       "  </thead>\n",
       "  <tbody>\n",
       "    <tr>\n",
       "      <th>1</th>\n",
       "      <td>00000013_001.png</td>\n",
       "      <td>[Emphysema, Pneumothorax, Subcutaneous Emphysema]</td>\n",
       "      <td>3,8,11</td>\n",
       "    </tr>\n",
       "    <tr>\n",
       "      <th>2</th>\n",
       "      <td>00000013_002.png</td>\n",
       "      <td>[Emphysema, Pneumothorax, Subcutaneous Emphysema]</td>\n",
       "      <td>3,8,11</td>\n",
       "    </tr>\n",
       "    <tr>\n",
       "      <th>3</th>\n",
       "      <td>00000013_003.png</td>\n",
       "      <td>[Pleural Thickening]</td>\n",
       "      <td>6</td>\n",
       "    </tr>\n",
       "    <tr>\n",
       "      <th>4</th>\n",
       "      <td>00000013_004.png</td>\n",
       "      <td>[Emphysema, Pneumothorax, Subcutaneous Emphysema]</td>\n",
       "      <td>3,8,11</td>\n",
       "    </tr>\n",
       "    <tr>\n",
       "      <th>5</th>\n",
       "      <td>00000013_005.png</td>\n",
       "      <td>[Emphysema, Pleural Thickening, Pneumothorax, ...</td>\n",
       "      <td>3,6,8,11</td>\n",
       "    </tr>\n",
       "    <tr>\n",
       "      <th>...</th>\n",
       "      <td>...</td>\n",
       "      <td>...</td>\n",
       "      <td>...</td>\n",
       "    </tr>\n",
       "    <tr>\n",
       "      <th>20961</th>\n",
       "      <td>00030637_012.png</td>\n",
       "      <td>[Pneumothorax]</td>\n",
       "      <td>8</td>\n",
       "    </tr>\n",
       "    <tr>\n",
       "      <th>20965</th>\n",
       "      <td>00030637_016.png</td>\n",
       "      <td>[Consolidation, Pneumonia]</td>\n",
       "      <td>1,7</td>\n",
       "    </tr>\n",
       "    <tr>\n",
       "      <th>20999</th>\n",
       "      <td>00030674_000.png</td>\n",
       "      <td>[Tortuous Aorta]</td>\n",
       "      <td>12</td>\n",
       "    </tr>\n",
       "    <tr>\n",
       "      <th>21001</th>\n",
       "      <td>00030677_000.png</td>\n",
       "      <td>[Fibrosis]</td>\n",
       "      <td>4</td>\n",
       "    </tr>\n",
       "    <tr>\n",
       "      <th>21048</th>\n",
       "      <td>00030752_000.png</td>\n",
       "      <td>[Calcification of the Aorta]</td>\n",
       "      <td>13</td>\n",
       "    </tr>\n",
       "  </tbody>\n",
       "</table>\n",
       "<p>6789 rows × 3 columns</p>\n",
       "</div>"
      ],
      "text/plain": [
       "                     id                                            finding  \\\n",
       "1      00000013_001.png  [Emphysema, Pneumothorax, Subcutaneous Emphysema]   \n",
       "2      00000013_002.png  [Emphysema, Pneumothorax, Subcutaneous Emphysema]   \n",
       "3      00000013_003.png                               [Pleural Thickening]   \n",
       "4      00000013_004.png  [Emphysema, Pneumothorax, Subcutaneous Emphysema]   \n",
       "5      00000013_005.png  [Emphysema, Pleural Thickening, Pneumothorax, ...   \n",
       "...                 ...                                                ...   \n",
       "20961  00030637_012.png                                     [Pneumothorax]   \n",
       "20965  00030637_016.png                         [Consolidation, Pneumonia]   \n",
       "20999  00030674_000.png                                   [Tortuous Aorta]   \n",
       "21001  00030677_000.png                                         [Fibrosis]   \n",
       "21048  00030752_000.png                       [Calcification of the Aorta]   \n",
       "\n",
       "      finding_encoded  \n",
       "1              3,8,11  \n",
       "2              3,8,11  \n",
       "3                   6  \n",
       "4              3,8,11  \n",
       "5            3,6,8,11  \n",
       "...               ...  \n",
       "20961               8  \n",
       "20965             1,7  \n",
       "20999              12  \n",
       "21001               4  \n",
       "21048              13  \n",
       "\n",
       "[6789 rows x 3 columns]"
      ]
     },
     "execution_count": 26,
     "metadata": {},
     "output_type": "execute_result"
    }
   ],
   "source": [
    "# Apply function to create 'finding' and 'finding_encoded' columns in test data\n",
    "df_test_valid[['finding', 'finding_encoded']] = df_test_valid.apply(\n",
    "    lambda row: pd.Series(create_finding(row)), axis=1\n",
    ")\n",
    "\n",
    "df_test_valid[['id', 'finding', 'finding_encoded']]"
   ]
  },
  {
   "cell_type": "markdown",
   "id": "f8dfb5268ac40d9e",
   "metadata": {},
   "source": [
    "### Step 3: Create subsets and DataLoaders for the training, validation, and test sets"
   ]
  },
  {
   "cell_type": "code",
   "execution_count": 27,
   "id": "4b2d115fab3676d8",
   "metadata": {
    "ExecuteTime": {
     "end_time": "2024-11-10T14:51:17.386058Z",
     "start_time": "2024-11-10T14:51:17.383069Z"
    }
   },
   "outputs": [],
   "source": [
    "# Image transformation for training and validation\n",
    "train_transform = transforms.Compose([\n",
    "    transforms.Resize((224, 224)),\n",
    "    transforms.RandomHorizontalFlip(),\n",
    "    transforms.RandomVerticalFlip(),\n",
    "    transforms.ToTensor(),\n",
    "    transforms.Normalize(mean=[0.485, 0.456, 0.406], std=[0.229, 0.224, 0.225])\n",
    "])\n",
    "\n",
    "val_transform = transforms.Compose([\n",
    "    transforms.Resize((224, 224)),\n",
    "    transforms.ToTensor(),\n",
    "    transforms.Normalize(mean=[0.485, 0.456, 0.406], std=[0.229, 0.224, 0.225])\n",
    "])"
   ]
  },
  {
   "cell_type": "code",
   "execution_count": 28,
   "id": "c1afaca69abb2753",
   "metadata": {
    "ExecuteTime": {
     "end_time": "2024-11-10T14:51:17.453755Z",
     "start_time": "2024-11-10T14:51:17.450933Z"
    }
   },
   "outputs": [],
   "source": [
    "train_val_ratio = 0.8 # For train, val ratio"
   ]
  },
  {
   "cell_type": "markdown",
   "id": "e6eed4a8580d2f91",
   "metadata": {},
   "source": [
    "#### Create dataset's and dataloader's"
   ]
  },
  {
   "cell_type": "markdown",
   "id": "bf5139799d508b7f",
   "metadata": {},
   "source": [
    "**First: create the subset**"
   ]
  },
  {
   "cell_type": "code",
   "execution_count": 29,
   "id": "9a732ae93903a12",
   "metadata": {
    "ExecuteTime": {
     "end_time": "2024-11-10T14:51:17.658671Z",
     "start_time": "2024-11-10T14:51:17.645844Z"
    }
   },
   "outputs": [
    {
     "name": "stdout",
     "output_type": "stream",
     "text": [
      "Train size (80% of subset): 22375 rows\n",
      "Val size (20% of subset): 5345 rows\n"
     ]
    }
   ],
   "source": [
    "# Perform the stratified split\n",
    "label_matrix = combined_df['finding_encoded'].str.get_dummies(sep=',')\n",
    "stratifier = IterativeStratification(n_splits=2, order=1, sample_distribution_per_fold=[train_val_ratio, 1 - train_val_ratio]) \n",
    "val_indices, train_indices = next(stratifier.split(combined_df, label_matrix))\n",
    "\n",
    "train_df = combined_df.iloc[train_indices].reset_index(drop=True)\n",
    "val_df = combined_df.iloc[val_indices].reset_index(drop=True)\n",
    "\n",
    "# Verify the sizes\n",
    "print(f\"Train size (80% of subset): {len(train_df)} rows\")\n",
    "print(f\"Val size (20% of subset): {len(val_df)} rows\")"
   ]
  },
  {
   "cell_type": "code",
   "execution_count": 30,
   "id": "a8b9ab49-1d86-4bef-a939-5cc633a4c2ff",
   "metadata": {},
   "outputs": [],
   "source": [
    "assert combined_df.shape[0] == train_df.shape[0]+ val_df.shape[0]"
   ]
  },
  {
   "cell_type": "markdown",
   "id": "ac335e9f-7b24-425a-89c7-2266ab9dd441",
   "metadata": {},
   "source": [
    "#### Step 3.2: Create dataset objects\n"
   ]
  },
  {
   "cell_type": "code",
   "execution_count": 31,
   "id": "184cf5f0-e3dd-495e-a765-e5a91e8dab17",
   "metadata": {},
   "outputs": [],
   "source": [
    "# Define image directories\n",
    "image_dirs = {\n",
    "    'train': '../data/train_images',\n",
    "    'augmented': '../data/oversampled_train'\n",
    "}"
   ]
  },
  {
   "cell_type": "code",
   "execution_count": 32,
   "id": "7e40dc70503bcdbc",
   "metadata": {
    "ExecuteTime": {
     "end_time": "2024-11-10T14:51:17.695332Z",
     "start_time": "2024-11-10T14:51:17.691099Z"
    }
   },
   "outputs": [
    {
     "name": "stdout",
     "output_type": "stream",
     "text": [
      "Compose(\n",
      "    Resize(size=(224, 224), interpolation=bilinear, max_size=None, antialias=True)\n",
      "    RandomHorizontalFlip(p=0.5)\n",
      "    RandomVerticalFlip(p=0.5)\n",
      "    ToTensor()\n",
      "    Normalize(mean=[0.485, 0.456, 0.406], std=[0.229, 0.224, 0.225])\n",
      ")\n",
      "Compose(\n",
      "    Resize(size=(224, 224), interpolation=bilinear, max_size=None, antialias=True)\n",
      "    ToTensor()\n",
      "    Normalize(mean=[0.485, 0.456, 0.406], std=[0.229, 0.224, 0.225])\n",
      ")\n"
     ]
    }
   ],
   "source": [
    "train_dataset = MultiSourceChestXRayDataset(\n",
    "    dataframe=train_df,\n",
    "    image_dirs=image_dirs,\n",
    "    category_mapping=category_mapping,\n",
    "    transform=val_transform,\n",
    "    augment_transform=train_transform\n",
    ")\n",
    "\n",
    "val_dataset = MultiSourceChestXRayDataset(\n",
    "    dataframe=val_df,\n",
    "    image_dirs=image_dirs,\n",
    "    category_mapping=category_mapping,\n",
    "    transform=val_transform,\n",
    "    augment_transform=val_transform\n",
    ")\n",
    "\n",
    "# Create Dataset for df_test_valid (since it's small, we don't need to subset)\n",
    "test_dataset = ChestXRayDataset(dataframe=df_test_valid, image_dir=image_dir_test, category_mapping=category_mapping, transform=val_transform)"
   ]
  },
  {
   "cell_type": "markdown",
   "id": "9863c9c6b857131b",
   "metadata": {},
   "source": [
    "#### Step 3.3: Create dataloaders"
   ]
  },
  {
   "cell_type": "code",
   "execution_count": 33,
   "id": "df5bf589c2bf6208",
   "metadata": {
    "ExecuteTime": {
     "end_time": "2024-11-10T14:51:17.739788Z",
     "start_time": "2024-11-10T14:51:17.736347Z"
    }
   },
   "outputs": [],
   "source": [
    "# Create Dataloaders\n",
    "batch_size = 32\n",
    "\n",
    "train_loader = DataLoader(train_dataset, batch_size=batch_size, shuffle=True, num_workers=4)\n",
    "val_loader = DataLoader(val_dataset, batch_size=batch_size, shuffle=False, num_workers=4)\n",
    "test_loader = DataLoader(test_dataset, batch_size=batch_size, shuffle=False, num_workers=4)"
   ]
  },
  {
   "cell_type": "code",
   "execution_count": 34,
   "id": "ba1c0b0048dc8cd9",
   "metadata": {
    "ExecuteTime": {
     "end_time": "2024-11-10T14:51:17.769415Z",
     "start_time": "2024-11-10T14:51:17.766407Z"
    }
   },
   "outputs": [
    {
     "name": "stdout",
     "output_type": "stream",
     "text": [
      "Training DataLoader: 700 batches\n",
      "Validation DataLoader: 168 batches\n",
      "Testing DataLoader: 213 batches\n"
     ]
    }
   ],
   "source": [
    "print(f\"Training DataLoader: {len(train_loader)} batches\")\n",
    "print(f\"Validation DataLoader: {len(val_loader)} batches\")\n",
    "print(f\"Testing DataLoader: {len(test_loader)} batches\")"
   ]
  },
  {
   "cell_type": "code",
   "execution_count": 35,
   "id": "11d38f82-08a5-432e-857c-f95ea6494ef3",
   "metadata": {},
   "outputs": [
    {
     "name": "stdout",
     "output_type": "stream",
     "text": [
      "Image ID: 00000372_016.png\n",
      "Label: tensor([0., 0., 0., 0., 0., 0., 0., 0., 0., 0., 0., 0., 1., 0.])\n",
      "Image Shape: torch.Size([3, 224, 224])\n"
     ]
    }
   ],
   "source": [
    "img, label, img_id = train_dataset[100]\n",
    "print(f\"Image ID: {img_id}\")\n",
    "print(f\"Label: {label}\")\n",
    "print(f\"Image Shape: {img.shape}\")"
   ]
  },
  {
   "cell_type": "code",
   "execution_count": 36,
   "id": "61dde5d5-1274-4662-812f-60dc4d553b99",
   "metadata": {},
   "outputs": [
    {
     "data": {
      "text/html": [
       "<div>\n",
       "<style scoped>\n",
       "    .dataframe tbody tr th:only-of-type {\n",
       "        vertical-align: middle;\n",
       "    }\n",
       "\n",
       "    .dataframe tbody tr th {\n",
       "        vertical-align: top;\n",
       "    }\n",
       "\n",
       "    .dataframe thead th {\n",
       "        text-align: right;\n",
       "    }\n",
       "</style>\n",
       "<table border=\"1\" class=\"dataframe\">\n",
       "  <thead>\n",
       "    <tr style=\"text-align: right;\">\n",
       "      <th></th>\n",
       "      <th>id</th>\n",
       "      <th>Cardiomegaly</th>\n",
       "      <th>Consolidation</th>\n",
       "      <th>Edema</th>\n",
       "      <th>Emphysema</th>\n",
       "      <th>Fibrosis</th>\n",
       "      <th>Hernia</th>\n",
       "      <th>Pleural Thickening</th>\n",
       "      <th>Pneumonia</th>\n",
       "      <th>Pneumothorax</th>\n",
       "      <th>Pneumoperitoneum</th>\n",
       "      <th>Pneumomediastinum</th>\n",
       "      <th>Subcutaneous Emphysema</th>\n",
       "      <th>Tortuous Aorta</th>\n",
       "      <th>Calcification of the Aorta</th>\n",
       "      <th>is_augmented</th>\n",
       "      <th>finding</th>\n",
       "      <th>finding_encoded</th>\n",
       "    </tr>\n",
       "  </thead>\n",
       "  <tbody>\n",
       "    <tr>\n",
       "      <th>100</th>\n",
       "      <td>00000372_016.png</td>\n",
       "      <td>0</td>\n",
       "      <td>0</td>\n",
       "      <td>0</td>\n",
       "      <td>0</td>\n",
       "      <td>0</td>\n",
       "      <td>0</td>\n",
       "      <td>0</td>\n",
       "      <td>0</td>\n",
       "      <td>0</td>\n",
       "      <td>0</td>\n",
       "      <td>0</td>\n",
       "      <td>0</td>\n",
       "      <td>1</td>\n",
       "      <td>0</td>\n",
       "      <td>False</td>\n",
       "      <td>[Tortuous Aorta]</td>\n",
       "      <td>12</td>\n",
       "    </tr>\n",
       "  </tbody>\n",
       "</table>\n",
       "</div>"
      ],
      "text/plain": [
       "                   id  Cardiomegaly  Consolidation  Edema  Emphysema  \\\n",
       "100  00000372_016.png             0              0      0          0   \n",
       "\n",
       "     Fibrosis  Hernia  Pleural Thickening  Pneumonia  Pneumothorax  \\\n",
       "100         0       0                   0          0             0   \n",
       "\n",
       "     Pneumoperitoneum  Pneumomediastinum  Subcutaneous Emphysema  \\\n",
       "100                 0                  0                       0   \n",
       "\n",
       "     Tortuous Aorta  Calcification of the Aorta  is_augmented  \\\n",
       "100               1                           0         False   \n",
       "\n",
       "              finding finding_encoded  \n",
       "100  [Tortuous Aorta]              12  "
      ]
     },
     "execution_count": 36,
     "metadata": {},
     "output_type": "execute_result"
    }
   ],
   "source": [
    "train_df[train_df.id == img_id]"
   ]
  },
  {
   "cell_type": "markdown",
   "id": "d9d374bdb477980c",
   "metadata": {},
   "source": [
    "### Step 4: Define the model\n",
    "We use pretrained ResNet\n",
    "\n",
    "- ResNet-50 is designed for single label classification\n",
    "- We add linear layer to predict multi-label ( more than one category per image)\n",
    "- ResNet-50 designed to output 2048 features\n",
    "- We add two Linear layer to avoid going down from 2048 features to only 20 which may cause instability and overfitting\n",
    "\n",
    "**Note**: as first step we do not add any additional params/functionality to the network i.g Dropout, normal...etc"
   ]
  },
  {
   "cell_type": "code",
   "execution_count": 37,
   "id": "bd0ae5b8bdfccf20",
   "metadata": {
    "ExecuteTime": {
     "end_time": "2024-11-10T14:51:17.892893Z",
     "start_time": "2024-11-10T14:51:17.801419Z"
    }
   },
   "outputs": [
    {
     "name": "stdout",
     "output_type": "stream",
     "text": [
      "14\n"
     ]
    }
   ],
   "source": [
    "# Number of unique categories (labels) in the 'finding_encoded' column\n",
    "num_classes = len(combined_df['finding_encoded'].str.get_dummies(sep=',').columns)\n",
    "print(num_classes)"
   ]
  },
  {
   "cell_type": "code",
   "execution_count": 38,
   "id": "67566e18-ac4e-4185-90ff-e782a3f9cac1",
   "metadata": {},
   "outputs": [
    {
     "name": "stdout",
     "output_type": "stream",
     "text": [
      "cuda\n"
     ]
    }
   ],
   "source": [
    "model = models.resnet101(weights='IMAGENET1K_V2') \n",
    "model.fc = nn.Sequential(\n",
    "    nn.Linear(model.fc.in_features, 512),\n",
    "    nn.BatchNorm1d(512),\n",
    "    nn.ReLU(), \n",
    "    nn.Dropout(0.3),\n",
    "    nn.Linear(512, 256),\n",
    "    nn.BatchNorm1d(256),\n",
    "    nn.ReLU(), \n",
    "    nn.Dropout(0.2),\n",
    "    nn.Linear(256, num_classes), \n",
    "    nn.Sigmoid()  # Sigmoid for multi-label classification\n",
    ")\n",
    "\n",
    "device = torch.device('cuda' if torch.cuda.is_available() else 'cpu')\n",
    "model.to(device)\n",
    "print(device)"
   ]
  },
  {
   "cell_type": "markdown",
   "id": "ebd5888561ce6ee3",
   "metadata": {},
   "source": [
    "### Step 5: Train, Validate and test the model"
   ]
  },
  {
   "cell_type": "markdown",
   "id": "1c917d6089b26bca",
   "metadata": {},
   "source": [
    "[Referance about BCEWithLogitsLoss()](https://medium.com/@sahilcarterr/why-nn-bcewithlogitsloss-numerically-stable-6a04f3052967)\n",
    "\n",
    "nn.BCEWithLogitsLoss():\n",
    "\n",
    "1. This loss function is more efficient because it combines the sigmoid activation and binary cross-entropy loss into a single function.\n",
    "2. It expects the raw logits (not passed through sigmoid) as input and applies the sigmoid internally.\n",
    "3. It's numerically more stable and faster than using nn.BCELoss() with a separate sigmoid.\n",
    "\n",
    "nn.BCELoss():\n",
    "\n",
    "1. This loss function expects the model's output to be probabilities in the range [0, 1], so it requires you to apply a sigmoid activation to the model's output beforehand.\n",
    "2. The formula for binary cross-entropy is applied after transforming the raw logits into probabilities using the sigmoid function."
   ]
  },
  {
   "cell_type": "markdown",
   "id": "d3224a10-8a9b-46c7-a6dc-efae37187e01",
   "metadata": {},
   "source": [
    "***Define weighted classes***"
   ]
  },
  {
   "cell_type": "code",
   "execution_count": 39,
   "id": "f9e96f0a-d427-4a64-af7e-9524f41c7c88",
   "metadata": {},
   "outputs": [
    {
     "data": {
      "text/plain": [
       "finding_encoded\n",
       "0     1677\n",
       "1     2282\n",
       "2     2546\n",
       "3     3042\n",
       "4     2925\n",
       "5      917\n",
       "6     2262\n",
       "7     1585\n",
       "8     2110\n",
       "9     1013\n",
       "10     334\n",
       "11    1902\n",
       "12    1871\n",
       "13    1411\n",
       "Name: count, dtype: int64"
      ]
     },
     "execution_count": 39,
     "metadata": {},
     "output_type": "execute_result"
    }
   ],
   "source": [
    "categories = (\n",
    "    train_df['finding_encoded']\n",
    "    .str.split(',')\n",
    "    .explode()\n",
    "    .replace('', pd.NA)  # Replace empty strings with NA\n",
    "    .dropna()            # Remove NA values (i.e., empty strings)\n",
    "    .astype(int)         # Convert remaining values to integers\n",
    "    .value_counts()\n",
    "    .sort_index()\n",
    ")\n",
    "categories"
   ]
  },
  {
   "cell_type": "code",
   "execution_count": 40,
   "id": "c14fc83c-6561-4ed7-a9cb-7809d78ce2be",
   "metadata": {},
   "outputs": [
    {
     "data": {
      "text/plain": [
       "22375"
      ]
     },
     "execution_count": 40,
     "metadata": {},
     "output_type": "execute_result"
    }
   ],
   "source": [
    "total = len(train_df)\n",
    "total"
   ]
  },
  {
   "cell_type": "code",
   "execution_count": 41,
   "id": "d55a88c7-0fae-44db-90c0-ab2bc3e2585f",
   "metadata": {},
   "outputs": [
    {
     "data": {
      "text/plain": [
       "finding_encoded\n",
       "0     0.074950\n",
       "1     0.101989\n",
       "2     0.113788\n",
       "3     0.135955\n",
       "4     0.130726\n",
       "5     0.040983\n",
       "6     0.101095\n",
       "7     0.070838\n",
       "8     0.094302\n",
       "9     0.045274\n",
       "10    0.014927\n",
       "11    0.085006\n",
       "12    0.083620\n",
       "13    0.063061\n",
       "Name: count, dtype: float64"
      ]
     },
     "execution_count": 41,
     "metadata": {},
     "output_type": "execute_result"
    }
   ],
   "source": [
    "proportions =  categories / total\n",
    "proportions"
   ]
  },
  {
   "cell_type": "code",
   "execution_count": 42,
   "id": "442e7257-b678-4455-a8c0-415f2302742a",
   "metadata": {},
   "outputs": [
    {
     "data": {
      "text/plain": [
       "finding_encoded\n",
       "0     13.342278\n",
       "1      9.804996\n",
       "2      8.788295\n",
       "3      7.355358\n",
       "4      7.649573\n",
       "5     24.400218\n",
       "6      9.891689\n",
       "7     14.116719\n",
       "8     10.604265\n",
       "9     22.087858\n",
       "10    66.991018\n",
       "11    11.763933\n",
       "12    11.958846\n",
       "13    15.857548\n",
       "Name: count, dtype: float64"
      ]
     },
     "execution_count": 42,
     "metadata": {},
     "output_type": "execute_result"
    }
   ],
   "source": [
    "weights = 1 / proportions\n",
    "weights"
   ]
  },
  {
   "cell_type": "code",
   "execution_count": 43,
   "id": "b3b2a6c1-fac3-4ec1-94e6-d3232b122c73",
   "metadata": {},
   "outputs": [
    {
     "data": {
      "text/plain": [
       "finding_encoded\n",
       "0     0.056869\n",
       "1     0.041792\n",
       "2     0.037459\n",
       "3     0.031351\n",
       "4     0.032605\n",
       "5     0.104002\n",
       "6     0.042162\n",
       "7     0.060170\n",
       "8     0.045199\n",
       "9     0.094146\n",
       "10    0.285539\n",
       "11    0.050142\n",
       "12    0.050973\n",
       "13    0.067590\n",
       "Name: count, dtype: float64"
      ]
     },
     "execution_count": 43,
     "metadata": {},
     "output_type": "execute_result"
    }
   ],
   "source": [
    "normalized_weights = weights / weights.sum()\n",
    "normalized_weights"
   ]
  },
  {
   "cell_type": "code",
   "execution_count": 44,
   "id": "e6df1375-d117-4e36-a20a-8a73084cf8b5",
   "metadata": {},
   "outputs": [
    {
     "data": {
      "text/plain": [
       "tensor([13.3423,  9.8050,  8.7883,  7.3554,  7.6496, 24.4002,  9.8917, 14.1167,\n",
       "        10.6043, 22.0879, 66.9910, 11.7639, 11.9588, 15.8575], device='cuda:0')"
      ]
     },
     "execution_count": 44,
     "metadata": {},
     "output_type": "execute_result"
    }
   ],
   "source": [
    "weights_tensor = torch.tensor(weights.values, dtype=torch.float32).to(device)\n",
    "weights_tensor"
   ]
  },
  {
   "cell_type": "code",
   "execution_count": 45,
   "id": "67cf52d58324dd99",
   "metadata": {
    "ExecuteTime": {
     "end_time": "2024-11-10T14:51:18.265595Z",
     "start_time": "2024-11-10T14:51:18.263226Z"
    }
   },
   "outputs": [],
   "source": [
    "# Use BCEWithLogitsLoss for multi-label classification\n",
    "criterion = nn.BCEWithLogitsLoss(pos_weight=weights_tensor) \n",
    "#criterion = nn.BCEWithLogitsLoss()   # Combined Sigmoid + Binary Cross-Entropy Loss"
   ]
  },
  {
   "cell_type": "code",
   "execution_count": 46,
   "id": "19d9bd214485c5db",
   "metadata": {
    "ExecuteTime": {
     "end_time": "2024-11-10T14:51:18.295497Z",
     "start_time": "2024-11-10T14:51:18.292609Z"
    }
   },
   "outputs": [],
   "source": [
    "optimizer = torch.optim.Adam(model.parameters(), lr=0.0001)\n",
    "#optimizer = torch.optim.AdamW(model.parameters(), lr=0.001, weight_decay=1e-4)\n",
    "scheduler = torch.optim.lr_scheduler.StepLR(optimizer, step_size=5, gamma=0.9) "
   ]
  },
  {
   "cell_type": "code",
   "execution_count": 47,
   "id": "3fb0c7c5-049b-4795-a80c-31faa2444d09",
   "metadata": {},
   "outputs": [],
   "source": [
    "#optimizer = torch.optim.AdamW(model.parameters(), lr=0.001, weight_decay=1e-7)\n",
    "#lookahead_optimizer = optim_mod.Lookahead(optimizer, k=5, alpha=0.5)\n",
    "\n",
    "#scheduler = ReduceLROnPlateau(optimizer, mode='min', patience=5, factor=0.7)"
   ]
  },
  {
   "cell_type": "code",
   "execution_count": 48,
   "id": "e186b7feb8fd449b",
   "metadata": {
    "ExecuteTime": {
     "end_time": "2024-11-10T16:19:46.917355Z",
     "start_time": "2024-11-10T16:19:46.913493Z"
    }
   },
   "outputs": [],
   "source": [
    "# Initialize lists to store loss and accuracy per epoch\n",
    "train_losses = []\n",
    "val_losses = []\n",
    "train_accuracies = []\n",
    "val_accuracies = []"
   ]
  },
  {
   "cell_type": "code",
   "execution_count": 49,
   "id": "f1d71fdcda40f48",
   "metadata": {
    "ExecuteTime": {
     "end_time": "2024-11-10T16:20:56.440991Z",
     "start_time": "2024-11-10T16:20:56.436097Z"
    }
   },
   "outputs": [],
   "source": [
    "def train(model, dataloader, criterion, optimizer, device):\n",
    "    model.train()\n",
    "    running_loss = 0.0\n",
    "    all_preds = []\n",
    "    all_labels = []\n",
    "\n",
    "    for images, labels, _ in tqdm(dataloader, desc=\"Training\"):\n",
    "        images, labels = images.to(device), labels.to(device)\n",
    "        optimizer.zero_grad()\n",
    "\n",
    "        outputs = model(images)\n",
    "        loss = criterion(outputs, labels.float())\n",
    "        running_loss += loss.item()\n",
    "\n",
    "        loss.backward()\n",
    "        optimizer.step()\n",
    "\n",
    "        all_preds.append(torch.sigmoid(outputs).detach().cpu())\n",
    "        all_labels.append(labels.cpu())\n",
    "\n",
    "    all_preds = torch.cat(all_preds).numpy()\n",
    "    all_labels = torch.cat(all_labels).numpy()\n",
    "\n",
    "    # Class-specific threshold selection based on F1 score\n",
    "    thresholds = []\n",
    "    for i in range(all_labels.shape[1]):  # Iterate through each class\n",
    "        precision, recall, threshold = precision_recall_curve(all_labels[:, i], all_preds[:, i])\n",
    "        f1_scores = 2 * (precision * recall) / (precision + recall + 1e-8)\n",
    "        best_threshold = threshold[np.argmax(f1_scores)]\n",
    "        thresholds.append(best_threshold)\n",
    "\n",
    "    final_preds = np.zeros_like(all_preds)\n",
    "    for i, threshold in enumerate(thresholds):\n",
    "        final_preds[:, i] = (all_preds[:, i] > threshold).astype(float)\n",
    "\n",
    "    correct_predictions = (final_preds == all_labels).all(axis=1).sum()\n",
    "    total_predictions = all_preds.shape[0]\n",
    "\n",
    "    avg_loss = running_loss / len(dataloader)\n",
    "    avg_accuracy = (correct_predictions / total_predictions) * 100\n",
    "\n",
    "    report = classification_report(all_labels, final_preds, zero_division=0, output_dict=True)\n",
    "    precision, recall, f1 = report['macro avg']['precision'], report['macro avg']['recall'], report['macro avg']['f1-score']\n",
    "\n",
    "    train_losses.append(avg_loss)\n",
    "    train_accuracies.append(avg_accuracy)\n",
    "\n",
    "    return avg_loss, avg_accuracy, precision, recall, f1, thresholds, correct_predictions"
   ]
  },
  {
   "cell_type": "code",
   "execution_count": 50,
   "id": "cfe66ca8682a5d2d",
   "metadata": {
    "ExecuteTime": {
     "end_time": "2024-11-10T16:21:01.873748Z",
     "start_time": "2024-11-10T16:21:01.868748Z"
    }
   },
   "outputs": [],
   "source": [
    "def validate(model, dataloader, criterion, device, thresholds):\n",
    "    model.eval()\n",
    "    running_loss = 0.0\n",
    "    all_preds = []\n",
    "    all_labels = []\n",
    "\n",
    "    with torch.no_grad():\n",
    "        for images, labels, _ in tqdm(dataloader, desc=\"Validating\"):\n",
    "            images, labels = images.to(device), labels.to(device)\n",
    "\n",
    "            outputs = model(images)\n",
    "            loss = criterion(outputs, labels.float())\n",
    "            running_loss += loss.item()\n",
    "\n",
    "            all_preds.append(torch.sigmoid(outputs).cpu())\n",
    "            all_labels.append(labels.cpu())\n",
    "\n",
    "    all_preds = torch.cat(all_preds).numpy()\n",
    "    all_labels = torch.cat(all_labels).numpy()\n",
    "\n",
    "    final_preds = np.zeros_like(all_preds)\n",
    "    for i, threshold in enumerate(thresholds):\n",
    "        final_preds[:, i] = (all_preds[:, i] > threshold).astype(float)\n",
    "\n",
    "    correct_predictions = (final_preds == all_labels).all(axis=1).sum()\n",
    "    total_predictions = all_preds.shape[0]\n",
    "\n",
    "    avg_loss = running_loss / len(dataloader)\n",
    "    avg_accuracy = (correct_predictions / total_predictions) * 100\n",
    "\n",
    "    report = classification_report(all_labels, final_preds, zero_division=0, output_dict=True)\n",
    "    precision, recall, f1 = report['macro avg']['precision'], report['macro avg']['recall'], report['macro avg']['f1-score']\n",
    "\n",
    "    val_losses.append(avg_loss)\n",
    "    val_accuracies.append(avg_accuracy)\n",
    "\n",
    "    return avg_loss, avg_accuracy, precision, recall, f1, correct_predictions"
   ]
  },
  {
   "cell_type": "code",
   "execution_count": 51,
   "id": "10426519-66bd-4eaf-a044-d0326ccace57",
   "metadata": {},
   "outputs": [],
   "source": [
    "def test(model, dataloader, criterion, device, label_names):\n",
    "    model.eval()\n",
    "    running_loss = 0.0\n",
    "    all_preds = []\n",
    "    all_labels = []\n",
    "\n",
    "    with torch.no_grad():\n",
    "        for images, labels, _ in tqdm(dataloader, desc=\"Testing\"):\n",
    "            images, labels = images.to(device), labels.to(device)\n",
    "\n",
    "            # Forward pass\n",
    "            outputs = model(images)\n",
    "            loss = criterion(outputs, labels.float())\n",
    "            running_loss += loss.item()\n",
    "\n",
    "            # Store sigmoid outputs (probabilities) and labels\n",
    "            all_preds.append(torch.sigmoid(outputs).cpu())\n",
    "            all_labels.append(labels.cpu())\n",
    "\n",
    "    # Concatenate predictions and labels\n",
    "    all_preds = torch.cat(all_preds).numpy()\n",
    "    all_labels = torch.cat(all_labels).numpy()\n",
    "\n",
    "    # Find the best threshold for each class using F1 scores\n",
    "    best_thresholds = []\n",
    "    thresholded_preds = []\n",
    "\n",
    "    print(\"\\nFinding Best Thresholds for Each Class:\")\n",
    "    for i in range(all_labels.shape[1]):  # Iterate over each class\n",
    "        precision, recall, thresholds = precision_recall_curve(all_labels[:, i], all_preds[:, i])\n",
    "        f1_scores = 2 * (precision * recall) / (precision + recall + 1e-6)  # Add a small epsilon to avoid division by zero\n",
    "        best_threshold_idx = f1_scores.argmax()\n",
    "        best_threshold = thresholds[best_threshold_idx]\n",
    "        best_thresholds.append(best_threshold)\n",
    "\n",
    "        print(f\"Class '{label_names[i]}': Best Threshold = {best_threshold:.4f}, Max F1-Score = {f1_scores[best_threshold_idx]:.4f}\")\n",
    "\n",
    "        # Apply the best threshold for this class\n",
    "        thresholded_preds.append((all_preds[:, i] > best_threshold).astype(float))\n",
    "\n",
    "    # Combine all thresholded predictions\n",
    "    thresholded_preds = np.column_stack(thresholded_preds)\n",
    "\n",
    "    # Default predictions using threshold 0.5\n",
    "    default_preds = (all_preds > 0.5).astype(float)\n",
    "\n",
    "    # Generate and print classification reports\n",
    "    print(\"\\nClassification Report with Best Thresholds:\")\n",
    "    report_best = classification_report(all_labels, thresholded_preds, target_names=label_names, zero_division=0)\n",
    "    print(report_best)\n",
    "\n",
    "    print(\"\\nClassification Report with Default Threshold (0.5):\")\n",
    "    report_default = classification_report(all_labels, default_preds, target_names=label_names, zero_division=0)\n",
    "    print(report_default)\n",
    "\n",
    "    # Calculate average loss\n",
    "    avg_loss = running_loss / len(dataloader)\n",
    "\n",
    "    return avg_loss, report_best, report_default, best_thresholds"
   ]
  },
  {
   "cell_type": "code",
   "execution_count": 52,
   "id": "c94a5ce0-1b90-4c7c-ae11-628973243d3e",
   "metadata": {
    "ExecuteTime": {
     "end_time": "2024-11-10T14:52:46.171949Z",
     "start_time": "2024-11-10T14:51:18.452045Z"
    }
   },
   "outputs": [],
   "source": [
    "num_epochs = 100\n",
    "\n",
    "# Early stopping parameters\n",
    "patience = 7 # wait \n",
    "best_val = 0\n",
    "epochs_no_improve = 0\n",
    "\n",
    "# for plotting\n",
    "num_epochs_runned = 0"
   ]
  },
  {
   "cell_type": "code",
   "execution_count": 53,
   "id": "3f35e36e-0752-4172-b86f-a6a713b9b3ab",
   "metadata": {
    "ExecuteTime": {
     "end_time": "2024-11-10T14:52:46.171949Z",
     "start_time": "2024-11-10T14:51:18.452045Z"
    }
   },
   "outputs": [
    {
     "name": "stdout",
     "output_type": "stream",
     "text": [
      "Epoch [1/100]\n"
     ]
    },
    {
     "name": "stderr",
     "output_type": "stream",
     "text": [
      "Training: 100%|██████████| 700/700 [01:58<00:00,  5.91it/s]\n"
     ]
    },
    {
     "name": "stdout",
     "output_type": "stream",
     "text": [
      "Train Loss: 1.2322, Train Accuracy: 10.3374, Train Precision: 0.3466, Train Recall: 0.4641, Train F1: 0.3846, Train Best Threshold: [0.65572566, 0.6231328, 0.6685352, 0.63955176, 0.61819255, 0.6961442, 0.6089218, 0.6186881, 0.63689375, 0.66650546, 0.71505624, 0.6740997, 0.66145617, 0.68039423], Train correct predictions: 2313\n"
     ]
    },
    {
     "name": "stderr",
     "output_type": "stream",
     "text": [
      "Validating: 100%|██████████| 168/168 [00:26<00:00,  6.37it/s]\n"
     ]
    },
    {
     "name": "stdout",
     "output_type": "stream",
     "text": [
      "Val Loss: 1.2055, Val Accuracy: 10.0468, Val Precision: 0.4919, Val Recall: 0.6004, Val F1: 0.4921, Val correct predictions: 537\n",
      "Epoch 1: Learning rate = 0.0001\n",
      "Model improved and saved.\n",
      "------------------------------------------------------------------------------------------------------------------------------------------------------\n",
      "Epoch [2/100]\n"
     ]
    },
    {
     "name": "stderr",
     "output_type": "stream",
     "text": [
      "Training: 100%|██████████| 700/700 [01:58<00:00,  5.92it/s]\n"
     ]
    },
    {
     "name": "stdout",
     "output_type": "stream",
     "text": [
      "Train Loss: 1.1114, Train Accuracy: 31.6067, Train Precision: 0.5735, Train Recall: 0.6728, Train F1: 0.6112, Train Best Threshold: [0.69627047, 0.6687885, 0.6903629, 0.64817315, 0.6527238, 0.7059577, 0.6324104, 0.67185146, 0.6653932, 0.6967662, 0.71572393, 0.6899477, 0.6792658, 0.7068912], Train correct predictions: 7072\n"
     ]
    },
    {
     "name": "stderr",
     "output_type": "stream",
     "text": [
      "Validating: 100%|██████████| 168/168 [00:26<00:00,  6.26it/s]\n"
     ]
    },
    {
     "name": "stdout",
     "output_type": "stream",
     "text": [
      "Val Loss: 1.1662, Val Accuracy: 22.6567, Val Precision: 0.5672, Val Recall: 0.5849, Val F1: 0.5426, Val correct predictions: 1211\n",
      "Epoch 2: Learning rate = 0.0001\n",
      "Model improved and saved.\n",
      "------------------------------------------------------------------------------------------------------------------------------------------------------\n",
      "Epoch [3/100]\n"
     ]
    },
    {
     "name": "stderr",
     "output_type": "stream",
     "text": [
      "Training: 100%|██████████| 700/700 [01:58<00:00,  5.93it/s]\n"
     ]
    },
    {
     "name": "stdout",
     "output_type": "stream",
     "text": [
      "Train Loss: 1.0617, Train Accuracy: 50.3598, Train Precision: 0.7055, Train Recall: 0.7445, Train F1: 0.7212, Train Best Threshold: [0.7116681, 0.6797951, 0.6879939, 0.67010367, 0.67469704, 0.7015165, 0.6735627, 0.6912056, 0.7004185, 0.6933336, 0.7203012, 0.7060022, 0.7031933, 0.714375], Train correct predictions: 11268\n"
     ]
    },
    {
     "name": "stderr",
     "output_type": "stream",
     "text": [
      "Validating: 100%|██████████| 168/168 [00:26<00:00,  6.28it/s]\n"
     ]
    },
    {
     "name": "stdout",
     "output_type": "stream",
     "text": [
      "Val Loss: 1.1383, Val Accuracy: 37.5678, Val Precision: 0.6159, Val Recall: 0.6127, Val F1: 0.6021, Val correct predictions: 2008\n",
      "Epoch 3: Learning rate = 0.0001\n",
      "Model improved and saved.\n",
      "------------------------------------------------------------------------------------------------------------------------------------------------------\n",
      "Epoch [4/100]\n"
     ]
    },
    {
     "name": "stderr",
     "output_type": "stream",
     "text": [
      "Training: 100%|██████████| 700/700 [01:56<00:00,  6.00it/s]\n"
     ]
    },
    {
     "name": "stdout",
     "output_type": "stream",
     "text": [
      "Train Loss: 1.0309, Train Accuracy: 63.0972, Train Precision: 0.7921, Train Recall: 0.8086, Train F1: 0.7976, Train Best Threshold: [0.711735, 0.7014884, 0.7107836, 0.6698557, 0.678817, 0.69577897, 0.6922126, 0.7115922, 0.6840148, 0.6920148, 0.7207834, 0.7040215, 0.7035246, 0.7071724], Train correct predictions: 14118\n"
     ]
    },
    {
     "name": "stderr",
     "output_type": "stream",
     "text": [
      "Validating: 100%|██████████| 168/168 [00:26<00:00,  6.46it/s]\n"
     ]
    },
    {
     "name": "stdout",
     "output_type": "stream",
     "text": [
      "Val Loss: 1.1275, Val Accuracy: 44.4528, Val Precision: 0.6509, Val Recall: 0.6126, Val F1: 0.6250, Val correct predictions: 2376\n",
      "Epoch 4: Learning rate = 0.0001\n",
      "Model improved and saved.\n",
      "------------------------------------------------------------------------------------------------------------------------------------------------------\n",
      "Epoch [5/100]\n"
     ]
    },
    {
     "name": "stderr",
     "output_type": "stream",
     "text": [
      "Training: 100%|██████████| 700/700 [01:56<00:00,  5.99it/s]\n"
     ]
    },
    {
     "name": "stdout",
     "output_type": "stream",
     "text": [
      "Train Loss: 1.0124, Train Accuracy: 71.8212, Train Precision: 0.8471, Train Recall: 0.8440, Train F1: 0.8451, Train Best Threshold: [0.708536, 0.70247763, 0.69965845, 0.7002828, 0.6909471, 0.6807251, 0.69924206, 0.6916576, 0.7133314, 0.66483885, 0.7234064, 0.7087591, 0.7110206, 0.69929665], Train correct predictions: 16070\n"
     ]
    },
    {
     "name": "stderr",
     "output_type": "stream",
     "text": [
      "Validating: 100%|██████████| 168/168 [00:26<00:00,  6.29it/s]\n"
     ]
    },
    {
     "name": "stdout",
     "output_type": "stream",
     "text": [
      "Val Loss: 1.1275, Val Accuracy: 45.6876, Val Precision: 0.6749, Val Recall: 0.6034, Val F1: 0.6268, Val correct predictions: 2442\n",
      "Epoch 5: Learning rate = 9e-05\n",
      "Model improved and saved.\n",
      "------------------------------------------------------------------------------------------------------------------------------------------------------\n",
      "Epoch [6/100]\n"
     ]
    },
    {
     "name": "stderr",
     "output_type": "stream",
     "text": [
      "Training: 100%|██████████| 700/700 [01:57<00:00,  5.94it/s]\n"
     ]
    },
    {
     "name": "stdout",
     "output_type": "stream",
     "text": [
      "Train Loss: 0.9972, Train Accuracy: 78.2123, Train Precision: 0.8863, Train Recall: 0.8848, Train F1: 0.8850, Train Best Threshold: [0.7064907, 0.7057459, 0.6985792, 0.6863175, 0.6922461, 0.69240236, 0.6975174, 0.70801973, 0.7020914, 0.67801374, 0.7108016, 0.7159353, 0.7016742, 0.69958943], Train correct predictions: 17500\n"
     ]
    },
    {
     "name": "stderr",
     "output_type": "stream",
     "text": [
      "Validating: 100%|██████████| 168/168 [00:26<00:00,  6.37it/s]\n"
     ]
    },
    {
     "name": "stdout",
     "output_type": "stream",
     "text": [
      "Val Loss: 1.1236, Val Accuracy: 48.2320, Val Precision: 0.6774, Val Recall: 0.6181, Val F1: 0.6375, Val correct predictions: 2578\n",
      "Epoch 6: Learning rate = 9e-05\n",
      "Model improved and saved.\n",
      "------------------------------------------------------------------------------------------------------------------------------------------------------\n",
      "Epoch [7/100]\n"
     ]
    },
    {
     "name": "stderr",
     "output_type": "stream",
     "text": [
      "Training: 100%|██████████| 700/700 [01:58<00:00,  5.92it/s]\n"
     ]
    },
    {
     "name": "stdout",
     "output_type": "stream",
     "text": [
      "Train Loss: 0.9887, Train Accuracy: 82.4939, Train Precision: 0.9195, Train Recall: 0.9005, Train F1: 0.9094, Train Best Threshold: [0.714916, 0.71536344, 0.705184, 0.6805686, 0.67460454, 0.70864797, 0.70499957, 0.7075797, 0.7076182, 0.6810457, 0.7209414, 0.70579183, 0.6918208, 0.712056], Train correct predictions: 18458\n"
     ]
    },
    {
     "name": "stderr",
     "output_type": "stream",
     "text": [
      "Validating: 100%|██████████| 168/168 [00:25<00:00,  6.46it/s]\n"
     ]
    },
    {
     "name": "stdout",
     "output_type": "stream",
     "text": [
      "Val Loss: 1.1204, Val Accuracy: 50.6829, Val Precision: 0.7031, Val Recall: 0.6148, Val F1: 0.6492, Val correct predictions: 2709\n",
      "Epoch 7: Learning rate = 9e-05\n",
      "Model improved and saved.\n",
      "------------------------------------------------------------------------------------------------------------------------------------------------------\n",
      "Epoch [8/100]\n"
     ]
    },
    {
     "name": "stderr",
     "output_type": "stream",
     "text": [
      "Training: 100%|██████████| 700/700 [01:57<00:00,  5.95it/s]\n"
     ]
    },
    {
     "name": "stdout",
     "output_type": "stream",
     "text": [
      "Train Loss: 0.9847, Train Accuracy: 83.8123, Train Precision: 0.9274, Train Recall: 0.9077, Train F1: 0.9169, Train Best Threshold: [0.71007407, 0.7114947, 0.6994978, 0.68955255, 0.6789202, 0.6773506, 0.709844, 0.71854025, 0.70911944, 0.69129837, 0.7232055, 0.71500206, 0.7087774, 0.6964182], Train correct predictions: 18753\n"
     ]
    },
    {
     "name": "stderr",
     "output_type": "stream",
     "text": [
      "Validating: 100%|██████████| 168/168 [00:26<00:00,  6.25it/s]\n"
     ]
    },
    {
     "name": "stdout",
     "output_type": "stream",
     "text": [
      "Val Loss: 1.1292, Val Accuracy: 48.6062, Val Precision: 0.6944, Val Recall: 0.5999, Val F1: 0.6239, Val correct predictions: 2598\n",
      "Epoch 8: Learning rate = 9e-05\n",
      "Model did not improved\n",
      "------------------------------------------------------------------------------------------------------------------------------------------------------\n",
      "Epoch [9/100]\n"
     ]
    },
    {
     "name": "stderr",
     "output_type": "stream",
     "text": [
      "Training: 100%|██████████| 700/700 [01:57<00:00,  5.95it/s]\n"
     ]
    },
    {
     "name": "stdout",
     "output_type": "stream",
     "text": [
      "Train Loss: 0.9801, Train Accuracy: 85.6447, Train Precision: 0.9376, Train Recall: 0.9210, Train F1: 0.9287, Train Best Threshold: [0.7148799, 0.70857733, 0.70720404, 0.69214517, 0.67974883, 0.6835575, 0.71676403, 0.7037753, 0.7096464, 0.6981081, 0.7183022, 0.70401984, 0.7093397, 0.70002544], Train correct predictions: 19163\n"
     ]
    },
    {
     "name": "stderr",
     "output_type": "stream",
     "text": [
      "Validating: 100%|██████████| 168/168 [00:26<00:00,  6.39it/s]\n"
     ]
    },
    {
     "name": "stdout",
     "output_type": "stream",
     "text": [
      "Val Loss: 1.1247, Val Accuracy: 49.8410, Val Precision: 0.6787, Val Recall: 0.6117, Val F1: 0.6291, Val correct predictions: 2664\n",
      "Epoch 9: Learning rate = 9e-05\n",
      "Model did not improved\n",
      "------------------------------------------------------------------------------------------------------------------------------------------------------\n",
      "Epoch [10/100]\n"
     ]
    },
    {
     "name": "stderr",
     "output_type": "stream",
     "text": [
      "Training: 100%|██████████| 700/700 [01:57<00:00,  5.94it/s]\n"
     ]
    },
    {
     "name": "stdout",
     "output_type": "stream",
     "text": [
      "Train Loss: 0.9790, Train Accuracy: 85.8324, Train Precision: 0.9346, Train Recall: 0.9207, Train F1: 0.9271, Train Best Threshold: [0.71765584, 0.71049637, 0.70935106, 0.711408, 0.687426, 0.69148976, 0.7132084, 0.7106439, 0.7065945, 0.70451826, 0.7236884, 0.7046906, 0.7135817, 0.6852032], Train correct predictions: 19205\n"
     ]
    },
    {
     "name": "stderr",
     "output_type": "stream",
     "text": [
      "Validating: 100%|██████████| 168/168 [00:26<00:00,  6.37it/s]\n"
     ]
    },
    {
     "name": "stdout",
     "output_type": "stream",
     "text": [
      "Val Loss: 1.1241, Val Accuracy: 51.0009, Val Precision: 0.6909, Val Recall: 0.6084, Val F1: 0.6419, Val correct predictions: 2726\n",
      "Epoch 10: Learning rate = 8.1e-05\n",
      "Model did not improved\n",
      "------------------------------------------------------------------------------------------------------------------------------------------------------\n",
      "Epoch [11/100]\n"
     ]
    },
    {
     "name": "stderr",
     "output_type": "stream",
     "text": [
      "Training: 100%|██████████| 700/700 [01:58<00:00,  5.92it/s]\n"
     ]
    },
    {
     "name": "stdout",
     "output_type": "stream",
     "text": [
      "Train Loss: 0.9751, Train Accuracy: 87.8659, Train Precision: 0.9507, Train Recall: 0.9334, Train F1: 0.9416, Train Best Threshold: [0.7111623, 0.7025126, 0.7096371, 0.7066259, 0.6866386, 0.723455, 0.71195704, 0.69261783, 0.7130815, 0.70426196, 0.71466297, 0.7193806, 0.70126045, 0.7063952], Train correct predictions: 19660\n"
     ]
    },
    {
     "name": "stderr",
     "output_type": "stream",
     "text": [
      "Validating: 100%|██████████| 168/168 [00:26<00:00,  6.35it/s]\n"
     ]
    },
    {
     "name": "stdout",
     "output_type": "stream",
     "text": [
      "Val Loss: 1.1246, Val Accuracy: 51.4500, Val Precision: 0.7044, Val Recall: 0.6012, Val F1: 0.6441, Val correct predictions: 2750\n",
      "Epoch 11: Learning rate = 8.1e-05\n",
      "Model did not improved\n",
      "------------------------------------------------------------------------------------------------------------------------------------------------------\n",
      "Epoch [12/100]\n"
     ]
    },
    {
     "name": "stderr",
     "output_type": "stream",
     "text": [
      "Training: 100%|██████████| 700/700 [01:57<00:00,  5.95it/s]\n"
     ]
    },
    {
     "name": "stdout",
     "output_type": "stream",
     "text": [
      "Train Loss: 0.9737, Train Accuracy: 88.4603, Train Precision: 0.9511, Train Recall: 0.9390, Train F1: 0.9445, Train Best Threshold: [0.7098001, 0.7117651, 0.6979245, 0.68117577, 0.6891417, 0.7094264, 0.7056161, 0.71670246, 0.70694774, 0.67056954, 0.719312, 0.70983833, 0.68529814, 0.70854986], Train correct predictions: 19793\n"
     ]
    },
    {
     "name": "stderr",
     "output_type": "stream",
     "text": [
      "Validating: 100%|██████████| 168/168 [00:26<00:00,  6.42it/s]\n"
     ]
    },
    {
     "name": "stdout",
     "output_type": "stream",
     "text": [
      "Val Loss: 1.1203, Val Accuracy: 52.1048, Val Precision: 0.7080, Val Recall: 0.6238, Val F1: 0.6547, Val correct predictions: 2785\n",
      "Epoch 12: Learning rate = 8.1e-05\n",
      "Model improved and saved.\n",
      "------------------------------------------------------------------------------------------------------------------------------------------------------\n",
      "Epoch [13/100]\n"
     ]
    },
    {
     "name": "stderr",
     "output_type": "stream",
     "text": [
      "Training: 100%|██████████| 700/700 [01:57<00:00,  5.97it/s]\n"
     ]
    },
    {
     "name": "stdout",
     "output_type": "stream",
     "text": [
      "Train Loss: 0.9703, Train Accuracy: 90.1140, Train Precision: 0.9604, Train Recall: 0.9456, Train F1: 0.9526, Train Best Threshold: [0.7227982, 0.71509707, 0.7050671, 0.71098244, 0.69814616, 0.688163, 0.6994942, 0.70245564, 0.7078196, 0.6611639, 0.7246127, 0.7234985, 0.70905054, 0.682462], Train correct predictions: 20163\n"
     ]
    },
    {
     "name": "stderr",
     "output_type": "stream",
     "text": [
      "Validating: 100%|██████████| 168/168 [00:26<00:00,  6.35it/s]\n"
     ]
    },
    {
     "name": "stdout",
     "output_type": "stream",
     "text": [
      "Val Loss: 1.1203, Val Accuracy: 51.5435, Val Precision: 0.7080, Val Recall: 0.6205, Val F1: 0.6526, Val correct predictions: 2755\n",
      "Epoch 13: Learning rate = 8.1e-05\n",
      "Model did not improved\n",
      "------------------------------------------------------------------------------------------------------------------------------------------------------\n",
      "Epoch [14/100]\n"
     ]
    },
    {
     "name": "stderr",
     "output_type": "stream",
     "text": [
      "Training: 100%|██████████| 700/700 [01:57<00:00,  5.96it/s]\n"
     ]
    },
    {
     "name": "stdout",
     "output_type": "stream",
     "text": [
      "Train Loss: 0.9706, Train Accuracy: 89.7251, Train Precision: 0.9564, Train Recall: 0.9462, Train F1: 0.9508, Train Best Threshold: [0.7102885, 0.7178661, 0.70380014, 0.68796253, 0.68296236, 0.7116106, 0.71290207, 0.7031132, 0.7170601, 0.69968045, 0.7165976, 0.69334793, 0.70742196, 0.69955575], Train correct predictions: 20076\n"
     ]
    },
    {
     "name": "stderr",
     "output_type": "stream",
     "text": [
      "Validating: 100%|██████████| 168/168 [00:26<00:00,  6.32it/s]\n"
     ]
    },
    {
     "name": "stdout",
     "output_type": "stream",
     "text": [
      "Val Loss: 1.1267, Val Accuracy: 51.5622, Val Precision: 0.7040, Val Recall: 0.6080, Val F1: 0.6445, Val correct predictions: 2756\n",
      "Epoch 14: Learning rate = 8.1e-05\n",
      "Model did not improved\n",
      "------------------------------------------------------------------------------------------------------------------------------------------------------\n",
      "Epoch [15/100]\n"
     ]
    },
    {
     "name": "stderr",
     "output_type": "stream",
     "text": [
      "Training: 100%|██████████| 700/700 [01:57<00:00,  5.95it/s]\n"
     ]
    },
    {
     "name": "stdout",
     "output_type": "stream",
     "text": [
      "Train Loss: 0.9688, Train Accuracy: 90.6547, Train Precision: 0.9604, Train Recall: 0.9506, Train F1: 0.9552, Train Best Threshold: [0.71890664, 0.71003824, 0.7112868, 0.7067098, 0.6792681, 0.69601995, 0.6954102, 0.6992437, 0.71196675, 0.70797366, 0.72874236, 0.7072245, 0.7113339, 0.6991783], Train correct predictions: 20284\n"
     ]
    },
    {
     "name": "stderr",
     "output_type": "stream",
     "text": [
      "Validating: 100%|██████████| 168/168 [00:26<00:00,  6.26it/s]\n"
     ]
    },
    {
     "name": "stdout",
     "output_type": "stream",
     "text": [
      "Val Loss: 1.1204, Val Accuracy: 51.7680, Val Precision: 0.7185, Val Recall: 0.6200, Val F1: 0.6564, Val correct predictions: 2767\n",
      "Epoch 15: Learning rate = 7.290000000000001e-05\n",
      "Model improved and saved.\n",
      "------------------------------------------------------------------------------------------------------------------------------------------------------\n",
      "Epoch [16/100]\n"
     ]
    },
    {
     "name": "stderr",
     "output_type": "stream",
     "text": [
      "Training: 100%|██████████| 700/700 [01:57<00:00,  5.95it/s]\n"
     ]
    },
    {
     "name": "stdout",
     "output_type": "stream",
     "text": [
      "Train Loss: 0.9662, Train Accuracy: 91.9106, Train Precision: 0.9683, Train Recall: 0.9586, Train F1: 0.9632, Train Best Threshold: [0.6993516, 0.7043385, 0.6825508, 0.70530033, 0.6917389, 0.7072569, 0.7057301, 0.7048242, 0.70433533, 0.72007304, 0.7133762, 0.72015303, 0.7096252, 0.6949463], Train correct predictions: 20565\n"
     ]
    },
    {
     "name": "stderr",
     "output_type": "stream",
     "text": [
      "Validating: 100%|██████████| 168/168 [00:26<00:00,  6.40it/s]\n"
     ]
    },
    {
     "name": "stdout",
     "output_type": "stream",
     "text": [
      "Val Loss: 1.1216, Val Accuracy: 51.5996, Val Precision: 0.6847, Val Recall: 0.6239, Val F1: 0.6404, Val correct predictions: 2758\n",
      "Epoch 16: Learning rate = 7.290000000000001e-05\n",
      "Model did not improved\n",
      "------------------------------------------------------------------------------------------------------------------------------------------------------\n",
      "Epoch [17/100]\n"
     ]
    },
    {
     "name": "stderr",
     "output_type": "stream",
     "text": [
      "Training: 100%|██████████| 700/700 [01:57<00:00,  5.96it/s]\n"
     ]
    },
    {
     "name": "stdout",
     "output_type": "stream",
     "text": [
      "Train Loss: 0.9662, Train Accuracy: 91.5799, Train Precision: 0.9624, Train Recall: 0.9584, Train F1: 0.9601, Train Best Threshold: [0.7139448, 0.6996921, 0.6966587, 0.70366204, 0.69985384, 0.720101, 0.6960358, 0.6997562, 0.7050774, 0.6761083, 0.7217503, 0.6918485, 0.7123717, 0.7183682], Train correct predictions: 20491\n"
     ]
    },
    {
     "name": "stderr",
     "output_type": "stream",
     "text": [
      "Validating: 100%|██████████| 168/168 [00:26<00:00,  6.43it/s]\n"
     ]
    },
    {
     "name": "stdout",
     "output_type": "stream",
     "text": [
      "Val Loss: 1.1269, Val Accuracy: 51.0384, Val Precision: 0.7088, Val Recall: 0.6118, Val F1: 0.6473, Val correct predictions: 2728\n",
      "Epoch 17: Learning rate = 7.290000000000001e-05\n",
      "Model did not improved\n",
      "------------------------------------------------------------------------------------------------------------------------------------------------------\n",
      "Epoch [18/100]\n"
     ]
    },
    {
     "name": "stderr",
     "output_type": "stream",
     "text": [
      "Training: 100%|██████████| 700/700 [01:57<00:00,  5.98it/s]\n"
     ]
    },
    {
     "name": "stdout",
     "output_type": "stream",
     "text": [
      "Train Loss: 0.9643, Train Accuracy: 92.3039, Train Precision: 0.9682, Train Recall: 0.9628, Train F1: 0.9653, Train Best Threshold: [0.7015895, 0.6953024, 0.701139, 0.7137499, 0.6925201, 0.70958203, 0.6979035, 0.70263404, 0.69605297, 0.6916267, 0.7204813, 0.7169708, 0.7193549, 0.72238505], Train correct predictions: 20653\n"
     ]
    },
    {
     "name": "stderr",
     "output_type": "stream",
     "text": [
      "Validating: 100%|██████████| 168/168 [00:26<00:00,  6.37it/s]\n"
     ]
    },
    {
     "name": "stdout",
     "output_type": "stream",
     "text": [
      "Val Loss: 1.1243, Val Accuracy: 52.3106, Val Precision: 0.7086, Val Recall: 0.6170, Val F1: 0.6503, Val correct predictions: 2796\n",
      "Epoch 18: Learning rate = 7.290000000000001e-05\n",
      "Model did not improved\n",
      "------------------------------------------------------------------------------------------------------------------------------------------------------\n",
      "Epoch [19/100]\n"
     ]
    },
    {
     "name": "stderr",
     "output_type": "stream",
     "text": [
      "Training: 100%|██████████| 700/700 [01:56<00:00,  5.99it/s]\n"
     ]
    },
    {
     "name": "stdout",
     "output_type": "stream",
     "text": [
      "Train Loss: 0.9633, Train Accuracy: 92.8626, Train Precision: 0.9708, Train Recall: 0.9657, Train F1: 0.9680, Train Best Threshold: [0.7013906, 0.71072763, 0.67218965, 0.6871145, 0.69948727, 0.71504897, 0.69785005, 0.708167, 0.70863694, 0.70656437, 0.72114027, 0.71493065, 0.69811803, 0.68703693], Train correct predictions: 20778\n"
     ]
    },
    {
     "name": "stderr",
     "output_type": "stream",
     "text": [
      "Validating: 100%|██████████| 168/168 [00:26<00:00,  6.31it/s]\n"
     ]
    },
    {
     "name": "stdout",
     "output_type": "stream",
     "text": [
      "Val Loss: 1.1208, Val Accuracy: 53.2273, Val Precision: 0.7149, Val Recall: 0.6274, Val F1: 0.6600, Val correct predictions: 2845\n",
      "Epoch 19: Learning rate = 7.290000000000001e-05\n",
      "Model improved and saved.\n",
      "------------------------------------------------------------------------------------------------------------------------------------------------------\n",
      "Epoch [20/100]\n"
     ]
    },
    {
     "name": "stderr",
     "output_type": "stream",
     "text": [
      "Training: 100%|██████████| 700/700 [01:58<00:00,  5.93it/s]\n"
     ]
    },
    {
     "name": "stdout",
     "output_type": "stream",
     "text": [
      "Train Loss: 0.9631, Train Accuracy: 92.9162, Train Precision: 0.9677, Train Recall: 0.9651, Train F1: 0.9661, Train Best Threshold: [0.69615597, 0.7199286, 0.6752438, 0.68593174, 0.69346887, 0.70476884, 0.6954919, 0.70658296, 0.72078735, 0.7100478, 0.7282718, 0.7145591, 0.71226615, 0.7128855], Train correct predictions: 20790\n"
     ]
    },
    {
     "name": "stderr",
     "output_type": "stream",
     "text": [
      "Validating: 100%|██████████| 168/168 [00:25<00:00,  6.47it/s]\n"
     ]
    },
    {
     "name": "stdout",
     "output_type": "stream",
     "text": [
      "Val Loss: 1.1248, Val Accuracy: 52.8718, Val Precision: 0.7107, Val Recall: 0.6159, Val F1: 0.6554, Val correct predictions: 2826\n",
      "Epoch 20: Learning rate = 6.561000000000002e-05\n",
      "Model did not improved\n",
      "------------------------------------------------------------------------------------------------------------------------------------------------------\n",
      "Epoch [21/100]\n"
     ]
    },
    {
     "name": "stderr",
     "output_type": "stream",
     "text": [
      "Training: 100%|██████████| 700/700 [01:57<00:00,  5.95it/s]\n"
     ]
    },
    {
     "name": "stdout",
     "output_type": "stream",
     "text": [
      "Train Loss: 0.9615, Train Accuracy: 93.7385, Train Precision: 0.9732, Train Recall: 0.9706, Train F1: 0.9717, Train Best Threshold: [0.69259524, 0.7144403, 0.6788255, 0.67123836, 0.7018636, 0.69829035, 0.6806332, 0.6827364, 0.7031782, 0.63397616, 0.72557634, 0.7260121, 0.6978213, 0.71532553], Train correct predictions: 20974\n"
     ]
    },
    {
     "name": "stderr",
     "output_type": "stream",
     "text": [
      "Validating: 100%|██████████| 168/168 [00:26<00:00,  6.32it/s]\n"
     ]
    },
    {
     "name": "stdout",
     "output_type": "stream",
     "text": [
      "Val Loss: 1.1209, Val Accuracy: 51.6370, Val Precision: 0.6878, Val Recall: 0.6250, Val F1: 0.6484, Val correct predictions: 2760\n",
      "Epoch 21: Learning rate = 6.561000000000002e-05\n",
      "Model did not improved\n",
      "------------------------------------------------------------------------------------------------------------------------------------------------------\n",
      "Epoch [22/100]\n"
     ]
    },
    {
     "name": "stderr",
     "output_type": "stream",
     "text": [
      "Training: 100%|██████████| 700/700 [01:56<00:00,  5.99it/s]\n"
     ]
    },
    {
     "name": "stdout",
     "output_type": "stream",
     "text": [
      "Train Loss: 0.9603, Train Accuracy: 94.2927, Train Precision: 0.9765, Train Recall: 0.9731, Train F1: 0.9746, Train Best Threshold: [0.716736, 0.7105191, 0.67827004, 0.6892258, 0.69847596, 0.7139828, 0.6988578, 0.70092255, 0.7153357, 0.68544835, 0.72497493, 0.7223407, 0.66971123, 0.70007217], Train correct predictions: 21098\n"
     ]
    },
    {
     "name": "stderr",
     "output_type": "stream",
     "text": [
      "Validating: 100%|██████████| 168/168 [00:26<00:00,  6.37it/s]\n"
     ]
    },
    {
     "name": "stdout",
     "output_type": "stream",
     "text": [
      "Val Loss: 1.1215, Val Accuracy: 53.6950, Val Precision: 0.7168, Val Recall: 0.6258, Val F1: 0.6595, Val correct predictions: 2870\n",
      "Epoch 22: Learning rate = 6.561000000000002e-05\n",
      "Model did not improved\n",
      "------------------------------------------------------------------------------------------------------------------------------------------------------\n",
      "Epoch [23/100]\n"
     ]
    },
    {
     "name": "stderr",
     "output_type": "stream",
     "text": [
      "Training: 100%|██████████| 700/700 [01:56<00:00,  5.99it/s]\n"
     ]
    },
    {
     "name": "stdout",
     "output_type": "stream",
     "text": [
      "Train Loss: 0.9622, Train Accuracy: 93.2827, Train Precision: 0.9708, Train Recall: 0.9672, Train F1: 0.9688, Train Best Threshold: [0.70603156, 0.71742713, 0.7056032, 0.69831485, 0.6967513, 0.6976477, 0.7089642, 0.68060565, 0.7156004, 0.6589966, 0.71561855, 0.7186632, 0.6997326, 0.7230137], Train correct predictions: 20872\n"
     ]
    },
    {
     "name": "stderr",
     "output_type": "stream",
     "text": [
      "Validating: 100%|██████████| 168/168 [00:26<00:00,  6.30it/s]\n"
     ]
    },
    {
     "name": "stdout",
     "output_type": "stream",
     "text": [
      "Val Loss: 1.1218, Val Accuracy: 53.1899, Val Precision: 0.7085, Val Recall: 0.6222, Val F1: 0.6570, Val correct predictions: 2843\n",
      "Epoch 23: Learning rate = 6.561000000000002e-05\n",
      "Model did not improved\n",
      "------------------------------------------------------------------------------------------------------------------------------------------------------\n",
      "Epoch [24/100]\n"
     ]
    },
    {
     "name": "stderr",
     "output_type": "stream",
     "text": [
      "Training: 100%|██████████| 700/700 [01:57<00:00,  5.95it/s]\n"
     ]
    },
    {
     "name": "stdout",
     "output_type": "stream",
     "text": [
      "Train Loss: 0.9605, Train Accuracy: 93.8905, Train Precision: 0.9744, Train Recall: 0.9719, Train F1: 0.9730, Train Best Threshold: [0.7094108, 0.7192144, 0.7065157, 0.7072517, 0.64663476, 0.68313646, 0.70961505, 0.71949714, 0.7127779, 0.700472, 0.7201626, 0.70873535, 0.6993563, 0.7107232], Train correct predictions: 21008\n"
     ]
    },
    {
     "name": "stderr",
     "output_type": "stream",
     "text": [
      "Validating: 100%|██████████| 168/168 [00:26<00:00,  6.31it/s]\n"
     ]
    },
    {
     "name": "stdout",
     "output_type": "stream",
     "text": [
      "Val Loss: 1.1219, Val Accuracy: 53.2460, Val Precision: 0.7229, Val Recall: 0.6178, Val F1: 0.6570, Val correct predictions: 2846\n",
      "Epoch 24: Learning rate = 6.561000000000002e-05\n",
      "Model did not improved\n",
      "------------------------------------------------------------------------------------------------------------------------------------------------------\n",
      "Epoch [25/100]\n"
     ]
    },
    {
     "name": "stderr",
     "output_type": "stream",
     "text": [
      "Training: 100%|██████████| 700/700 [01:57<00:00,  5.98it/s]\n"
     ]
    },
    {
     "name": "stdout",
     "output_type": "stream",
     "text": [
      "Train Loss: 0.9598, Train Accuracy: 94.3821, Train Precision: 0.9768, Train Recall: 0.9735, Train F1: 0.9749, Train Best Threshold: [0.6983156, 0.71645653, 0.68904597, 0.69438887, 0.68467563, 0.7152896, 0.69591135, 0.7108561, 0.7093018, 0.7093783, 0.7296936, 0.7241207, 0.71268904, 0.7064009], Train correct predictions: 21118\n"
     ]
    },
    {
     "name": "stderr",
     "output_type": "stream",
     "text": [
      "Validating: 100%|██████████| 168/168 [00:26<00:00,  6.35it/s]\n"
     ]
    },
    {
     "name": "stdout",
     "output_type": "stream",
     "text": [
      "Val Loss: 1.1216, Val Accuracy: 53.4144, Val Precision: 0.7284, Val Recall: 0.6246, Val F1: 0.6668, Val correct predictions: 2855\n",
      "Epoch 25: Learning rate = 5.904900000000002e-05\n",
      "Model improved and saved.\n",
      "------------------------------------------------------------------------------------------------------------------------------------------------------\n",
      "Epoch [26/100]\n"
     ]
    },
    {
     "name": "stderr",
     "output_type": "stream",
     "text": [
      "Training: 100%|██████████| 700/700 [01:58<00:00,  5.93it/s]\n"
     ]
    },
    {
     "name": "stdout",
     "output_type": "stream",
     "text": [
      "Train Loss: 0.9591, Train Accuracy: 94.9363, Train Precision: 0.9800, Train Recall: 0.9780, Train F1: 0.9788, Train Best Threshold: [0.70192605, 0.70116705, 0.7115403, 0.64614177, 0.6749167, 0.6691652, 0.712415, 0.7035466, 0.70550966, 0.68736386, 0.65891165, 0.7011118, 0.7026038, 0.7257906], Train correct predictions: 21242\n"
     ]
    },
    {
     "name": "stderr",
     "output_type": "stream",
     "text": [
      "Validating: 100%|██████████| 168/168 [00:26<00:00,  6.37it/s]\n"
     ]
    },
    {
     "name": "stdout",
     "output_type": "stream",
     "text": [
      "Val Loss: 1.1222, Val Accuracy: 52.8906, Val Precision: 0.7162, Val Recall: 0.6268, Val F1: 0.6626, Val correct predictions: 2827\n",
      "Epoch 26: Learning rate = 5.904900000000002e-05\n",
      "Model did not improved\n",
      "------------------------------------------------------------------------------------------------------------------------------------------------------\n",
      "Epoch [27/100]\n"
     ]
    },
    {
     "name": "stderr",
     "output_type": "stream",
     "text": [
      "Training: 100%|██████████| 700/700 [01:57<00:00,  5.93it/s]\n"
     ]
    },
    {
     "name": "stdout",
     "output_type": "stream",
     "text": [
      "Train Loss: 0.9592, Train Accuracy: 94.8291, Train Precision: 0.9777, Train Recall: 0.9768, Train F1: 0.9771, Train Best Threshold: [0.68767196, 0.70877266, 0.6998568, 0.7149649, 0.6994276, 0.65122384, 0.70709395, 0.6894577, 0.70295805, 0.67336667, 0.7114626, 0.6661742, 0.70250607, 0.7056025], Train correct predictions: 21218\n"
     ]
    },
    {
     "name": "stderr",
     "output_type": "stream",
     "text": [
      "Validating: 100%|██████████| 168/168 [00:26<00:00,  6.33it/s]\n"
     ]
    },
    {
     "name": "stdout",
     "output_type": "stream",
     "text": [
      "Val Loss: 1.1241, Val Accuracy: 52.7783, Val Precision: 0.7123, Val Recall: 0.6227, Val F1: 0.6574, Val correct predictions: 2821\n",
      "Epoch 27: Learning rate = 5.904900000000002e-05\n",
      "Model did not improved\n",
      "------------------------------------------------------------------------------------------------------------------------------------------------------\n",
      "Epoch [28/100]\n"
     ]
    },
    {
     "name": "stderr",
     "output_type": "stream",
     "text": [
      "Training: 100%|██████████| 700/700 [01:58<00:00,  5.93it/s]\n"
     ]
    },
    {
     "name": "stdout",
     "output_type": "stream",
     "text": [
      "Train Loss: 0.9580, Train Accuracy: 95.2268, Train Precision: 0.9810, Train Recall: 0.9795, Train F1: 0.9801, Train Best Threshold: [0.6937255, 0.68671465, 0.7118993, 0.7158835, 0.6974524, 0.6982213, 0.6759108, 0.6891872, 0.7206908, 0.6863808, 0.71760494, 0.69669414, 0.69696707, 0.71289206], Train correct predictions: 21307\n"
     ]
    },
    {
     "name": "stderr",
     "output_type": "stream",
     "text": [
      "Validating: 100%|██████████| 168/168 [00:27<00:00,  6.16it/s]\n"
     ]
    },
    {
     "name": "stdout",
     "output_type": "stream",
     "text": [
      "Val Loss: 1.1237, Val Accuracy: 52.6473, Val Precision: 0.7008, Val Recall: 0.6210, Val F1: 0.6513, Val correct predictions: 2814\n",
      "Epoch 28: Learning rate = 5.904900000000002e-05\n",
      "Model did not improved\n",
      "------------------------------------------------------------------------------------------------------------------------------------------------------\n",
      "Epoch [29/100]\n"
     ]
    },
    {
     "name": "stderr",
     "output_type": "stream",
     "text": [
      "Training: 100%|██████████| 700/700 [01:56<00:00,  5.99it/s]\n"
     ]
    },
    {
     "name": "stdout",
     "output_type": "stream",
     "text": [
      "Train Loss: 0.9582, Train Accuracy: 95.3430, Train Precision: 0.9812, Train Recall: 0.9790, Train F1: 0.9799, Train Best Threshold: [0.7137349, 0.6858447, 0.6955112, 0.6849715, 0.68985987, 0.65317094, 0.70598567, 0.72188896, 0.6911739, 0.6856895, 0.708646, 0.713722, 0.6950208, 0.67881256], Train correct predictions: 21333\n"
     ]
    },
    {
     "name": "stderr",
     "output_type": "stream",
     "text": [
      "Validating: 100%|██████████| 168/168 [00:26<00:00,  6.29it/s]\n"
     ]
    },
    {
     "name": "stdout",
     "output_type": "stream",
     "text": [
      "Val Loss: 1.1240, Val Accuracy: 52.3667, Val Precision: 0.7110, Val Recall: 0.6258, Val F1: 0.6564, Val correct predictions: 2799\n",
      "Epoch 29: Learning rate = 5.904900000000002e-05\n",
      "Model did not improved\n",
      "------------------------------------------------------------------------------------------------------------------------------------------------------\n",
      "Epoch [30/100]\n"
     ]
    },
    {
     "name": "stderr",
     "output_type": "stream",
     "text": [
      "Training: 100%|██████████| 700/700 [01:57<00:00,  5.95it/s]\n"
     ]
    },
    {
     "name": "stdout",
     "output_type": "stream",
     "text": [
      "Train Loss: 0.9586, Train Accuracy: 95.1151, Train Precision: 0.9793, Train Recall: 0.9767, Train F1: 0.9778, Train Best Threshold: [0.7130555, 0.69148815, 0.6905529, 0.7124825, 0.70062757, 0.68568313, 0.7068061, 0.7100606, 0.71754986, 0.69466466, 0.7304167, 0.7097365, 0.69934714, 0.72067845], Train correct predictions: 21282\n"
     ]
    },
    {
     "name": "stderr",
     "output_type": "stream",
     "text": [
      "Validating: 100%|██████████| 168/168 [00:27<00:00,  6.14it/s]\n"
     ]
    },
    {
     "name": "stdout",
     "output_type": "stream",
     "text": [
      "Val Loss: 1.1238, Val Accuracy: 52.9280, Val Precision: 0.7135, Val Recall: 0.6181, Val F1: 0.6539, Val correct predictions: 2829\n",
      "Epoch 30: Learning rate = 5.314410000000002e-05\n",
      "Model did not improved\n",
      "------------------------------------------------------------------------------------------------------------------------------------------------------\n",
      "Epoch [31/100]\n"
     ]
    },
    {
     "name": "stderr",
     "output_type": "stream",
     "text": [
      "Training: 100%|██████████| 700/700 [01:58<00:00,  5.91it/s]\n"
     ]
    },
    {
     "name": "stdout",
     "output_type": "stream",
     "text": [
      "Train Loss: 0.9575, Train Accuracy: 95.6156, Train Precision: 0.9825, Train Recall: 0.9811, Train F1: 0.9816, Train Best Threshold: [0.7101999, 0.71105397, 0.7085006, 0.6795911, 0.6938708, 0.6353819, 0.69183606, 0.70934784, 0.6989373, 0.70790124, 0.7251344, 0.7098968, 0.7085778, 0.7125286], Train correct predictions: 21394\n"
     ]
    },
    {
     "name": "stderr",
     "output_type": "stream",
     "text": [
      "Validating: 100%|██████████| 168/168 [00:26<00:00,  6.33it/s]\n"
     ]
    },
    {
     "name": "stdout",
     "output_type": "stream",
     "text": [
      "Val Loss: 1.1267, Val Accuracy: 53.7138, Val Precision: 0.7179, Val Recall: 0.6121, Val F1: 0.6538, Val correct predictions: 2871\n",
      "Epoch 31: Learning rate = 5.314410000000002e-05\n",
      "Model did not improved\n",
      "------------------------------------------------------------------------------------------------------------------------------------------------------\n",
      "Epoch [32/100]\n"
     ]
    },
    {
     "name": "stderr",
     "output_type": "stream",
     "text": [
      "Training: 100%|██████████| 700/700 [01:57<00:00,  5.94it/s]\n"
     ]
    },
    {
     "name": "stdout",
     "output_type": "stream",
     "text": [
      "Train Loss: 0.9568, Train Accuracy: 95.8883, Train Precision: 0.9835, Train Recall: 0.9823, Train F1: 0.9828, Train Best Threshold: [0.7064222, 0.7054957, 0.6899564, 0.69270307, 0.65838426, 0.7264713, 0.6887045, 0.694752, 0.71986794, 0.7278059, 0.7211897, 0.70873445, 0.7005351, 0.63165164], Train correct predictions: 21455\n"
     ]
    },
    {
     "name": "stderr",
     "output_type": "stream",
     "text": [
      "Validating: 100%|██████████| 168/168 [00:26<00:00,  6.35it/s]\n"
     ]
    },
    {
     "name": "stdout",
     "output_type": "stream",
     "text": [
      "Val Loss: 1.1237, Val Accuracy: 53.9008, Val Precision: 0.7164, Val Recall: 0.6238, Val F1: 0.6608, Val correct predictions: 2881\n",
      "Epoch 32: Learning rate = 5.314410000000002e-05\n",
      "Model did not improved\n",
      "Early stopping triggered\n"
     ]
    }
   ],
   "source": [
    "for epoch in range(num_epochs):\n",
    "    print(f\"Epoch [{epoch + 1}/{num_epochs}]\")\n",
    "    \n",
    "    # Train the model for one epoch\n",
    "    train_loss, train_accuracy, train_precision, train_recall, train_f1, train_best_threshold, train_correct_predictions = train(model, train_loader, criterion, optimizer, device)\n",
    "    print(f\"Train Loss: {train_loss:.4f}, Train Accuracy: {train_accuracy:.4f}, \"\n",
    "      f\"Train Precision: {train_precision:.4f}, Train Recall: {train_recall:.4f}, \"\n",
    "      f\"Train F1: {train_f1:.4f}, Train Best Threshold: {train_best_threshold}, \"\n",
    "      f\"Train correct predictions: {train_correct_predictions}\")\n",
    "\n",
    "\n",
    "\n",
    "    # Validate the model after training\n",
    "    val_loss, val_accuracy, val_precision, val_recall, val_f1, val_correct_predictions = validate(model, val_loader, criterion, device, train_best_threshold)\n",
    "\n",
    "    print(f\"Val Loss: {val_loss:.4f}, Val Accuracy: {val_accuracy:.4f}, \"\n",
    "      f\"Val Precision: {val_precision:.4f}, Val Recall: {val_recall:.4f}, \"\n",
    "      f\"Val F1: {val_f1:.4f}, Val correct predictions: {val_correct_predictions}\")\n",
    "\n",
    "\n",
    "    # Step the Lookahead optimizer\n",
    "    #lookahead_optimizer.step()\n",
    "    # Step the ReduceLROnPlateau scheduler\n",
    "    #scheduler.step(val_loss)\n",
    "    \n",
    "    scheduler.step()\n",
    "\n",
    "    print(f\"Epoch {epoch + 1}: Learning rate = {scheduler.get_last_lr()[0]}\")\n",
    "\n",
    "    num_epochs_runned += 1\n",
    "\n",
    "    # Validation loss has improved\n",
    "    if val_f1 > best_val:\n",
    "        best_val = val_f1\n",
    "        epochs_no_improve = 0  # Reset the counter if we see improvement\n",
    "        \n",
    "        # Save the model checkpoint\n",
    "        torch.save(model.state_dict(), \"best_mode_c_v2.pth\")\n",
    "        print(\"Model improved and saved.\")\n",
    "    else:\n",
    "        print(\"Model did not improved\")\n",
    "        epochs_no_improve += 1  # Increment counter if no improvement\n",
    "\n",
    "    # Early stopping\n",
    "    if epochs_no_improve == patience:\n",
    "        print(\"Early stopping triggered\")\n",
    "        break\n",
    "\n",
    "    print(\"-\" * 150)"
   ]
  },
  {
   "cell_type": "code",
   "execution_count": 54,
   "id": "dd155298-30d9-4bfa-b980-1abfe2318399",
   "metadata": {},
   "outputs": [],
   "source": [
    "# Define label names for better readability in the report\n",
    "label_names = [\n",
    "    'Cardiomegaly', 'Consolidation', 'Edema', 'Emphysema', 'Fibrosis', \n",
    "    'Hernia', 'Pleural Thickening', 'Pneumonia', 'Pneumothorax', \n",
    "    'Pneumoperitoneum', 'Pneumomediastinum', 'Subcutaneous Emphysema', \n",
    "    'Tortuous Aorta', 'Calcification of the Aorta'\n",
    "]"
   ]
  },
  {
   "cell_type": "code",
   "execution_count": 55,
   "id": "99e00203e15923f0",
   "metadata": {
    "ExecuteTime": {
     "end_time": "2024-11-10T14:53:15.350469Z",
     "start_time": "2024-11-10T14:52:46.256405Z"
    }
   },
   "outputs": [
    {
     "name": "stdout",
     "output_type": "stream",
     "text": [
      "Hello test\n"
     ]
    },
    {
     "name": "stderr",
     "output_type": "stream",
     "text": [
      "Testing: 100%|██████████| 213/213 [00:32<00:00,  6.59it/s]"
     ]
    },
    {
     "name": "stdout",
     "output_type": "stream",
     "text": [
      "\n",
      "Finding Best Thresholds for Each Class:\n",
      "Class 'Cardiomegaly': Best Threshold = 0.5613, Max F1-Score = 0.5524\n",
      "Class 'Consolidation': Best Threshold = 0.6032, Max F1-Score = 0.4555\n",
      "Class 'Edema': Best Threshold = 0.5220, Max F1-Score = 0.4020\n",
      "Class 'Emphysema': Best Threshold = 0.5180, Max F1-Score = 0.5603\n",
      "Class 'Fibrosis': Best Threshold = 0.5191, Max F1-Score = 0.2746\n",
      "Class 'Hernia': Best Threshold = 0.6901, Max F1-Score = 0.3778\n",
      "Class 'Pleural Thickening': Best Threshold = 0.5082, Max F1-Score = 0.3299\n",
      "Class 'Pneumonia': Best Threshold = 0.5070, Max F1-Score = 0.1607\n",
      "Class 'Pneumothorax': Best Threshold = 0.5101, Max F1-Score = 0.6125\n",
      "Class 'Pneumoperitoneum': Best Threshold = 0.7197, Max F1-Score = 0.2708\n",
      "Class 'Pneumomediastinum': Best Threshold = 0.5029, Max F1-Score = 0.2883\n",
      "Class 'Subcutaneous Emphysema': Best Threshold = 0.5423, Max F1-Score = 0.5705\n",
      "Class 'Tortuous Aorta': Best Threshold = 0.5044, Max F1-Score = 0.3664\n",
      "Class 'Calcification of the Aorta': Best Threshold = 0.5135, Max F1-Score = 0.1250\n",
      "\n",
      "Classification Report with Best Thresholds:\n",
      "                            precision    recall  f1-score   support\n",
      "\n",
      "              Cardiomegaly       0.51      0.60      0.55       868\n",
      "             Consolidation       0.37      0.60      0.46      1497\n",
      "                     Edema       0.31      0.58      0.40       751\n",
      "                 Emphysema       0.52      0.61      0.56       917\n",
      "                  Fibrosis       0.23      0.33      0.27       365\n",
      "                    Hernia       0.59      0.26      0.36        62\n",
      "        Pleural Thickening       0.24      0.51      0.33       902\n",
      "                 Pneumonia       0.12      0.23      0.16       452\n",
      "              Pneumothorax       0.54      0.71      0.61      2106\n",
      "          Pneumoperitoneum       0.46      0.17      0.25        69\n",
      "         Pneumomediastinum       0.25      0.32      0.28       143\n",
      "    Subcutaneous Emphysema       0.52      0.63      0.57       813\n",
      "            Tortuous Aorta       0.28      0.49      0.36        95\n",
      "Calcification of the Aorta       0.10      0.13      0.11        55\n",
      "\n",
      "                 micro avg       0.39      0.58      0.46      9095\n",
      "                 macro avg       0.36      0.44      0.38      9095\n",
      "              weighted avg       0.41      0.58      0.47      9095\n",
      "               samples avg       0.42      0.58      0.46      9095\n",
      "\n",
      "\n",
      "Classification Report with Default Threshold (0.5):\n",
      "                            precision    recall  f1-score   support\n",
      "\n",
      "              Cardiomegaly       0.13      1.00      0.23       868\n",
      "             Consolidation       0.22      1.00      0.36      1497\n",
      "                     Edema       0.11      1.00      0.20       751\n",
      "                 Emphysema       0.14      1.00      0.24       917\n",
      "                  Fibrosis       0.05      1.00      0.10       365\n",
      "                    Hernia       0.01      1.00      0.02        62\n",
      "        Pleural Thickening       0.13      1.00      0.23       902\n",
      "                 Pneumonia       0.07      1.00      0.13       452\n",
      "              Pneumothorax       0.31      1.00      0.47      2106\n",
      "          Pneumoperitoneum       0.01      1.00      0.02        69\n",
      "         Pneumomediastinum       0.02      1.00      0.04       143\n",
      "    Subcutaneous Emphysema       0.12      1.00      0.21       813\n",
      "            Tortuous Aorta       0.01      1.00      0.03        95\n",
      "Calcification of the Aorta       0.01      1.00      0.02        55\n",
      "\n",
      "                 micro avg       0.10      1.00      0.17      9095\n",
      "                 macro avg       0.10      1.00      0.16      9095\n",
      "              weighted avg       0.17      1.00      0.29      9095\n",
      "               samples avg       0.10      1.00      0.17      9095\n",
      "\n",
      "Test Loss: 1.2329\n"
     ]
    },
    {
     "name": "stderr",
     "output_type": "stream",
     "text": [
      "\n"
     ]
    }
   ],
   "source": [
    "# Now, evaluate the model on the test set\n",
    "model.load_state_dict(torch.load(\"best_mode_c_v2.pth\", weights_only=True))\n",
    "print(\"Hello test\")\n",
    "test_loss, test_report_best, test_report_default, test_best_thresholds = test(model, test_loader, criterion, device, label_names)\n",
    "\n",
    "print(f\"Test Loss: {test_loss:.4f}\")"
   ]
  },
  {
   "cell_type": "code",
   "execution_count": 56,
   "id": "5765d547daa4988b",
   "metadata": {
    "ExecuteTime": {
     "end_time": "2024-11-10T15:05:50.622585Z",
     "start_time": "2024-11-10T15:05:50.415197Z"
    }
   },
   "outputs": [
    {
     "data": {
      "image/png": "[encoded data removed]",
      "text/plain": [
       "<Figure size 640x480 with 1 Axes>"
      ]
     },
     "metadata": {},
     "output_type": "display_data"
    },
    {
     "data": {
      "image/png": "[encoded data removed]",
      "text/plain": [
       "<Figure size 640x480 with 1 Axes>"
      ]
     },
     "metadata": {},
     "output_type": "display_data"
    },
    {
     "name": "stdout",
     "output_type": "stream",
     "text": [
      "    Epoch  Train Loss  Train Accuracy  Val Loss  Val Accuracy\n",
      "0       1    1.232170       10.337430  1.205489     10.046773\n",
      "1       2    1.111395       31.606704  1.166221     22.656688\n",
      "2       3    1.061685       50.359777  1.138307     37.567820\n",
      "3       4    1.030895       63.097207  1.127509     44.452760\n",
      "4       5    1.012399       71.821229  1.127474     45.687558\n",
      "5       6    0.997174       78.212291  1.123572     48.231993\n",
      "6       7    0.988702       82.493855  1.120382     50.682881\n",
      "7       8    0.984740       83.812291  1.129172     48.606174\n",
      "8       9    0.980118       85.644693  1.124674     49.840973\n",
      "9      10    0.979039       85.832402  1.124129     51.000935\n",
      "10     11    0.975054       87.865922  1.124595     51.449953\n",
      "11     12    0.973739       88.460335  1.120296     52.104771\n",
      "12     13    0.970252       90.113966  1.120257     51.543499\n",
      "13     14    0.970570       89.725140  1.126671     51.562208\n",
      "14     15    0.968791       90.654749  1.120445     51.768007\n",
      "15     16    0.966152       91.910615  1.121620     51.599626\n",
      "16     17    0.966170       91.579888  1.126873     51.038354\n",
      "17     18    0.964338       92.303911  1.124303     52.310571\n",
      "18     19    0.963341       92.862570  1.120799     53.227315\n",
      "19     20    0.963108       92.916201  1.124758     52.871843\n",
      "20     21    0.961497       93.738547  1.120918     51.637044\n",
      "21     22    0.960343       94.292737  1.121543     53.695042\n",
      "22     23    0.962178       93.282682  1.121777     53.189897\n",
      "23     24    0.960506       93.890503  1.121903     53.246024\n",
      "24     25    0.959845       94.382123  1.121641     53.414406\n",
      "25     26    0.959055       94.936313  1.122183     52.890552\n",
      "26     27    0.959205       94.829050  1.124147     52.778297\n",
      "27     28    0.958009       95.226816  1.123692     52.647334\n",
      "28     29    0.958187       95.343017  1.123954     52.366698\n",
      "29     30    0.958574       95.115084  1.123803     52.927970\n",
      "30     31    0.957484       95.615642  1.126685     53.713751\n",
      "31     32    0.956816       95.888268  1.123709     53.900842\n"
     ]
    }
   ],
   "source": [
    "plt.plot(range(num_epochs_runned), train_losses, label=\"Train Loss\")\n",
    "plt.plot(range(num_epochs_runned), val_losses, label=\"Validation Loss\")\n",
    "plt.xlabel('Epoch')\n",
    "plt.ylabel('Loss')\n",
    "plt.legend()\n",
    "plt.title('Training and Validation Loss singular over sampled (Minority classes)')\n",
    "plt.show()\n",
    "\n",
    "# Plot training and validation accuracy\n",
    "plt.plot(range(num_epochs_runned), train_accuracies, label=\"Train Accuracy\")\n",
    "plt.plot(range(num_epochs_runned), val_accuracies, label=\"Validation Accuracy\")\n",
    "plt.xlabel('Epoch')\n",
    "plt.ylabel('Accuracy (%)')\n",
    "plt.legend()\n",
    "plt.title('Training and Validation Accuracy')\n",
    "plt.show()\n",
    "\n",
    "# Save the results in a DataFrame for reporting\n",
    "results_df = pd.DataFrame({\n",
    "    'Epoch': range(1, num_epochs_runned + 1),\n",
    "    'Train Loss': train_losses,\n",
    "    'Train Accuracy': train_accuracies,\n",
    "    'Val Loss': val_losses,\n",
    "    'Val Accuracy': val_accuracies\n",
    "})\n",
    "\n",
    "print(results_df)"
   ]
  },
  {
   "cell_type": "code",
   "execution_count": null,
   "id": "cbc35e53-0cae-4939-a219-b8cd339207aa",
   "metadata": {},
   "outputs": [],
   "source": []
  }
 ],
 "metadata": {
  "kernelspec": {
   "display_name": "Python 3 (ipykernel)",
   "language": "python",
   "name": "python3"
  },
  "language_info": {
   "codemirror_mode": {
    "name": "ipython",
    "version": 3
   },
   "file_extension": ".py",
   "mimetype": "text/x-python",
   "name": "python",
   "nbconvert_exporter": "python",
   "pygments_lexer": "ipython3",
   "version": "3.11.6"
  }
 },
 "nbformat": 4,
 "nbformat_minor": 5
}
