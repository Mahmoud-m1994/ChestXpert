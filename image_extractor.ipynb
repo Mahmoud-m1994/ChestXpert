{
 "cells": [
  {
   "metadata": {},
   "cell_type": "markdown",
   "source": [
    "# Data processing\n",
    "\n",
    "## Step 1: Extract Images"
   ],
   "id": "8ea8a79f613821e"
  },
  {
   "cell_type": "code",
   "id": "initial_id",
   "metadata": {
    "collapsed": true
   },
   "source": [
    "import os\n",
    "import shutil\n",
    "import tarfile"
   ],
   "outputs": [],
   "execution_count": null
  },
  {
   "metadata": {},
   "cell_type": "code",
   "source": [
    "data_dir = 'data'\n",
    "image_output_dir = os.path.join(data_dir, 'images')"
   ],
   "id": "87fe17def08fb774",
   "outputs": [],
   "execution_count": null
  },
  {
   "metadata": {},
   "cell_type": "code",
   "source": [
    "\n",
    "# Ensure the output directory exists\n",
    "os.makedirs(image_output_dir, exist_ok=True)\n",
    "\n",
    "# Extract each .tar.gz file to the image_output_dir\n",
    "for i in range(1, 13):\n",
    "    tar_path = os.path.join(data_dir, f'images_{i:02}.tar.gz')\n",
    "    with tarfile.open(tar_path, 'r:gz') as tar:\n",
    "        tar.extractall(path=image_output_dir)"
   ],
   "id": "4154d15d7375230d",
   "outputs": [],
   "execution_count": null
  },
  {
   "metadata": {},
   "cell_type": "markdown",
   "source": "## Step 2: Load Image Names from Text Files",
   "id": "559d3b2883e0a96d"
  },
  {
   "metadata": {},
   "cell_type": "code",
   "source": [
    "def load_image_list(file_path):\n",
    "    with open(file_path, 'r') as file:\n",
    "        image_files = file.read().splitlines()\n",
    "    return image_files\n",
    "\n",
    "# Load the training and test image lists\n",
    "train_val_images = load_image_list(os.path.join(data_dir, 'train_val_list.txt'))\n",
    "test_images = load_image_list(os.path.join(data_dir, 'test_list.txt'))\n",
    "\n",
    "# Creating train_val and test list that contain images name\n",
    "train_val_images = [f\"{img}\" for img in train_val_images]\n",
    "test_images = [f\"{img}\" for img in test_images]\n",
    "\n",
    "len(train_val_images), len(test_images)"
   ],
   "id": "c91bb197cfbd2a35",
   "outputs": [],
   "execution_count": null
  },
  {
   "metadata": {},
   "cell_type": "markdown",
   "source": "## Step 3: Move and split images to train_val and test folders",
   "id": "1eb112b760eab69"
  },
  {
   "metadata": {},
   "cell_type": "code",
   "source": [
    "source_dir = 'data/images/images_001/images'  # Directory for images_001 (sub data)\n",
    "train_dir = 'data/train_images'  # Destination for training images\n",
    "test_dir = 'data/test_images'    # Destination for test images"
   ],
   "id": "b7da8f4ece009b71",
   "outputs": [],
   "execution_count": null
  },
  {
   "metadata": {},
   "cell_type": "code",
   "source": [
    "iterator = 0\n",
    "for img_name in os.listdir(source_dir):\n",
    "    if img_name in train_val_images:\n",
    "        shutil.move(os.path.join(source_dir, img_name), train_dir)\n",
    "    elif img_name in test_images:\n",
    "        shutil.move(os.path.join(source_dir, img_name), test_dir)\n",
    "\n",
    "    iterator += 1\n",
    "\n",
    "    if iterator % 100 == 0:\n",
    "        print(iterator)    \n",
    "\n",
    "print(\"Images have been successfully moved to their respective directories.\")"
   ],
   "id": "a6abce9515b9863b",
   "outputs": [],
   "execution_count": null
  }
 ],
 "metadata": {
  "kernelspec": {
   "display_name": "Python 3",
   "language": "python",
   "name": "python3"
  },
  "language_info": {
   "codemirror_mode": {
    "name": "ipython",
    "version": 2
   },
   "file_extension": ".py",
   "mimetype": "text/x-python",
   "name": "python",
   "nbconvert_exporter": "python",
   "pygments_lexer": "ipython2",
   "version": "2.7.6"
  }
 },
 "nbformat": 4,
 "nbformat_minor": 5
}
